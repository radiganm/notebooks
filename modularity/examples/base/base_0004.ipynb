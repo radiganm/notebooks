{
 "cells": [
  {
   "cell_type": "code",
   "execution_count": 1,
   "metadata": {
    "collapsed": false
   },
   "outputs": [],
   "source": [
    "#!/usr/bin/python3\n",
    "### base_4.py\n",
    "### Copyright 2017 Mac Radigan\n",
    "### SPDX-License-Identifier: GFDL-1.3"
   ]
  },
  {
   "cell_type": "markdown",
   "metadata": {},
   "source": [
    "# base 4"
   ]
  },
  {
   "cell_type": "markdown",
   "metadata": {},
   "source": [
    "## Copying"
   ]
  },
  {
   "cell_type": "raw",
   "metadata": {},
   "source": [
    "Copyright 2017 Mac Radigan\n",
    "# Permission is granted to copy, distribute and/or modify this document under the terms of the GNU Free Documentation License, Version 1.3 or any later version published by the Free Software Foundation; with no Invariant Sections and with no restrictions on the Front-Cover and back the Front-Cover Texts. A copy of the license is included in the section entitled \"GNU Free Documentation License\".  "
   ]
  },
  {
   "cell_type": "markdown",
   "metadata": {},
   "source": [
    "### $b^n \\mod m$ for $n = 1, 2, \\cdots 30$"
   ]
  },
  {
   "cell_type": "code",
   "execution_count": 2,
   "metadata": {
    "collapsed": false
   },
   "outputs": [],
   "source": [
    "def example(b,m):\n",
    "  \"\"\"Prints the sequence X_n = b^n mod m for n = 1, 2, ... N\"\"\"\n",
    "  N  = 30\n",
    "  ns = range(1, N)\n",
    "  f  = lambda n: b**n % m\n",
    "  xs = map(f, ns)\n",
    "  print(list(xs))"
   ]
  },
  {
   "cell_type": "markdown",
   "metadata": {},
   "source": [
    "#### Example #1: $\\mathbf{X}^\\left({b=4,m=2}\\right)$"
   ]
  },
  {
   "cell_type": "markdown",
   "metadata": {},
   "source": [
    "\\begin{aligned}\n",
    "\\mathbf{X}_n = 4^n \\mod m\n",
    "\\end{aligned}\n",
    "with\n",
    "\\begin{aligned}\n",
    "b = 4\n",
    "\\end{aligned}\n",
    "\\begin{aligned}\n",
    "m = 2\n",
    "\\end{aligned}\n",
    "yeilding\n",
    "\\begin{aligned}\n",
    "\\mathbf{X}^{\\left(4,2\\right)} = \\{ ,  \\cdots \\} = \\left[ \\mathbf{G}^{\\left(4,2\\right)} \\mathbf{H}^{\\left(4,2\\right)} \\mathbf{H}^{\\left(4,2\\right)} \\mathbf{H}^{\\left(4,2\\right)} \\cdots \\right] = \\left[ \\mathbf{G}^{\\left(4,2\\right)} \\left(\\mathbf{H}^{\\left(4,2\\right)}\\right)^{*} \\right]\n",
    "\\end{aligned}\n",
    "where\n",
    "\\begin{aligned}\n",
    "\\mathbf{G}^{\\left(4,2\\right)} = \\{  \\}\n",
    "\\end{aligned}\n",
    "\\begin{aligned}\n",
    "\\mathbf{H}^{\\left(4,2\\right)} = \\{  \\}\n",
    "\\end{aligned}\n",
    "so we have\n",
    "\\begin{aligned}\n",
    "\\left|\\mathbf{G}^{\\left(4,2\\right)}\\right| = 0 \n",
    "\\end{aligned}\n",
    "\\begin{aligned}\n",
    "\\left|\\mathbf{H}^{\\left(4,2\\right)}\\right| = 1 \n",
    "\\end{aligned}"
   ]
  },
  {
   "cell_type": "code",
   "execution_count": 3,
   "metadata": {
    "collapsed": false
   },
   "outputs": [
    {
     "name": "stdout",
     "output_type": "stream",
     "text": [
      "[0, 0, 0, 0, 0, 0, 0, 0, 0, 0, 0, 0, 0, 0, 0, 0, 0, 0, 0, 0, 0, 0, 0, 0, 0, 0, 0, 0, 0]\n"
     ]
    }
   ],
   "source": [
    "example(b=4, m=2) ##   X[n] = 4^n mod 2"
   ]
  },
  {
   "cell_type": "markdown",
   "metadata": {},
   "source": [
    "#### Example #2: $\\mathbf{X}^\\left({b=4,m=3}\\right)$"
   ]
  },
  {
   "cell_type": "markdown",
   "metadata": {},
   "source": [
    "\\begin{aligned}\n",
    "\\mathbf{X}_n = 4^n \\mod m\n",
    "\\end{aligned}\n",
    "with\n",
    "\\begin{aligned}\n",
    "b = 4\n",
    "\\end{aligned}\n",
    "\\begin{aligned}\n",
    "m = 3\n",
    "\\end{aligned}\n",
    "yeilding\n",
    "\\begin{aligned}\n",
    "\\mathbf{X}^{\\left(4,3\\right)} = \\{ ,  \\cdots \\} = \\left[ \\mathbf{G}^{\\left(4,3\\right)} \\mathbf{H}^{\\left(4,3\\right)} \\mathbf{H}^{\\left(4,3\\right)} \\mathbf{H}^{\\left(4,3\\right)} \\cdots \\right] = \\left[ \\mathbf{G}^{\\left(4,3\\right)} \\left(\\mathbf{H}^{\\left(4,3\\right)}\\right)^{*} \\right]\n",
    "\\end{aligned}\n",
    "where\n",
    "\\begin{aligned}\n",
    "\\mathbf{G}^{\\left(4,3\\right)} = \\{  \\}\n",
    "\\end{aligned}\n",
    "\\begin{aligned}\n",
    "\\mathbf{H}^{\\left(4,3\\right)} = \\{  \\}\n",
    "\\end{aligned}\n",
    "so we have\n",
    "\\begin{aligned}\n",
    "\\left|\\mathbf{G}^{\\left(4,3\\right)}\\right| = 0 \n",
    "\\end{aligned}\n",
    "\\begin{aligned}\n",
    "\\left|\\mathbf{H}^{\\left(4,3\\right)}\\right| = 1 \n",
    "\\end{aligned}"
   ]
  },
  {
   "cell_type": "code",
   "execution_count": 4,
   "metadata": {
    "collapsed": false
   },
   "outputs": [
    {
     "name": "stdout",
     "output_type": "stream",
     "text": [
      "[1, 1, 1, 1, 1, 1, 1, 1, 1, 1, 1, 1, 1, 1, 1, 1, 1, 1, 1, 1, 1, 1, 1, 1, 1, 1, 1, 1, 1]\n"
     ]
    }
   ],
   "source": [
    "example(b=4, m=3) ##   X[n] = 4^n mod 3"
   ]
  },
  {
   "cell_type": "markdown",
   "metadata": {},
   "source": [
    "#### Example #3: $\\mathbf{X}^\\left({b=4,m=4}\\right)$"
   ]
  },
  {
   "cell_type": "markdown",
   "metadata": {},
   "source": [
    "\\begin{aligned}\n",
    "\\mathbf{X}_n = 4^n \\mod m\n",
    "\\end{aligned}\n",
    "with\n",
    "\\begin{aligned}\n",
    "b = 4\n",
    "\\end{aligned}\n",
    "\\begin{aligned}\n",
    "m = 4\n",
    "\\end{aligned}\n",
    "yeilding\n",
    "\\begin{aligned}\n",
    "\\mathbf{X}^{\\left(4,4\\right)} = \\{ ,  \\cdots \\} = \\left[ \\mathbf{G}^{\\left(4,4\\right)} \\mathbf{H}^{\\left(4,4\\right)} \\mathbf{H}^{\\left(4,4\\right)} \\mathbf{H}^{\\left(4,4\\right)} \\cdots \\right] = \\left[ \\mathbf{G}^{\\left(4,4\\right)} \\left(\\mathbf{H}^{\\left(4,4\\right)}\\right)^{*} \\right]\n",
    "\\end{aligned}\n",
    "where\n",
    "\\begin{aligned}\n",
    "\\mathbf{G}^{\\left(4,4\\right)} = \\{  \\}\n",
    "\\end{aligned}\n",
    "\\begin{aligned}\n",
    "\\mathbf{H}^{\\left(4,4\\right)} = \\{  \\}\n",
    "\\end{aligned}\n",
    "so we have\n",
    "\\begin{aligned}\n",
    "\\left|\\mathbf{G}^{\\left(4,4\\right)}\\right| = 0 \n",
    "\\end{aligned}\n",
    "\\begin{aligned}\n",
    "\\left|\\mathbf{H}^{\\left(4,4\\right)}\\right| = 1 \n",
    "\\end{aligned}"
   ]
  },
  {
   "cell_type": "code",
   "execution_count": 5,
   "metadata": {
    "collapsed": false
   },
   "outputs": [
    {
     "name": "stdout",
     "output_type": "stream",
     "text": [
      "[0, 0, 0, 0, 0, 0, 0, 0, 0, 0, 0, 0, 0, 0, 0, 0, 0, 0, 0, 0, 0, 0, 0, 0, 0, 0, 0, 0, 0]\n"
     ]
    }
   ],
   "source": [
    "example(b=4, m=4) ##   X[n] = 4^n mod 4"
   ]
  },
  {
   "cell_type": "markdown",
   "metadata": {},
   "source": [
    "#### Example #4: $\\mathbf{X}^\\left({b=4,m=5}\\right)$"
   ]
  },
  {
   "cell_type": "markdown",
   "metadata": {},
   "source": [
    "\\begin{aligned}\n",
    "\\mathbf{X}_n = 4^n \\mod m\n",
    "\\end{aligned}\n",
    "with\n",
    "\\begin{aligned}\n",
    "b = 4\n",
    "\\end{aligned}\n",
    "\\begin{aligned}\n",
    "m = 5\n",
    "\\end{aligned}\n",
    "yeilding\n",
    "\\begin{aligned}\n",
    "\\mathbf{X}^{\\left(4,5\\right)} = \\{ , 4 \\cdots \\} = \\left[ \\mathbf{G}^{\\left(4,5\\right)} \\mathbf{H}^{\\left(4,5\\right)} \\mathbf{H}^{\\left(4,5\\right)} \\mathbf{H}^{\\left(4,5\\right)} \\cdots \\right] = \\left[ \\mathbf{G}^{\\left(4,5\\right)} \\left(\\mathbf{H}^{\\left(4,5\\right)}\\right)^{*} \\right]\n",
    "\\end{aligned}\n",
    "where\n",
    "\\begin{aligned}\n",
    "\\mathbf{G}^{\\left(4,5\\right)} = \\{  \\}\n",
    "\\end{aligned}\n",
    "\\begin{aligned}\n",
    "\\mathbf{H}^{\\left(4,5\\right)} = \\{ 4 \\}\n",
    "\\end{aligned}\n",
    "so we have\n",
    "\\begin{aligned}\n",
    "\\left|\\mathbf{G}^{\\left(4,5\\right)}\\right| = 0 \n",
    "\\end{aligned}\n",
    "\\begin{aligned}\n",
    "\\left|\\mathbf{H}^{\\left(4,5\\right)}\\right| = 2 \n",
    "\\end{aligned}"
   ]
  },
  {
   "cell_type": "code",
   "execution_count": 6,
   "metadata": {
    "collapsed": false
   },
   "outputs": [
    {
     "name": "stdout",
     "output_type": "stream",
     "text": [
      "[4, 1, 4, 1, 4, 1, 4, 1, 4, 1, 4, 1, 4, 1, 4, 1, 4, 1, 4, 1, 4, 1, 4, 1, 4, 1, 4, 1, 4]\n"
     ]
    }
   ],
   "source": [
    "example(b=4, m=5) ##   X[n] = 4^n mod 5"
   ]
  },
  {
   "cell_type": "markdown",
   "metadata": {},
   "source": [
    "#### Example #5: $\\mathbf{X}^\\left({b=4,m=6}\\right)$"
   ]
  },
  {
   "cell_type": "markdown",
   "metadata": {},
   "source": [
    "\\begin{aligned}\n",
    "\\mathbf{X}_n = 4^n \\mod m\n",
    "\\end{aligned}\n",
    "with\n",
    "\\begin{aligned}\n",
    "b = 4\n",
    "\\end{aligned}\n",
    "\\begin{aligned}\n",
    "m = 6\n",
    "\\end{aligned}\n",
    "yeilding\n",
    "\\begin{aligned}\n",
    "\\mathbf{X}^{\\left(4,6\\right)} = \\{ ,  \\cdots \\} = \\left[ \\mathbf{G}^{\\left(4,6\\right)} \\mathbf{H}^{\\left(4,6\\right)} \\mathbf{H}^{\\left(4,6\\right)} \\mathbf{H}^{\\left(4,6\\right)} \\cdots \\right] = \\left[ \\mathbf{G}^{\\left(4,6\\right)} \\left(\\mathbf{H}^{\\left(4,6\\right)}\\right)^{*} \\right]\n",
    "\\end{aligned}\n",
    "where\n",
    "\\begin{aligned}\n",
    "\\mathbf{G}^{\\left(4,6\\right)} = \\{  \\}\n",
    "\\end{aligned}\n",
    "\\begin{aligned}\n",
    "\\mathbf{H}^{\\left(4,6\\right)} = \\{  \\}\n",
    "\\end{aligned}\n",
    "so we have\n",
    "\\begin{aligned}\n",
    "\\left|\\mathbf{G}^{\\left(4,6\\right)}\\right| = 0 \n",
    "\\end{aligned}\n",
    "\\begin{aligned}\n",
    "\\left|\\mathbf{H}^{\\left(4,6\\right)}\\right| = 1 \n",
    "\\end{aligned}"
   ]
  },
  {
   "cell_type": "code",
   "execution_count": 7,
   "metadata": {
    "collapsed": false
   },
   "outputs": [
    {
     "name": "stdout",
     "output_type": "stream",
     "text": [
      "[4, 4, 4, 4, 4, 4, 4, 4, 4, 4, 4, 4, 4, 4, 4, 4, 4, 4, 4, 4, 4, 4, 4, 4, 4, 4, 4, 4, 4]\n"
     ]
    }
   ],
   "source": [
    "example(b=4, m=6) ##   X[n] = 4^n mod 6"
   ]
  },
  {
   "cell_type": "markdown",
   "metadata": {},
   "source": [
    "#### Example #6: $\\mathbf{X}^\\left({b=4,m=7}\\right)$"
   ]
  },
  {
   "cell_type": "markdown",
   "metadata": {},
   "source": [
    "\\begin{aligned}\n",
    "\\mathbf{X}_n = 4^n \\mod m\n",
    "\\end{aligned}\n",
    "with\n",
    "\\begin{aligned}\n",
    "b = 4\n",
    "\\end{aligned}\n",
    "\\begin{aligned}\n",
    "m = 7\n",
    "\\end{aligned}\n",
    "yeilding\n",
    "\\begin{aligned}\n",
    "\\mathbf{X}^{\\left(4,7\\right)} = \\{ , 4,2 \\cdots \\} = \\left[ \\mathbf{G}^{\\left(4,7\\right)} \\mathbf{H}^{\\left(4,7\\right)} \\mathbf{H}^{\\left(4,7\\right)} \\mathbf{H}^{\\left(4,7\\right)} \\cdots \\right] = \\left[ \\mathbf{G}^{\\left(4,7\\right)} \\left(\\mathbf{H}^{\\left(4,7\\right)}\\right)^{*} \\right]\n",
    "\\end{aligned}\n",
    "where\n",
    "\\begin{aligned}\n",
    "\\mathbf{G}^{\\left(4,7\\right)} = \\{  \\}\n",
    "\\end{aligned}\n",
    "\\begin{aligned}\n",
    "\\mathbf{H}^{\\left(4,7\\right)} = \\{ 4,2 \\}\n",
    "\\end{aligned}\n",
    "so we have\n",
    "\\begin{aligned}\n",
    "\\left|\\mathbf{G}^{\\left(4,7\\right)}\\right| = 0 \n",
    "\\end{aligned}\n",
    "\\begin{aligned}\n",
    "\\left|\\mathbf{H}^{\\left(4,7\\right)}\\right| = 3 \n",
    "\\end{aligned}"
   ]
  },
  {
   "cell_type": "code",
   "execution_count": 8,
   "metadata": {
    "collapsed": false
   },
   "outputs": [
    {
     "name": "stdout",
     "output_type": "stream",
     "text": [
      "[4, 2, 1, 4, 2, 1, 4, 2, 1, 4, 2, 1, 4, 2, 1, 4, 2, 1, 4, 2, 1, 4, 2, 1, 4, 2, 1, 4, 2]\n"
     ]
    }
   ],
   "source": [
    "example(b=4, m=7) ##   X[n] = 4^n mod 7"
   ]
  },
  {
   "cell_type": "markdown",
   "metadata": {},
   "source": [
    "#### Example #7: $\\mathbf{X}^\\left({b=4,m=8}\\right)$"
   ]
  },
  {
   "cell_type": "markdown",
   "metadata": {},
   "source": [
    "\\begin{aligned}\n",
    "\\mathbf{X}_n = 4^n \\mod m\n",
    "\\end{aligned}\n",
    "with\n",
    "\\begin{aligned}\n",
    "b = 4\n",
    "\\end{aligned}\n",
    "\\begin{aligned}\n",
    "m = 8\n",
    "\\end{aligned}\n",
    "yeilding\n",
    "\\begin{aligned}\n",
    "\\mathbf{X}^{\\left(4,8\\right)} = \\{ ,  \\cdots \\} = \\left[ \\mathbf{G}^{\\left(4,8\\right)} \\mathbf{H}^{\\left(4,8\\right)} \\mathbf{H}^{\\left(4,8\\right)} \\mathbf{H}^{\\left(4,8\\right)} \\cdots \\right] = \\left[ \\mathbf{G}^{\\left(4,8\\right)} \\left(\\mathbf{H}^{\\left(4,8\\right)}\\right)^{*} \\right]\n",
    "\\end{aligned}\n",
    "where\n",
    "\\begin{aligned}\n",
    "\\mathbf{G}^{\\left(4,8\\right)} = \\{  \\}\n",
    "\\end{aligned}\n",
    "\\begin{aligned}\n",
    "\\mathbf{H}^{\\left(4,8\\right)} = \\{  \\}\n",
    "\\end{aligned}\n",
    "so we have\n",
    "\\begin{aligned}\n",
    "\\left|\\mathbf{G}^{\\left(4,8\\right)}\\right| = 1 \n",
    "\\end{aligned}\n",
    "\\begin{aligned}\n",
    "\\left|\\mathbf{H}^{\\left(4,8\\right)}\\right| = 1 \n",
    "\\end{aligned}"
   ]
  },
  {
   "cell_type": "code",
   "execution_count": 9,
   "metadata": {
    "collapsed": false
   },
   "outputs": [
    {
     "name": "stdout",
     "output_type": "stream",
     "text": [
      "[4, 0, 0, 0, 0, 0, 0, 0, 0, 0, 0, 0, 0, 0, 0, 0, 0, 0, 0, 0, 0, 0, 0, 0, 0, 0, 0, 0, 0]\n"
     ]
    }
   ],
   "source": [
    "example(b=4, m=8) ##   X[n] = 4^n mod 8"
   ]
  },
  {
   "cell_type": "markdown",
   "metadata": {},
   "source": [
    "#### Example #8: $\\mathbf{X}^\\left({b=4,m=9}\\right)$"
   ]
  },
  {
   "cell_type": "markdown",
   "metadata": {},
   "source": [
    "\\begin{aligned}\n",
    "\\mathbf{X}_n = 4^n \\mod m\n",
    "\\end{aligned}\n",
    "with\n",
    "\\begin{aligned}\n",
    "b = 4\n",
    "\\end{aligned}\n",
    "\\begin{aligned}\n",
    "m = 9\n",
    "\\end{aligned}\n",
    "yeilding\n",
    "\\begin{aligned}\n",
    "\\mathbf{X}^{\\left(4,9\\right)} = \\{ , 4,7 \\cdots \\} = \\left[ \\mathbf{G}^{\\left(4,9\\right)} \\mathbf{H}^{\\left(4,9\\right)} \\mathbf{H}^{\\left(4,9\\right)} \\mathbf{H}^{\\left(4,9\\right)} \\cdots \\right] = \\left[ \\mathbf{G}^{\\left(4,9\\right)} \\left(\\mathbf{H}^{\\left(4,9\\right)}\\right)^{*} \\right]\n",
    "\\end{aligned}\n",
    "where\n",
    "\\begin{aligned}\n",
    "\\mathbf{G}^{\\left(4,9\\right)} = \\{  \\}\n",
    "\\end{aligned}\n",
    "\\begin{aligned}\n",
    "\\mathbf{H}^{\\left(4,9\\right)} = \\{ 4,7 \\}\n",
    "\\end{aligned}\n",
    "so we have\n",
    "\\begin{aligned}\n",
    "\\left|\\mathbf{G}^{\\left(4,9\\right)}\\right| = 0 \n",
    "\\end{aligned}\n",
    "\\begin{aligned}\n",
    "\\left|\\mathbf{H}^{\\left(4,9\\right)}\\right| = 3 \n",
    "\\end{aligned}"
   ]
  },
  {
   "cell_type": "code",
   "execution_count": 10,
   "metadata": {
    "collapsed": false
   },
   "outputs": [
    {
     "name": "stdout",
     "output_type": "stream",
     "text": [
      "[4, 7, 1, 4, 7, 1, 4, 7, 1, 4, 7, 1, 4, 7, 1, 4, 7, 1, 4, 7, 1, 4, 7, 1, 4, 7, 1, 4, 7]\n"
     ]
    }
   ],
   "source": [
    "example(b=4, m=9) ##   X[n] = 4^n mod 9"
   ]
  },
  {
   "cell_type": "markdown",
   "metadata": {},
   "source": [
    "#### Example #9: $\\mathbf{X}^\\left({b=4,m=10}\\right)$"
   ]
  },
  {
   "cell_type": "markdown",
   "metadata": {},
   "source": [
    "\\begin{aligned}\n",
    "\\mathbf{X}_n = 4^n \\mod m\n",
    "\\end{aligned}\n",
    "with\n",
    "\\begin{aligned}\n",
    "b = 4\n",
    "\\end{aligned}\n",
    "\\begin{aligned}\n",
    "m = 10\n",
    "\\end{aligned}\n",
    "yeilding\n",
    "\\begin{aligned}\n",
    "\\mathbf{X}^{\\left(4,10\\right)} = \\{ , 4 \\cdots \\} = \\left[ \\mathbf{G}^{\\left(4,10\\right)} \\mathbf{H}^{\\left(4,10\\right)} \\mathbf{H}^{\\left(4,10\\right)} \\mathbf{H}^{\\left(4,10\\right)} \\cdots \\right] = \\left[ \\mathbf{G}^{\\left(4,10\\right)} \\left(\\mathbf{H}^{\\left(4,10\\right)}\\right)^{*} \\right]\n",
    "\\end{aligned}\n",
    "where\n",
    "\\begin{aligned}\n",
    "\\mathbf{G}^{\\left(4,10\\right)} = \\{  \\}\n",
    "\\end{aligned}\n",
    "\\begin{aligned}\n",
    "\\mathbf{H}^{\\left(4,10\\right)} = \\{ 4 \\}\n",
    "\\end{aligned}\n",
    "so we have\n",
    "\\begin{aligned}\n",
    "\\left|\\mathbf{G}^{\\left(4,10\\right)}\\right| = 0 \n",
    "\\end{aligned}\n",
    "\\begin{aligned}\n",
    "\\left|\\mathbf{H}^{\\left(4,10\\right)}\\right| = 2 \n",
    "\\end{aligned}"
   ]
  },
  {
   "cell_type": "code",
   "execution_count": 11,
   "metadata": {
    "collapsed": false
   },
   "outputs": [
    {
     "name": "stdout",
     "output_type": "stream",
     "text": [
      "[4, 6, 4, 6, 4, 6, 4, 6, 4, 6, 4, 6, 4, 6, 4, 6, 4, 6, 4, 6, 4, 6, 4, 6, 4, 6, 4, 6, 4]\n"
     ]
    }
   ],
   "source": [
    "example(b=4, m=10) ##   X[n] = 4^n mod 10"
   ]
  },
  {
   "cell_type": "markdown",
   "metadata": {},
   "source": [
    "#### Example #10: $\\mathbf{X}^\\left({b=4,m=11}\\right)$"
   ]
  },
  {
   "cell_type": "markdown",
   "metadata": {},
   "source": [
    "\\begin{aligned}\n",
    "\\mathbf{X}_n = 4^n \\mod m\n",
    "\\end{aligned}\n",
    "with\n",
    "\\begin{aligned}\n",
    "b = 4\n",
    "\\end{aligned}\n",
    "\\begin{aligned}\n",
    "m = 11\n",
    "\\end{aligned}\n",
    "yeilding\n",
    "\\begin{aligned}\n",
    "\\mathbf{X}^{\\left(4,11\\right)} = \\{ , 4,5,9,3 \\cdots \\} = \\left[ \\mathbf{G}^{\\left(4,11\\right)} \\mathbf{H}^{\\left(4,11\\right)} \\mathbf{H}^{\\left(4,11\\right)} \\mathbf{H}^{\\left(4,11\\right)} \\cdots \\right] = \\left[ \\mathbf{G}^{\\left(4,11\\right)} \\left(\\mathbf{H}^{\\left(4,11\\right)}\\right)^{*} \\right]\n",
    "\\end{aligned}\n",
    "where\n",
    "\\begin{aligned}\n",
    "\\mathbf{G}^{\\left(4,11\\right)} = \\{  \\}\n",
    "\\end{aligned}\n",
    "\\begin{aligned}\n",
    "\\mathbf{H}^{\\left(4,11\\right)} = \\{ 4,5,9,3 \\}\n",
    "\\end{aligned}\n",
    "so we have\n",
    "\\begin{aligned}\n",
    "\\left|\\mathbf{G}^{\\left(4,11\\right)}\\right| = 0 \n",
    "\\end{aligned}\n",
    "\\begin{aligned}\n",
    "\\left|\\mathbf{H}^{\\left(4,11\\right)}\\right| = 5 \n",
    "\\end{aligned}"
   ]
  },
  {
   "cell_type": "code",
   "execution_count": 12,
   "metadata": {
    "collapsed": false
   },
   "outputs": [
    {
     "name": "stdout",
     "output_type": "stream",
     "text": [
      "[4, 5, 9, 3, 1, 4, 5, 9, 3, 1, 4, 5, 9, 3, 1, 4, 5, 9, 3, 1, 4, 5, 9, 3, 1, 4, 5, 9, 3]\n"
     ]
    }
   ],
   "source": [
    "example(b=4, m=11) ##   X[n] = 4^n mod 11"
   ]
  },
  {
   "cell_type": "markdown",
   "metadata": {},
   "source": [
    "#### Example #11: $\\mathbf{X}^\\left({b=4,m=12}\\right)$"
   ]
  },
  {
   "cell_type": "markdown",
   "metadata": {},
   "source": [
    "\\begin{aligned}\n",
    "\\mathbf{X}_n = 4^n \\mod m\n",
    "\\end{aligned}\n",
    "with\n",
    "\\begin{aligned}\n",
    "b = 4\n",
    "\\end{aligned}\n",
    "\\begin{aligned}\n",
    "m = 12\n",
    "\\end{aligned}\n",
    "yeilding\n",
    "\\begin{aligned}\n",
    "\\mathbf{X}^{\\left(4,12\\right)} = \\{ ,  \\cdots \\} = \\left[ \\mathbf{G}^{\\left(4,12\\right)} \\mathbf{H}^{\\left(4,12\\right)} \\mathbf{H}^{\\left(4,12\\right)} \\mathbf{H}^{\\left(4,12\\right)} \\cdots \\right] = \\left[ \\mathbf{G}^{\\left(4,12\\right)} \\left(\\mathbf{H}^{\\left(4,12\\right)}\\right)^{*} \\right]\n",
    "\\end{aligned}\n",
    "where\n",
    "\\begin{aligned}\n",
    "\\mathbf{G}^{\\left(4,12\\right)} = \\{  \\}\n",
    "\\end{aligned}\n",
    "\\begin{aligned}\n",
    "\\mathbf{H}^{\\left(4,12\\right)} = \\{  \\}\n",
    "\\end{aligned}\n",
    "so we have\n",
    "\\begin{aligned}\n",
    "\\left|\\mathbf{G}^{\\left(4,12\\right)}\\right| = 0 \n",
    "\\end{aligned}\n",
    "\\begin{aligned}\n",
    "\\left|\\mathbf{H}^{\\left(4,12\\right)}\\right| = 1 \n",
    "\\end{aligned}"
   ]
  },
  {
   "cell_type": "code",
   "execution_count": 13,
   "metadata": {
    "collapsed": false
   },
   "outputs": [
    {
     "name": "stdout",
     "output_type": "stream",
     "text": [
      "[4, 4, 4, 4, 4, 4, 4, 4, 4, 4, 4, 4, 4, 4, 4, 4, 4, 4, 4, 4, 4, 4, 4, 4, 4, 4, 4, 4, 4]\n"
     ]
    }
   ],
   "source": [
    "example(b=4, m=12) ##   X[n] = 4^n mod 12"
   ]
  },
  {
   "cell_type": "markdown",
   "metadata": {},
   "source": [
    "#### Example #12: $\\mathbf{X}^\\left({b=4,m=13}\\right)$"
   ]
  },
  {
   "cell_type": "markdown",
   "metadata": {},
   "source": [
    "\\begin{aligned}\n",
    "\\mathbf{X}_n = 4^n \\mod m\n",
    "\\end{aligned}\n",
    "with\n",
    "\\begin{aligned}\n",
    "b = 4\n",
    "\\end{aligned}\n",
    "\\begin{aligned}\n",
    "m = 13\n",
    "\\end{aligned}\n",
    "yeilding\n",
    "\\begin{aligned}\n",
    "\\mathbf{X}^{\\left(4,13\\right)} = \\{ ,  4, 3,12, 9,10, \\cdots \\} = \\left[ \\mathbf{G}^{\\left(4,13\\right)} \\mathbf{H}^{\\left(4,13\\right)} \\mathbf{H}^{\\left(4,13\\right)} \\mathbf{H}^{\\left(4,13\\right)} \\cdots \\right] = \\left[ \\mathbf{G}^{\\left(4,13\\right)} \\left(\\mathbf{H}^{\\left(4,13\\right)}\\right)^{*} \\right]\n",
    "\\end{aligned}\n",
    "where\n",
    "\\begin{aligned}\n",
    "\\mathbf{G}^{\\left(4,13\\right)} = \\{  \\}\n",
    "\\end{aligned}\n",
    "\\begin{aligned}\n",
    "\\mathbf{H}^{\\left(4,13\\right)} = \\{  4, 3,12, 9,10, \\}\n",
    "\\end{aligned}\n",
    "so we have\n",
    "\\begin{aligned}\n",
    "\\left|\\mathbf{G}^{\\left(4,13\\right)}\\right| = 0 \n",
    "\\end{aligned}\n",
    "\\begin{aligned}\n",
    "\\left|\\mathbf{H}^{\\left(4,13\\right)}\\right| = 6 \n",
    "\\end{aligned}"
   ]
  },
  {
   "cell_type": "code",
   "execution_count": 14,
   "metadata": {
    "collapsed": false
   },
   "outputs": [
    {
     "name": "stdout",
     "output_type": "stream",
     "text": [
      "[4, 3, 12, 9, 10, 1, 4, 3, 12, 9, 10, 1, 4, 3, 12, 9, 10, 1, 4, 3, 12, 9, 10, 1, 4, 3, 12, 9, 10]\n"
     ]
    }
   ],
   "source": [
    "example(b=4, m=13) ##   X[n] = 4^n mod 13"
   ]
  },
  {
   "cell_type": "markdown",
   "metadata": {},
   "source": [
    "#### Example #13: $\\mathbf{X}^\\left({b=4,m=14}\\right)$"
   ]
  },
  {
   "cell_type": "markdown",
   "metadata": {},
   "source": [
    "\\begin{aligned}\n",
    "\\mathbf{X}_n = 4^n \\mod m\n",
    "\\end{aligned}\n",
    "with\n",
    "\\begin{aligned}\n",
    "b = 4\n",
    "\\end{aligned}\n",
    "\\begin{aligned}\n",
    "m = 14\n",
    "\\end{aligned}\n",
    "yeilding\n",
    "\\begin{aligned}\n",
    "\\mathbf{X}^{\\left(4,14\\right)} = \\{ , 4,2 \\cdots \\} = \\left[ \\mathbf{G}^{\\left(4,14\\right)} \\mathbf{H}^{\\left(4,14\\right)} \\mathbf{H}^{\\left(4,14\\right)} \\mathbf{H}^{\\left(4,14\\right)} \\cdots \\right] = \\left[ \\mathbf{G}^{\\left(4,14\\right)} \\left(\\mathbf{H}^{\\left(4,14\\right)}\\right)^{*} \\right]\n",
    "\\end{aligned}\n",
    "where\n",
    "\\begin{aligned}\n",
    "\\mathbf{G}^{\\left(4,14\\right)} = \\{  \\}\n",
    "\\end{aligned}\n",
    "\\begin{aligned}\n",
    "\\mathbf{H}^{\\left(4,14\\right)} = \\{ 4,2 \\}\n",
    "\\end{aligned}\n",
    "so we have\n",
    "\\begin{aligned}\n",
    "\\left|\\mathbf{G}^{\\left(4,14\\right)}\\right| = 0 \n",
    "\\end{aligned}\n",
    "\\begin{aligned}\n",
    "\\left|\\mathbf{H}^{\\left(4,14\\right)}\\right| = 3 \n",
    "\\end{aligned}"
   ]
  },
  {
   "cell_type": "code",
   "execution_count": 15,
   "metadata": {
    "collapsed": false
   },
   "outputs": [
    {
     "name": "stdout",
     "output_type": "stream",
     "text": [
      "[4, 2, 8, 4, 2, 8, 4, 2, 8, 4, 2, 8, 4, 2, 8, 4, 2, 8, 4, 2, 8, 4, 2, 8, 4, 2, 8, 4, 2]\n"
     ]
    }
   ],
   "source": [
    "example(b=4, m=14) ##   X[n] = 4^n mod 14"
   ]
  },
  {
   "cell_type": "markdown",
   "metadata": {},
   "source": [
    "#### Example #14: $\\mathbf{X}^\\left({b=4,m=15}\\right)$"
   ]
  },
  {
   "cell_type": "markdown",
   "metadata": {},
   "source": [
    "\\begin{aligned}\n",
    "\\mathbf{X}_n = 4^n \\mod m\n",
    "\\end{aligned}\n",
    "with\n",
    "\\begin{aligned}\n",
    "b = 4\n",
    "\\end{aligned}\n",
    "\\begin{aligned}\n",
    "m = 15\n",
    "\\end{aligned}\n",
    "yeilding\n",
    "\\begin{aligned}\n",
    "\\mathbf{X}^{\\left(4,15\\right)} = \\{ , 4 \\cdots \\} = \\left[ \\mathbf{G}^{\\left(4,15\\right)} \\mathbf{H}^{\\left(4,15\\right)} \\mathbf{H}^{\\left(4,15\\right)} \\mathbf{H}^{\\left(4,15\\right)} \\cdots \\right] = \\left[ \\mathbf{G}^{\\left(4,15\\right)} \\left(\\mathbf{H}^{\\left(4,15\\right)}\\right)^{*} \\right]\n",
    "\\end{aligned}\n",
    "where\n",
    "\\begin{aligned}\n",
    "\\mathbf{G}^{\\left(4,15\\right)} = \\{  \\}\n",
    "\\end{aligned}\n",
    "\\begin{aligned}\n",
    "\\mathbf{H}^{\\left(4,15\\right)} = \\{ 4 \\}\n",
    "\\end{aligned}\n",
    "so we have\n",
    "\\begin{aligned}\n",
    "\\left|\\mathbf{G}^{\\left(4,15\\right)}\\right| = 0 \n",
    "\\end{aligned}\n",
    "\\begin{aligned}\n",
    "\\left|\\mathbf{H}^{\\left(4,15\\right)}\\right| = 2 \n",
    "\\end{aligned}"
   ]
  },
  {
   "cell_type": "code",
   "execution_count": 16,
   "metadata": {
    "collapsed": false
   },
   "outputs": [
    {
     "name": "stdout",
     "output_type": "stream",
     "text": [
      "[4, 1, 4, 1, 4, 1, 4, 1, 4, 1, 4, 1, 4, 1, 4, 1, 4, 1, 4, 1, 4, 1, 4, 1, 4, 1, 4, 1, 4]\n"
     ]
    }
   ],
   "source": [
    "example(b=4, m=15) ##   X[n] = 4^n mod 15"
   ]
  },
  {
   "cell_type": "markdown",
   "metadata": {},
   "source": [
    "#### Example #15: $\\mathbf{X}^\\left({b=4,m=16}\\right)$"
   ]
  },
  {
   "cell_type": "markdown",
   "metadata": {},
   "source": [
    "\\begin{aligned}\n",
    "\\mathbf{X}_n = 4^n \\mod m\n",
    "\\end{aligned}\n",
    "with\n",
    "\\begin{aligned}\n",
    "b = 4\n",
    "\\end{aligned}\n",
    "\\begin{aligned}\n",
    "m = 16\n",
    "\\end{aligned}\n",
    "yeilding\n",
    "\\begin{aligned}\n",
    "\\mathbf{X}^{\\left(4,16\\right)} = \\{ ,  \\cdots \\} = \\left[ \\mathbf{G}^{\\left(4,16\\right)} \\mathbf{H}^{\\left(4,16\\right)} \\mathbf{H}^{\\left(4,16\\right)} \\mathbf{H}^{\\left(4,16\\right)} \\cdots \\right] = \\left[ \\mathbf{G}^{\\left(4,16\\right)} \\left(\\mathbf{H}^{\\left(4,16\\right)}\\right)^{*} \\right]\n",
    "\\end{aligned}\n",
    "where\n",
    "\\begin{aligned}\n",
    "\\mathbf{G}^{\\left(4,16\\right)} = \\{  \\}\n",
    "\\end{aligned}\n",
    "\\begin{aligned}\n",
    "\\mathbf{H}^{\\left(4,16\\right)} = \\{  \\}\n",
    "\\end{aligned}\n",
    "so we have\n",
    "\\begin{aligned}\n",
    "\\left|\\mathbf{G}^{\\left(4,16\\right)}\\right| = 1 \n",
    "\\end{aligned}\n",
    "\\begin{aligned}\n",
    "\\left|\\mathbf{H}^{\\left(4,16\\right)}\\right| = 1 \n",
    "\\end{aligned}"
   ]
  },
  {
   "cell_type": "code",
   "execution_count": 17,
   "metadata": {
    "collapsed": false
   },
   "outputs": [
    {
     "name": "stdout",
     "output_type": "stream",
     "text": [
      "[4, 0, 0, 0, 0, 0, 0, 0, 0, 0, 0, 0, 0, 0, 0, 0, 0, 0, 0, 0, 0, 0, 0, 0, 0, 0, 0, 0, 0]\n"
     ]
    }
   ],
   "source": [
    "example(b=4, m=16) ##   X[n] = 4^n mod 16"
   ]
  },
  {
   "cell_type": "markdown",
   "metadata": {},
   "source": [
    "#### Example #16: $\\mathbf{X}^\\left({b=4,m=17}\\right)$"
   ]
  },
  {
   "cell_type": "markdown",
   "metadata": {},
   "source": [
    "\\begin{aligned}\n",
    "\\mathbf{X}_n = 4^n \\mod m\n",
    "\\end{aligned}\n",
    "with\n",
    "\\begin{aligned}\n",
    "b = 4\n",
    "\\end{aligned}\n",
    "\\begin{aligned}\n",
    "m = 17\n",
    "\\end{aligned}\n",
    "yeilding\n",
    "\\begin{aligned}\n",
    "\\mathbf{X}^{\\left(4,17\\right)} = \\{ ,  4,16,13, \\cdots \\} = \\left[ \\mathbf{G}^{\\left(4,17\\right)} \\mathbf{H}^{\\left(4,17\\right)} \\mathbf{H}^{\\left(4,17\\right)} \\mathbf{H}^{\\left(4,17\\right)} \\cdots \\right] = \\left[ \\mathbf{G}^{\\left(4,17\\right)} \\left(\\mathbf{H}^{\\left(4,17\\right)}\\right)^{*} \\right]\n",
    "\\end{aligned}\n",
    "where\n",
    "\\begin{aligned}\n",
    "\\mathbf{G}^{\\left(4,17\\right)} = \\{  \\}\n",
    "\\end{aligned}\n",
    "\\begin{aligned}\n",
    "\\mathbf{H}^{\\left(4,17\\right)} = \\{  4,16,13, \\}\n",
    "\\end{aligned}\n",
    "so we have\n",
    "\\begin{aligned}\n",
    "\\left|\\mathbf{G}^{\\left(4,17\\right)}\\right| = 0 \n",
    "\\end{aligned}\n",
    "\\begin{aligned}\n",
    "\\left|\\mathbf{H}^{\\left(4,17\\right)}\\right| = 4 \n",
    "\\end{aligned}"
   ]
  },
  {
   "cell_type": "code",
   "execution_count": 18,
   "metadata": {
    "collapsed": false
   },
   "outputs": [
    {
     "name": "stdout",
     "output_type": "stream",
     "text": [
      "[4, 16, 13, 1, 4, 16, 13, 1, 4, 16, 13, 1, 4, 16, 13, 1, 4, 16, 13, 1, 4, 16, 13, 1, 4, 16, 13, 1, 4]\n"
     ]
    }
   ],
   "source": [
    "example(b=4, m=17) ##   X[n] = 4^n mod 17"
   ]
  },
  {
   "cell_type": "markdown",
   "metadata": {},
   "source": [
    "#### Example #17: $\\mathbf{X}^\\left({b=4,m=18}\\right)$"
   ]
  },
  {
   "cell_type": "markdown",
   "metadata": {},
   "source": [
    "\\begin{aligned}\n",
    "\\mathbf{X}_n = 4^n \\mod m\n",
    "\\end{aligned}\n",
    "with\n",
    "\\begin{aligned}\n",
    "b = 4\n",
    "\\end{aligned}\n",
    "\\begin{aligned}\n",
    "m = 18\n",
    "\\end{aligned}\n",
    "yeilding\n",
    "\\begin{aligned}\n",
    "\\mathbf{X}^{\\left(4,18\\right)} = \\{ ,  4,16, \\cdots \\} = \\left[ \\mathbf{G}^{\\left(4,18\\right)} \\mathbf{H}^{\\left(4,18\\right)} \\mathbf{H}^{\\left(4,18\\right)} \\mathbf{H}^{\\left(4,18\\right)} \\cdots \\right] = \\left[ \\mathbf{G}^{\\left(4,18\\right)} \\left(\\mathbf{H}^{\\left(4,18\\right)}\\right)^{*} \\right]\n",
    "\\end{aligned}\n",
    "where\n",
    "\\begin{aligned}\n",
    "\\mathbf{G}^{\\left(4,18\\right)} = \\{  \\}\n",
    "\\end{aligned}\n",
    "\\begin{aligned}\n",
    "\\mathbf{H}^{\\left(4,18\\right)} = \\{  4,16, \\}\n",
    "\\end{aligned}\n",
    "so we have\n",
    "\\begin{aligned}\n",
    "\\left|\\mathbf{G}^{\\left(4,18\\right)}\\right| = 0 \n",
    "\\end{aligned}\n",
    "\\begin{aligned}\n",
    "\\left|\\mathbf{H}^{\\left(4,18\\right)}\\right| = 3 \n",
    "\\end{aligned}"
   ]
  },
  {
   "cell_type": "code",
   "execution_count": 19,
   "metadata": {
    "collapsed": false
   },
   "outputs": [
    {
     "name": "stdout",
     "output_type": "stream",
     "text": [
      "[4, 16, 10, 4, 16, 10, 4, 16, 10, 4, 16, 10, 4, 16, 10, 4, 16, 10, 4, 16, 10, 4, 16, 10, 4, 16, 10, 4, 16]\n"
     ]
    }
   ],
   "source": [
    "example(b=4, m=18) ##   X[n] = 4^n mod 18"
   ]
  },
  {
   "cell_type": "markdown",
   "metadata": {},
   "source": [
    "#### Example #18: $\\mathbf{X}^\\left({b=4,m=19}\\right)$"
   ]
  },
  {
   "cell_type": "markdown",
   "metadata": {},
   "source": [
    "\\begin{aligned}\n",
    "\\mathbf{X}_n = 4^n \\mod m\n",
    "\\end{aligned}\n",
    "with\n",
    "\\begin{aligned}\n",
    "b = 4\n",
    "\\end{aligned}\n",
    "\\begin{aligned}\n",
    "m = 19\n",
    "\\end{aligned}\n",
    "yeilding\n",
    "\\begin{aligned}\n",
    "\\mathbf{X}^{\\left(4,19\\right)} = \\{ ,  4,16, 7, 9,17,11, 6, 5, \\cdots \\} = \\left[ \\mathbf{G}^{\\left(4,19\\right)} \\mathbf{H}^{\\left(4,19\\right)} \\mathbf{H}^{\\left(4,19\\right)} \\mathbf{H}^{\\left(4,19\\right)} \\cdots \\right] = \\left[ \\mathbf{G}^{\\left(4,19\\right)} \\left(\\mathbf{H}^{\\left(4,19\\right)}\\right)^{*} \\right]\n",
    "\\end{aligned}\n",
    "where\n",
    "\\begin{aligned}\n",
    "\\mathbf{G}^{\\left(4,19\\right)} = \\{  \\}\n",
    "\\end{aligned}\n",
    "\\begin{aligned}\n",
    "\\mathbf{H}^{\\left(4,19\\right)} = \\{  4,16, 7, 9,17,11, 6, 5, \\}\n",
    "\\end{aligned}\n",
    "so we have\n",
    "\\begin{aligned}\n",
    "\\left|\\mathbf{G}^{\\left(4,19\\right)}\\right| = 0 \n",
    "\\end{aligned}\n",
    "\\begin{aligned}\n",
    "\\left|\\mathbf{H}^{\\left(4,19\\right)}\\right| = 9 \n",
    "\\end{aligned}"
   ]
  },
  {
   "cell_type": "code",
   "execution_count": 20,
   "metadata": {
    "collapsed": false
   },
   "outputs": [
    {
     "name": "stdout",
     "output_type": "stream",
     "text": [
      "[4, 16, 7, 9, 17, 11, 6, 5, 1, 4, 16, 7, 9, 17, 11, 6, 5, 1, 4, 16, 7, 9, 17, 11, 6, 5, 1, 4, 16]\n"
     ]
    }
   ],
   "source": [
    "example(b=4, m=19) ##   X[n] = 4^n mod 19"
   ]
  },
  {
   "cell_type": "markdown",
   "metadata": {},
   "source": [
    "#### Example #19: $\\mathbf{X}^\\left({b=4,m=20}\\right)$"
   ]
  },
  {
   "cell_type": "markdown",
   "metadata": {},
   "source": [
    "\\begin{aligned}\n",
    "\\mathbf{X}_n = 4^n \\mod m\n",
    "\\end{aligned}\n",
    "with\n",
    "\\begin{aligned}\n",
    "b = 4\n",
    "\\end{aligned}\n",
    "\\begin{aligned}\n",
    "m = 20\n",
    "\\end{aligned}\n",
    "yeilding\n",
    "\\begin{aligned}\n",
    "\\mathbf{X}^{\\left(4,20\\right)} = \\{ ,  4, \\cdots \\} = \\left[ \\mathbf{G}^{\\left(4,20\\right)} \\mathbf{H}^{\\left(4,20\\right)} \\mathbf{H}^{\\left(4,20\\right)} \\mathbf{H}^{\\left(4,20\\right)} \\cdots \\right] = \\left[ \\mathbf{G}^{\\left(4,20\\right)} \\left(\\mathbf{H}^{\\left(4,20\\right)}\\right)^{*} \\right]\n",
    "\\end{aligned}\n",
    "where\n",
    "\\begin{aligned}\n",
    "\\mathbf{G}^{\\left(4,20\\right)} = \\{  \\}\n",
    "\\end{aligned}\n",
    "\\begin{aligned}\n",
    "\\mathbf{H}^{\\left(4,20\\right)} = \\{  4, \\}\n",
    "\\end{aligned}\n",
    "so we have\n",
    "\\begin{aligned}\n",
    "\\left|\\mathbf{G}^{\\left(4,20\\right)}\\right| = 0 \n",
    "\\end{aligned}\n",
    "\\begin{aligned}\n",
    "\\left|\\mathbf{H}^{\\left(4,20\\right)}\\right| = 2 \n",
    "\\end{aligned}"
   ]
  },
  {
   "cell_type": "code",
   "execution_count": 21,
   "metadata": {
    "collapsed": false
   },
   "outputs": [
    {
     "name": "stdout",
     "output_type": "stream",
     "text": [
      "[4, 16, 4, 16, 4, 16, 4, 16, 4, 16, 4, 16, 4, 16, 4, 16, 4, 16, 4, 16, 4, 16, 4, 16, 4, 16, 4, 16, 4]\n"
     ]
    }
   ],
   "source": [
    "example(b=4, m=20) ##   X[n] = 4^n mod 20"
   ]
  },
  {
   "cell_type": "markdown",
   "metadata": {},
   "source": [
    "#### Example #20: $\\mathbf{X}^\\left({b=4,m=21}\\right)$"
   ]
  },
  {
   "cell_type": "markdown",
   "metadata": {},
   "source": [
    "\\begin{aligned}\n",
    "\\mathbf{X}_n = 4^n \\mod m\n",
    "\\end{aligned}\n",
    "with\n",
    "\\begin{aligned}\n",
    "b = 4\n",
    "\\end{aligned}\n",
    "\\begin{aligned}\n",
    "m = 21\n",
    "\\end{aligned}\n",
    "yeilding\n",
    "\\begin{aligned}\n",
    "\\mathbf{X}^{\\left(4,21\\right)} = \\{ ,  4,16, \\cdots \\} = \\left[ \\mathbf{G}^{\\left(4,21\\right)} \\mathbf{H}^{\\left(4,21\\right)} \\mathbf{H}^{\\left(4,21\\right)} \\mathbf{H}^{\\left(4,21\\right)} \\cdots \\right] = \\left[ \\mathbf{G}^{\\left(4,21\\right)} \\left(\\mathbf{H}^{\\left(4,21\\right)}\\right)^{*} \\right]\n",
    "\\end{aligned}\n",
    "where\n",
    "\\begin{aligned}\n",
    "\\mathbf{G}^{\\left(4,21\\right)} = \\{  \\}\n",
    "\\end{aligned}\n",
    "\\begin{aligned}\n",
    "\\mathbf{H}^{\\left(4,21\\right)} = \\{  4,16, \\}\n",
    "\\end{aligned}\n",
    "so we have\n",
    "\\begin{aligned}\n",
    "\\left|\\mathbf{G}^{\\left(4,21\\right)}\\right| = 0 \n",
    "\\end{aligned}\n",
    "\\begin{aligned}\n",
    "\\left|\\mathbf{H}^{\\left(4,21\\right)}\\right| = 3 \n",
    "\\end{aligned}"
   ]
  },
  {
   "cell_type": "code",
   "execution_count": 22,
   "metadata": {
    "collapsed": false
   },
   "outputs": [
    {
     "name": "stdout",
     "output_type": "stream",
     "text": [
      "[4, 16, 1, 4, 16, 1, 4, 16, 1, 4, 16, 1, 4, 16, 1, 4, 16, 1, 4, 16, 1, 4, 16, 1, 4, 16, 1, 4, 16]\n"
     ]
    }
   ],
   "source": [
    "example(b=4, m=21) ##   X[n] = 4^n mod 21"
   ]
  },
  {
   "cell_type": "markdown",
   "metadata": {},
   "source": [
    "#### Example #21: $\\mathbf{X}^\\left({b=4,m=22}\\right)$"
   ]
  },
  {
   "cell_type": "markdown",
   "metadata": {},
   "source": [
    "\\begin{aligned}\n",
    "\\mathbf{X}_n = 4^n \\mod m\n",
    "\\end{aligned}\n",
    "with\n",
    "\\begin{aligned}\n",
    "b = 4\n",
    "\\end{aligned}\n",
    "\\begin{aligned}\n",
    "m = 22\n",
    "\\end{aligned}\n",
    "yeilding\n",
    "\\begin{aligned}\n",
    "\\mathbf{X}^{\\left(4,22\\right)} = \\{ ,  4,16,20,14, \\cdots \\} = \\left[ \\mathbf{G}^{\\left(4,22\\right)} \\mathbf{H}^{\\left(4,22\\right)} \\mathbf{H}^{\\left(4,22\\right)} \\mathbf{H}^{\\left(4,22\\right)} \\cdots \\right] = \\left[ \\mathbf{G}^{\\left(4,22\\right)} \\left(\\mathbf{H}^{\\left(4,22\\right)}\\right)^{*} \\right]\n",
    "\\end{aligned}\n",
    "where\n",
    "\\begin{aligned}\n",
    "\\mathbf{G}^{\\left(4,22\\right)} = \\{  \\}\n",
    "\\end{aligned}\n",
    "\\begin{aligned}\n",
    "\\mathbf{H}^{\\left(4,22\\right)} = \\{  4,16,20,14, \\}\n",
    "\\end{aligned}\n",
    "so we have\n",
    "\\begin{aligned}\n",
    "\\left|\\mathbf{G}^{\\left(4,22\\right)}\\right| = 0 \n",
    "\\end{aligned}\n",
    "\\begin{aligned}\n",
    "\\left|\\mathbf{H}^{\\left(4,22\\right)}\\right| = 5 \n",
    "\\end{aligned}"
   ]
  },
  {
   "cell_type": "code",
   "execution_count": 23,
   "metadata": {
    "collapsed": false
   },
   "outputs": [
    {
     "name": "stdout",
     "output_type": "stream",
     "text": [
      "[4, 16, 20, 14, 12, 4, 16, 20, 14, 12, 4, 16, 20, 14, 12, 4, 16, 20, 14, 12, 4, 16, 20, 14, 12, 4, 16, 20, 14]\n"
     ]
    }
   ],
   "source": [
    "example(b=4, m=22) ##   X[n] = 4^n mod 22"
   ]
  },
  {
   "cell_type": "markdown",
   "metadata": {},
   "source": [
    "#### Example #22: $\\mathbf{X}^\\left({b=4,m=23}\\right)$"
   ]
  },
  {
   "cell_type": "markdown",
   "metadata": {},
   "source": [
    "\\begin{aligned}\n",
    "\\mathbf{X}_n = 4^n \\mod m\n",
    "\\end{aligned}\n",
    "with\n",
    "\\begin{aligned}\n",
    "b = 4\n",
    "\\end{aligned}\n",
    "\\begin{aligned}\n",
    "m = 23\n",
    "\\end{aligned}\n",
    "yeilding\n",
    "\\begin{aligned}\n",
    "\\mathbf{X}^{\\left(4,23\\right)} = \\{ ,  4,16,18, 3,12, 2, 8, 9,13, 6, \\cdots \\} = \\left[ \\mathbf{G}^{\\left(4,23\\right)} \\mathbf{H}^{\\left(4,23\\right)} \\mathbf{H}^{\\left(4,23\\right)} \\mathbf{H}^{\\left(4,23\\right)} \\cdots \\right] = \\left[ \\mathbf{G}^{\\left(4,23\\right)} \\left(\\mathbf{H}^{\\left(4,23\\right)}\\right)^{*} \\right]\n",
    "\\end{aligned}\n",
    "where\n",
    "\\begin{aligned}\n",
    "\\mathbf{G}^{\\left(4,23\\right)} = \\{  \\}\n",
    "\\end{aligned}\n",
    "\\begin{aligned}\n",
    "\\mathbf{H}^{\\left(4,23\\right)} = \\{  4,16,18, 3,12, 2, 8, 9,13, 6, \\}\n",
    "\\end{aligned}\n",
    "so we have\n",
    "\\begin{aligned}\n",
    "\\left|\\mathbf{G}^{\\left(4,23\\right)}\\right| = 0 \n",
    "\\end{aligned}\n",
    "\\begin{aligned}\n",
    "\\left|\\mathbf{H}^{\\left(4,23\\right)}\\right| = 11 \n",
    "\\end{aligned}"
   ]
  },
  {
   "cell_type": "code",
   "execution_count": 24,
   "metadata": {
    "collapsed": false
   },
   "outputs": [
    {
     "name": "stdout",
     "output_type": "stream",
     "text": [
      "[4, 16, 18, 3, 12, 2, 8, 9, 13, 6, 1, 4, 16, 18, 3, 12, 2, 8, 9, 13, 6, 1, 4, 16, 18, 3, 12, 2, 8]\n"
     ]
    }
   ],
   "source": [
    "example(b=4, m=23) ##   X[n] = 4^n mod 23"
   ]
  },
  {
   "cell_type": "markdown",
   "metadata": {},
   "source": [
    "#### Example #23: $\\mathbf{X}^\\left({b=4,m=24}\\right)$"
   ]
  },
  {
   "cell_type": "markdown",
   "metadata": {},
   "source": [
    "\\begin{aligned}\n",
    "\\mathbf{X}_n = 4^n \\mod m\n",
    "\\end{aligned}\n",
    "with\n",
    "\\begin{aligned}\n",
    "b = 4\n",
    "\\end{aligned}\n",
    "\\begin{aligned}\n",
    "m = 24\n",
    "\\end{aligned}\n",
    "yeilding\n",
    "\\begin{aligned}\n",
    "\\mathbf{X}^{\\left(4,24\\right)} = \\{ ,  \\cdots \\} = \\left[ \\mathbf{G}^{\\left(4,24\\right)} \\mathbf{H}^{\\left(4,24\\right)} \\mathbf{H}^{\\left(4,24\\right)} \\mathbf{H}^{\\left(4,24\\right)} \\cdots \\right] = \\left[ \\mathbf{G}^{\\left(4,24\\right)} \\left(\\mathbf{H}^{\\left(4,24\\right)}\\right)^{*} \\right]\n",
    "\\end{aligned}\n",
    "where\n",
    "\\begin{aligned}\n",
    "\\mathbf{G}^{\\left(4,24\\right)} = \\{  \\}\n",
    "\\end{aligned}\n",
    "\\begin{aligned}\n",
    "\\mathbf{H}^{\\left(4,24\\right)} = \\{  \\}\n",
    "\\end{aligned}\n",
    "so we have\n",
    "\\begin{aligned}\n",
    "\\left|\\mathbf{G}^{\\left(4,24\\right)}\\right| = 1 \n",
    "\\end{aligned}\n",
    "\\begin{aligned}\n",
    "\\left|\\mathbf{H}^{\\left(4,24\\right)}\\right| = 1 \n",
    "\\end{aligned}"
   ]
  },
  {
   "cell_type": "code",
   "execution_count": 25,
   "metadata": {
    "collapsed": false
   },
   "outputs": [
    {
     "name": "stdout",
     "output_type": "stream",
     "text": [
      "[4, 16, 16, 16, 16, 16, 16, 16, 16, 16, 16, 16, 16, 16, 16, 16, 16, 16, 16, 16, 16, 16, 16, 16, 16, 16, 16, 16, 16]\n"
     ]
    }
   ],
   "source": [
    "example(b=4, m=24) ##   X[n] = 4^n mod 24"
   ]
  },
  {
   "cell_type": "markdown",
   "metadata": {},
   "source": [
    "#### Example #24: $\\mathbf{X}^\\left({b=4,m=25}\\right)$"
   ]
  },
  {
   "cell_type": "markdown",
   "metadata": {},
   "source": [
    "\\begin{aligned}\n",
    "\\mathbf{X}_n = 4^n \\mod m\n",
    "\\end{aligned}\n",
    "with\n",
    "\\begin{aligned}\n",
    "b = 4\n",
    "\\end{aligned}\n",
    "\\begin{aligned}\n",
    "m = 25\n",
    "\\end{aligned}\n",
    "yeilding\n",
    "\\begin{aligned}\n",
    "\\mathbf{X}^{\\left(4,25\\right)} = \\{ ,  4,16,14, 6,24,21, 9,11,19, \\cdots \\} = \\left[ \\mathbf{G}^{\\left(4,25\\right)} \\mathbf{H}^{\\left(4,25\\right)} \\mathbf{H}^{\\left(4,25\\right)} \\mathbf{H}^{\\left(4,25\\right)} \\cdots \\right] = \\left[ \\mathbf{G}^{\\left(4,25\\right)} \\left(\\mathbf{H}^{\\left(4,25\\right)}\\right)^{*} \\right]\n",
    "\\end{aligned}\n",
    "where\n",
    "\\begin{aligned}\n",
    "\\mathbf{G}^{\\left(4,25\\right)} = \\{  \\}\n",
    "\\end{aligned}\n",
    "\\begin{aligned}\n",
    "\\mathbf{H}^{\\left(4,25\\right)} = \\{  4,16,14, 6,24,21, 9,11,19, \\}\n",
    "\\end{aligned}\n",
    "so we have\n",
    "\\begin{aligned}\n",
    "\\left|\\mathbf{G}^{\\left(4,25\\right)}\\right| = 0 \n",
    "\\end{aligned}\n",
    "\\begin{aligned}\n",
    "\\left|\\mathbf{H}^{\\left(4,25\\right)}\\right| = 10 \n",
    "\\end{aligned}"
   ]
  },
  {
   "cell_type": "code",
   "execution_count": 26,
   "metadata": {
    "collapsed": false
   },
   "outputs": [
    {
     "name": "stdout",
     "output_type": "stream",
     "text": [
      "[4, 16, 14, 6, 24, 21, 9, 11, 19, 1, 4, 16, 14, 6, 24, 21, 9, 11, 19, 1, 4, 16, 14, 6, 24, 21, 9, 11, 19]\n"
     ]
    }
   ],
   "source": [
    "example(b=4, m=25) ##   X[n] = 4^n mod 25"
   ]
  },
  {
   "cell_type": "markdown",
   "metadata": {},
   "source": [
    "#### Example #25: $\\mathbf{X}^\\left({b=4,m=26}\\right)$"
   ]
  },
  {
   "cell_type": "markdown",
   "metadata": {},
   "source": [
    "\\begin{aligned}\n",
    "\\mathbf{X}_n = 4^n \\mod m\n",
    "\\end{aligned}\n",
    "with\n",
    "\\begin{aligned}\n",
    "b = 4\n",
    "\\end{aligned}\n",
    "\\begin{aligned}\n",
    "m = 26\n",
    "\\end{aligned}\n",
    "yeilding\n",
    "\\begin{aligned}\n",
    "\\mathbf{X}^{\\left(4,26\\right)} = \\{ ,  4,16,12,22,10, \\cdots \\} = \\left[ \\mathbf{G}^{\\left(4,26\\right)} \\mathbf{H}^{\\left(4,26\\right)} \\mathbf{H}^{\\left(4,26\\right)} \\mathbf{H}^{\\left(4,26\\right)} \\cdots \\right] = \\left[ \\mathbf{G}^{\\left(4,26\\right)} \\left(\\mathbf{H}^{\\left(4,26\\right)}\\right)^{*} \\right]\n",
    "\\end{aligned}\n",
    "where\n",
    "\\begin{aligned}\n",
    "\\mathbf{G}^{\\left(4,26\\right)} = \\{  \\}\n",
    "\\end{aligned}\n",
    "\\begin{aligned}\n",
    "\\mathbf{H}^{\\left(4,26\\right)} = \\{  4,16,12,22,10, \\}\n",
    "\\end{aligned}\n",
    "so we have\n",
    "\\begin{aligned}\n",
    "\\left|\\mathbf{G}^{\\left(4,26\\right)}\\right| = 0 \n",
    "\\end{aligned}\n",
    "\\begin{aligned}\n",
    "\\left|\\mathbf{H}^{\\left(4,26\\right)}\\right| = 6 \n",
    "\\end{aligned}"
   ]
  },
  {
   "cell_type": "code",
   "execution_count": 27,
   "metadata": {
    "collapsed": false
   },
   "outputs": [
    {
     "name": "stdout",
     "output_type": "stream",
     "text": [
      "[4, 16, 12, 22, 10, 14, 4, 16, 12, 22, 10, 14, 4, 16, 12, 22, 10, 14, 4, 16, 12, 22, 10, 14, 4, 16, 12, 22, 10]\n"
     ]
    }
   ],
   "source": [
    "example(b=4, m=26) ##   X[n] = 4^n mod 26"
   ]
  },
  {
   "cell_type": "markdown",
   "metadata": {},
   "source": [
    "#### Example #26: $\\mathbf{X}^\\left({b=4,m=27}\\right)$"
   ]
  },
  {
   "cell_type": "markdown",
   "metadata": {},
   "source": [
    "\\begin{aligned}\n",
    "\\mathbf{X}_n = 4^n \\mod m\n",
    "\\end{aligned}\n",
    "with\n",
    "\\begin{aligned}\n",
    "b = 4\n",
    "\\end{aligned}\n",
    "\\begin{aligned}\n",
    "m = 27\n",
    "\\end{aligned}\n",
    "yeilding\n",
    "\\begin{aligned}\n",
    "\\mathbf{X}^{\\left(4,27\\right)} = \\{ ,  4,16,10,13,25,19,22, 7, \\cdots \\} = \\left[ \\mathbf{G}^{\\left(4,27\\right)} \\mathbf{H}^{\\left(4,27\\right)} \\mathbf{H}^{\\left(4,27\\right)} \\mathbf{H}^{\\left(4,27\\right)} \\cdots \\right] = \\left[ \\mathbf{G}^{\\left(4,27\\right)} \\left(\\mathbf{H}^{\\left(4,27\\right)}\\right)^{*} \\right]\n",
    "\\end{aligned}\n",
    "where\n",
    "\\begin{aligned}\n",
    "\\mathbf{G}^{\\left(4,27\\right)} = \\{  \\}\n",
    "\\end{aligned}\n",
    "\\begin{aligned}\n",
    "\\mathbf{H}^{\\left(4,27\\right)} = \\{  4,16,10,13,25,19,22, 7, \\}\n",
    "\\end{aligned}\n",
    "so we have\n",
    "\\begin{aligned}\n",
    "\\left|\\mathbf{G}^{\\left(4,27\\right)}\\right| = 0 \n",
    "\\end{aligned}\n",
    "\\begin{aligned}\n",
    "\\left|\\mathbf{H}^{\\left(4,27\\right)}\\right| = 9 \n",
    "\\end{aligned}"
   ]
  },
  {
   "cell_type": "code",
   "execution_count": 28,
   "metadata": {
    "collapsed": false
   },
   "outputs": [
    {
     "name": "stdout",
     "output_type": "stream",
     "text": [
      "[4, 16, 10, 13, 25, 19, 22, 7, 1, 4, 16, 10, 13, 25, 19, 22, 7, 1, 4, 16, 10, 13, 25, 19, 22, 7, 1, 4, 16]\n"
     ]
    }
   ],
   "source": [
    "example(b=4, m=27) ##   X[n] = 4^n mod 27"
   ]
  },
  {
   "cell_type": "markdown",
   "metadata": {},
   "source": [
    "#### Example #27: $\\mathbf{X}^\\left({b=4,m=28}\\right)$"
   ]
  },
  {
   "cell_type": "markdown",
   "metadata": {},
   "source": [
    "\\begin{aligned}\n",
    "\\mathbf{X}_n = 4^n \\mod m\n",
    "\\end{aligned}\n",
    "with\n",
    "\\begin{aligned}\n",
    "b = 4\n",
    "\\end{aligned}\n",
    "\\begin{aligned}\n",
    "m = 28\n",
    "\\end{aligned}\n",
    "yeilding\n",
    "\\begin{aligned}\n",
    "\\mathbf{X}^{\\left(4,28\\right)} = \\{ ,  4,16, \\cdots \\} = \\left[ \\mathbf{G}^{\\left(4,28\\right)} \\mathbf{H}^{\\left(4,28\\right)} \\mathbf{H}^{\\left(4,28\\right)} \\mathbf{H}^{\\left(4,28\\right)} \\cdots \\right] = \\left[ \\mathbf{G}^{\\left(4,28\\right)} \\left(\\mathbf{H}^{\\left(4,28\\right)}\\right)^{*} \\right]\n",
    "\\end{aligned}\n",
    "where\n",
    "\\begin{aligned}\n",
    "\\mathbf{G}^{\\left(4,28\\right)} = \\{  \\}\n",
    "\\end{aligned}\n",
    "\\begin{aligned}\n",
    "\\mathbf{H}^{\\left(4,28\\right)} = \\{  4,16, \\}\n",
    "\\end{aligned}\n",
    "so we have\n",
    "\\begin{aligned}\n",
    "\\left|\\mathbf{G}^{\\left(4,28\\right)}\\right| = 0 \n",
    "\\end{aligned}\n",
    "\\begin{aligned}\n",
    "\\left|\\mathbf{H}^{\\left(4,28\\right)}\\right| = 3 \n",
    "\\end{aligned}"
   ]
  },
  {
   "cell_type": "code",
   "execution_count": 29,
   "metadata": {
    "collapsed": false
   },
   "outputs": [
    {
     "name": "stdout",
     "output_type": "stream",
     "text": [
      "[4, 16, 8, 4, 16, 8, 4, 16, 8, 4, 16, 8, 4, 16, 8, 4, 16, 8, 4, 16, 8, 4, 16, 8, 4, 16, 8, 4, 16]\n"
     ]
    }
   ],
   "source": [
    "example(b=4, m=28) ##   X[n] = 4^n mod 28"
   ]
  },
  {
   "cell_type": "markdown",
   "metadata": {},
   "source": [
    "#### Example #28: $\\mathbf{X}^\\left({b=4,m=29}\\right)$"
   ]
  },
  {
   "cell_type": "markdown",
   "metadata": {},
   "source": [
    "\\begin{aligned}\n",
    "\\mathbf{X}_n = 4^n \\mod m\n",
    "\\end{aligned}\n",
    "with\n",
    "\\begin{aligned}\n",
    "b = 4\n",
    "\\end{aligned}\n",
    "\\begin{aligned}\n",
    "m = 29\n",
    "\\end{aligned}\n",
    "yeilding\n",
    "\\begin{aligned}\n",
    "\\mathbf{X}^{\\left(4,29\\right)} = \\{ ,  4,16, 6,24, 9, 7,28,25,13,23, 5,20,22, \\cdots \\} = \\left[ \\mathbf{G}^{\\left(4,29\\right)} \\mathbf{H}^{\\left(4,29\\right)} \\mathbf{H}^{\\left(4,29\\right)} \\mathbf{H}^{\\left(4,29\\right)} \\cdots \\right] = \\left[ \\mathbf{G}^{\\left(4,29\\right)} \\left(\\mathbf{H}^{\\left(4,29\\right)}\\right)^{*} \\right]\n",
    "\\end{aligned}\n",
    "where\n",
    "\\begin{aligned}\n",
    "\\mathbf{G}^{\\left(4,29\\right)} = \\{  \\}\n",
    "\\end{aligned}\n",
    "\\begin{aligned}\n",
    "\\mathbf{H}^{\\left(4,29\\right)} = \\{  4,16, 6,24, 9, 7,28,25,13,23, 5,20,22, \\}\n",
    "\\end{aligned}\n",
    "so we have\n",
    "\\begin{aligned}\n",
    "\\left|\\mathbf{G}^{\\left(4,29\\right)}\\right| = 0 \n",
    "\\end{aligned}\n",
    "\\begin{aligned}\n",
    "\\left|\\mathbf{H}^{\\left(4,29\\right)}\\right| = 14 \n",
    "\\end{aligned}"
   ]
  },
  {
   "cell_type": "code",
   "execution_count": 30,
   "metadata": {
    "collapsed": false
   },
   "outputs": [
    {
     "name": "stdout",
     "output_type": "stream",
     "text": [
      "[4, 16, 6, 24, 9, 7, 28, 25, 13, 23, 5, 20, 22, 1, 4, 16, 6, 24, 9, 7, 28, 25, 13, 23, 5, 20, 22, 1, 4]\n"
     ]
    }
   ],
   "source": [
    "example(b=4, m=29) ##   X[n] = 4^n mod 29"
   ]
  },
  {
   "cell_type": "markdown",
   "metadata": {},
   "source": [
    "#### Example #29: $\\mathbf{X}^\\left({b=4,m=30}\\right)$"
   ]
  },
  {
   "cell_type": "markdown",
   "metadata": {},
   "source": [
    "\\begin{aligned}\n",
    "\\mathbf{X}_n = 4^n \\mod m\n",
    "\\end{aligned}\n",
    "with\n",
    "\\begin{aligned}\n",
    "b = 4\n",
    "\\end{aligned}\n",
    "\\begin{aligned}\n",
    "m = 30\n",
    "\\end{aligned}\n",
    "yeilding\n",
    "\\begin{aligned}\n",
    "\\mathbf{X}^{\\left(4,30\\right)} = \\{ ,  4, \\cdots \\} = \\left[ \\mathbf{G}^{\\left(4,30\\right)} \\mathbf{H}^{\\left(4,30\\right)} \\mathbf{H}^{\\left(4,30\\right)} \\mathbf{H}^{\\left(4,30\\right)} \\cdots \\right] = \\left[ \\mathbf{G}^{\\left(4,30\\right)} \\left(\\mathbf{H}^{\\left(4,30\\right)}\\right)^{*} \\right]\n",
    "\\end{aligned}\n",
    "where\n",
    "\\begin{aligned}\n",
    "\\mathbf{G}^{\\left(4,30\\right)} = \\{  \\}\n",
    "\\end{aligned}\n",
    "\\begin{aligned}\n",
    "\\mathbf{H}^{\\left(4,30\\right)} = \\{  4, \\}\n",
    "\\end{aligned}\n",
    "so we have\n",
    "\\begin{aligned}\n",
    "\\left|\\mathbf{G}^{\\left(4,30\\right)}\\right| = 0 \n",
    "\\end{aligned}\n",
    "\\begin{aligned}\n",
    "\\left|\\mathbf{H}^{\\left(4,30\\right)}\\right| = 2 \n",
    "\\end{aligned}"
   ]
  },
  {
   "cell_type": "code",
   "execution_count": 31,
   "metadata": {
    "collapsed": false
   },
   "outputs": [
    {
     "name": "stdout",
     "output_type": "stream",
     "text": [
      "[4, 16, 4, 16, 4, 16, 4, 16, 4, 16, 4, 16, 4, 16, 4, 16, 4, 16, 4, 16, 4, 16, 4, 16, 4, 16, 4, 16, 4]\n"
     ]
    }
   ],
   "source": [
    "example(b=4, m=30) ##   X[n] = 4^n mod 30"
   ]
  }
 ],
 "metadata": {},
 "nbformat": 4,
 "nbformat_minor": 2
}
