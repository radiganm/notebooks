{
 "cells": [
  {
   "cell_type": "code",
   "execution_count": 1,
   "metadata": {
    "collapsed": false
   },
   "outputs": [],
   "source": [
    "#!/usr/bin/python3\n",
    "### modulus_23.py\n",
    "### Copyright 2017 Mac Radigan\n",
    "### SPDX-License-Identifier: GFDL-1.3"
   ]
  },
  {
   "cell_type": "markdown",
   "metadata": {},
   "source": [
    "# modulus 23"
   ]
  },
  {
   "cell_type": "markdown",
   "metadata": {},
   "source": [
    "## Copying"
   ]
  },
  {
   "cell_type": "raw",
   "metadata": {},
   "source": [
    "Copyright 2017 Mac Radigan\n",
    "# Permission is granted to copy, distribute and/or modify this document under the terms of the GNU Free Documentation License, Version 1.3 or any later version published by the Free Software Foundation; with no Invariant Sections and with no restrictions on the Front-Cover and back the Front-Cover Texts. A copy of the license is included in the section entitled \"GNU Free Documentation License\".  "
   ]
  },
  {
   "cell_type": "markdown",
   "metadata": {},
   "source": [
    "### $b^n \\mod m$ for $n = 1, 2, \\cdots 30$"
   ]
  },
  {
   "cell_type": "code",
   "execution_count": 2,
   "metadata": {
    "collapsed": false
   },
   "outputs": [],
   "source": [
    "def example(b,m):\n",
    "  \"\"\"Prints the sequence X_n = b^n mod m for n = 1, 2, ... N\"\"\"\n",
    "  N  = 30\n",
    "  ns = range(1, N)\n",
    "  f  = lambda n: b**n % m\n",
    "  xs = map(f, ns)\n",
    "  print(list(xs))"
   ]
  },
  {
   "cell_type": "markdown",
   "metadata": {},
   "source": [
    "#### Example #1: $\\mathbf{X}^\\left({b=2,m=23}\\right)$"
   ]
  },
  {
   "cell_type": "markdown",
   "metadata": {},
   "source": [
    "\\begin{aligned}\n",
    "\\mathbf{X}_n = 2^n \\mod m\n",
    "\\end{aligned}\n",
    "with\n",
    "\\begin{aligned}\n",
    "b = 2\n",
    "\\end{aligned}\n",
    "\\begin{aligned}\n",
    "m = 23\n",
    "\\end{aligned}\n",
    "yeilding\n",
    "\\begin{aligned}\n",
    "\\mathbf{X}^{\\left(2,23\\right)} = \\{ ,  2, 4, 8,16, 9,18,13, 3, 6,12, \\cdots \\} = \\left[ \\mathbf{G}^{\\left(2,23\\right)} \\mathbf{H}^{\\left(2,23\\right)} \\mathbf{H}^{\\left(2,23\\right)} \\mathbf{H}^{\\left(2,23\\right)} \\cdots \\right] = \\left[ \\mathbf{G}^{\\left(2,23\\right)} \\left(\\mathbf{H}^{\\left(2,23\\right)}\\right)^{*} \\right]\n",
    "\\end{aligned}\n",
    "where\n",
    "\\begin{aligned}\n",
    "\\mathbf{G}^{\\left(2,23\\right)} = \\{  \\}\n",
    "\\end{aligned}\n",
    "\\begin{aligned}\n",
    "\\mathbf{H}^{\\left(2,23\\right)} = \\{  2, 4, 8,16, 9,18,13, 3, 6,12, \\}\n",
    "\\end{aligned}\n",
    "so we have\n",
    "\\begin{aligned}\n",
    "\\left|\\mathbf{G}^{\\left(2,23\\right)}\\right| = 0\n",
    "\\end{aligned}\n",
    "\\begin{aligned}\n",
    "\\left|\\mathbf{H}^{\\left(2,23\\right)}\\right| = 11\n",
    "\\end{aligned}"
   ]
  },
  {
   "cell_type": "code",
   "execution_count": 3,
   "metadata": {
    "collapsed": false
   },
   "outputs": [
    {
     "name": "stdout",
     "output_type": "stream",
     "text": [
      "[2, 4, 8, 16, 9, 18, 13, 3, 6, 12, 1, 2, 4, 8, 16, 9, 18, 13, 3, 6, 12, 1, 2, 4, 8, 16, 9, 18, 13]\n"
     ]
    }
   ],
   "source": [
    "example(b=2, m=23) ##   X[n] = 2^n mod 23"
   ]
  },
  {
   "cell_type": "markdown",
   "metadata": {},
   "source": [
    "#### Example #2: $\\mathbf{X}^\\left({b=3,m=23}\\right)$"
   ]
  },
  {
   "cell_type": "markdown",
   "metadata": {},
   "source": [
    "\\begin{aligned}\n",
    "\\mathbf{X}_n = 3^n \\mod m\n",
    "\\end{aligned}\n",
    "with\n",
    "\\begin{aligned}\n",
    "b = 3\n",
    "\\end{aligned}\n",
    "\\begin{aligned}\n",
    "m = 23\n",
    "\\end{aligned}\n",
    "yeilding\n",
    "\\begin{aligned}\n",
    "\\mathbf{X}^{\\left(3,23\\right)} = \\{ ,  2, 4, 8,16, 9,18,13, 3, 6,12, \\cdots \\} = \\left[ \\mathbf{G}^{\\left(3,23\\right)} \\mathbf{H}^{\\left(3,23\\right)} \\mathbf{H}^{\\left(3,23\\right)} \\mathbf{H}^{\\left(3,23\\right)} \\cdots \\right] = \\left[ \\mathbf{G}^{\\left(3,23\\right)} \\left(\\mathbf{H}^{\\left(3,23\\right)}\\right)^{*} \\right]\n",
    "\\end{aligned}\n",
    "where\n",
    "\\begin{aligned}\n",
    "\\mathbf{G}^{\\left(3,23\\right)} = \\{  \\}\n",
    "\\end{aligned}\n",
    "\\begin{aligned}\n",
    "\\mathbf{H}^{\\left(3,23\\right)} = \\{  2, 4, 8,16, 9,18,13, 3, 6,12, \\}\n",
    "\\end{aligned}\n",
    "so we have\n",
    "\\begin{aligned}\n",
    "\\left|\\mathbf{G}^{\\left(3,23\\right)}\\right| = 0\n",
    "\\end{aligned}\n",
    "\\begin{aligned}\n",
    "\\left|\\mathbf{H}^{\\left(3,23\\right)}\\right| = 11\n",
    "\\end{aligned}"
   ]
  },
  {
   "cell_type": "code",
   "execution_count": 4,
   "metadata": {
    "collapsed": false
   },
   "outputs": [
    {
     "name": "stdout",
     "output_type": "stream",
     "text": [
      "[3, 9, 4, 12, 13, 16, 2, 6, 18, 8, 1, 3, 9, 4, 12, 13, 16, 2, 6, 18, 8, 1, 3, 9, 4, 12, 13, 16, 2]\n"
     ]
    }
   ],
   "source": [
    "example(b=3, m=23) ##   X[n] = 3^n mod 23"
   ]
  },
  {
   "cell_type": "markdown",
   "metadata": {},
   "source": [
    "#### Example #3: $\\mathbf{X}^\\left({b=4,m=23}\\right)$"
   ]
  },
  {
   "cell_type": "markdown",
   "metadata": {},
   "source": [
    "\\begin{aligned}\n",
    "\\mathbf{X}_n = 4^n \\mod m\n",
    "\\end{aligned}\n",
    "with\n",
    "\\begin{aligned}\n",
    "b = 4\n",
    "\\end{aligned}\n",
    "\\begin{aligned}\n",
    "m = 23\n",
    "\\end{aligned}\n",
    "yeilding\n",
    "\\begin{aligned}\n",
    "\\mathbf{X}^{\\left(4,23\\right)} = \\{ ,  2, 4, 8,16, 9,18,13, 3, 6,12, \\cdots \\} = \\left[ \\mathbf{G}^{\\left(4,23\\right)} \\mathbf{H}^{\\left(4,23\\right)} \\mathbf{H}^{\\left(4,23\\right)} \\mathbf{H}^{\\left(4,23\\right)} \\cdots \\right] = \\left[ \\mathbf{G}^{\\left(4,23\\right)} \\left(\\mathbf{H}^{\\left(4,23\\right)}\\right)^{*} \\right]\n",
    "\\end{aligned}\n",
    "where\n",
    "\\begin{aligned}\n",
    "\\mathbf{G}^{\\left(4,23\\right)} = \\{  \\}\n",
    "\\end{aligned}\n",
    "\\begin{aligned}\n",
    "\\mathbf{H}^{\\left(4,23\\right)} = \\{  2, 4, 8,16, 9,18,13, 3, 6,12, \\}\n",
    "\\end{aligned}\n",
    "so we have\n",
    "\\begin{aligned}\n",
    "\\left|\\mathbf{G}^{\\left(4,23\\right)}\\right| = 0\n",
    "\\end{aligned}\n",
    "\\begin{aligned}\n",
    "\\left|\\mathbf{H}^{\\left(4,23\\right)}\\right| = 11\n",
    "\\end{aligned}"
   ]
  },
  {
   "cell_type": "code",
   "execution_count": 5,
   "metadata": {
    "collapsed": false
   },
   "outputs": [
    {
     "name": "stdout",
     "output_type": "stream",
     "text": [
      "[4, 16, 18, 3, 12, 2, 8, 9, 13, 6, 1, 4, 16, 18, 3, 12, 2, 8, 9, 13, 6, 1, 4, 16, 18, 3, 12, 2, 8]\n"
     ]
    }
   ],
   "source": [
    "example(b=4, m=23) ##   X[n] = 4^n mod 23"
   ]
  },
  {
   "cell_type": "markdown",
   "metadata": {},
   "source": [
    "#### Example #4: $\\mathbf{X}^\\left({b=5,m=23}\\right)$"
   ]
  },
  {
   "cell_type": "markdown",
   "metadata": {},
   "source": [
    "\\begin{aligned}\n",
    "\\mathbf{X}_n = 5^n \\mod m\n",
    "\\end{aligned}\n",
    "with\n",
    "\\begin{aligned}\n",
    "b = 5\n",
    "\\end{aligned}\n",
    "\\begin{aligned}\n",
    "m = 23\n",
    "\\end{aligned}\n",
    "yeilding\n",
    "\\begin{aligned}\n",
    "\\mathbf{X}^{\\left(5,23\\right)} = \\{ ,  2, 4, 8,16, 9,18,13, 3, 6,12, \\cdots \\} = \\left[ \\mathbf{G}^{\\left(5,23\\right)} \\mathbf{H}^{\\left(5,23\\right)} \\mathbf{H}^{\\left(5,23\\right)} \\mathbf{H}^{\\left(5,23\\right)} \\cdots \\right] = \\left[ \\mathbf{G}^{\\left(5,23\\right)} \\left(\\mathbf{H}^{\\left(5,23\\right)}\\right)^{*} \\right]\n",
    "\\end{aligned}\n",
    "where\n",
    "\\begin{aligned}\n",
    "\\mathbf{G}^{\\left(5,23\\right)} = \\{  \\}\n",
    "\\end{aligned}\n",
    "\\begin{aligned}\n",
    "\\mathbf{H}^{\\left(5,23\\right)} = \\{  2, 4, 8,16, 9,18,13, 3, 6,12, \\}\n",
    "\\end{aligned}\n",
    "so we have\n",
    "\\begin{aligned}\n",
    "\\left|\\mathbf{G}^{\\left(5,23\\right)}\\right| = 0\n",
    "\\end{aligned}\n",
    "\\begin{aligned}\n",
    "\\left|\\mathbf{H}^{\\left(5,23\\right)}\\right| = 11\n",
    "\\end{aligned}"
   ]
  },
  {
   "cell_type": "code",
   "execution_count": 6,
   "metadata": {
    "collapsed": false
   },
   "outputs": [
    {
     "name": "stdout",
     "output_type": "stream",
     "text": [
      "[5, 2, 10, 4, 20, 8, 17, 16, 11, 9, 22, 18, 21, 13, 19, 3, 15, 6, 7, 12, 14, 1, 5, 2, 10, 4, 20, 8, 17]\n"
     ]
    }
   ],
   "source": [
    "example(b=5, m=23) ##   X[n] = 5^n mod 23"
   ]
  },
  {
   "cell_type": "markdown",
   "metadata": {},
   "source": [
    "#### Example #5: $\\mathbf{X}^\\left({b=6,m=23}\\right)$"
   ]
  },
  {
   "cell_type": "markdown",
   "metadata": {},
   "source": [
    "\\begin{aligned}\n",
    "\\mathbf{X}_n = 6^n \\mod m\n",
    "\\end{aligned}\n",
    "with\n",
    "\\begin{aligned}\n",
    "b = 6\n",
    "\\end{aligned}\n",
    "\\begin{aligned}\n",
    "m = 23\n",
    "\\end{aligned}\n",
    "yeilding\n",
    "\\begin{aligned}\n",
    "\\mathbf{X}^{\\left(6,23\\right)} = \\{ ,  2, 4, 8,16, 9,18,13, 3, 6,12, \\cdots \\} = \\left[ \\mathbf{G}^{\\left(6,23\\right)} \\mathbf{H}^{\\left(6,23\\right)} \\mathbf{H}^{\\left(6,23\\right)} \\mathbf{H}^{\\left(6,23\\right)} \\cdots \\right] = \\left[ \\mathbf{G}^{\\left(6,23\\right)} \\left(\\mathbf{H}^{\\left(6,23\\right)}\\right)^{*} \\right]\n",
    "\\end{aligned}\n",
    "where\n",
    "\\begin{aligned}\n",
    "\\mathbf{G}^{\\left(6,23\\right)} = \\{  \\}\n",
    "\\end{aligned}\n",
    "\\begin{aligned}\n",
    "\\mathbf{H}^{\\left(6,23\\right)} = \\{  2, 4, 8,16, 9,18,13, 3, 6,12, \\}\n",
    "\\end{aligned}\n",
    "so we have\n",
    "\\begin{aligned}\n",
    "\\left|\\mathbf{G}^{\\left(6,23\\right)}\\right| = 0\n",
    "\\end{aligned}\n",
    "\\begin{aligned}\n",
    "\\left|\\mathbf{H}^{\\left(6,23\\right)}\\right| = 11\n",
    "\\end{aligned}"
   ]
  },
  {
   "cell_type": "code",
   "execution_count": 7,
   "metadata": {
    "collapsed": false
   },
   "outputs": [
    {
     "name": "stdout",
     "output_type": "stream",
     "text": [
      "[6, 13, 9, 8, 2, 12, 3, 18, 16, 4, 1, 6, 13, 9, 8, 2, 12, 3, 18, 16, 4, 1, 6, 13, 9, 8, 2, 12, 3]\n"
     ]
    }
   ],
   "source": [
    "example(b=6, m=23) ##   X[n] = 6^n mod 23"
   ]
  },
  {
   "cell_type": "markdown",
   "metadata": {},
   "source": [
    "#### Example #6: $\\mathbf{X}^\\left({b=7,m=23}\\right)$"
   ]
  },
  {
   "cell_type": "markdown",
   "metadata": {},
   "source": [
    "\\begin{aligned}\n",
    "\\mathbf{X}_n = 7^n \\mod m\n",
    "\\end{aligned}\n",
    "with\n",
    "\\begin{aligned}\n",
    "b = 7\n",
    "\\end{aligned}\n",
    "\\begin{aligned}\n",
    "m = 23\n",
    "\\end{aligned}\n",
    "yeilding\n",
    "\\begin{aligned}\n",
    "\\mathbf{X}^{\\left(7,23\\right)} = \\{ ,  2, 4, 8,16, 9,18,13, 3, 6,12, \\cdots \\} = \\left[ \\mathbf{G}^{\\left(7,23\\right)} \\mathbf{H}^{\\left(7,23\\right)} \\mathbf{H}^{\\left(7,23\\right)} \\mathbf{H}^{\\left(7,23\\right)} \\cdots \\right] = \\left[ \\mathbf{G}^{\\left(7,23\\right)} \\left(\\mathbf{H}^{\\left(7,23\\right)}\\right)^{*} \\right]\n",
    "\\end{aligned}\n",
    "where\n",
    "\\begin{aligned}\n",
    "\\mathbf{G}^{\\left(7,23\\right)} = \\{  \\}\n",
    "\\end{aligned}\n",
    "\\begin{aligned}\n",
    "\\mathbf{H}^{\\left(7,23\\right)} = \\{  2, 4, 8,16, 9,18,13, 3, 6,12, \\}\n",
    "\\end{aligned}\n",
    "so we have\n",
    "\\begin{aligned}\n",
    "\\left|\\mathbf{G}^{\\left(7,23\\right)}\\right| = 0\n",
    "\\end{aligned}\n",
    "\\begin{aligned}\n",
    "\\left|\\mathbf{H}^{\\left(7,23\\right)}\\right| = 11\n",
    "\\end{aligned}"
   ]
  },
  {
   "cell_type": "code",
   "execution_count": 8,
   "metadata": {
    "collapsed": false
   },
   "outputs": [
    {
     "name": "stdout",
     "output_type": "stream",
     "text": [
      "[7, 3, 21, 9, 17, 4, 5, 12, 15, 13, 22, 16, 20, 2, 14, 6, 19, 18, 11, 8, 10, 1, 7, 3, 21, 9, 17, 4, 5]\n"
     ]
    }
   ],
   "source": [
    "example(b=7, m=23) ##   X[n] = 7^n mod 23"
   ]
  },
  {
   "cell_type": "markdown",
   "metadata": {},
   "source": [
    "#### Example #7: $\\mathbf{X}^\\left({b=8,m=23}\\right)$"
   ]
  },
  {
   "cell_type": "markdown",
   "metadata": {},
   "source": [
    "\\begin{aligned}\n",
    "\\mathbf{X}_n = 8^n \\mod m\n",
    "\\end{aligned}\n",
    "with\n",
    "\\begin{aligned}\n",
    "b = 8\n",
    "\\end{aligned}\n",
    "\\begin{aligned}\n",
    "m = 23\n",
    "\\end{aligned}\n",
    "yeilding\n",
    "\\begin{aligned}\n",
    "\\mathbf{X}^{\\left(8,23\\right)} = \\{ ,  2, 4, 8,16, 9,18,13, 3, 6,12, \\cdots \\} = \\left[ \\mathbf{G}^{\\left(8,23\\right)} \\mathbf{H}^{\\left(8,23\\right)} \\mathbf{H}^{\\left(8,23\\right)} \\mathbf{H}^{\\left(8,23\\right)} \\cdots \\right] = \\left[ \\mathbf{G}^{\\left(8,23\\right)} \\left(\\mathbf{H}^{\\left(8,23\\right)}\\right)^{*} \\right]\n",
    "\\end{aligned}\n",
    "where\n",
    "\\begin{aligned}\n",
    "\\mathbf{G}^{\\left(8,23\\right)} = \\{  \\}\n",
    "\\end{aligned}\n",
    "\\begin{aligned}\n",
    "\\mathbf{H}^{\\left(8,23\\right)} = \\{  2, 4, 8,16, 9,18,13, 3, 6,12, \\}\n",
    "\\end{aligned}\n",
    "so we have\n",
    "\\begin{aligned}\n",
    "\\left|\\mathbf{G}^{\\left(8,23\\right)}\\right| = 0\n",
    "\\end{aligned}\n",
    "\\begin{aligned}\n",
    "\\left|\\mathbf{H}^{\\left(8,23\\right)}\\right| = 11\n",
    "\\end{aligned}"
   ]
  },
  {
   "cell_type": "code",
   "execution_count": 9,
   "metadata": {
    "collapsed": false
   },
   "outputs": [
    {
     "name": "stdout",
     "output_type": "stream",
     "text": [
      "[8, 18, 6, 2, 16, 13, 12, 4, 9, 3, 1, 8, 18, 6, 2, 16, 13, 12, 4, 9, 3, 1, 8, 18, 6, 2, 16, 13, 12]\n"
     ]
    }
   ],
   "source": [
    "example(b=8, m=23) ##   X[n] = 8^n mod 23"
   ]
  },
  {
   "cell_type": "markdown",
   "metadata": {},
   "source": [
    "#### Example #8: $\\mathbf{X}^\\left({b=9,m=23}\\right)$"
   ]
  },
  {
   "cell_type": "markdown",
   "metadata": {},
   "source": [
    "\\begin{aligned}\n",
    "\\mathbf{X}_n = 9^n \\mod m\n",
    "\\end{aligned}\n",
    "with\n",
    "\\begin{aligned}\n",
    "b = 9\n",
    "\\end{aligned}\n",
    "\\begin{aligned}\n",
    "m = 23\n",
    "\\end{aligned}\n",
    "yeilding\n",
    "\\begin{aligned}\n",
    "\\mathbf{X}^{\\left(9,23\\right)} = \\{ ,  2, 4, 8,16, 9,18,13, 3, 6,12, \\cdots \\} = \\left[ \\mathbf{G}^{\\left(9,23\\right)} \\mathbf{H}^{\\left(9,23\\right)} \\mathbf{H}^{\\left(9,23\\right)} \\mathbf{H}^{\\left(9,23\\right)} \\cdots \\right] = \\left[ \\mathbf{G}^{\\left(9,23\\right)} \\left(\\mathbf{H}^{\\left(9,23\\right)}\\right)^{*} \\right]\n",
    "\\end{aligned}\n",
    "where\n",
    "\\begin{aligned}\n",
    "\\mathbf{G}^{\\left(9,23\\right)} = \\{  \\}\n",
    "\\end{aligned}\n",
    "\\begin{aligned}\n",
    "\\mathbf{H}^{\\left(9,23\\right)} = \\{  2, 4, 8,16, 9,18,13, 3, 6,12, \\}\n",
    "\\end{aligned}\n",
    "so we have\n",
    "\\begin{aligned}\n",
    "\\left|\\mathbf{G}^{\\left(9,23\\right)}\\right| = 0\n",
    "\\end{aligned}\n",
    "\\begin{aligned}\n",
    "\\left|\\mathbf{H}^{\\left(9,23\\right)}\\right| = 11\n",
    "\\end{aligned}"
   ]
  },
  {
   "cell_type": "code",
   "execution_count": 10,
   "metadata": {
    "collapsed": false
   },
   "outputs": [
    {
     "name": "stdout",
     "output_type": "stream",
     "text": [
      "[9, 12, 16, 6, 8, 3, 4, 13, 2, 18, 1, 9, 12, 16, 6, 8, 3, 4, 13, 2, 18, 1, 9, 12, 16, 6, 8, 3, 4]\n"
     ]
    }
   ],
   "source": [
    "example(b=9, m=23) ##   X[n] = 9^n mod 23"
   ]
  },
  {
   "cell_type": "markdown",
   "metadata": {},
   "source": [
    "#### Example #9: $\\mathbf{X}^\\left({b=10,m=23}\\right)$"
   ]
  },
  {
   "cell_type": "markdown",
   "metadata": {},
   "source": [
    "\\begin{aligned}\n",
    "\\mathbf{X}_n = 10^n \\mod m\n",
    "\\end{aligned}\n",
    "with\n",
    "\\begin{aligned}\n",
    "b = 10\n",
    "\\end{aligned}\n",
    "\\begin{aligned}\n",
    "m = 23\n",
    "\\end{aligned}\n",
    "yeilding\n",
    "\\begin{aligned}\n",
    "\\mathbf{X}^{\\left(10,23\\right)} = \\{ ,  2, 4, 8,16, 9,18,13, 3, 6,12, \\cdots \\} = \\left[ \\mathbf{G}^{\\left(10,23\\right)} \\mathbf{H}^{\\left(10,23\\right)} \\mathbf{H}^{\\left(10,23\\right)} \\mathbf{H}^{\\left(10,23\\right)} \\cdots \\right] = \\left[ \\mathbf{G}^{\\left(10,23\\right)} \\left(\\mathbf{H}^{\\left(10,23\\right)}\\right)^{*} \\right]\n",
    "\\end{aligned}\n",
    "where\n",
    "\\begin{aligned}\n",
    "\\mathbf{G}^{\\left(10,23\\right)} = \\{  \\}\n",
    "\\end{aligned}\n",
    "\\begin{aligned}\n",
    "\\mathbf{H}^{\\left(10,23\\right)} = \\{  2, 4, 8,16, 9,18,13, 3, 6,12, \\}\n",
    "\\end{aligned}\n",
    "so we have\n",
    "\\begin{aligned}\n",
    "\\left|\\mathbf{G}^{\\left(10,23\\right)}\\right| = 0\n",
    "\\end{aligned}\n",
    "\\begin{aligned}\n",
    "\\left|\\mathbf{H}^{\\left(10,23\\right)}\\right| = 11\n",
    "\\end{aligned}"
   ]
  },
  {
   "cell_type": "code",
   "execution_count": 11,
   "metadata": {
    "collapsed": false
   },
   "outputs": [
    {
     "name": "stdout",
     "output_type": "stream",
     "text": [
      "[10, 8, 11, 18, 19, 6, 14, 2, 20, 16, 22, 13, 15, 12, 5, 4, 17, 9, 21, 3, 7, 1, 10, 8, 11, 18, 19, 6, 14]\n"
     ]
    }
   ],
   "source": [
    "example(b=10, m=23) ##   X[n] = 10^n mod 23"
   ]
  },
  {
   "cell_type": "markdown",
   "metadata": {},
   "source": [
    "#### Example #10: $\\mathbf{X}^\\left({b=11,m=23}\\right)$"
   ]
  },
  {
   "cell_type": "markdown",
   "metadata": {},
   "source": [
    "\\begin{aligned}\n",
    "\\mathbf{X}_n = 11^n \\mod m\n",
    "\\end{aligned}\n",
    "with\n",
    "\\begin{aligned}\n",
    "b = 11\n",
    "\\end{aligned}\n",
    "\\begin{aligned}\n",
    "m = 23\n",
    "\\end{aligned}\n",
    "yeilding\n",
    "\\begin{aligned}\n",
    "\\mathbf{X}^{\\left(11,23\\right)} = \\{ ,  2, 4, 8,16, 9,18,13, 3, 6,12, \\cdots \\} = \\left[ \\mathbf{G}^{\\left(11,23\\right)} \\mathbf{H}^{\\left(11,23\\right)} \\mathbf{H}^{\\left(11,23\\right)} \\mathbf{H}^{\\left(11,23\\right)} \\cdots \\right] = \\left[ \\mathbf{G}^{\\left(11,23\\right)} \\left(\\mathbf{H}^{\\left(11,23\\right)}\\right)^{*} \\right]\n",
    "\\end{aligned}\n",
    "where\n",
    "\\begin{aligned}\n",
    "\\mathbf{G}^{\\left(11,23\\right)} = \\{  \\}\n",
    "\\end{aligned}\n",
    "\\begin{aligned}\n",
    "\\mathbf{H}^{\\left(11,23\\right)} = \\{  2, 4, 8,16, 9,18,13, 3, 6,12, \\}\n",
    "\\end{aligned}\n",
    "so we have\n",
    "\\begin{aligned}\n",
    "\\left|\\mathbf{G}^{\\left(11,23\\right)}\\right| = 0\n",
    "\\end{aligned}\n",
    "\\begin{aligned}\n",
    "\\left|\\mathbf{H}^{\\left(11,23\\right)}\\right| = 11\n",
    "\\end{aligned}"
   ]
  },
  {
   "cell_type": "code",
   "execution_count": 12,
   "metadata": {
    "collapsed": false
   },
   "outputs": [
    {
     "name": "stdout",
     "output_type": "stream",
     "text": [
      "[11, 6, 20, 13, 5, 9, 7, 8, 19, 2, 22, 12, 17, 3, 10, 18, 14, 16, 15, 4, 21, 1, 11, 6, 20, 13, 5, 9, 7]\n"
     ]
    }
   ],
   "source": [
    "example(b=11, m=23) ##   X[n] = 11^n mod 23"
   ]
  },
  {
   "cell_type": "markdown",
   "metadata": {},
   "source": [
    "#### Example #11: $\\mathbf{X}^\\left({b=12,m=23}\\right)$"
   ]
  },
  {
   "cell_type": "markdown",
   "metadata": {},
   "source": [
    "\\begin{aligned}\n",
    "\\mathbf{X}_n = 12^n \\mod m\n",
    "\\end{aligned}\n",
    "with\n",
    "\\begin{aligned}\n",
    "b = 12\n",
    "\\end{aligned}\n",
    "\\begin{aligned}\n",
    "m = 23\n",
    "\\end{aligned}\n",
    "yeilding\n",
    "\\begin{aligned}\n",
    "\\mathbf{X}^{\\left(12,23\\right)} = \\{ ,  2, 4, 8,16, 9,18,13, 3, 6,12, \\cdots \\} = \\left[ \\mathbf{G}^{\\left(12,23\\right)} \\mathbf{H}^{\\left(12,23\\right)} \\mathbf{H}^{\\left(12,23\\right)} \\mathbf{H}^{\\left(12,23\\right)} \\cdots \\right] = \\left[ \\mathbf{G}^{\\left(12,23\\right)} \\left(\\mathbf{H}^{\\left(12,23\\right)}\\right)^{*} \\right]\n",
    "\\end{aligned}\n",
    "where\n",
    "\\begin{aligned}\n",
    "\\mathbf{G}^{\\left(12,23\\right)} = \\{  \\}\n",
    "\\end{aligned}\n",
    "\\begin{aligned}\n",
    "\\mathbf{H}^{\\left(12,23\\right)} = \\{  2, 4, 8,16, 9,18,13, 3, 6,12, \\}\n",
    "\\end{aligned}\n",
    "so we have\n",
    "\\begin{aligned}\n",
    "\\left|\\mathbf{G}^{\\left(12,23\\right)}\\right| = 0\n",
    "\\end{aligned}\n",
    "\\begin{aligned}\n",
    "\\left|\\mathbf{H}^{\\left(12,23\\right)}\\right| = 11\n",
    "\\end{aligned}"
   ]
  },
  {
   "cell_type": "code",
   "execution_count": 13,
   "metadata": {
    "collapsed": false
   },
   "outputs": [
    {
     "name": "stdout",
     "output_type": "stream",
     "text": [
      "[12, 6, 3, 13, 18, 9, 16, 8, 4, 2, 1, 12, 6, 3, 13, 18, 9, 16, 8, 4, 2, 1, 12, 6, 3, 13, 18, 9, 16]\n"
     ]
    }
   ],
   "source": [
    "example(b=12, m=23) ##   X[n] = 12^n mod 23"
   ]
  },
  {
   "cell_type": "markdown",
   "metadata": {},
   "source": [
    "#### Example #12: $\\mathbf{X}^\\left({b=13,m=23}\\right)$"
   ]
  },
  {
   "cell_type": "markdown",
   "metadata": {},
   "source": [
    "\\begin{aligned}\n",
    "\\mathbf{X}_n = 13^n \\mod m\n",
    "\\end{aligned}\n",
    "with\n",
    "\\begin{aligned}\n",
    "b = 13\n",
    "\\end{aligned}\n",
    "\\begin{aligned}\n",
    "m = 23\n",
    "\\end{aligned}\n",
    "yeilding\n",
    "\\begin{aligned}\n",
    "\\mathbf{X}^{\\left(13,23\\right)} = \\{ ,  2, 4, 8,16, 9,18,13, 3, 6,12, \\cdots \\} = \\left[ \\mathbf{G}^{\\left(13,23\\right)} \\mathbf{H}^{\\left(13,23\\right)} \\mathbf{H}^{\\left(13,23\\right)} \\mathbf{H}^{\\left(13,23\\right)} \\cdots \\right] = \\left[ \\mathbf{G}^{\\left(13,23\\right)} \\left(\\mathbf{H}^{\\left(13,23\\right)}\\right)^{*} \\right]\n",
    "\\end{aligned}\n",
    "where\n",
    "\\begin{aligned}\n",
    "\\mathbf{G}^{\\left(13,23\\right)} = \\{  \\}\n",
    "\\end{aligned}\n",
    "\\begin{aligned}\n",
    "\\mathbf{H}^{\\left(13,23\\right)} = \\{  2, 4, 8,16, 9,18,13, 3, 6,12, \\}\n",
    "\\end{aligned}\n",
    "so we have\n",
    "\\begin{aligned}\n",
    "\\left|\\mathbf{G}^{\\left(13,23\\right)}\\right| = 0\n",
    "\\end{aligned}\n",
    "\\begin{aligned}\n",
    "\\left|\\mathbf{H}^{\\left(13,23\\right)}\\right| = 11\n",
    "\\end{aligned}"
   ]
  },
  {
   "cell_type": "code",
   "execution_count": 14,
   "metadata": {
    "collapsed": false
   },
   "outputs": [
    {
     "name": "stdout",
     "output_type": "stream",
     "text": [
      "[13, 8, 12, 18, 4, 6, 9, 2, 3, 16, 1, 13, 8, 12, 18, 4, 6, 9, 2, 3, 16, 1, 13, 8, 12, 18, 4, 6, 9]\n"
     ]
    }
   ],
   "source": [
    "example(b=13, m=23) ##   X[n] = 13^n mod 23"
   ]
  },
  {
   "cell_type": "markdown",
   "metadata": {},
   "source": [
    "#### Example #13: $\\mathbf{X}^\\left({b=14,m=23}\\right)$"
   ]
  },
  {
   "cell_type": "markdown",
   "metadata": {},
   "source": [
    "\\begin{aligned}\n",
    "\\mathbf{X}_n = 14^n \\mod m\n",
    "\\end{aligned}\n",
    "with\n",
    "\\begin{aligned}\n",
    "b = 14\n",
    "\\end{aligned}\n",
    "\\begin{aligned}\n",
    "m = 23\n",
    "\\end{aligned}\n",
    "yeilding\n",
    "\\begin{aligned}\n",
    "\\mathbf{X}^{\\left(14,23\\right)} = \\{ ,  2, 4, 8,16, 9,18,13, 3, 6,12, \\cdots \\} = \\left[ \\mathbf{G}^{\\left(14,23\\right)} \\mathbf{H}^{\\left(14,23\\right)} \\mathbf{H}^{\\left(14,23\\right)} \\mathbf{H}^{\\left(14,23\\right)} \\cdots \\right] = \\left[ \\mathbf{G}^{\\left(14,23\\right)} \\left(\\mathbf{H}^{\\left(14,23\\right)}\\right)^{*} \\right]\n",
    "\\end{aligned}\n",
    "where\n",
    "\\begin{aligned}\n",
    "\\mathbf{G}^{\\left(14,23\\right)} = \\{  \\}\n",
    "\\end{aligned}\n",
    "\\begin{aligned}\n",
    "\\mathbf{H}^{\\left(14,23\\right)} = \\{  2, 4, 8,16, 9,18,13, 3, 6,12, \\}\n",
    "\\end{aligned}\n",
    "so we have\n",
    "\\begin{aligned}\n",
    "\\left|\\mathbf{G}^{\\left(14,23\\right)}\\right| = 0\n",
    "\\end{aligned}\n",
    "\\begin{aligned}\n",
    "\\left|\\mathbf{H}^{\\left(14,23\\right)}\\right| = 11\n",
    "\\end{aligned}"
   ]
  },
  {
   "cell_type": "code",
   "execution_count": 15,
   "metadata": {
    "collapsed": false
   },
   "outputs": [
    {
     "name": "stdout",
     "output_type": "stream",
     "text": [
      "[14, 12, 7, 6, 15, 3, 19, 13, 21, 18, 22, 9, 11, 16, 17, 8, 20, 4, 10, 2, 5, 1, 14, 12, 7, 6, 15, 3, 19]\n"
     ]
    }
   ],
   "source": [
    "example(b=14, m=23) ##   X[n] = 14^n mod 23"
   ]
  },
  {
   "cell_type": "markdown",
   "metadata": {},
   "source": [
    "#### Example #14: $\\mathbf{X}^\\left({b=15,m=23}\\right)$"
   ]
  },
  {
   "cell_type": "markdown",
   "metadata": {},
   "source": [
    "\\begin{aligned}\n",
    "\\mathbf{X}_n = 15^n \\mod m\n",
    "\\end{aligned}\n",
    "with\n",
    "\\begin{aligned}\n",
    "b = 15\n",
    "\\end{aligned}\n",
    "\\begin{aligned}\n",
    "m = 23\n",
    "\\end{aligned}\n",
    "yeilding\n",
    "\\begin{aligned}\n",
    "\\mathbf{X}^{\\left(15,23\\right)} = \\{ ,  2, 4, 8,16, 9,18,13, 3, 6,12, \\cdots \\} = \\left[ \\mathbf{G}^{\\left(15,23\\right)} \\mathbf{H}^{\\left(15,23\\right)} \\mathbf{H}^{\\left(15,23\\right)} \\mathbf{H}^{\\left(15,23\\right)} \\cdots \\right] = \\left[ \\mathbf{G}^{\\left(15,23\\right)} \\left(\\mathbf{H}^{\\left(15,23\\right)}\\right)^{*} \\right]\n",
    "\\end{aligned}\n",
    "where\n",
    "\\begin{aligned}\n",
    "\\mathbf{G}^{\\left(15,23\\right)} = \\{  \\}\n",
    "\\end{aligned}\n",
    "\\begin{aligned}\n",
    "\\mathbf{H}^{\\left(15,23\\right)} = \\{  2, 4, 8,16, 9,18,13, 3, 6,12, \\}\n",
    "\\end{aligned}\n",
    "so we have\n",
    "\\begin{aligned}\n",
    "\\left|\\mathbf{G}^{\\left(15,23\\right)}\\right| = 0\n",
    "\\end{aligned}\n",
    "\\begin{aligned}\n",
    "\\left|\\mathbf{H}^{\\left(15,23\\right)}\\right| = 11\n",
    "\\end{aligned}"
   ]
  },
  {
   "cell_type": "code",
   "execution_count": 16,
   "metadata": {
    "collapsed": false
   },
   "outputs": [
    {
     "name": "stdout",
     "output_type": "stream",
     "text": [
      "[15, 18, 17, 2, 7, 13, 11, 4, 14, 3, 22, 8, 5, 6, 21, 16, 10, 12, 19, 9, 20, 1, 15, 18, 17, 2, 7, 13, 11]\n"
     ]
    }
   ],
   "source": [
    "example(b=15, m=23) ##   X[n] = 15^n mod 23"
   ]
  },
  {
   "cell_type": "markdown",
   "metadata": {},
   "source": [
    "#### Example #15: $\\mathbf{X}^\\left({b=16,m=23}\\right)$"
   ]
  },
  {
   "cell_type": "markdown",
   "metadata": {},
   "source": [
    "\\begin{aligned}\n",
    "\\mathbf{X}_n = 16^n \\mod m\n",
    "\\end{aligned}\n",
    "with\n",
    "\\begin{aligned}\n",
    "b = 16\n",
    "\\end{aligned}\n",
    "\\begin{aligned}\n",
    "m = 23\n",
    "\\end{aligned}\n",
    "yeilding\n",
    "\\begin{aligned}\n",
    "\\mathbf{X}^{\\left(16,23\\right)} = \\{ ,  2, 4, 8,16, 9,18,13, 3, 6,12, \\cdots \\} = \\left[ \\mathbf{G}^{\\left(16,23\\right)} \\mathbf{H}^{\\left(16,23\\right)} \\mathbf{H}^{\\left(16,23\\right)} \\mathbf{H}^{\\left(16,23\\right)} \\cdots \\right] = \\left[ \\mathbf{G}^{\\left(16,23\\right)} \\left(\\mathbf{H}^{\\left(16,23\\right)}\\right)^{*} \\right]\n",
    "\\end{aligned}\n",
    "where\n",
    "\\begin{aligned}\n",
    "\\mathbf{G}^{\\left(16,23\\right)} = \\{  \\}\n",
    "\\end{aligned}\n",
    "\\begin{aligned}\n",
    "\\mathbf{H}^{\\left(16,23\\right)} = \\{  2, 4, 8,16, 9,18,13, 3, 6,12, \\}\n",
    "\\end{aligned}\n",
    "so we have\n",
    "\\begin{aligned}\n",
    "\\left|\\mathbf{G}^{\\left(16,23\\right)}\\right| = 0\n",
    "\\end{aligned}\n",
    "\\begin{aligned}\n",
    "\\left|\\mathbf{H}^{\\left(16,23\\right)}\\right| = 11\n",
    "\\end{aligned}"
   ]
  },
  {
   "cell_type": "code",
   "execution_count": 17,
   "metadata": {
    "collapsed": false
   },
   "outputs": [
    {
     "name": "stdout",
     "output_type": "stream",
     "text": [
      "[16, 3, 2, 9, 6, 4, 18, 12, 8, 13, 1, 16, 3, 2, 9, 6, 4, 18, 12, 8, 13, 1, 16, 3, 2, 9, 6, 4, 18]\n"
     ]
    }
   ],
   "source": [
    "example(b=16, m=23) ##   X[n] = 16^n mod 23"
   ]
  },
  {
   "cell_type": "markdown",
   "metadata": {},
   "source": [
    "#### Example #16: $\\mathbf{X}^\\left({b=17,m=23}\\right)$"
   ]
  },
  {
   "cell_type": "markdown",
   "metadata": {},
   "source": [
    "\\begin{aligned}\n",
    "\\mathbf{X}_n = 17^n \\mod m\n",
    "\\end{aligned}\n",
    "with\n",
    "\\begin{aligned}\n",
    "b = 17\n",
    "\\end{aligned}\n",
    "\\begin{aligned}\n",
    "m = 23\n",
    "\\end{aligned}\n",
    "yeilding\n",
    "\\begin{aligned}\n",
    "\\mathbf{X}^{\\left(17,23\\right)} = \\{ ,  2, 4, 8,16, 9,18,13, 3, 6,12, \\cdots \\} = \\left[ \\mathbf{G}^{\\left(17,23\\right)} \\mathbf{H}^{\\left(17,23\\right)} \\mathbf{H}^{\\left(17,23\\right)} \\mathbf{H}^{\\left(17,23\\right)} \\cdots \\right] = \\left[ \\mathbf{G}^{\\left(17,23\\right)} \\left(\\mathbf{H}^{\\left(17,23\\right)}\\right)^{*} \\right]\n",
    "\\end{aligned}\n",
    "where\n",
    "\\begin{aligned}\n",
    "\\mathbf{G}^{\\left(17,23\\right)} = \\{  \\}\n",
    "\\end{aligned}\n",
    "\\begin{aligned}\n",
    "\\mathbf{H}^{\\left(17,23\\right)} = \\{  2, 4, 8,16, 9,18,13, 3, 6,12, \\}\n",
    "\\end{aligned}\n",
    "so we have\n",
    "\\begin{aligned}\n",
    "\\left|\\mathbf{G}^{\\left(17,23\\right)}\\right| = 0\n",
    "\\end{aligned}\n",
    "\\begin{aligned}\n",
    "\\left|\\mathbf{H}^{\\left(17,23\\right)}\\right| = 11\n",
    "\\end{aligned}"
   ]
  },
  {
   "cell_type": "code",
   "execution_count": 18,
   "metadata": {
    "collapsed": false
   },
   "outputs": [
    {
     "name": "stdout",
     "output_type": "stream",
     "text": [
      "[17, 13, 14, 8, 21, 12, 20, 18, 7, 4, 22, 6, 10, 9, 15, 2, 11, 3, 5, 16, 19, 1, 17, 13, 14, 8, 21, 12, 20]\n"
     ]
    }
   ],
   "source": [
    "example(b=17, m=23) ##   X[n] = 17^n mod 23"
   ]
  },
  {
   "cell_type": "markdown",
   "metadata": {},
   "source": [
    "#### Example #17: $\\mathbf{X}^\\left({b=18,m=23}\\right)$"
   ]
  },
  {
   "cell_type": "markdown",
   "metadata": {},
   "source": [
    "\\begin{aligned}\n",
    "\\mathbf{X}_n = 18^n \\mod m\n",
    "\\end{aligned}\n",
    "with\n",
    "\\begin{aligned}\n",
    "b = 18\n",
    "\\end{aligned}\n",
    "\\begin{aligned}\n",
    "m = 23\n",
    "\\end{aligned}\n",
    "yeilding\n",
    "\\begin{aligned}\n",
    "\\mathbf{X}^{\\left(18,23\\right)} = \\{ ,  2, 4, 8,16, 9,18,13, 3, 6,12, \\cdots \\} = \\left[ \\mathbf{G}^{\\left(18,23\\right)} \\mathbf{H}^{\\left(18,23\\right)} \\mathbf{H}^{\\left(18,23\\right)} \\mathbf{H}^{\\left(18,23\\right)} \\cdots \\right] = \\left[ \\mathbf{G}^{\\left(18,23\\right)} \\left(\\mathbf{H}^{\\left(18,23\\right)}\\right)^{*} \\right]\n",
    "\\end{aligned}\n",
    "where\n",
    "\\begin{aligned}\n",
    "\\mathbf{G}^{\\left(18,23\\right)} = \\{  \\}\n",
    "\\end{aligned}\n",
    "\\begin{aligned}\n",
    "\\mathbf{H}^{\\left(18,23\\right)} = \\{  2, 4, 8,16, 9,18,13, 3, 6,12, \\}\n",
    "\\end{aligned}\n",
    "so we have\n",
    "\\begin{aligned}\n",
    "\\left|\\mathbf{G}^{\\left(18,23\\right)}\\right| = 0\n",
    "\\end{aligned}\n",
    "\\begin{aligned}\n",
    "\\left|\\mathbf{H}^{\\left(18,23\\right)}\\right| = 11\n",
    "\\end{aligned}"
   ]
  },
  {
   "cell_type": "code",
   "execution_count": 19,
   "metadata": {
    "collapsed": false
   },
   "outputs": [
    {
     "name": "stdout",
     "output_type": "stream",
     "text": [
      "[18, 2, 13, 4, 3, 8, 6, 16, 12, 9, 1, 18, 2, 13, 4, 3, 8, 6, 16, 12, 9, 1, 18, 2, 13, 4, 3, 8, 6]\n"
     ]
    }
   ],
   "source": [
    "example(b=18, m=23) ##   X[n] = 18^n mod 23"
   ]
  },
  {
   "cell_type": "markdown",
   "metadata": {},
   "source": [
    "#### Example #18: $\\mathbf{X}^\\left({b=19,m=23}\\right)$"
   ]
  },
  {
   "cell_type": "markdown",
   "metadata": {},
   "source": [
    "\\begin{aligned}\n",
    "\\mathbf{X}_n = 19^n \\mod m\n",
    "\\end{aligned}\n",
    "with\n",
    "\\begin{aligned}\n",
    "b = 19\n",
    "\\end{aligned}\n",
    "\\begin{aligned}\n",
    "m = 23\n",
    "\\end{aligned}\n",
    "yeilding\n",
    "\\begin{aligned}\n",
    "\\mathbf{X}^{\\left(19,23\\right)} = \\{ ,  2, 4, 8,16, 9,18,13, 3, 6,12, \\cdots \\} = \\left[ \\mathbf{G}^{\\left(19,23\\right)} \\mathbf{H}^{\\left(19,23\\right)} \\mathbf{H}^{\\left(19,23\\right)} \\mathbf{H}^{\\left(19,23\\right)} \\cdots \\right] = \\left[ \\mathbf{G}^{\\left(19,23\\right)} \\left(\\mathbf{H}^{\\left(19,23\\right)}\\right)^{*} \\right]\n",
    "\\end{aligned}\n",
    "where\n",
    "\\begin{aligned}\n",
    "\\mathbf{G}^{\\left(19,23\\right)} = \\{  \\}\n",
    "\\end{aligned}\n",
    "\\begin{aligned}\n",
    "\\mathbf{H}^{\\left(19,23\\right)} = \\{  2, 4, 8,16, 9,18,13, 3, 6,12, \\}\n",
    "\\end{aligned}\n",
    "so we have\n",
    "\\begin{aligned}\n",
    "\\left|\\mathbf{G}^{\\left(19,23\\right)}\\right| = 0\n",
    "\\end{aligned}\n",
    "\\begin{aligned}\n",
    "\\left|\\mathbf{H}^{\\left(19,23\\right)}\\right| = 11\n",
    "\\end{aligned}"
   ]
  },
  {
   "cell_type": "code",
   "execution_count": 20,
   "metadata": {
    "collapsed": false
   },
   "outputs": [
    {
     "name": "stdout",
     "output_type": "stream",
     "text": [
      "[19, 16, 5, 3, 11, 2, 15, 9, 10, 6, 22, 4, 7, 18, 20, 12, 21, 8, 14, 13, 17, 1, 19, 16, 5, 3, 11, 2, 15]\n"
     ]
    }
   ],
   "source": [
    "example(b=19, m=23) ##   X[n] = 19^n mod 23"
   ]
  },
  {
   "cell_type": "markdown",
   "metadata": {},
   "source": [
    "#### Example #19: $\\mathbf{X}^\\left({b=20,m=23}\\right)$"
   ]
  },
  {
   "cell_type": "markdown",
   "metadata": {},
   "source": [
    "\\begin{aligned}\n",
    "\\mathbf{X}_n = 20^n \\mod m\n",
    "\\end{aligned}\n",
    "with\n",
    "\\begin{aligned}\n",
    "b = 20\n",
    "\\end{aligned}\n",
    "\\begin{aligned}\n",
    "m = 23\n",
    "\\end{aligned}\n",
    "yeilding\n",
    "\\begin{aligned}\n",
    "\\mathbf{X}^{\\left(20,23\\right)} = \\{ ,  2, 4, 8,16, 9,18,13, 3, 6,12, \\cdots \\} = \\left[ \\mathbf{G}^{\\left(20,23\\right)} \\mathbf{H}^{\\left(20,23\\right)} \\mathbf{H}^{\\left(20,23\\right)} \\mathbf{H}^{\\left(20,23\\right)} \\cdots \\right] = \\left[ \\mathbf{G}^{\\left(20,23\\right)} \\left(\\mathbf{H}^{\\left(20,23\\right)}\\right)^{*} \\right]\n",
    "\\end{aligned}\n",
    "where\n",
    "\\begin{aligned}\n",
    "\\mathbf{G}^{\\left(20,23\\right)} = \\{  \\}\n",
    "\\end{aligned}\n",
    "\\begin{aligned}\n",
    "\\mathbf{H}^{\\left(20,23\\right)} = \\{  2, 4, 8,16, 9,18,13, 3, 6,12, \\}\n",
    "\\end{aligned}\n",
    "so we have\n",
    "\\begin{aligned}\n",
    "\\left|\\mathbf{G}^{\\left(20,23\\right)}\\right| = 0\n",
    "\\end{aligned}\n",
    "\\begin{aligned}\n",
    "\\left|\\mathbf{H}^{\\left(20,23\\right)}\\right| = 11\n",
    "\\end{aligned}"
   ]
  },
  {
   "cell_type": "code",
   "execution_count": 21,
   "metadata": {
    "collapsed": false
   },
   "outputs": [
    {
     "name": "stdout",
     "output_type": "stream",
     "text": [
      "[20, 9, 19, 12, 10, 16, 21, 6, 5, 8, 22, 3, 14, 4, 11, 13, 7, 2, 17, 18, 15, 1, 20, 9, 19, 12, 10, 16, 21]\n"
     ]
    }
   ],
   "source": [
    "example(b=20, m=23) ##   X[n] = 20^n mod 23"
   ]
  },
  {
   "cell_type": "markdown",
   "metadata": {},
   "source": [
    "#### Example #20: $\\mathbf{X}^\\left({b=21,m=23}\\right)$"
   ]
  },
  {
   "cell_type": "markdown",
   "metadata": {},
   "source": [
    "\\begin{aligned}\n",
    "\\mathbf{X}_n = 21^n \\mod m\n",
    "\\end{aligned}\n",
    "with\n",
    "\\begin{aligned}\n",
    "b = 21\n",
    "\\end{aligned}\n",
    "\\begin{aligned}\n",
    "m = 23\n",
    "\\end{aligned}\n",
    "yeilding\n",
    "\\begin{aligned}\n",
    "\\mathbf{X}^{\\left(21,23\\right)} = \\{ ,  2, 4, 8,16, 9,18,13, 3, 6,12, \\cdots \\} = \\left[ \\mathbf{G}^{\\left(21,23\\right)} \\mathbf{H}^{\\left(21,23\\right)} \\mathbf{H}^{\\left(21,23\\right)} \\mathbf{H}^{\\left(21,23\\right)} \\cdots \\right] = \\left[ \\mathbf{G}^{\\left(21,23\\right)} \\left(\\mathbf{H}^{\\left(21,23\\right)}\\right)^{*} \\right]\n",
    "\\end{aligned}\n",
    "where\n",
    "\\begin{aligned}\n",
    "\\mathbf{G}^{\\left(21,23\\right)} = \\{  \\}\n",
    "\\end{aligned}\n",
    "\\begin{aligned}\n",
    "\\mathbf{H}^{\\left(21,23\\right)} = \\{  2, 4, 8,16, 9,18,13, 3, 6,12, \\}\n",
    "\\end{aligned}\n",
    "so we have\n",
    "\\begin{aligned}\n",
    "\\left|\\mathbf{G}^{\\left(21,23\\right)}\\right| = 0\n",
    "\\end{aligned}\n",
    "\\begin{aligned}\n",
    "\\left|\\mathbf{H}^{\\left(21,23\\right)}\\right| = 11\n",
    "\\end{aligned}"
   ]
  },
  {
   "cell_type": "code",
   "execution_count": 22,
   "metadata": {
    "collapsed": false
   },
   "outputs": [
    {
     "name": "stdout",
     "output_type": "stream",
     "text": [
      "[21, 4, 15, 16, 14, 18, 10, 3, 17, 12, 22, 2, 19, 8, 7, 9, 5, 13, 20, 6, 11, 1, 21, 4, 15, 16, 14, 18, 10]\n"
     ]
    }
   ],
   "source": [
    "example(b=21, m=23) ##   X[n] = 21^n mod 23"
   ]
  },
  {
   "cell_type": "markdown",
   "metadata": {},
   "source": [
    "#### Example #21: $\\mathbf{X}^\\left({b=22,m=23}\\right)$"
   ]
  },
  {
   "cell_type": "markdown",
   "metadata": {},
   "source": [
    "\\begin{aligned}\n",
    "\\mathbf{X}_n = 22^n \\mod m\n",
    "\\end{aligned}\n",
    "with\n",
    "\\begin{aligned}\n",
    "b = 22\n",
    "\\end{aligned}\n",
    "\\begin{aligned}\n",
    "m = 23\n",
    "\\end{aligned}\n",
    "yeilding\n",
    "\\begin{aligned}\n",
    "\\mathbf{X}^{\\left(22,23\\right)} = \\{ ,  2, 4, 8,16, 9,18,13, 3, 6,12, \\cdots \\} = \\left[ \\mathbf{G}^{\\left(22,23\\right)} \\mathbf{H}^{\\left(22,23\\right)} \\mathbf{H}^{\\left(22,23\\right)} \\mathbf{H}^{\\left(22,23\\right)} \\cdots \\right] = \\left[ \\mathbf{G}^{\\left(22,23\\right)} \\left(\\mathbf{H}^{\\left(22,23\\right)}\\right)^{*} \\right]\n",
    "\\end{aligned}\n",
    "where\n",
    "\\begin{aligned}\n",
    "\\mathbf{G}^{\\left(22,23\\right)} = \\{  \\}\n",
    "\\end{aligned}\n",
    "\\begin{aligned}\n",
    "\\mathbf{H}^{\\left(22,23\\right)} = \\{  2, 4, 8,16, 9,18,13, 3, 6,12, \\}\n",
    "\\end{aligned}\n",
    "so we have\n",
    "\\begin{aligned}\n",
    "\\left|\\mathbf{G}^{\\left(22,23\\right)}\\right| = 0\n",
    "\\end{aligned}\n",
    "\\begin{aligned}\n",
    "\\left|\\mathbf{H}^{\\left(22,23\\right)}\\right| = 11\n",
    "\\end{aligned}"
   ]
  },
  {
   "cell_type": "code",
   "execution_count": 23,
   "metadata": {
    "collapsed": false
   },
   "outputs": [
    {
     "name": "stdout",
     "output_type": "stream",
     "text": [
      "[22, 1, 22, 1, 22, 1, 22, 1, 22, 1, 22, 1, 22, 1, 22, 1, 22, 1, 22, 1, 22, 1, 22, 1, 22, 1, 22, 1, 22]\n"
     ]
    }
   ],
   "source": [
    "example(b=22, m=23) ##   X[n] = 22^n mod 23"
   ]
  },
  {
   "cell_type": "markdown",
   "metadata": {},
   "source": [
    "#### Example #22: $\\mathbf{X}^\\left({b=23,m=23}\\right)$"
   ]
  },
  {
   "cell_type": "markdown",
   "metadata": {},
   "source": [
    "\\begin{aligned}\n",
    "\\mathbf{X}_n = 23^n \\mod m\n",
    "\\end{aligned}\n",
    "with\n",
    "\\begin{aligned}\n",
    "b = 23\n",
    "\\end{aligned}\n",
    "\\begin{aligned}\n",
    "m = 23\n",
    "\\end{aligned}\n",
    "yeilding\n",
    "\\begin{aligned}\n",
    "\\mathbf{X}^{\\left(23,23\\right)} = \\{ ,  2, 4, 8,16, 9,18,13, 3, 6,12, \\cdots \\} = \\left[ \\mathbf{G}^{\\left(23,23\\right)} \\mathbf{H}^{\\left(23,23\\right)} \\mathbf{H}^{\\left(23,23\\right)} \\mathbf{H}^{\\left(23,23\\right)} \\cdots \\right] = \\left[ \\mathbf{G}^{\\left(23,23\\right)} \\left(\\mathbf{H}^{\\left(23,23\\right)}\\right)^{*} \\right]\n",
    "\\end{aligned}\n",
    "where\n",
    "\\begin{aligned}\n",
    "\\mathbf{G}^{\\left(23,23\\right)} = \\{  \\}\n",
    "\\end{aligned}\n",
    "\\begin{aligned}\n",
    "\\mathbf{H}^{\\left(23,23\\right)} = \\{  2, 4, 8,16, 9,18,13, 3, 6,12, \\}\n",
    "\\end{aligned}\n",
    "so we have\n",
    "\\begin{aligned}\n",
    "\\left|\\mathbf{G}^{\\left(23,23\\right)}\\right| = 0\n",
    "\\end{aligned}\n",
    "\\begin{aligned}\n",
    "\\left|\\mathbf{H}^{\\left(23,23\\right)}\\right| = 11\n",
    "\\end{aligned}"
   ]
  },
  {
   "cell_type": "code",
   "execution_count": 24,
   "metadata": {
    "collapsed": false
   },
   "outputs": [
    {
     "name": "stdout",
     "output_type": "stream",
     "text": [
      "[0, 0, 0, 0, 0, 0, 0, 0, 0, 0, 0, 0, 0, 0, 0, 0, 0, 0, 0, 0, 0, 0, 0, 0, 0, 0, 0, 0, 0]\n"
     ]
    }
   ],
   "source": [
    "example(b=23, m=23) ##   X[n] = 23^n mod 23"
   ]
  },
  {
   "cell_type": "markdown",
   "metadata": {},
   "source": [
    "#### Example #23: $\\mathbf{X}^\\left({b=24,m=23}\\right)$"
   ]
  },
  {
   "cell_type": "markdown",
   "metadata": {},
   "source": [
    "\\begin{aligned}\n",
    "\\mathbf{X}_n = 24^n \\mod m\n",
    "\\end{aligned}\n",
    "with\n",
    "\\begin{aligned}\n",
    "b = 24\n",
    "\\end{aligned}\n",
    "\\begin{aligned}\n",
    "m = 23\n",
    "\\end{aligned}\n",
    "yeilding\n",
    "\\begin{aligned}\n",
    "\\mathbf{X}^{\\left(24,23\\right)} = \\{ ,  2, 4, 8,16, 9,18,13, 3, 6,12, \\cdots \\} = \\left[ \\mathbf{G}^{\\left(24,23\\right)} \\mathbf{H}^{\\left(24,23\\right)} \\mathbf{H}^{\\left(24,23\\right)} \\mathbf{H}^{\\left(24,23\\right)} \\cdots \\right] = \\left[ \\mathbf{G}^{\\left(24,23\\right)} \\left(\\mathbf{H}^{\\left(24,23\\right)}\\right)^{*} \\right]\n",
    "\\end{aligned}\n",
    "where\n",
    "\\begin{aligned}\n",
    "\\mathbf{G}^{\\left(24,23\\right)} = \\{  \\}\n",
    "\\end{aligned}\n",
    "\\begin{aligned}\n",
    "\\mathbf{H}^{\\left(24,23\\right)} = \\{  2, 4, 8,16, 9,18,13, 3, 6,12, \\}\n",
    "\\end{aligned}\n",
    "so we have\n",
    "\\begin{aligned}\n",
    "\\left|\\mathbf{G}^{\\left(24,23\\right)}\\right| = 0\n",
    "\\end{aligned}\n",
    "\\begin{aligned}\n",
    "\\left|\\mathbf{H}^{\\left(24,23\\right)}\\right| = 11\n",
    "\\end{aligned}"
   ]
  },
  {
   "cell_type": "code",
   "execution_count": 25,
   "metadata": {
    "collapsed": false
   },
   "outputs": [
    {
     "name": "stdout",
     "output_type": "stream",
     "text": [
      "[1, 1, 1, 1, 1, 1, 1, 1, 1, 1, 1, 1, 1, 1, 1, 1, 1, 1, 1, 1, 1, 1, 1, 1, 1, 1, 1, 1, 1]\n"
     ]
    }
   ],
   "source": [
    "example(b=24, m=23) ##   X[n] = 24^n mod 23"
   ]
  },
  {
   "cell_type": "markdown",
   "metadata": {},
   "source": [
    "#### Example #24: $\\mathbf{X}^\\left({b=25,m=23}\\right)$"
   ]
  },
  {
   "cell_type": "markdown",
   "metadata": {},
   "source": [
    "\\begin{aligned}\n",
    "\\mathbf{X}_n = 25^n \\mod m\n",
    "\\end{aligned}\n",
    "with\n",
    "\\begin{aligned}\n",
    "b = 25\n",
    "\\end{aligned}\n",
    "\\begin{aligned}\n",
    "m = 23\n",
    "\\end{aligned}\n",
    "yeilding\n",
    "\\begin{aligned}\n",
    "\\mathbf{X}^{\\left(25,23\\right)} = \\{ ,  2, 4, 8,16, 9,18,13, 3, 6,12, \\cdots \\} = \\left[ \\mathbf{G}^{\\left(25,23\\right)} \\mathbf{H}^{\\left(25,23\\right)} \\mathbf{H}^{\\left(25,23\\right)} \\mathbf{H}^{\\left(25,23\\right)} \\cdots \\right] = \\left[ \\mathbf{G}^{\\left(25,23\\right)} \\left(\\mathbf{H}^{\\left(25,23\\right)}\\right)^{*} \\right]\n",
    "\\end{aligned}\n",
    "where\n",
    "\\begin{aligned}\n",
    "\\mathbf{G}^{\\left(25,23\\right)} = \\{  \\}\n",
    "\\end{aligned}\n",
    "\\begin{aligned}\n",
    "\\mathbf{H}^{\\left(25,23\\right)} = \\{  2, 4, 8,16, 9,18,13, 3, 6,12, \\}\n",
    "\\end{aligned}\n",
    "so we have\n",
    "\\begin{aligned}\n",
    "\\left|\\mathbf{G}^{\\left(25,23\\right)}\\right| = 0\n",
    "\\end{aligned}\n",
    "\\begin{aligned}\n",
    "\\left|\\mathbf{H}^{\\left(25,23\\right)}\\right| = 11\n",
    "\\end{aligned}"
   ]
  },
  {
   "cell_type": "code",
   "execution_count": 26,
   "metadata": {
    "collapsed": false
   },
   "outputs": [
    {
     "name": "stdout",
     "output_type": "stream",
     "text": [
      "[2, 4, 8, 16, 9, 18, 13, 3, 6, 12, 1, 2, 4, 8, 16, 9, 18, 13, 3, 6, 12, 1, 2, 4, 8, 16, 9, 18, 13]\n"
     ]
    }
   ],
   "source": [
    "example(b=25, m=23) ##   X[n] = 25^n mod 23"
   ]
  },
  {
   "cell_type": "markdown",
   "metadata": {},
   "source": [
    "#### Example #25: $\\mathbf{X}^\\left({b=26,m=23}\\right)$"
   ]
  },
  {
   "cell_type": "markdown",
   "metadata": {},
   "source": [
    "\\begin{aligned}\n",
    "\\mathbf{X}_n = 26^n \\mod m\n",
    "\\end{aligned}\n",
    "with\n",
    "\\begin{aligned}\n",
    "b = 26\n",
    "\\end{aligned}\n",
    "\\begin{aligned}\n",
    "m = 23\n",
    "\\end{aligned}\n",
    "yeilding\n",
    "\\begin{aligned}\n",
    "\\mathbf{X}^{\\left(26,23\\right)} = \\{ ,  2, 4, 8,16, 9,18,13, 3, 6,12, \\cdots \\} = \\left[ \\mathbf{G}^{\\left(26,23\\right)} \\mathbf{H}^{\\left(26,23\\right)} \\mathbf{H}^{\\left(26,23\\right)} \\mathbf{H}^{\\left(26,23\\right)} \\cdots \\right] = \\left[ \\mathbf{G}^{\\left(26,23\\right)} \\left(\\mathbf{H}^{\\left(26,23\\right)}\\right)^{*} \\right]\n",
    "\\end{aligned}\n",
    "where\n",
    "\\begin{aligned}\n",
    "\\mathbf{G}^{\\left(26,23\\right)} = \\{  \\}\n",
    "\\end{aligned}\n",
    "\\begin{aligned}\n",
    "\\mathbf{H}^{\\left(26,23\\right)} = \\{  2, 4, 8,16, 9,18,13, 3, 6,12, \\}\n",
    "\\end{aligned}\n",
    "so we have\n",
    "\\begin{aligned}\n",
    "\\left|\\mathbf{G}^{\\left(26,23\\right)}\\right| = 0\n",
    "\\end{aligned}\n",
    "\\begin{aligned}\n",
    "\\left|\\mathbf{H}^{\\left(26,23\\right)}\\right| = 11\n",
    "\\end{aligned}"
   ]
  },
  {
   "cell_type": "code",
   "execution_count": 27,
   "metadata": {
    "collapsed": false
   },
   "outputs": [
    {
     "name": "stdout",
     "output_type": "stream",
     "text": [
      "[3, 9, 4, 12, 13, 16, 2, 6, 18, 8, 1, 3, 9, 4, 12, 13, 16, 2, 6, 18, 8, 1, 3, 9, 4, 12, 13, 16, 2]\n"
     ]
    }
   ],
   "source": [
    "example(b=26, m=23) ##   X[n] = 26^n mod 23"
   ]
  },
  {
   "cell_type": "markdown",
   "metadata": {},
   "source": [
    "#### Example #26: $\\mathbf{X}^\\left({b=27,m=23}\\right)$"
   ]
  },
  {
   "cell_type": "markdown",
   "metadata": {},
   "source": [
    "\\begin{aligned}\n",
    "\\mathbf{X}_n = 27^n \\mod m\n",
    "\\end{aligned}\n",
    "with\n",
    "\\begin{aligned}\n",
    "b = 27\n",
    "\\end{aligned}\n",
    "\\begin{aligned}\n",
    "m = 23\n",
    "\\end{aligned}\n",
    "yeilding\n",
    "\\begin{aligned}\n",
    "\\mathbf{X}^{\\left(27,23\\right)} = \\{ ,  2, 4, 8,16, 9,18,13, 3, 6,12, \\cdots \\} = \\left[ \\mathbf{G}^{\\left(27,23\\right)} \\mathbf{H}^{\\left(27,23\\right)} \\mathbf{H}^{\\left(27,23\\right)} \\mathbf{H}^{\\left(27,23\\right)} \\cdots \\right] = \\left[ \\mathbf{G}^{\\left(27,23\\right)} \\left(\\mathbf{H}^{\\left(27,23\\right)}\\right)^{*} \\right]\n",
    "\\end{aligned}\n",
    "where\n",
    "\\begin{aligned}\n",
    "\\mathbf{G}^{\\left(27,23\\right)} = \\{  \\}\n",
    "\\end{aligned}\n",
    "\\begin{aligned}\n",
    "\\mathbf{H}^{\\left(27,23\\right)} = \\{  2, 4, 8,16, 9,18,13, 3, 6,12, \\}\n",
    "\\end{aligned}\n",
    "so we have\n",
    "\\begin{aligned}\n",
    "\\left|\\mathbf{G}^{\\left(27,23\\right)}\\right| = 0\n",
    "\\end{aligned}\n",
    "\\begin{aligned}\n",
    "\\left|\\mathbf{H}^{\\left(27,23\\right)}\\right| = 11\n",
    "\\end{aligned}"
   ]
  },
  {
   "cell_type": "code",
   "execution_count": 28,
   "metadata": {
    "collapsed": false
   },
   "outputs": [
    {
     "name": "stdout",
     "output_type": "stream",
     "text": [
      "[4, 16, 18, 3, 12, 2, 8, 9, 13, 6, 1, 4, 16, 18, 3, 12, 2, 8, 9, 13, 6, 1, 4, 16, 18, 3, 12, 2, 8]\n"
     ]
    }
   ],
   "source": [
    "example(b=27, m=23) ##   X[n] = 27^n mod 23"
   ]
  },
  {
   "cell_type": "markdown",
   "metadata": {},
   "source": [
    "#### Example #27: $\\mathbf{X}^\\left({b=28,m=23}\\right)$"
   ]
  },
  {
   "cell_type": "markdown",
   "metadata": {},
   "source": [
    "\\begin{aligned}\n",
    "\\mathbf{X}_n = 28^n \\mod m\n",
    "\\end{aligned}\n",
    "with\n",
    "\\begin{aligned}\n",
    "b = 28\n",
    "\\end{aligned}\n",
    "\\begin{aligned}\n",
    "m = 23\n",
    "\\end{aligned}\n",
    "yeilding\n",
    "\\begin{aligned}\n",
    "\\mathbf{X}^{\\left(28,23\\right)} = \\{ ,  2, 4, 8,16, 9,18,13, 3, 6,12, \\cdots \\} = \\left[ \\mathbf{G}^{\\left(28,23\\right)} \\mathbf{H}^{\\left(28,23\\right)} \\mathbf{H}^{\\left(28,23\\right)} \\mathbf{H}^{\\left(28,23\\right)} \\cdots \\right] = \\left[ \\mathbf{G}^{\\left(28,23\\right)} \\left(\\mathbf{H}^{\\left(28,23\\right)}\\right)^{*} \\right]\n",
    "\\end{aligned}\n",
    "where\n",
    "\\begin{aligned}\n",
    "\\mathbf{G}^{\\left(28,23\\right)} = \\{  \\}\n",
    "\\end{aligned}\n",
    "\\begin{aligned}\n",
    "\\mathbf{H}^{\\left(28,23\\right)} = \\{  2, 4, 8,16, 9,18,13, 3, 6,12, \\}\n",
    "\\end{aligned}\n",
    "so we have\n",
    "\\begin{aligned}\n",
    "\\left|\\mathbf{G}^{\\left(28,23\\right)}\\right| = 0\n",
    "\\end{aligned}\n",
    "\\begin{aligned}\n",
    "\\left|\\mathbf{H}^{\\left(28,23\\right)}\\right| = 11\n",
    "\\end{aligned}"
   ]
  },
  {
   "cell_type": "code",
   "execution_count": 29,
   "metadata": {
    "collapsed": false
   },
   "outputs": [
    {
     "name": "stdout",
     "output_type": "stream",
     "text": [
      "[5, 2, 10, 4, 20, 8, 17, 16, 11, 9, 22, 18, 21, 13, 19, 3, 15, 6, 7, 12, 14, 1, 5, 2, 10, 4, 20, 8, 17]\n"
     ]
    }
   ],
   "source": [
    "example(b=28, m=23) ##   X[n] = 28^n mod 23"
   ]
  },
  {
   "cell_type": "markdown",
   "metadata": {},
   "source": [
    "#### Example #28: $\\mathbf{X}^\\left({b=29,m=23}\\right)$"
   ]
  },
  {
   "cell_type": "markdown",
   "metadata": {},
   "source": [
    "\\begin{aligned}\n",
    "\\mathbf{X}_n = 29^n \\mod m\n",
    "\\end{aligned}\n",
    "with\n",
    "\\begin{aligned}\n",
    "b = 29\n",
    "\\end{aligned}\n",
    "\\begin{aligned}\n",
    "m = 23\n",
    "\\end{aligned}\n",
    "yeilding\n",
    "\\begin{aligned}\n",
    "\\mathbf{X}^{\\left(29,23\\right)} = \\{ ,  2, 4, 8,16, 9,18,13, 3, 6,12, \\cdots \\} = \\left[ \\mathbf{G}^{\\left(29,23\\right)} \\mathbf{H}^{\\left(29,23\\right)} \\mathbf{H}^{\\left(29,23\\right)} \\mathbf{H}^{\\left(29,23\\right)} \\cdots \\right] = \\left[ \\mathbf{G}^{\\left(29,23\\right)} \\left(\\mathbf{H}^{\\left(29,23\\right)}\\right)^{*} \\right]\n",
    "\\end{aligned}\n",
    "where\n",
    "\\begin{aligned}\n",
    "\\mathbf{G}^{\\left(29,23\\right)} = \\{  \\}\n",
    "\\end{aligned}\n",
    "\\begin{aligned}\n",
    "\\mathbf{H}^{\\left(29,23\\right)} = \\{  2, 4, 8,16, 9,18,13, 3, 6,12, \\}\n",
    "\\end{aligned}\n",
    "so we have\n",
    "\\begin{aligned}\n",
    "\\left|\\mathbf{G}^{\\left(29,23\\right)}\\right| = 0\n",
    "\\end{aligned}\n",
    "\\begin{aligned}\n",
    "\\left|\\mathbf{H}^{\\left(29,23\\right)}\\right| = 11\n",
    "\\end{aligned}"
   ]
  },
  {
   "cell_type": "code",
   "execution_count": 30,
   "metadata": {
    "collapsed": false
   },
   "outputs": [
    {
     "name": "stdout",
     "output_type": "stream",
     "text": [
      "[6, 13, 9, 8, 2, 12, 3, 18, 16, 4, 1, 6, 13, 9, 8, 2, 12, 3, 18, 16, 4, 1, 6, 13, 9, 8, 2, 12, 3]\n"
     ]
    }
   ],
   "source": [
    "example(b=29, m=23) ##   X[n] = 29^n mod 23"
   ]
  },
  {
   "cell_type": "markdown",
   "metadata": {},
   "source": [
    "#### Example #29: $\\mathbf{X}^\\left({b=30,m=23}\\right)$"
   ]
  },
  {
   "cell_type": "markdown",
   "metadata": {},
   "source": [
    "\\begin{aligned}\n",
    "\\mathbf{X}_n = 30^n \\mod m\n",
    "\\end{aligned}\n",
    "with\n",
    "\\begin{aligned}\n",
    "b = 30\n",
    "\\end{aligned}\n",
    "\\begin{aligned}\n",
    "m = 23\n",
    "\\end{aligned}\n",
    "yeilding\n",
    "\\begin{aligned}\n",
    "\\mathbf{X}^{\\left(30,23\\right)} = \\{ ,  2, 4, 8,16, 9,18,13, 3, 6,12, \\cdots \\} = \\left[ \\mathbf{G}^{\\left(30,23\\right)} \\mathbf{H}^{\\left(30,23\\right)} \\mathbf{H}^{\\left(30,23\\right)} \\mathbf{H}^{\\left(30,23\\right)} \\cdots \\right] = \\left[ \\mathbf{G}^{\\left(30,23\\right)} \\left(\\mathbf{H}^{\\left(30,23\\right)}\\right)^{*} \\right]\n",
    "\\end{aligned}\n",
    "where\n",
    "\\begin{aligned}\n",
    "\\mathbf{G}^{\\left(30,23\\right)} = \\{  \\}\n",
    "\\end{aligned}\n",
    "\\begin{aligned}\n",
    "\\mathbf{H}^{\\left(30,23\\right)} = \\{  2, 4, 8,16, 9,18,13, 3, 6,12, \\}\n",
    "\\end{aligned}\n",
    "so we have\n",
    "\\begin{aligned}\n",
    "\\left|\\mathbf{G}^{\\left(30,23\\right)}\\right| = 0\n",
    "\\end{aligned}\n",
    "\\begin{aligned}\n",
    "\\left|\\mathbf{H}^{\\left(30,23\\right)}\\right| = 11\n",
    "\\end{aligned}"
   ]
  },
  {
   "cell_type": "code",
   "execution_count": 31,
   "metadata": {
    "collapsed": false
   },
   "outputs": [
    {
     "name": "stdout",
     "output_type": "stream",
     "text": [
      "[7, 3, 21, 9, 17, 4, 5, 12, 15, 13, 22, 16, 20, 2, 14, 6, 19, 18, 11, 8, 10, 1, 7, 3, 21, 9, 17, 4, 5]\n"
     ]
    }
   ],
   "source": [
    "example(b=30, m=23) ##   X[n] = 30^n mod 23"
   ]
  }
 ],
 "metadata": {},
 "nbformat": 4,
 "nbformat_minor": 2
}
