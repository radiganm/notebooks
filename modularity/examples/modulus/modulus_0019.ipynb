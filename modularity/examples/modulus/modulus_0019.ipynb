{
 "cells": [
  {
   "cell_type": "code",
   "execution_count": 1,
   "metadata": {
    "collapsed": false
   },
   "outputs": [],
   "source": [
    "#!/usr/bin/python3\n",
    "### modulus_19.py\n",
    "### Copyright 2017 Mac Radigan\n",
    "### SPDX-License-Identifier: GFDL-1.3"
   ]
  },
  {
   "cell_type": "markdown",
   "metadata": {},
   "source": [
    "# modulus 19"
   ]
  },
  {
   "cell_type": "markdown",
   "metadata": {},
   "source": [
    "## Copying"
   ]
  },
  {
   "cell_type": "raw",
   "metadata": {},
   "source": [
    "Copyright 2017 Mac Radigan\n",
    "# Permission is granted to copy, distribute and/or modify this document under the terms of the GNU Free Documentation License, Version 1.3 or any later version published by the Free Software Foundation; with no Invariant Sections and with no restrictions on the Front-Cover and back the Front-Cover Texts. A copy of the license is included in the section entitled \"GNU Free Documentation License\".  "
   ]
  },
  {
   "cell_type": "markdown",
   "metadata": {},
   "source": [
    "### $b^n \\mod m$ for $n = 1, 2, \\cdots 30$"
   ]
  },
  {
   "cell_type": "code",
   "execution_count": 2,
   "metadata": {
    "collapsed": false
   },
   "outputs": [],
   "source": [
    "def example(b,m):\n",
    "  \"\"\"Prints the sequence X_n = b^n mod m for n = 1, 2, ... N\"\"\"\n",
    "  N  = 30\n",
    "  ns = range(1, N)\n",
    "  f  = lambda n: b**n % m\n",
    "  xs = map(f, ns)\n",
    "  print(list(xs))"
   ]
  },
  {
   "cell_type": "markdown",
   "metadata": {},
   "source": [
    "#### Example #1: $\\mathbf{X}^\\left({b=2,m=19}\\right)$"
   ]
  },
  {
   "cell_type": "markdown",
   "metadata": {},
   "source": [
    "\\begin{aligned}\n",
    "\\mathbf{X}_n = 2^n \\mod m\n",
    "\\end{aligned}\n",
    "with\n",
    "\\begin{aligned}\n",
    "b = 2\n",
    "\\end{aligned}\n",
    "\\begin{aligned}\n",
    "m = 19\n",
    "\\end{aligned}\n",
    "yeilding\n",
    "\\begin{aligned}\n",
    "\\mathbf{X}^{\\left(2,19\\right)} = \\{ ,  2, 4, 8,16,13, 7,14, 9,18,17,15,11, 3, 6,12, 5,10, \\cdots \\} = \\left[ \\mathbf{G}^{\\left(2,19\\right)} \\mathbf{H}^{\\left(2,19\\right)} \\mathbf{H}^{\\left(2,19\\right)} \\mathbf{H}^{\\left(2,19\\right)} \\cdots \\right] = \\left[ \\mathbf{G}^{\\left(2,19\\right)} \\left(\\mathbf{H}^{\\left(2,19\\right)}\\right)^{*} \\right]\n",
    "\\end{aligned}\n",
    "where\n",
    "\\begin{aligned}\n",
    "\\mathbf{G}^{\\left(2,19\\right)} = \\{  \\}\n",
    "\\end{aligned}\n",
    "\\begin{aligned}\n",
    "\\mathbf{H}^{\\left(2,19\\right)} = \\{  2, 4, 8,16,13, 7,14, 9,18,17,15,11, 3, 6,12, 5,10, \\}\n",
    "\\end{aligned}\n",
    "so we have\n",
    "\\begin{aligned}\n",
    "\\left|\\mathbf{G}^{\\left(2,19\\right)}\\right| = 0\n",
    "\\end{aligned}\n",
    "\\begin{aligned}\n",
    "\\left|\\mathbf{H}^{\\left(2,19\\right)}\\right| = 18\n",
    "\\end{aligned}"
   ]
  },
  {
   "cell_type": "code",
   "execution_count": 3,
   "metadata": {
    "collapsed": false
   },
   "outputs": [
    {
     "name": "stdout",
     "output_type": "stream",
     "text": [
      "[2, 4, 8, 16, 13, 7, 14, 9, 18, 17, 15, 11, 3, 6, 12, 5, 10, 1, 2, 4, 8, 16, 13, 7, 14, 9, 18, 17, 15]\n"
     ]
    }
   ],
   "source": [
    "example(b=2, m=19) ##   X[n] = 2^n mod 19"
   ]
  },
  {
   "cell_type": "markdown",
   "metadata": {},
   "source": [
    "#### Example #2: $\\mathbf{X}^\\left({b=3,m=19}\\right)$"
   ]
  },
  {
   "cell_type": "markdown",
   "metadata": {},
   "source": [
    "\\begin{aligned}\n",
    "\\mathbf{X}_n = 3^n \\mod m\n",
    "\\end{aligned}\n",
    "with\n",
    "\\begin{aligned}\n",
    "b = 3\n",
    "\\end{aligned}\n",
    "\\begin{aligned}\n",
    "m = 19\n",
    "\\end{aligned}\n",
    "yeilding\n",
    "\\begin{aligned}\n",
    "\\mathbf{X}^{\\left(3,19\\right)} = \\{ ,  3, 9, 8, 5,15, 7, 2, 6,18,16,10,11,14, 4,12,17,13, \\cdots \\} = \\left[ \\mathbf{G}^{\\left(3,19\\right)} \\mathbf{H}^{\\left(3,19\\right)} \\mathbf{H}^{\\left(3,19\\right)} \\mathbf{H}^{\\left(3,19\\right)} \\cdots \\right] = \\left[ \\mathbf{G}^{\\left(3,19\\right)} \\left(\\mathbf{H}^{\\left(3,19\\right)}\\right)^{*} \\right]\n",
    "\\end{aligned}\n",
    "where\n",
    "\\begin{aligned}\n",
    "\\mathbf{G}^{\\left(3,19\\right)} = \\{  \\}\n",
    "\\end{aligned}\n",
    "\\begin{aligned}\n",
    "\\mathbf{H}^{\\left(3,19\\right)} = \\{  3, 9, 8, 5,15, 7, 2, 6,18,16,10,11,14, 4,12,17,13, \\}\n",
    "\\end{aligned}\n",
    "so we have\n",
    "\\begin{aligned}\n",
    "\\left|\\mathbf{G}^{\\left(3,19\\right)}\\right| = 0\n",
    "\\end{aligned}\n",
    "\\begin{aligned}\n",
    "\\left|\\mathbf{H}^{\\left(3,19\\right)}\\right| = 18\n",
    "\\end{aligned}"
   ]
  },
  {
   "cell_type": "code",
   "execution_count": 4,
   "metadata": {
    "collapsed": false
   },
   "outputs": [
    {
     "name": "stdout",
     "output_type": "stream",
     "text": [
      "[3, 9, 8, 5, 15, 7, 2, 6, 18, 16, 10, 11, 14, 4, 12, 17, 13, 1, 3, 9, 8, 5, 15, 7, 2, 6, 18, 16, 10]\n"
     ]
    }
   ],
   "source": [
    "example(b=3, m=19) ##   X[n] = 3^n mod 19"
   ]
  },
  {
   "cell_type": "markdown",
   "metadata": {},
   "source": [
    "#### Example #3: $\\mathbf{X}^\\left({b=4,m=19}\\right)$"
   ]
  },
  {
   "cell_type": "markdown",
   "metadata": {},
   "source": [
    "\\begin{aligned}\n",
    "\\mathbf{X}_n = 4^n \\mod m\n",
    "\\end{aligned}\n",
    "with\n",
    "\\begin{aligned}\n",
    "b = 4\n",
    "\\end{aligned}\n",
    "\\begin{aligned}\n",
    "m = 19\n",
    "\\end{aligned}\n",
    "yeilding\n",
    "\\begin{aligned}\n",
    "\\mathbf{X}^{\\left(4,19\\right)} = \\{ ,  4,16, 7, 9,17,11, 6, 5, \\cdots \\} = \\left[ \\mathbf{G}^{\\left(4,19\\right)} \\mathbf{H}^{\\left(4,19\\right)} \\mathbf{H}^{\\left(4,19\\right)} \\mathbf{H}^{\\left(4,19\\right)} \\cdots \\right] = \\left[ \\mathbf{G}^{\\left(4,19\\right)} \\left(\\mathbf{H}^{\\left(4,19\\right)}\\right)^{*} \\right]\n",
    "\\end{aligned}\n",
    "where\n",
    "\\begin{aligned}\n",
    "\\mathbf{G}^{\\left(4,19\\right)} = \\{  \\}\n",
    "\\end{aligned}\n",
    "\\begin{aligned}\n",
    "\\mathbf{H}^{\\left(4,19\\right)} = \\{  4,16, 7, 9,17,11, 6, 5, \\}\n",
    "\\end{aligned}\n",
    "so we have\n",
    "\\begin{aligned}\n",
    "\\left|\\mathbf{G}^{\\left(4,19\\right)}\\right| = 0\n",
    "\\end{aligned}\n",
    "\\begin{aligned}\n",
    "\\left|\\mathbf{H}^{\\left(4,19\\right)}\\right| = 9\n",
    "\\end{aligned}"
   ]
  },
  {
   "cell_type": "code",
   "execution_count": 5,
   "metadata": {
    "collapsed": false
   },
   "outputs": [
    {
     "name": "stdout",
     "output_type": "stream",
     "text": [
      "[4, 16, 7, 9, 17, 11, 6, 5, 1, 4, 16, 7, 9, 17, 11, 6, 5, 1, 4, 16, 7, 9, 17, 11, 6, 5, 1, 4, 16]\n"
     ]
    }
   ],
   "source": [
    "example(b=4, m=19) ##   X[n] = 4^n mod 19"
   ]
  },
  {
   "cell_type": "markdown",
   "metadata": {},
   "source": [
    "#### Example #4: $\\mathbf{X}^\\left({b=5,m=19}\\right)$"
   ]
  },
  {
   "cell_type": "markdown",
   "metadata": {},
   "source": [
    "\\begin{aligned}\n",
    "\\mathbf{X}_n = 5^n \\mod m\n",
    "\\end{aligned}\n",
    "with\n",
    "\\begin{aligned}\n",
    "b = 5\n",
    "\\end{aligned}\n",
    "\\begin{aligned}\n",
    "m = 19\n",
    "\\end{aligned}\n",
    "yeilding\n",
    "\\begin{aligned}\n",
    "\\mathbf{X}^{\\left(5,19\\right)} = \\{ ,  5, 6,11,17, 9, 7,16, 4, \\cdots \\} = \\left[ \\mathbf{G}^{\\left(5,19\\right)} \\mathbf{H}^{\\left(5,19\\right)} \\mathbf{H}^{\\left(5,19\\right)} \\mathbf{H}^{\\left(5,19\\right)} \\cdots \\right] = \\left[ \\mathbf{G}^{\\left(5,19\\right)} \\left(\\mathbf{H}^{\\left(5,19\\right)}\\right)^{*} \\right]\n",
    "\\end{aligned}\n",
    "where\n",
    "\\begin{aligned}\n",
    "\\mathbf{G}^{\\left(5,19\\right)} = \\{  \\}\n",
    "\\end{aligned}\n",
    "\\begin{aligned}\n",
    "\\mathbf{H}^{\\left(5,19\\right)} = \\{  5, 6,11,17, 9, 7,16, 4, \\}\n",
    "\\end{aligned}\n",
    "so we have\n",
    "\\begin{aligned}\n",
    "\\left|\\mathbf{G}^{\\left(5,19\\right)}\\right| = 0\n",
    "\\end{aligned}\n",
    "\\begin{aligned}\n",
    "\\left|\\mathbf{H}^{\\left(5,19\\right)}\\right| = 9\n",
    "\\end{aligned}"
   ]
  },
  {
   "cell_type": "code",
   "execution_count": 6,
   "metadata": {
    "collapsed": false
   },
   "outputs": [
    {
     "name": "stdout",
     "output_type": "stream",
     "text": [
      "[5, 6, 11, 17, 9, 7, 16, 4, 1, 5, 6, 11, 17, 9, 7, 16, 4, 1, 5, 6, 11, 17, 9, 7, 16, 4, 1, 5, 6]\n"
     ]
    }
   ],
   "source": [
    "example(b=5, m=19) ##   X[n] = 5^n mod 19"
   ]
  },
  {
   "cell_type": "markdown",
   "metadata": {},
   "source": [
    "#### Example #5: $\\mathbf{X}^\\left({b=6,m=19}\\right)$"
   ]
  },
  {
   "cell_type": "markdown",
   "metadata": {},
   "source": [
    "\\begin{aligned}\n",
    "\\mathbf{X}_n = 6^n \\mod m\n",
    "\\end{aligned}\n",
    "with\n",
    "\\begin{aligned}\n",
    "b = 6\n",
    "\\end{aligned}\n",
    "\\begin{aligned}\n",
    "m = 19\n",
    "\\end{aligned}\n",
    "yeilding\n",
    "\\begin{aligned}\n",
    "\\mathbf{X}^{\\left(6,19\\right)} = \\{ ,  6,17, 7, 4, 5,11, 9,16, \\cdots \\} = \\left[ \\mathbf{G}^{\\left(6,19\\right)} \\mathbf{H}^{\\left(6,19\\right)} \\mathbf{H}^{\\left(6,19\\right)} \\mathbf{H}^{\\left(6,19\\right)} \\cdots \\right] = \\left[ \\mathbf{G}^{\\left(6,19\\right)} \\left(\\mathbf{H}^{\\left(6,19\\right)}\\right)^{*} \\right]\n",
    "\\end{aligned}\n",
    "where\n",
    "\\begin{aligned}\n",
    "\\mathbf{G}^{\\left(6,19\\right)} = \\{  \\}\n",
    "\\end{aligned}\n",
    "\\begin{aligned}\n",
    "\\mathbf{H}^{\\left(6,19\\right)} = \\{  6,17, 7, 4, 5,11, 9,16, \\}\n",
    "\\end{aligned}\n",
    "so we have\n",
    "\\begin{aligned}\n",
    "\\left|\\mathbf{G}^{\\left(6,19\\right)}\\right| = 0\n",
    "\\end{aligned}\n",
    "\\begin{aligned}\n",
    "\\left|\\mathbf{H}^{\\left(6,19\\right)}\\right| = 9\n",
    "\\end{aligned}"
   ]
  },
  {
   "cell_type": "code",
   "execution_count": 7,
   "metadata": {
    "collapsed": false
   },
   "outputs": [
    {
     "name": "stdout",
     "output_type": "stream",
     "text": [
      "[6, 17, 7, 4, 5, 11, 9, 16, 1, 6, 17, 7, 4, 5, 11, 9, 16, 1, 6, 17, 7, 4, 5, 11, 9, 16, 1, 6, 17]\n"
     ]
    }
   ],
   "source": [
    "example(b=6, m=19) ##   X[n] = 6^n mod 19"
   ]
  },
  {
   "cell_type": "markdown",
   "metadata": {},
   "source": [
    "#### Example #6: $\\mathbf{X}^\\left({b=7,m=19}\\right)$"
   ]
  },
  {
   "cell_type": "markdown",
   "metadata": {},
   "source": [
    "\\begin{aligned}\n",
    "\\mathbf{X}_n = 7^n \\mod m\n",
    "\\end{aligned}\n",
    "with\n",
    "\\begin{aligned}\n",
    "b = 7\n",
    "\\end{aligned}\n",
    "\\begin{aligned}\n",
    "m = 19\n",
    "\\end{aligned}\n",
    "yeilding\n",
    "\\begin{aligned}\n",
    "\\mathbf{X}^{\\left(7,19\\right)} = \\{ ,  7,11, \\cdots \\} = \\left[ \\mathbf{G}^{\\left(7,19\\right)} \\mathbf{H}^{\\left(7,19\\right)} \\mathbf{H}^{\\left(7,19\\right)} \\mathbf{H}^{\\left(7,19\\right)} \\cdots \\right] = \\left[ \\mathbf{G}^{\\left(7,19\\right)} \\left(\\mathbf{H}^{\\left(7,19\\right)}\\right)^{*} \\right]\n",
    "\\end{aligned}\n",
    "where\n",
    "\\begin{aligned}\n",
    "\\mathbf{G}^{\\left(7,19\\right)} = \\{  \\}\n",
    "\\end{aligned}\n",
    "\\begin{aligned}\n",
    "\\mathbf{H}^{\\left(7,19\\right)} = \\{  7,11, \\}\n",
    "\\end{aligned}\n",
    "so we have\n",
    "\\begin{aligned}\n",
    "\\left|\\mathbf{G}^{\\left(7,19\\right)}\\right| = 0\n",
    "\\end{aligned}\n",
    "\\begin{aligned}\n",
    "\\left|\\mathbf{H}^{\\left(7,19\\right)}\\right| = 3\n",
    "\\end{aligned}"
   ]
  },
  {
   "cell_type": "code",
   "execution_count": 8,
   "metadata": {
    "collapsed": false
   },
   "outputs": [
    {
     "name": "stdout",
     "output_type": "stream",
     "text": [
      "[7, 11, 1, 7, 11, 1, 7, 11, 1, 7, 11, 1, 7, 11, 1, 7, 11, 1, 7, 11, 1, 7, 11, 1, 7, 11, 1, 7, 11]\n"
     ]
    }
   ],
   "source": [
    "example(b=7, m=19) ##   X[n] = 7^n mod 19"
   ]
  },
  {
   "cell_type": "markdown",
   "metadata": {},
   "source": [
    "#### Example #7: $\\mathbf{X}^\\left({b=8,m=19}\\right)$"
   ]
  },
  {
   "cell_type": "markdown",
   "metadata": {},
   "source": [
    "\\begin{aligned}\n",
    "\\mathbf{X}_n = 8^n \\mod m\n",
    "\\end{aligned}\n",
    "with\n",
    "\\begin{aligned}\n",
    "b = 8\n",
    "\\end{aligned}\n",
    "\\begin{aligned}\n",
    "m = 19\n",
    "\\end{aligned}\n",
    "yeilding\n",
    "\\begin{aligned}\n",
    "\\mathbf{X}^{\\left(8,19\\right)} = \\{ ,  8, 7,18,11,12, \\cdots \\} = \\left[ \\mathbf{G}^{\\left(8,19\\right)} \\mathbf{H}^{\\left(8,19\\right)} \\mathbf{H}^{\\left(8,19\\right)} \\mathbf{H}^{\\left(8,19\\right)} \\cdots \\right] = \\left[ \\mathbf{G}^{\\left(8,19\\right)} \\left(\\mathbf{H}^{\\left(8,19\\right)}\\right)^{*} \\right]\n",
    "\\end{aligned}\n",
    "where\n",
    "\\begin{aligned}\n",
    "\\mathbf{G}^{\\left(8,19\\right)} = \\{  \\}\n",
    "\\end{aligned}\n",
    "\\begin{aligned}\n",
    "\\mathbf{H}^{\\left(8,19\\right)} = \\{  8, 7,18,11,12, \\}\n",
    "\\end{aligned}\n",
    "so we have\n",
    "\\begin{aligned}\n",
    "\\left|\\mathbf{G}^{\\left(8,19\\right)}\\right| = 0\n",
    "\\end{aligned}\n",
    "\\begin{aligned}\n",
    "\\left|\\mathbf{H}^{\\left(8,19\\right)}\\right| = 6\n",
    "\\end{aligned}"
   ]
  },
  {
   "cell_type": "code",
   "execution_count": 9,
   "metadata": {
    "collapsed": false
   },
   "outputs": [
    {
     "name": "stdout",
     "output_type": "stream",
     "text": [
      "[8, 7, 18, 11, 12, 1, 8, 7, 18, 11, 12, 1, 8, 7, 18, 11, 12, 1, 8, 7, 18, 11, 12, 1, 8, 7, 18, 11, 12]\n"
     ]
    }
   ],
   "source": [
    "example(b=8, m=19) ##   X[n] = 8^n mod 19"
   ]
  },
  {
   "cell_type": "markdown",
   "metadata": {},
   "source": [
    "#### Example #8: $\\mathbf{X}^\\left({b=9,m=19}\\right)$"
   ]
  },
  {
   "cell_type": "markdown",
   "metadata": {},
   "source": [
    "\\begin{aligned}\n",
    "\\mathbf{X}_n = 9^n \\mod m\n",
    "\\end{aligned}\n",
    "with\n",
    "\\begin{aligned}\n",
    "b = 9\n",
    "\\end{aligned}\n",
    "\\begin{aligned}\n",
    "m = 19\n",
    "\\end{aligned}\n",
    "yeilding\n",
    "\\begin{aligned}\n",
    "\\mathbf{X}^{\\left(9,19\\right)} = \\{ ,  9, 5, 7, 6,16,11, 4,17, \\cdots \\} = \\left[ \\mathbf{G}^{\\left(9,19\\right)} \\mathbf{H}^{\\left(9,19\\right)} \\mathbf{H}^{\\left(9,19\\right)} \\mathbf{H}^{\\left(9,19\\right)} \\cdots \\right] = \\left[ \\mathbf{G}^{\\left(9,19\\right)} \\left(\\mathbf{H}^{\\left(9,19\\right)}\\right)^{*} \\right]\n",
    "\\end{aligned}\n",
    "where\n",
    "\\begin{aligned}\n",
    "\\mathbf{G}^{\\left(9,19\\right)} = \\{  \\}\n",
    "\\end{aligned}\n",
    "\\begin{aligned}\n",
    "\\mathbf{H}^{\\left(9,19\\right)} = \\{  9, 5, 7, 6,16,11, 4,17, \\}\n",
    "\\end{aligned}\n",
    "so we have\n",
    "\\begin{aligned}\n",
    "\\left|\\mathbf{G}^{\\left(9,19\\right)}\\right| = 0\n",
    "\\end{aligned}\n",
    "\\begin{aligned}\n",
    "\\left|\\mathbf{H}^{\\left(9,19\\right)}\\right| = 9\n",
    "\\end{aligned}"
   ]
  },
  {
   "cell_type": "code",
   "execution_count": 10,
   "metadata": {
    "collapsed": false
   },
   "outputs": [
    {
     "name": "stdout",
     "output_type": "stream",
     "text": [
      "[9, 5, 7, 6, 16, 11, 4, 17, 1, 9, 5, 7, 6, 16, 11, 4, 17, 1, 9, 5, 7, 6, 16, 11, 4, 17, 1, 9, 5]\n"
     ]
    }
   ],
   "source": [
    "example(b=9, m=19) ##   X[n] = 9^n mod 19"
   ]
  },
  {
   "cell_type": "markdown",
   "metadata": {},
   "source": [
    "#### Example #9: $\\mathbf{X}^\\left({b=10,m=19}\\right)$"
   ]
  },
  {
   "cell_type": "markdown",
   "metadata": {},
   "source": [
    "\\begin{aligned}\n",
    "\\mathbf{X}_n = 10^n \\mod m\n",
    "\\end{aligned}\n",
    "with\n",
    "\\begin{aligned}\n",
    "b = 10\n",
    "\\end{aligned}\n",
    "\\begin{aligned}\n",
    "m = 19\n",
    "\\end{aligned}\n",
    "yeilding\n",
    "\\begin{aligned}\n",
    "\\mathbf{X}^{\\left(10,19\\right)} = \\{ , 10, 5,12, 6, 3,11,15,17,18, 9,14, 7,13,16, 8, 4, 2, \\cdots \\} = \\left[ \\mathbf{G}^{\\left(10,19\\right)} \\mathbf{H}^{\\left(10,19\\right)} \\mathbf{H}^{\\left(10,19\\right)} \\mathbf{H}^{\\left(10,19\\right)} \\cdots \\right] = \\left[ \\mathbf{G}^{\\left(10,19\\right)} \\left(\\mathbf{H}^{\\left(10,19\\right)}\\right)^{*} \\right]\n",
    "\\end{aligned}\n",
    "where\n",
    "\\begin{aligned}\n",
    "\\mathbf{G}^{\\left(10,19\\right)} = \\{  \\}\n",
    "\\end{aligned}\n",
    "\\begin{aligned}\n",
    "\\mathbf{H}^{\\left(10,19\\right)} = \\{ 10, 5,12, 6, 3,11,15,17,18, 9,14, 7,13,16, 8, 4, 2, \\}\n",
    "\\end{aligned}\n",
    "so we have\n",
    "\\begin{aligned}\n",
    "\\left|\\mathbf{G}^{\\left(10,19\\right)}\\right| = 0\n",
    "\\end{aligned}\n",
    "\\begin{aligned}\n",
    "\\left|\\mathbf{H}^{\\left(10,19\\right)}\\right| = 18\n",
    "\\end{aligned}"
   ]
  },
  {
   "cell_type": "code",
   "execution_count": 11,
   "metadata": {
    "collapsed": false
   },
   "outputs": [
    {
     "name": "stdout",
     "output_type": "stream",
     "text": [
      "[10, 5, 12, 6, 3, 11, 15, 17, 18, 9, 14, 7, 13, 16, 8, 4, 2, 1, 10, 5, 12, 6, 3, 11, 15, 17, 18, 9, 14]\n"
     ]
    }
   ],
   "source": [
    "example(b=10, m=19) ##   X[n] = 10^n mod 19"
   ]
  },
  {
   "cell_type": "markdown",
   "metadata": {},
   "source": [
    "#### Example #10: $\\mathbf{X}^\\left({b=11,m=19}\\right)$"
   ]
  },
  {
   "cell_type": "markdown",
   "metadata": {},
   "source": [
    "\\begin{aligned}\n",
    "\\mathbf{X}_n = 11^n \\mod m\n",
    "\\end{aligned}\n",
    "with\n",
    "\\begin{aligned}\n",
    "b = 11\n",
    "\\end{aligned}\n",
    "\\begin{aligned}\n",
    "m = 19\n",
    "\\end{aligned}\n",
    "yeilding\n",
    "\\begin{aligned}\n",
    "\\mathbf{X}^{\\left(11,19\\right)} = \\{ , 11, 7, \\cdots \\} = \\left[ \\mathbf{G}^{\\left(11,19\\right)} \\mathbf{H}^{\\left(11,19\\right)} \\mathbf{H}^{\\left(11,19\\right)} \\mathbf{H}^{\\left(11,19\\right)} \\cdots \\right] = \\left[ \\mathbf{G}^{\\left(11,19\\right)} \\left(\\mathbf{H}^{\\left(11,19\\right)}\\right)^{*} \\right]\n",
    "\\end{aligned}\n",
    "where\n",
    "\\begin{aligned}\n",
    "\\mathbf{G}^{\\left(11,19\\right)} = \\{  \\}\n",
    "\\end{aligned}\n",
    "\\begin{aligned}\n",
    "\\mathbf{H}^{\\left(11,19\\right)} = \\{ 11, 7, \\}\n",
    "\\end{aligned}\n",
    "so we have\n",
    "\\begin{aligned}\n",
    "\\left|\\mathbf{G}^{\\left(11,19\\right)}\\right| = 0\n",
    "\\end{aligned}\n",
    "\\begin{aligned}\n",
    "\\left|\\mathbf{H}^{\\left(11,19\\right)}\\right| = 3\n",
    "\\end{aligned}"
   ]
  },
  {
   "cell_type": "code",
   "execution_count": 12,
   "metadata": {
    "collapsed": false
   },
   "outputs": [
    {
     "name": "stdout",
     "output_type": "stream",
     "text": [
      "[11, 7, 1, 11, 7, 1, 11, 7, 1, 11, 7, 1, 11, 7, 1, 11, 7, 1, 11, 7, 1, 11, 7, 1, 11, 7, 1, 11, 7]\n"
     ]
    }
   ],
   "source": [
    "example(b=11, m=19) ##   X[n] = 11^n mod 19"
   ]
  },
  {
   "cell_type": "markdown",
   "metadata": {},
   "source": [
    "#### Example #11: $\\mathbf{X}^\\left({b=12,m=19}\\right)$"
   ]
  },
  {
   "cell_type": "markdown",
   "metadata": {},
   "source": [
    "\\begin{aligned}\n",
    "\\mathbf{X}_n = 12^n \\mod m\n",
    "\\end{aligned}\n",
    "with\n",
    "\\begin{aligned}\n",
    "b = 12\n",
    "\\end{aligned}\n",
    "\\begin{aligned}\n",
    "m = 19\n",
    "\\end{aligned}\n",
    "yeilding\n",
    "\\begin{aligned}\n",
    "\\mathbf{X}^{\\left(12,19\\right)} = \\{ , 12,11,18, 7, 8, \\cdots \\} = \\left[ \\mathbf{G}^{\\left(12,19\\right)} \\mathbf{H}^{\\left(12,19\\right)} \\mathbf{H}^{\\left(12,19\\right)} \\mathbf{H}^{\\left(12,19\\right)} \\cdots \\right] = \\left[ \\mathbf{G}^{\\left(12,19\\right)} \\left(\\mathbf{H}^{\\left(12,19\\right)}\\right)^{*} \\right]\n",
    "\\end{aligned}\n",
    "where\n",
    "\\begin{aligned}\n",
    "\\mathbf{G}^{\\left(12,19\\right)} = \\{  \\}\n",
    "\\end{aligned}\n",
    "\\begin{aligned}\n",
    "\\mathbf{H}^{\\left(12,19\\right)} = \\{ 12,11,18, 7, 8, \\}\n",
    "\\end{aligned}\n",
    "so we have\n",
    "\\begin{aligned}\n",
    "\\left|\\mathbf{G}^{\\left(12,19\\right)}\\right| = 0\n",
    "\\end{aligned}\n",
    "\\begin{aligned}\n",
    "\\left|\\mathbf{H}^{\\left(12,19\\right)}\\right| = 6\n",
    "\\end{aligned}"
   ]
  },
  {
   "cell_type": "code",
   "execution_count": 13,
   "metadata": {
    "collapsed": false
   },
   "outputs": [
    {
     "name": "stdout",
     "output_type": "stream",
     "text": [
      "[12, 11, 18, 7, 8, 1, 12, 11, 18, 7, 8, 1, 12, 11, 18, 7, 8, 1, 12, 11, 18, 7, 8, 1, 12, 11, 18, 7, 8]\n"
     ]
    }
   ],
   "source": [
    "example(b=12, m=19) ##   X[n] = 12^n mod 19"
   ]
  },
  {
   "cell_type": "markdown",
   "metadata": {},
   "source": [
    "#### Example #12: $\\mathbf{X}^\\left({b=13,m=19}\\right)$"
   ]
  },
  {
   "cell_type": "markdown",
   "metadata": {},
   "source": [
    "\\begin{aligned}\n",
    "\\mathbf{X}_n = 13^n \\mod m\n",
    "\\end{aligned}\n",
    "with\n",
    "\\begin{aligned}\n",
    "b = 13\n",
    "\\end{aligned}\n",
    "\\begin{aligned}\n",
    "m = 19\n",
    "\\end{aligned}\n",
    "yeilding\n",
    "\\begin{aligned}\n",
    "\\mathbf{X}^{\\left(13,19\\right)} = \\{ , 13,17,12, 4,14,11,10,16,18, 6, 2, 7,15, 5, 8, 9, 3, \\cdots \\} = \\left[ \\mathbf{G}^{\\left(13,19\\right)} \\mathbf{H}^{\\left(13,19\\right)} \\mathbf{H}^{\\left(13,19\\right)} \\mathbf{H}^{\\left(13,19\\right)} \\cdots \\right] = \\left[ \\mathbf{G}^{\\left(13,19\\right)} \\left(\\mathbf{H}^{\\left(13,19\\right)}\\right)^{*} \\right]\n",
    "\\end{aligned}\n",
    "where\n",
    "\\begin{aligned}\n",
    "\\mathbf{G}^{\\left(13,19\\right)} = \\{  \\}\n",
    "\\end{aligned}\n",
    "\\begin{aligned}\n",
    "\\mathbf{H}^{\\left(13,19\\right)} = \\{ 13,17,12, 4,14,11,10,16,18, 6, 2, 7,15, 5, 8, 9, 3, \\}\n",
    "\\end{aligned}\n",
    "so we have\n",
    "\\begin{aligned}\n",
    "\\left|\\mathbf{G}^{\\left(13,19\\right)}\\right| = 0\n",
    "\\end{aligned}\n",
    "\\begin{aligned}\n",
    "\\left|\\mathbf{H}^{\\left(13,19\\right)}\\right| = 18\n",
    "\\end{aligned}"
   ]
  },
  {
   "cell_type": "code",
   "execution_count": 14,
   "metadata": {
    "collapsed": false
   },
   "outputs": [
    {
     "name": "stdout",
     "output_type": "stream",
     "text": [
      "[13, 17, 12, 4, 14, 11, 10, 16, 18, 6, 2, 7, 15, 5, 8, 9, 3, 1, 13, 17, 12, 4, 14, 11, 10, 16, 18, 6, 2]\n"
     ]
    }
   ],
   "source": [
    "example(b=13, m=19) ##   X[n] = 13^n mod 19"
   ]
  },
  {
   "cell_type": "markdown",
   "metadata": {},
   "source": [
    "#### Example #13: $\\mathbf{X}^\\left({b=14,m=19}\\right)$"
   ]
  },
  {
   "cell_type": "markdown",
   "metadata": {},
   "source": [
    "\\begin{aligned}\n",
    "\\mathbf{X}_n = 14^n \\mod m\n",
    "\\end{aligned}\n",
    "with\n",
    "\\begin{aligned}\n",
    "b = 14\n",
    "\\end{aligned}\n",
    "\\begin{aligned}\n",
    "m = 19\n",
    "\\end{aligned}\n",
    "yeilding\n",
    "\\begin{aligned}\n",
    "\\mathbf{X}^{\\left(14,19\\right)} = \\{ , 14, 6, 8,17,10, 7, 3, 4,18, 5,13,11, 2, 9,12,16,15, \\cdots \\} = \\left[ \\mathbf{G}^{\\left(14,19\\right)} \\mathbf{H}^{\\left(14,19\\right)} \\mathbf{H}^{\\left(14,19\\right)} \\mathbf{H}^{\\left(14,19\\right)} \\cdots \\right] = \\left[ \\mathbf{G}^{\\left(14,19\\right)} \\left(\\mathbf{H}^{\\left(14,19\\right)}\\right)^{*} \\right]\n",
    "\\end{aligned}\n",
    "where\n",
    "\\begin{aligned}\n",
    "\\mathbf{G}^{\\left(14,19\\right)} = \\{  \\}\n",
    "\\end{aligned}\n",
    "\\begin{aligned}\n",
    "\\mathbf{H}^{\\left(14,19\\right)} = \\{ 14, 6, 8,17,10, 7, 3, 4,18, 5,13,11, 2, 9,12,16,15, \\}\n",
    "\\end{aligned}\n",
    "so we have\n",
    "\\begin{aligned}\n",
    "\\left|\\mathbf{G}^{\\left(14,19\\right)}\\right| = 0\n",
    "\\end{aligned}\n",
    "\\begin{aligned}\n",
    "\\left|\\mathbf{H}^{\\left(14,19\\right)}\\right| = 18\n",
    "\\end{aligned}"
   ]
  },
  {
   "cell_type": "code",
   "execution_count": 15,
   "metadata": {
    "collapsed": false
   },
   "outputs": [
    {
     "name": "stdout",
     "output_type": "stream",
     "text": [
      "[14, 6, 8, 17, 10, 7, 3, 4, 18, 5, 13, 11, 2, 9, 12, 16, 15, 1, 14, 6, 8, 17, 10, 7, 3, 4, 18, 5, 13]\n"
     ]
    }
   ],
   "source": [
    "example(b=14, m=19) ##   X[n] = 14^n mod 19"
   ]
  },
  {
   "cell_type": "markdown",
   "metadata": {},
   "source": [
    "#### Example #14: $\\mathbf{X}^\\left({b=15,m=19}\\right)$"
   ]
  },
  {
   "cell_type": "markdown",
   "metadata": {},
   "source": [
    "\\begin{aligned}\n",
    "\\mathbf{X}_n = 15^n \\mod m\n",
    "\\end{aligned}\n",
    "with\n",
    "\\begin{aligned}\n",
    "b = 15\n",
    "\\end{aligned}\n",
    "\\begin{aligned}\n",
    "m = 19\n",
    "\\end{aligned}\n",
    "yeilding\n",
    "\\begin{aligned}\n",
    "\\mathbf{X}^{\\left(15,19\\right)} = \\{ , 15,16,12, 9, 2,11,13, 5,18, 4, 3, 7,10,17, 8, 6,14, \\cdots \\} = \\left[ \\mathbf{G}^{\\left(15,19\\right)} \\mathbf{H}^{\\left(15,19\\right)} \\mathbf{H}^{\\left(15,19\\right)} \\mathbf{H}^{\\left(15,19\\right)} \\cdots \\right] = \\left[ \\mathbf{G}^{\\left(15,19\\right)} \\left(\\mathbf{H}^{\\left(15,19\\right)}\\right)^{*} \\right]\n",
    "\\end{aligned}\n",
    "where\n",
    "\\begin{aligned}\n",
    "\\mathbf{G}^{\\left(15,19\\right)} = \\{  \\}\n",
    "\\end{aligned}\n",
    "\\begin{aligned}\n",
    "\\mathbf{H}^{\\left(15,19\\right)} = \\{ 15,16,12, 9, 2,11,13, 5,18, 4, 3, 7,10,17, 8, 6,14, \\}\n",
    "\\end{aligned}\n",
    "so we have\n",
    "\\begin{aligned}\n",
    "\\left|\\mathbf{G}^{\\left(15,19\\right)}\\right| = 0\n",
    "\\end{aligned}\n",
    "\\begin{aligned}\n",
    "\\left|\\mathbf{H}^{\\left(15,19\\right)}\\right| = 18\n",
    "\\end{aligned}"
   ]
  },
  {
   "cell_type": "code",
   "execution_count": 16,
   "metadata": {
    "collapsed": false
   },
   "outputs": [
    {
     "name": "stdout",
     "output_type": "stream",
     "text": [
      "[15, 16, 12, 9, 2, 11, 13, 5, 18, 4, 3, 7, 10, 17, 8, 6, 14, 1, 15, 16, 12, 9, 2, 11, 13, 5, 18, 4, 3]\n"
     ]
    }
   ],
   "source": [
    "example(b=15, m=19) ##   X[n] = 15^n mod 19"
   ]
  },
  {
   "cell_type": "markdown",
   "metadata": {},
   "source": [
    "#### Example #15: $\\mathbf{X}^\\left({b=16,m=19}\\right)$"
   ]
  },
  {
   "cell_type": "markdown",
   "metadata": {},
   "source": [
    "\\begin{aligned}\n",
    "\\mathbf{X}_n = 16^n \\mod m\n",
    "\\end{aligned}\n",
    "with\n",
    "\\begin{aligned}\n",
    "b = 16\n",
    "\\end{aligned}\n",
    "\\begin{aligned}\n",
    "m = 19\n",
    "\\end{aligned}\n",
    "yeilding\n",
    "\\begin{aligned}\n",
    "\\mathbf{X}^{\\left(16,19\\right)} = \\{ , 16, 9,11, 5, 4, 7,17, 6, \\cdots \\} = \\left[ \\mathbf{G}^{\\left(16,19\\right)} \\mathbf{H}^{\\left(16,19\\right)} \\mathbf{H}^{\\left(16,19\\right)} \\mathbf{H}^{\\left(16,19\\right)} \\cdots \\right] = \\left[ \\mathbf{G}^{\\left(16,19\\right)} \\left(\\mathbf{H}^{\\left(16,19\\right)}\\right)^{*} \\right]\n",
    "\\end{aligned}\n",
    "where\n",
    "\\begin{aligned}\n",
    "\\mathbf{G}^{\\left(16,19\\right)} = \\{  \\}\n",
    "\\end{aligned}\n",
    "\\begin{aligned}\n",
    "\\mathbf{H}^{\\left(16,19\\right)} = \\{ 16, 9,11, 5, 4, 7,17, 6, \\}\n",
    "\\end{aligned}\n",
    "so we have\n",
    "\\begin{aligned}\n",
    "\\left|\\mathbf{G}^{\\left(16,19\\right)}\\right| = 0\n",
    "\\end{aligned}\n",
    "\\begin{aligned}\n",
    "\\left|\\mathbf{H}^{\\left(16,19\\right)}\\right| = 9\n",
    "\\end{aligned}"
   ]
  },
  {
   "cell_type": "code",
   "execution_count": 17,
   "metadata": {
    "collapsed": false
   },
   "outputs": [
    {
     "name": "stdout",
     "output_type": "stream",
     "text": [
      "[16, 9, 11, 5, 4, 7, 17, 6, 1, 16, 9, 11, 5, 4, 7, 17, 6, 1, 16, 9, 11, 5, 4, 7, 17, 6, 1, 16, 9]\n"
     ]
    }
   ],
   "source": [
    "example(b=16, m=19) ##   X[n] = 16^n mod 19"
   ]
  },
  {
   "cell_type": "markdown",
   "metadata": {},
   "source": [
    "#### Example #16: $\\mathbf{X}^\\left({b=17,m=19}\\right)$"
   ]
  },
  {
   "cell_type": "markdown",
   "metadata": {},
   "source": [
    "\\begin{aligned}\n",
    "\\mathbf{X}_n = 17^n \\mod m\n",
    "\\end{aligned}\n",
    "with\n",
    "\\begin{aligned}\n",
    "b = 17\n",
    "\\end{aligned}\n",
    "\\begin{aligned}\n",
    "m = 19\n",
    "\\end{aligned}\n",
    "yeilding\n",
    "\\begin{aligned}\n",
    "\\mathbf{X}^{\\left(17,19\\right)} = \\{ , 17, 4,11,16, 6, 7, 5, 9, \\cdots \\} = \\left[ \\mathbf{G}^{\\left(17,19\\right)} \\mathbf{H}^{\\left(17,19\\right)} \\mathbf{H}^{\\left(17,19\\right)} \\mathbf{H}^{\\left(17,19\\right)} \\cdots \\right] = \\left[ \\mathbf{G}^{\\left(17,19\\right)} \\left(\\mathbf{H}^{\\left(17,19\\right)}\\right)^{*} \\right]\n",
    "\\end{aligned}\n",
    "where\n",
    "\\begin{aligned}\n",
    "\\mathbf{G}^{\\left(17,19\\right)} = \\{  \\}\n",
    "\\end{aligned}\n",
    "\\begin{aligned}\n",
    "\\mathbf{H}^{\\left(17,19\\right)} = \\{ 17, 4,11,16, 6, 7, 5, 9, \\}\n",
    "\\end{aligned}\n",
    "so we have\n",
    "\\begin{aligned}\n",
    "\\left|\\mathbf{G}^{\\left(17,19\\right)}\\right| = 0\n",
    "\\end{aligned}\n",
    "\\begin{aligned}\n",
    "\\left|\\mathbf{H}^{\\left(17,19\\right)}\\right| = 9\n",
    "\\end{aligned}"
   ]
  },
  {
   "cell_type": "code",
   "execution_count": 18,
   "metadata": {
    "collapsed": false
   },
   "outputs": [
    {
     "name": "stdout",
     "output_type": "stream",
     "text": [
      "[17, 4, 11, 16, 6, 7, 5, 9, 1, 17, 4, 11, 16, 6, 7, 5, 9, 1, 17, 4, 11, 16, 6, 7, 5, 9, 1, 17, 4]\n"
     ]
    }
   ],
   "source": [
    "example(b=17, m=19) ##   X[n] = 17^n mod 19"
   ]
  },
  {
   "cell_type": "markdown",
   "metadata": {},
   "source": [
    "#### Example #17: $\\mathbf{X}^\\left({b=18,m=19}\\right)$"
   ]
  },
  {
   "cell_type": "markdown",
   "metadata": {},
   "source": [
    "\\begin{aligned}\n",
    "\\mathbf{X}_n = 18^n \\mod m\n",
    "\\end{aligned}\n",
    "with\n",
    "\\begin{aligned}\n",
    "b = 18\n",
    "\\end{aligned}\n",
    "\\begin{aligned}\n",
    "m = 19\n",
    "\\end{aligned}\n",
    "yeilding\n",
    "\\begin{aligned}\n",
    "\\mathbf{X}^{\\left(18,19\\right)} = \\{ , 18, \\cdots \\} = \\left[ \\mathbf{G}^{\\left(18,19\\right)} \\mathbf{H}^{\\left(18,19\\right)} \\mathbf{H}^{\\left(18,19\\right)} \\mathbf{H}^{\\left(18,19\\right)} \\cdots \\right] = \\left[ \\mathbf{G}^{\\left(18,19\\right)} \\left(\\mathbf{H}^{\\left(18,19\\right)}\\right)^{*} \\right]\n",
    "\\end{aligned}\n",
    "where\n",
    "\\begin{aligned}\n",
    "\\mathbf{G}^{\\left(18,19\\right)} = \\{  \\}\n",
    "\\end{aligned}\n",
    "\\begin{aligned}\n",
    "\\mathbf{H}^{\\left(18,19\\right)} = \\{ 18, \\}\n",
    "\\end{aligned}\n",
    "so we have\n",
    "\\begin{aligned}\n",
    "\\left|\\mathbf{G}^{\\left(18,19\\right)}\\right| = 0\n",
    "\\end{aligned}\n",
    "\\begin{aligned}\n",
    "\\left|\\mathbf{H}^{\\left(18,19\\right)}\\right| = 2\n",
    "\\end{aligned}"
   ]
  },
  {
   "cell_type": "code",
   "execution_count": 19,
   "metadata": {
    "collapsed": false
   },
   "outputs": [
    {
     "name": "stdout",
     "output_type": "stream",
     "text": [
      "[18, 1, 18, 1, 18, 1, 18, 1, 18, 1, 18, 1, 18, 1, 18, 1, 18, 1, 18, 1, 18, 1, 18, 1, 18, 1, 18, 1, 18]\n"
     ]
    }
   ],
   "source": [
    "example(b=18, m=19) ##   X[n] = 18^n mod 19"
   ]
  },
  {
   "cell_type": "markdown",
   "metadata": {},
   "source": [
    "#### Example #18: $\\mathbf{X}^\\left({b=19,m=19}\\right)$"
   ]
  },
  {
   "cell_type": "markdown",
   "metadata": {},
   "source": [
    "\\begin{aligned}\n",
    "\\mathbf{X}_n = 19^n \\mod m\n",
    "\\end{aligned}\n",
    "with\n",
    "\\begin{aligned}\n",
    "b = 19\n",
    "\\end{aligned}\n",
    "\\begin{aligned}\n",
    "m = 19\n",
    "\\end{aligned}\n",
    "yeilding\n",
    "\\begin{aligned}\n",
    "\\mathbf{X}^{\\left(19,19\\right)} = \\{ ,  \\cdots \\} = \\left[ \\mathbf{G}^{\\left(19,19\\right)} \\mathbf{H}^{\\left(19,19\\right)} \\mathbf{H}^{\\left(19,19\\right)} \\mathbf{H}^{\\left(19,19\\right)} \\cdots \\right] = \\left[ \\mathbf{G}^{\\left(19,19\\right)} \\left(\\mathbf{H}^{\\left(19,19\\right)}\\right)^{*} \\right]\n",
    "\\end{aligned}\n",
    "where\n",
    "\\begin{aligned}\n",
    "\\mathbf{G}^{\\left(19,19\\right)} = \\{  \\}\n",
    "\\end{aligned}\n",
    "\\begin{aligned}\n",
    "\\mathbf{H}^{\\left(19,19\\right)} = \\{  \\}\n",
    "\\end{aligned}\n",
    "so we have\n",
    "\\begin{aligned}\n",
    "\\left|\\mathbf{G}^{\\left(19,19\\right)}\\right| = 0\n",
    "\\end{aligned}\n",
    "\\begin{aligned}\n",
    "\\left|\\mathbf{H}^{\\left(19,19\\right)}\\right| = 1\n",
    "\\end{aligned}"
   ]
  },
  {
   "cell_type": "code",
   "execution_count": 20,
   "metadata": {
    "collapsed": false
   },
   "outputs": [
    {
     "name": "stdout",
     "output_type": "stream",
     "text": [
      "[0, 0, 0, 0, 0, 0, 0, 0, 0, 0, 0, 0, 0, 0, 0, 0, 0, 0, 0, 0, 0, 0, 0, 0, 0, 0, 0, 0, 0]\n"
     ]
    }
   ],
   "source": [
    "example(b=19, m=19) ##   X[n] = 19^n mod 19"
   ]
  },
  {
   "cell_type": "markdown",
   "metadata": {},
   "source": [
    "#### Example #19: $\\mathbf{X}^\\left({b=20,m=19}\\right)$"
   ]
  },
  {
   "cell_type": "markdown",
   "metadata": {},
   "source": [
    "\\begin{aligned}\n",
    "\\mathbf{X}_n = 20^n \\mod m\n",
    "\\end{aligned}\n",
    "with\n",
    "\\begin{aligned}\n",
    "b = 20\n",
    "\\end{aligned}\n",
    "\\begin{aligned}\n",
    "m = 19\n",
    "\\end{aligned}\n",
    "yeilding\n",
    "\\begin{aligned}\n",
    "\\mathbf{X}^{\\left(20,19\\right)} = \\{ ,  \\cdots \\} = \\left[ \\mathbf{G}^{\\left(20,19\\right)} \\mathbf{H}^{\\left(20,19\\right)} \\mathbf{H}^{\\left(20,19\\right)} \\mathbf{H}^{\\left(20,19\\right)} \\cdots \\right] = \\left[ \\mathbf{G}^{\\left(20,19\\right)} \\left(\\mathbf{H}^{\\left(20,19\\right)}\\right)^{*} \\right]\n",
    "\\end{aligned}\n",
    "where\n",
    "\\begin{aligned}\n",
    "\\mathbf{G}^{\\left(20,19\\right)} = \\{  \\}\n",
    "\\end{aligned}\n",
    "\\begin{aligned}\n",
    "\\mathbf{H}^{\\left(20,19\\right)} = \\{  \\}\n",
    "\\end{aligned}\n",
    "so we have\n",
    "\\begin{aligned}\n",
    "\\left|\\mathbf{G}^{\\left(20,19\\right)}\\right| = 0\n",
    "\\end{aligned}\n",
    "\\begin{aligned}\n",
    "\\left|\\mathbf{H}^{\\left(20,19\\right)}\\right| = 1\n",
    "\\end{aligned}"
   ]
  },
  {
   "cell_type": "code",
   "execution_count": 21,
   "metadata": {
    "collapsed": false
   },
   "outputs": [
    {
     "name": "stdout",
     "output_type": "stream",
     "text": [
      "[1, 1, 1, 1, 1, 1, 1, 1, 1, 1, 1, 1, 1, 1, 1, 1, 1, 1, 1, 1, 1, 1, 1, 1, 1, 1, 1, 1, 1]\n"
     ]
    }
   ],
   "source": [
    "example(b=20, m=19) ##   X[n] = 20^n mod 19"
   ]
  },
  {
   "cell_type": "markdown",
   "metadata": {},
   "source": [
    "#### Example #20: $\\mathbf{X}^\\left({b=21,m=19}\\right)$"
   ]
  },
  {
   "cell_type": "markdown",
   "metadata": {},
   "source": [
    "\\begin{aligned}\n",
    "\\mathbf{X}_n = 21^n \\mod m\n",
    "\\end{aligned}\n",
    "with\n",
    "\\begin{aligned}\n",
    "b = 21\n",
    "\\end{aligned}\n",
    "\\begin{aligned}\n",
    "m = 19\n",
    "\\end{aligned}\n",
    "yeilding\n",
    "\\begin{aligned}\n",
    "\\mathbf{X}^{\\left(21,19\\right)} = \\{ ,  2, 4, 8,16,13, 7,14, 9,18,17,15,11, 3, 6,12, 5,10, \\cdots \\} = \\left[ \\mathbf{G}^{\\left(21,19\\right)} \\mathbf{H}^{\\left(21,19\\right)} \\mathbf{H}^{\\left(21,19\\right)} \\mathbf{H}^{\\left(21,19\\right)} \\cdots \\right] = \\left[ \\mathbf{G}^{\\left(21,19\\right)} \\left(\\mathbf{H}^{\\left(21,19\\right)}\\right)^{*} \\right]\n",
    "\\end{aligned}\n",
    "where\n",
    "\\begin{aligned}\n",
    "\\mathbf{G}^{\\left(21,19\\right)} = \\{  \\}\n",
    "\\end{aligned}\n",
    "\\begin{aligned}\n",
    "\\mathbf{H}^{\\left(21,19\\right)} = \\{  2, 4, 8,16,13, 7,14, 9,18,17,15,11, 3, 6,12, 5,10, \\}\n",
    "\\end{aligned}\n",
    "so we have\n",
    "\\begin{aligned}\n",
    "\\left|\\mathbf{G}^{\\left(21,19\\right)}\\right| = 0\n",
    "\\end{aligned}\n",
    "\\begin{aligned}\n",
    "\\left|\\mathbf{H}^{\\left(21,19\\right)}\\right| = 18\n",
    "\\end{aligned}"
   ]
  },
  {
   "cell_type": "code",
   "execution_count": 22,
   "metadata": {
    "collapsed": false
   },
   "outputs": [
    {
     "name": "stdout",
     "output_type": "stream",
     "text": [
      "[2, 4, 8, 16, 13, 7, 14, 9, 18, 17, 15, 11, 3, 6, 12, 5, 10, 1, 2, 4, 8, 16, 13, 7, 14, 9, 18, 17, 15]\n"
     ]
    }
   ],
   "source": [
    "example(b=21, m=19) ##   X[n] = 21^n mod 19"
   ]
  },
  {
   "cell_type": "markdown",
   "metadata": {},
   "source": [
    "#### Example #21: $\\mathbf{X}^\\left({b=22,m=19}\\right)$"
   ]
  },
  {
   "cell_type": "markdown",
   "metadata": {},
   "source": [
    "\\begin{aligned}\n",
    "\\mathbf{X}_n = 22^n \\mod m\n",
    "\\end{aligned}\n",
    "with\n",
    "\\begin{aligned}\n",
    "b = 22\n",
    "\\end{aligned}\n",
    "\\begin{aligned}\n",
    "m = 19\n",
    "\\end{aligned}\n",
    "yeilding\n",
    "\\begin{aligned}\n",
    "\\mathbf{X}^{\\left(22,19\\right)} = \\{ ,  3, 9, 8, 5,15, 7, 2, 6,18,16,10,11,14, 4,12,17,13, \\cdots \\} = \\left[ \\mathbf{G}^{\\left(22,19\\right)} \\mathbf{H}^{\\left(22,19\\right)} \\mathbf{H}^{\\left(22,19\\right)} \\mathbf{H}^{\\left(22,19\\right)} \\cdots \\right] = \\left[ \\mathbf{G}^{\\left(22,19\\right)} \\left(\\mathbf{H}^{\\left(22,19\\right)}\\right)^{*} \\right]\n",
    "\\end{aligned}\n",
    "where\n",
    "\\begin{aligned}\n",
    "\\mathbf{G}^{\\left(22,19\\right)} = \\{  \\}\n",
    "\\end{aligned}\n",
    "\\begin{aligned}\n",
    "\\mathbf{H}^{\\left(22,19\\right)} = \\{  3, 9, 8, 5,15, 7, 2, 6,18,16,10,11,14, 4,12,17,13, \\}\n",
    "\\end{aligned}\n",
    "so we have\n",
    "\\begin{aligned}\n",
    "\\left|\\mathbf{G}^{\\left(22,19\\right)}\\right| = 0\n",
    "\\end{aligned}\n",
    "\\begin{aligned}\n",
    "\\left|\\mathbf{H}^{\\left(22,19\\right)}\\right| = 18\n",
    "\\end{aligned}"
   ]
  },
  {
   "cell_type": "code",
   "execution_count": 23,
   "metadata": {
    "collapsed": false
   },
   "outputs": [
    {
     "name": "stdout",
     "output_type": "stream",
     "text": [
      "[3, 9, 8, 5, 15, 7, 2, 6, 18, 16, 10, 11, 14, 4, 12, 17, 13, 1, 3, 9, 8, 5, 15, 7, 2, 6, 18, 16, 10]\n"
     ]
    }
   ],
   "source": [
    "example(b=22, m=19) ##   X[n] = 22^n mod 19"
   ]
  },
  {
   "cell_type": "markdown",
   "metadata": {},
   "source": [
    "#### Example #22: $\\mathbf{X}^\\left({b=23,m=19}\\right)$"
   ]
  },
  {
   "cell_type": "markdown",
   "metadata": {},
   "source": [
    "\\begin{aligned}\n",
    "\\mathbf{X}_n = 23^n \\mod m\n",
    "\\end{aligned}\n",
    "with\n",
    "\\begin{aligned}\n",
    "b = 23\n",
    "\\end{aligned}\n",
    "\\begin{aligned}\n",
    "m = 19\n",
    "\\end{aligned}\n",
    "yeilding\n",
    "\\begin{aligned}\n",
    "\\mathbf{X}^{\\left(23,19\\right)} = \\{ ,  4,16, 7, 9,17,11, 6, 5, \\cdots \\} = \\left[ \\mathbf{G}^{\\left(23,19\\right)} \\mathbf{H}^{\\left(23,19\\right)} \\mathbf{H}^{\\left(23,19\\right)} \\mathbf{H}^{\\left(23,19\\right)} \\cdots \\right] = \\left[ \\mathbf{G}^{\\left(23,19\\right)} \\left(\\mathbf{H}^{\\left(23,19\\right)}\\right)^{*} \\right]\n",
    "\\end{aligned}\n",
    "where\n",
    "\\begin{aligned}\n",
    "\\mathbf{G}^{\\left(23,19\\right)} = \\{  \\}\n",
    "\\end{aligned}\n",
    "\\begin{aligned}\n",
    "\\mathbf{H}^{\\left(23,19\\right)} = \\{  4,16, 7, 9,17,11, 6, 5, \\}\n",
    "\\end{aligned}\n",
    "so we have\n",
    "\\begin{aligned}\n",
    "\\left|\\mathbf{G}^{\\left(23,19\\right)}\\right| = 0\n",
    "\\end{aligned}\n",
    "\\begin{aligned}\n",
    "\\left|\\mathbf{H}^{\\left(23,19\\right)}\\right| = 9\n",
    "\\end{aligned}"
   ]
  },
  {
   "cell_type": "code",
   "execution_count": 24,
   "metadata": {
    "collapsed": false
   },
   "outputs": [
    {
     "name": "stdout",
     "output_type": "stream",
     "text": [
      "[4, 16, 7, 9, 17, 11, 6, 5, 1, 4, 16, 7, 9, 17, 11, 6, 5, 1, 4, 16, 7, 9, 17, 11, 6, 5, 1, 4, 16]\n"
     ]
    }
   ],
   "source": [
    "example(b=23, m=19) ##   X[n] = 23^n mod 19"
   ]
  },
  {
   "cell_type": "markdown",
   "metadata": {},
   "source": [
    "#### Example #23: $\\mathbf{X}^\\left({b=24,m=19}\\right)$"
   ]
  },
  {
   "cell_type": "markdown",
   "metadata": {},
   "source": [
    "\\begin{aligned}\n",
    "\\mathbf{X}_n = 24^n \\mod m\n",
    "\\end{aligned}\n",
    "with\n",
    "\\begin{aligned}\n",
    "b = 24\n",
    "\\end{aligned}\n",
    "\\begin{aligned}\n",
    "m = 19\n",
    "\\end{aligned}\n",
    "yeilding\n",
    "\\begin{aligned}\n",
    "\\mathbf{X}^{\\left(24,19\\right)} = \\{ ,  5, 6,11,17, 9, 7,16, 4, \\cdots \\} = \\left[ \\mathbf{G}^{\\left(24,19\\right)} \\mathbf{H}^{\\left(24,19\\right)} \\mathbf{H}^{\\left(24,19\\right)} \\mathbf{H}^{\\left(24,19\\right)} \\cdots \\right] = \\left[ \\mathbf{G}^{\\left(24,19\\right)} \\left(\\mathbf{H}^{\\left(24,19\\right)}\\right)^{*} \\right]\n",
    "\\end{aligned}\n",
    "where\n",
    "\\begin{aligned}\n",
    "\\mathbf{G}^{\\left(24,19\\right)} = \\{  \\}\n",
    "\\end{aligned}\n",
    "\\begin{aligned}\n",
    "\\mathbf{H}^{\\left(24,19\\right)} = \\{  5, 6,11,17, 9, 7,16, 4, \\}\n",
    "\\end{aligned}\n",
    "so we have\n",
    "\\begin{aligned}\n",
    "\\left|\\mathbf{G}^{\\left(24,19\\right)}\\right| = 0\n",
    "\\end{aligned}\n",
    "\\begin{aligned}\n",
    "\\left|\\mathbf{H}^{\\left(24,19\\right)}\\right| = 9\n",
    "\\end{aligned}"
   ]
  },
  {
   "cell_type": "code",
   "execution_count": 25,
   "metadata": {
    "collapsed": false
   },
   "outputs": [
    {
     "name": "stdout",
     "output_type": "stream",
     "text": [
      "[5, 6, 11, 17, 9, 7, 16, 4, 1, 5, 6, 11, 17, 9, 7, 16, 4, 1, 5, 6, 11, 17, 9, 7, 16, 4, 1, 5, 6]\n"
     ]
    }
   ],
   "source": [
    "example(b=24, m=19) ##   X[n] = 24^n mod 19"
   ]
  },
  {
   "cell_type": "markdown",
   "metadata": {},
   "source": [
    "#### Example #24: $\\mathbf{X}^\\left({b=25,m=19}\\right)$"
   ]
  },
  {
   "cell_type": "markdown",
   "metadata": {},
   "source": [
    "\\begin{aligned}\n",
    "\\mathbf{X}_n = 25^n \\mod m\n",
    "\\end{aligned}\n",
    "with\n",
    "\\begin{aligned}\n",
    "b = 25\n",
    "\\end{aligned}\n",
    "\\begin{aligned}\n",
    "m = 19\n",
    "\\end{aligned}\n",
    "yeilding\n",
    "\\begin{aligned}\n",
    "\\mathbf{X}^{\\left(25,19\\right)} = \\{ ,  6,17, 7, 4, 5,11, 9,16, \\cdots \\} = \\left[ \\mathbf{G}^{\\left(25,19\\right)} \\mathbf{H}^{\\left(25,19\\right)} \\mathbf{H}^{\\left(25,19\\right)} \\mathbf{H}^{\\left(25,19\\right)} \\cdots \\right] = \\left[ \\mathbf{G}^{\\left(25,19\\right)} \\left(\\mathbf{H}^{\\left(25,19\\right)}\\right)^{*} \\right]\n",
    "\\end{aligned}\n",
    "where\n",
    "\\begin{aligned}\n",
    "\\mathbf{G}^{\\left(25,19\\right)} = \\{  \\}\n",
    "\\end{aligned}\n",
    "\\begin{aligned}\n",
    "\\mathbf{H}^{\\left(25,19\\right)} = \\{  6,17, 7, 4, 5,11, 9,16, \\}\n",
    "\\end{aligned}\n",
    "so we have\n",
    "\\begin{aligned}\n",
    "\\left|\\mathbf{G}^{\\left(25,19\\right)}\\right| = 0\n",
    "\\end{aligned}\n",
    "\\begin{aligned}\n",
    "\\left|\\mathbf{H}^{\\left(25,19\\right)}\\right| = 9\n",
    "\\end{aligned}"
   ]
  },
  {
   "cell_type": "code",
   "execution_count": 26,
   "metadata": {
    "collapsed": false
   },
   "outputs": [
    {
     "name": "stdout",
     "output_type": "stream",
     "text": [
      "[6, 17, 7, 4, 5, 11, 9, 16, 1, 6, 17, 7, 4, 5, 11, 9, 16, 1, 6, 17, 7, 4, 5, 11, 9, 16, 1, 6, 17]\n"
     ]
    }
   ],
   "source": [
    "example(b=25, m=19) ##   X[n] = 25^n mod 19"
   ]
  },
  {
   "cell_type": "markdown",
   "metadata": {},
   "source": [
    "#### Example #25: $\\mathbf{X}^\\left({b=26,m=19}\\right)$"
   ]
  },
  {
   "cell_type": "markdown",
   "metadata": {},
   "source": [
    "\\begin{aligned}\n",
    "\\mathbf{X}_n = 26^n \\mod m\n",
    "\\end{aligned}\n",
    "with\n",
    "\\begin{aligned}\n",
    "b = 26\n",
    "\\end{aligned}\n",
    "\\begin{aligned}\n",
    "m = 19\n",
    "\\end{aligned}\n",
    "yeilding\n",
    "\\begin{aligned}\n",
    "\\mathbf{X}^{\\left(26,19\\right)} = \\{ ,  7,11, \\cdots \\} = \\left[ \\mathbf{G}^{\\left(26,19\\right)} \\mathbf{H}^{\\left(26,19\\right)} \\mathbf{H}^{\\left(26,19\\right)} \\mathbf{H}^{\\left(26,19\\right)} \\cdots \\right] = \\left[ \\mathbf{G}^{\\left(26,19\\right)} \\left(\\mathbf{H}^{\\left(26,19\\right)}\\right)^{*} \\right]\n",
    "\\end{aligned}\n",
    "where\n",
    "\\begin{aligned}\n",
    "\\mathbf{G}^{\\left(26,19\\right)} = \\{  \\}\n",
    "\\end{aligned}\n",
    "\\begin{aligned}\n",
    "\\mathbf{H}^{\\left(26,19\\right)} = \\{  7,11, \\}\n",
    "\\end{aligned}\n",
    "so we have\n",
    "\\begin{aligned}\n",
    "\\left|\\mathbf{G}^{\\left(26,19\\right)}\\right| = 0\n",
    "\\end{aligned}\n",
    "\\begin{aligned}\n",
    "\\left|\\mathbf{H}^{\\left(26,19\\right)}\\right| = 3\n",
    "\\end{aligned}"
   ]
  },
  {
   "cell_type": "code",
   "execution_count": 27,
   "metadata": {
    "collapsed": false
   },
   "outputs": [
    {
     "name": "stdout",
     "output_type": "stream",
     "text": [
      "[7, 11, 1, 7, 11, 1, 7, 11, 1, 7, 11, 1, 7, 11, 1, 7, 11, 1, 7, 11, 1, 7, 11, 1, 7, 11, 1, 7, 11]\n"
     ]
    }
   ],
   "source": [
    "example(b=26, m=19) ##   X[n] = 26^n mod 19"
   ]
  },
  {
   "cell_type": "markdown",
   "metadata": {},
   "source": [
    "#### Example #26: $\\mathbf{X}^\\left({b=27,m=19}\\right)$"
   ]
  },
  {
   "cell_type": "markdown",
   "metadata": {},
   "source": [
    "\\begin{aligned}\n",
    "\\mathbf{X}_n = 27^n \\mod m\n",
    "\\end{aligned}\n",
    "with\n",
    "\\begin{aligned}\n",
    "b = 27\n",
    "\\end{aligned}\n",
    "\\begin{aligned}\n",
    "m = 19\n",
    "\\end{aligned}\n",
    "yeilding\n",
    "\\begin{aligned}\n",
    "\\mathbf{X}^{\\left(27,19\\right)} = \\{ ,  8, 7,18,11,12, \\cdots \\} = \\left[ \\mathbf{G}^{\\left(27,19\\right)} \\mathbf{H}^{\\left(27,19\\right)} \\mathbf{H}^{\\left(27,19\\right)} \\mathbf{H}^{\\left(27,19\\right)} \\cdots \\right] = \\left[ \\mathbf{G}^{\\left(27,19\\right)} \\left(\\mathbf{H}^{\\left(27,19\\right)}\\right)^{*} \\right]\n",
    "\\end{aligned}\n",
    "where\n",
    "\\begin{aligned}\n",
    "\\mathbf{G}^{\\left(27,19\\right)} = \\{  \\}\n",
    "\\end{aligned}\n",
    "\\begin{aligned}\n",
    "\\mathbf{H}^{\\left(27,19\\right)} = \\{  8, 7,18,11,12, \\}\n",
    "\\end{aligned}\n",
    "so we have\n",
    "\\begin{aligned}\n",
    "\\left|\\mathbf{G}^{\\left(27,19\\right)}\\right| = 0\n",
    "\\end{aligned}\n",
    "\\begin{aligned}\n",
    "\\left|\\mathbf{H}^{\\left(27,19\\right)}\\right| = 6\n",
    "\\end{aligned}"
   ]
  },
  {
   "cell_type": "code",
   "execution_count": 28,
   "metadata": {
    "collapsed": false
   },
   "outputs": [
    {
     "name": "stdout",
     "output_type": "stream",
     "text": [
      "[8, 7, 18, 11, 12, 1, 8, 7, 18, 11, 12, 1, 8, 7, 18, 11, 12, 1, 8, 7, 18, 11, 12, 1, 8, 7, 18, 11, 12]\n"
     ]
    }
   ],
   "source": [
    "example(b=27, m=19) ##   X[n] = 27^n mod 19"
   ]
  },
  {
   "cell_type": "markdown",
   "metadata": {},
   "source": [
    "#### Example #27: $\\mathbf{X}^\\left({b=28,m=19}\\right)$"
   ]
  },
  {
   "cell_type": "markdown",
   "metadata": {},
   "source": [
    "\\begin{aligned}\n",
    "\\mathbf{X}_n = 28^n \\mod m\n",
    "\\end{aligned}\n",
    "with\n",
    "\\begin{aligned}\n",
    "b = 28\n",
    "\\end{aligned}\n",
    "\\begin{aligned}\n",
    "m = 19\n",
    "\\end{aligned}\n",
    "yeilding\n",
    "\\begin{aligned}\n",
    "\\mathbf{X}^{\\left(28,19\\right)} = \\{ ,  9, 5, 7, 6,16,11, 4,17, \\cdots \\} = \\left[ \\mathbf{G}^{\\left(28,19\\right)} \\mathbf{H}^{\\left(28,19\\right)} \\mathbf{H}^{\\left(28,19\\right)} \\mathbf{H}^{\\left(28,19\\right)} \\cdots \\right] = \\left[ \\mathbf{G}^{\\left(28,19\\right)} \\left(\\mathbf{H}^{\\left(28,19\\right)}\\right)^{*} \\right]\n",
    "\\end{aligned}\n",
    "where\n",
    "\\begin{aligned}\n",
    "\\mathbf{G}^{\\left(28,19\\right)} = \\{  \\}\n",
    "\\end{aligned}\n",
    "\\begin{aligned}\n",
    "\\mathbf{H}^{\\left(28,19\\right)} = \\{  9, 5, 7, 6,16,11, 4,17, \\}\n",
    "\\end{aligned}\n",
    "so we have\n",
    "\\begin{aligned}\n",
    "\\left|\\mathbf{G}^{\\left(28,19\\right)}\\right| = 0\n",
    "\\end{aligned}\n",
    "\\begin{aligned}\n",
    "\\left|\\mathbf{H}^{\\left(28,19\\right)}\\right| = 9\n",
    "\\end{aligned}"
   ]
  },
  {
   "cell_type": "code",
   "execution_count": 29,
   "metadata": {
    "collapsed": false
   },
   "outputs": [
    {
     "name": "stdout",
     "output_type": "stream",
     "text": [
      "[9, 5, 7, 6, 16, 11, 4, 17, 1, 9, 5, 7, 6, 16, 11, 4, 17, 1, 9, 5, 7, 6, 16, 11, 4, 17, 1, 9, 5]\n"
     ]
    }
   ],
   "source": [
    "example(b=28, m=19) ##   X[n] = 28^n mod 19"
   ]
  },
  {
   "cell_type": "markdown",
   "metadata": {},
   "source": [
    "#### Example #28: $\\mathbf{X}^\\left({b=29,m=19}\\right)$"
   ]
  },
  {
   "cell_type": "markdown",
   "metadata": {},
   "source": [
    "\\begin{aligned}\n",
    "\\mathbf{X}_n = 29^n \\mod m\n",
    "\\end{aligned}\n",
    "with\n",
    "\\begin{aligned}\n",
    "b = 29\n",
    "\\end{aligned}\n",
    "\\begin{aligned}\n",
    "m = 19\n",
    "\\end{aligned}\n",
    "yeilding\n",
    "\\begin{aligned}\n",
    "\\mathbf{X}^{\\left(29,19\\right)} = \\{ , 10, 5,12, 6, 3,11,15,17,18, 9,14, 7,13,16, 8, 4, 2, \\cdots \\} = \\left[ \\mathbf{G}^{\\left(29,19\\right)} \\mathbf{H}^{\\left(29,19\\right)} \\mathbf{H}^{\\left(29,19\\right)} \\mathbf{H}^{\\left(29,19\\right)} \\cdots \\right] = \\left[ \\mathbf{G}^{\\left(29,19\\right)} \\left(\\mathbf{H}^{\\left(29,19\\right)}\\right)^{*} \\right]\n",
    "\\end{aligned}\n",
    "where\n",
    "\\begin{aligned}\n",
    "\\mathbf{G}^{\\left(29,19\\right)} = \\{  \\}\n",
    "\\end{aligned}\n",
    "\\begin{aligned}\n",
    "\\mathbf{H}^{\\left(29,19\\right)} = \\{ 10, 5,12, 6, 3,11,15,17,18, 9,14, 7,13,16, 8, 4, 2, \\}\n",
    "\\end{aligned}\n",
    "so we have\n",
    "\\begin{aligned}\n",
    "\\left|\\mathbf{G}^{\\left(29,19\\right)}\\right| = 0\n",
    "\\end{aligned}\n",
    "\\begin{aligned}\n",
    "\\left|\\mathbf{H}^{\\left(29,19\\right)}\\right| = 18\n",
    "\\end{aligned}"
   ]
  },
  {
   "cell_type": "code",
   "execution_count": 30,
   "metadata": {
    "collapsed": false
   },
   "outputs": [
    {
     "name": "stdout",
     "output_type": "stream",
     "text": [
      "[10, 5, 12, 6, 3, 11, 15, 17, 18, 9, 14, 7, 13, 16, 8, 4, 2, 1, 10, 5, 12, 6, 3, 11, 15, 17, 18, 9, 14]\n"
     ]
    }
   ],
   "source": [
    "example(b=29, m=19) ##   X[n] = 29^n mod 19"
   ]
  },
  {
   "cell_type": "markdown",
   "metadata": {},
   "source": [
    "#### Example #29: $\\mathbf{X}^\\left({b=30,m=19}\\right)$"
   ]
  },
  {
   "cell_type": "markdown",
   "metadata": {},
   "source": [
    "\\begin{aligned}\n",
    "\\mathbf{X}_n = 30^n \\mod m\n",
    "\\end{aligned}\n",
    "with\n",
    "\\begin{aligned}\n",
    "b = 30\n",
    "\\end{aligned}\n",
    "\\begin{aligned}\n",
    "m = 19\n",
    "\\end{aligned}\n",
    "yeilding\n",
    "\\begin{aligned}\n",
    "\\mathbf{X}^{\\left(30,19\\right)} = \\{ , 11, 7, \\cdots \\} = \\left[ \\mathbf{G}^{\\left(30,19\\right)} \\mathbf{H}^{\\left(30,19\\right)} \\mathbf{H}^{\\left(30,19\\right)} \\mathbf{H}^{\\left(30,19\\right)} \\cdots \\right] = \\left[ \\mathbf{G}^{\\left(30,19\\right)} \\left(\\mathbf{H}^{\\left(30,19\\right)}\\right)^{*} \\right]\n",
    "\\end{aligned}\n",
    "where\n",
    "\\begin{aligned}\n",
    "\\mathbf{G}^{\\left(30,19\\right)} = \\{  \\}\n",
    "\\end{aligned}\n",
    "\\begin{aligned}\n",
    "\\mathbf{H}^{\\left(30,19\\right)} = \\{ 11, 7, \\}\n",
    "\\end{aligned}\n",
    "so we have\n",
    "\\begin{aligned}\n",
    "\\left|\\mathbf{G}^{\\left(30,19\\right)}\\right| = 0\n",
    "\\end{aligned}\n",
    "\\begin{aligned}\n",
    "\\left|\\mathbf{H}^{\\left(30,19\\right)}\\right| = 3\n",
    "\\end{aligned}"
   ]
  },
  {
   "cell_type": "code",
   "execution_count": 31,
   "metadata": {
    "collapsed": false
   },
   "outputs": [
    {
     "name": "stdout",
     "output_type": "stream",
     "text": [
      "[11, 7, 1, 11, 7, 1, 11, 7, 1, 11, 7, 1, 11, 7, 1, 11, 7, 1, 11, 7, 1, 11, 7, 1, 11, 7, 1, 11, 7]\n"
     ]
    }
   ],
   "source": [
    "example(b=30, m=19) ##   X[n] = 30^n mod 19"
   ]
  }
 ],
 "metadata": {},
 "nbformat": 4,
 "nbformat_minor": 2
}
