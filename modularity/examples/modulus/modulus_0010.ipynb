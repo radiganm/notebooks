{
 "cells": [
  {
   "cell_type": "code",
   "execution_count": 1,
   "metadata": {
    "collapsed": false
   },
   "outputs": [],
   "source": [
    "#!/usr/bin/python3\n",
    "### modulus_10.py\n",
    "### Copyright 2017 Mac Radigan\n",
    "### SPDX-License-Identifier: GFDL-1.3"
   ]
  },
  {
   "cell_type": "markdown",
   "metadata": {},
   "source": [
    "# modulus 10"
   ]
  },
  {
   "cell_type": "markdown",
   "metadata": {},
   "source": [
    "## Copying"
   ]
  },
  {
   "cell_type": "raw",
   "metadata": {},
   "source": [
    "Copyright 2017 Mac Radigan\n",
    "# Permission is granted to copy, distribute and/or modify this document under the terms of the GNU Free Documentation License, Version 1.3 or any later version published by the Free Software Foundation; with no Invariant Sections and with no restrictions on the Front-Cover and back the Front-Cover Texts. A copy of the license is included in the section entitled \"GNU Free Documentation License\".  "
   ]
  },
  {
   "cell_type": "markdown",
   "metadata": {},
   "source": [
    "### $b^n \\mod m$ for $n = 1, 2, \\cdots 30$"
   ]
  },
  {
   "cell_type": "code",
   "execution_count": 2,
   "metadata": {
    "collapsed": false
   },
   "outputs": [],
   "source": [
    "def example(b,m):\n",
    "  \"\"\"Prints the sequence X_n = b^n mod m for n = 1, 2, ... N\"\"\"\n",
    "  N  = 30\n",
    "  ns = range(1, N)\n",
    "  f  = lambda n: b**n % m\n",
    "  xs = map(f, ns)\n",
    "  print(list(xs))"
   ]
  },
  {
   "cell_type": "markdown",
   "metadata": {},
   "source": [
    "#### Example #1: $\\mathbf{X}^\\left({b=2,m=10}\\right)$"
   ]
  },
  {
   "cell_type": "markdown",
   "metadata": {},
   "source": [
    "\\begin{aligned}\n",
    "\\mathbf{X}_n = 2^n \\mod m\n",
    "\\end{aligned}\n",
    "with\n",
    "\\begin{aligned}\n",
    "b = 2\n",
    "\\end{aligned}\n",
    "\\begin{aligned}\n",
    "m = 10\n",
    "\\end{aligned}\n",
    "yeilding\n",
    "\\begin{aligned}\n",
    "\\mathbf{X}^{\\left(2,10\\right)} = \\{ , 2,4,8 \\cdots \\} = \\left[ \\mathbf{G}^{\\left(2,10\\right)} \\mathbf{H}^{\\left(2,10\\right)} \\mathbf{H}^{\\left(2,10\\right)} \\mathbf{H}^{\\left(2,10\\right)} \\cdots \\right] = \\left[ \\mathbf{G}^{\\left(2,10\\right)} \\left(\\mathbf{H}^{\\left(2,10\\right)}\\right)^{*} \\right]\n",
    "\\end{aligned}\n",
    "where\n",
    "\\begin{aligned}\n",
    "\\mathbf{G}^{\\left(2,10\\right)} = \\{  \\}\n",
    "\\end{aligned}\n",
    "\\begin{aligned}\n",
    "\\mathbf{H}^{\\left(2,10\\right)} = \\{ 2,4,8 \\}\n",
    "\\end{aligned}\n",
    "so we have\n",
    "\\begin{aligned}\n",
    "\\left|\\mathbf{G}^{\\left(2,10\\right)}\\right| = 0\n",
    "\\end{aligned}\n",
    "\\begin{aligned}\n",
    "\\left|\\mathbf{H}^{\\left(2,10\\right)}\\right| = 4\n",
    "\\end{aligned}"
   ]
  },
  {
   "cell_type": "code",
   "execution_count": 3,
   "metadata": {
    "collapsed": false
   },
   "outputs": [
    {
     "name": "stdout",
     "output_type": "stream",
     "text": [
      "[2, 4, 8, 6, 2, 4, 8, 6, 2, 4, 8, 6, 2, 4, 8, 6, 2, 4, 8, 6, 2, 4, 8, 6, 2, 4, 8, 6, 2]\n"
     ]
    }
   ],
   "source": [
    "example(b=2, m=10) ##   X[n] = 2^n mod 10"
   ]
  },
  {
   "cell_type": "markdown",
   "metadata": {},
   "source": [
    "#### Example #2: $\\mathbf{X}^\\left({b=3,m=10}\\right)$"
   ]
  },
  {
   "cell_type": "markdown",
   "metadata": {},
   "source": [
    "\\begin{aligned}\n",
    "\\mathbf{X}_n = 3^n \\mod m\n",
    "\\end{aligned}\n",
    "with\n",
    "\\begin{aligned}\n",
    "b = 3\n",
    "\\end{aligned}\n",
    "\\begin{aligned}\n",
    "m = 10\n",
    "\\end{aligned}\n",
    "yeilding\n",
    "\\begin{aligned}\n",
    "\\mathbf{X}^{\\left(3,10\\right)} = \\{ , 2,4,8 \\cdots \\} = \\left[ \\mathbf{G}^{\\left(3,10\\right)} \\mathbf{H}^{\\left(3,10\\right)} \\mathbf{H}^{\\left(3,10\\right)} \\mathbf{H}^{\\left(3,10\\right)} \\cdots \\right] = \\left[ \\mathbf{G}^{\\left(3,10\\right)} \\left(\\mathbf{H}^{\\left(3,10\\right)}\\right)^{*} \\right]\n",
    "\\end{aligned}\n",
    "where\n",
    "\\begin{aligned}\n",
    "\\mathbf{G}^{\\left(3,10\\right)} = \\{  \\}\n",
    "\\end{aligned}\n",
    "\\begin{aligned}\n",
    "\\mathbf{H}^{\\left(3,10\\right)} = \\{ 2,4,8 \\}\n",
    "\\end{aligned}\n",
    "so we have\n",
    "\\begin{aligned}\n",
    "\\left|\\mathbf{G}^{\\left(3,10\\right)}\\right| = 0\n",
    "\\end{aligned}\n",
    "\\begin{aligned}\n",
    "\\left|\\mathbf{H}^{\\left(3,10\\right)}\\right| = 4\n",
    "\\end{aligned}"
   ]
  },
  {
   "cell_type": "code",
   "execution_count": 4,
   "metadata": {
    "collapsed": false
   },
   "outputs": [
    {
     "name": "stdout",
     "output_type": "stream",
     "text": [
      "[3, 9, 7, 1, 3, 9, 7, 1, 3, 9, 7, 1, 3, 9, 7, 1, 3, 9, 7, 1, 3, 9, 7, 1, 3, 9, 7, 1, 3]\n"
     ]
    }
   ],
   "source": [
    "example(b=3, m=10) ##   X[n] = 3^n mod 10"
   ]
  },
  {
   "cell_type": "markdown",
   "metadata": {},
   "source": [
    "#### Example #3: $\\mathbf{X}^\\left({b=4,m=10}\\right)$"
   ]
  },
  {
   "cell_type": "markdown",
   "metadata": {},
   "source": [
    "\\begin{aligned}\n",
    "\\mathbf{X}_n = 4^n \\mod m\n",
    "\\end{aligned}\n",
    "with\n",
    "\\begin{aligned}\n",
    "b = 4\n",
    "\\end{aligned}\n",
    "\\begin{aligned}\n",
    "m = 10\n",
    "\\end{aligned}\n",
    "yeilding\n",
    "\\begin{aligned}\n",
    "\\mathbf{X}^{\\left(4,10\\right)} = \\{ , 2,4,8 \\cdots \\} = \\left[ \\mathbf{G}^{\\left(4,10\\right)} \\mathbf{H}^{\\left(4,10\\right)} \\mathbf{H}^{\\left(4,10\\right)} \\mathbf{H}^{\\left(4,10\\right)} \\cdots \\right] = \\left[ \\mathbf{G}^{\\left(4,10\\right)} \\left(\\mathbf{H}^{\\left(4,10\\right)}\\right)^{*} \\right]\n",
    "\\end{aligned}\n",
    "where\n",
    "\\begin{aligned}\n",
    "\\mathbf{G}^{\\left(4,10\\right)} = \\{  \\}\n",
    "\\end{aligned}\n",
    "\\begin{aligned}\n",
    "\\mathbf{H}^{\\left(4,10\\right)} = \\{ 2,4,8 \\}\n",
    "\\end{aligned}\n",
    "so we have\n",
    "\\begin{aligned}\n",
    "\\left|\\mathbf{G}^{\\left(4,10\\right)}\\right| = 0\n",
    "\\end{aligned}\n",
    "\\begin{aligned}\n",
    "\\left|\\mathbf{H}^{\\left(4,10\\right)}\\right| = 4\n",
    "\\end{aligned}"
   ]
  },
  {
   "cell_type": "code",
   "execution_count": 5,
   "metadata": {
    "collapsed": false
   },
   "outputs": [
    {
     "name": "stdout",
     "output_type": "stream",
     "text": [
      "[4, 6, 4, 6, 4, 6, 4, 6, 4, 6, 4, 6, 4, 6, 4, 6, 4, 6, 4, 6, 4, 6, 4, 6, 4, 6, 4, 6, 4]\n"
     ]
    }
   ],
   "source": [
    "example(b=4, m=10) ##   X[n] = 4^n mod 10"
   ]
  },
  {
   "cell_type": "markdown",
   "metadata": {},
   "source": [
    "#### Example #4: $\\mathbf{X}^\\left({b=5,m=10}\\right)$"
   ]
  },
  {
   "cell_type": "markdown",
   "metadata": {},
   "source": [
    "\\begin{aligned}\n",
    "\\mathbf{X}_n = 5^n \\mod m\n",
    "\\end{aligned}\n",
    "with\n",
    "\\begin{aligned}\n",
    "b = 5\n",
    "\\end{aligned}\n",
    "\\begin{aligned}\n",
    "m = 10\n",
    "\\end{aligned}\n",
    "yeilding\n",
    "\\begin{aligned}\n",
    "\\mathbf{X}^{\\left(5,10\\right)} = \\{ , 2,4,8 \\cdots \\} = \\left[ \\mathbf{G}^{\\left(5,10\\right)} \\mathbf{H}^{\\left(5,10\\right)} \\mathbf{H}^{\\left(5,10\\right)} \\mathbf{H}^{\\left(5,10\\right)} \\cdots \\right] = \\left[ \\mathbf{G}^{\\left(5,10\\right)} \\left(\\mathbf{H}^{\\left(5,10\\right)}\\right)^{*} \\right]\n",
    "\\end{aligned}\n",
    "where\n",
    "\\begin{aligned}\n",
    "\\mathbf{G}^{\\left(5,10\\right)} = \\{  \\}\n",
    "\\end{aligned}\n",
    "\\begin{aligned}\n",
    "\\mathbf{H}^{\\left(5,10\\right)} = \\{ 2,4,8 \\}\n",
    "\\end{aligned}\n",
    "so we have\n",
    "\\begin{aligned}\n",
    "\\left|\\mathbf{G}^{\\left(5,10\\right)}\\right| = 0\n",
    "\\end{aligned}\n",
    "\\begin{aligned}\n",
    "\\left|\\mathbf{H}^{\\left(5,10\\right)}\\right| = 4\n",
    "\\end{aligned}"
   ]
  },
  {
   "cell_type": "code",
   "execution_count": 6,
   "metadata": {
    "collapsed": false
   },
   "outputs": [
    {
     "name": "stdout",
     "output_type": "stream",
     "text": [
      "[5, 5, 5, 5, 5, 5, 5, 5, 5, 5, 5, 5, 5, 5, 5, 5, 5, 5, 5, 5, 5, 5, 5, 5, 5, 5, 5, 5, 5]\n"
     ]
    }
   ],
   "source": [
    "example(b=5, m=10) ##   X[n] = 5^n mod 10"
   ]
  },
  {
   "cell_type": "markdown",
   "metadata": {},
   "source": [
    "#### Example #5: $\\mathbf{X}^\\left({b=6,m=10}\\right)$"
   ]
  },
  {
   "cell_type": "markdown",
   "metadata": {},
   "source": [
    "\\begin{aligned}\n",
    "\\mathbf{X}_n = 6^n \\mod m\n",
    "\\end{aligned}\n",
    "with\n",
    "\\begin{aligned}\n",
    "b = 6\n",
    "\\end{aligned}\n",
    "\\begin{aligned}\n",
    "m = 10\n",
    "\\end{aligned}\n",
    "yeilding\n",
    "\\begin{aligned}\n",
    "\\mathbf{X}^{\\left(6,10\\right)} = \\{ , 2,4,8 \\cdots \\} = \\left[ \\mathbf{G}^{\\left(6,10\\right)} \\mathbf{H}^{\\left(6,10\\right)} \\mathbf{H}^{\\left(6,10\\right)} \\mathbf{H}^{\\left(6,10\\right)} \\cdots \\right] = \\left[ \\mathbf{G}^{\\left(6,10\\right)} \\left(\\mathbf{H}^{\\left(6,10\\right)}\\right)^{*} \\right]\n",
    "\\end{aligned}\n",
    "where\n",
    "\\begin{aligned}\n",
    "\\mathbf{G}^{\\left(6,10\\right)} = \\{  \\}\n",
    "\\end{aligned}\n",
    "\\begin{aligned}\n",
    "\\mathbf{H}^{\\left(6,10\\right)} = \\{ 2,4,8 \\}\n",
    "\\end{aligned}\n",
    "so we have\n",
    "\\begin{aligned}\n",
    "\\left|\\mathbf{G}^{\\left(6,10\\right)}\\right| = 0\n",
    "\\end{aligned}\n",
    "\\begin{aligned}\n",
    "\\left|\\mathbf{H}^{\\left(6,10\\right)}\\right| = 4\n",
    "\\end{aligned}"
   ]
  },
  {
   "cell_type": "code",
   "execution_count": 7,
   "metadata": {
    "collapsed": false
   },
   "outputs": [
    {
     "name": "stdout",
     "output_type": "stream",
     "text": [
      "[6, 6, 6, 6, 6, 6, 6, 6, 6, 6, 6, 6, 6, 6, 6, 6, 6, 6, 6, 6, 6, 6, 6, 6, 6, 6, 6, 6, 6]\n"
     ]
    }
   ],
   "source": [
    "example(b=6, m=10) ##   X[n] = 6^n mod 10"
   ]
  },
  {
   "cell_type": "markdown",
   "metadata": {},
   "source": [
    "#### Example #6: $\\mathbf{X}^\\left({b=7,m=10}\\right)$"
   ]
  },
  {
   "cell_type": "markdown",
   "metadata": {},
   "source": [
    "\\begin{aligned}\n",
    "\\mathbf{X}_n = 7^n \\mod m\n",
    "\\end{aligned}\n",
    "with\n",
    "\\begin{aligned}\n",
    "b = 7\n",
    "\\end{aligned}\n",
    "\\begin{aligned}\n",
    "m = 10\n",
    "\\end{aligned}\n",
    "yeilding\n",
    "\\begin{aligned}\n",
    "\\mathbf{X}^{\\left(7,10\\right)} = \\{ , 2,4,8 \\cdots \\} = \\left[ \\mathbf{G}^{\\left(7,10\\right)} \\mathbf{H}^{\\left(7,10\\right)} \\mathbf{H}^{\\left(7,10\\right)} \\mathbf{H}^{\\left(7,10\\right)} \\cdots \\right] = \\left[ \\mathbf{G}^{\\left(7,10\\right)} \\left(\\mathbf{H}^{\\left(7,10\\right)}\\right)^{*} \\right]\n",
    "\\end{aligned}\n",
    "where\n",
    "\\begin{aligned}\n",
    "\\mathbf{G}^{\\left(7,10\\right)} = \\{  \\}\n",
    "\\end{aligned}\n",
    "\\begin{aligned}\n",
    "\\mathbf{H}^{\\left(7,10\\right)} = \\{ 2,4,8 \\}\n",
    "\\end{aligned}\n",
    "so we have\n",
    "\\begin{aligned}\n",
    "\\left|\\mathbf{G}^{\\left(7,10\\right)}\\right| = 0\n",
    "\\end{aligned}\n",
    "\\begin{aligned}\n",
    "\\left|\\mathbf{H}^{\\left(7,10\\right)}\\right| = 4\n",
    "\\end{aligned}"
   ]
  },
  {
   "cell_type": "code",
   "execution_count": 8,
   "metadata": {
    "collapsed": false
   },
   "outputs": [
    {
     "name": "stdout",
     "output_type": "stream",
     "text": [
      "[7, 9, 3, 1, 7, 9, 3, 1, 7, 9, 3, 1, 7, 9, 3, 1, 7, 9, 3, 1, 7, 9, 3, 1, 7, 9, 3, 1, 7]\n"
     ]
    }
   ],
   "source": [
    "example(b=7, m=10) ##   X[n] = 7^n mod 10"
   ]
  },
  {
   "cell_type": "markdown",
   "metadata": {},
   "source": [
    "#### Example #7: $\\mathbf{X}^\\left({b=8,m=10}\\right)$"
   ]
  },
  {
   "cell_type": "markdown",
   "metadata": {},
   "source": [
    "\\begin{aligned}\n",
    "\\mathbf{X}_n = 8^n \\mod m\n",
    "\\end{aligned}\n",
    "with\n",
    "\\begin{aligned}\n",
    "b = 8\n",
    "\\end{aligned}\n",
    "\\begin{aligned}\n",
    "m = 10\n",
    "\\end{aligned}\n",
    "yeilding\n",
    "\\begin{aligned}\n",
    "\\mathbf{X}^{\\left(8,10\\right)} = \\{ , 2,4,8 \\cdots \\} = \\left[ \\mathbf{G}^{\\left(8,10\\right)} \\mathbf{H}^{\\left(8,10\\right)} \\mathbf{H}^{\\left(8,10\\right)} \\mathbf{H}^{\\left(8,10\\right)} \\cdots \\right] = \\left[ \\mathbf{G}^{\\left(8,10\\right)} \\left(\\mathbf{H}^{\\left(8,10\\right)}\\right)^{*} \\right]\n",
    "\\end{aligned}\n",
    "where\n",
    "\\begin{aligned}\n",
    "\\mathbf{G}^{\\left(8,10\\right)} = \\{  \\}\n",
    "\\end{aligned}\n",
    "\\begin{aligned}\n",
    "\\mathbf{H}^{\\left(8,10\\right)} = \\{ 2,4,8 \\}\n",
    "\\end{aligned}\n",
    "so we have\n",
    "\\begin{aligned}\n",
    "\\left|\\mathbf{G}^{\\left(8,10\\right)}\\right| = 0\n",
    "\\end{aligned}\n",
    "\\begin{aligned}\n",
    "\\left|\\mathbf{H}^{\\left(8,10\\right)}\\right| = 4\n",
    "\\end{aligned}"
   ]
  },
  {
   "cell_type": "code",
   "execution_count": 9,
   "metadata": {
    "collapsed": false
   },
   "outputs": [
    {
     "name": "stdout",
     "output_type": "stream",
     "text": [
      "[8, 4, 2, 6, 8, 4, 2, 6, 8, 4, 2, 6, 8, 4, 2, 6, 8, 4, 2, 6, 8, 4, 2, 6, 8, 4, 2, 6, 8]\n"
     ]
    }
   ],
   "source": [
    "example(b=8, m=10) ##   X[n] = 8^n mod 10"
   ]
  },
  {
   "cell_type": "markdown",
   "metadata": {},
   "source": [
    "#### Example #8: $\\mathbf{X}^\\left({b=9,m=10}\\right)$"
   ]
  },
  {
   "cell_type": "markdown",
   "metadata": {},
   "source": [
    "\\begin{aligned}\n",
    "\\mathbf{X}_n = 9^n \\mod m\n",
    "\\end{aligned}\n",
    "with\n",
    "\\begin{aligned}\n",
    "b = 9\n",
    "\\end{aligned}\n",
    "\\begin{aligned}\n",
    "m = 10\n",
    "\\end{aligned}\n",
    "yeilding\n",
    "\\begin{aligned}\n",
    "\\mathbf{X}^{\\left(9,10\\right)} = \\{ , 2,4,8 \\cdots \\} = \\left[ \\mathbf{G}^{\\left(9,10\\right)} \\mathbf{H}^{\\left(9,10\\right)} \\mathbf{H}^{\\left(9,10\\right)} \\mathbf{H}^{\\left(9,10\\right)} \\cdots \\right] = \\left[ \\mathbf{G}^{\\left(9,10\\right)} \\left(\\mathbf{H}^{\\left(9,10\\right)}\\right)^{*} \\right]\n",
    "\\end{aligned}\n",
    "where\n",
    "\\begin{aligned}\n",
    "\\mathbf{G}^{\\left(9,10\\right)} = \\{  \\}\n",
    "\\end{aligned}\n",
    "\\begin{aligned}\n",
    "\\mathbf{H}^{\\left(9,10\\right)} = \\{ 2,4,8 \\}\n",
    "\\end{aligned}\n",
    "so we have\n",
    "\\begin{aligned}\n",
    "\\left|\\mathbf{G}^{\\left(9,10\\right)}\\right| = 0\n",
    "\\end{aligned}\n",
    "\\begin{aligned}\n",
    "\\left|\\mathbf{H}^{\\left(9,10\\right)}\\right| = 4\n",
    "\\end{aligned}"
   ]
  },
  {
   "cell_type": "code",
   "execution_count": 10,
   "metadata": {
    "collapsed": false
   },
   "outputs": [
    {
     "name": "stdout",
     "output_type": "stream",
     "text": [
      "[9, 1, 9, 1, 9, 1, 9, 1, 9, 1, 9, 1, 9, 1, 9, 1, 9, 1, 9, 1, 9, 1, 9, 1, 9, 1, 9, 1, 9]\n"
     ]
    }
   ],
   "source": [
    "example(b=9, m=10) ##   X[n] = 9^n mod 10"
   ]
  },
  {
   "cell_type": "markdown",
   "metadata": {},
   "source": [
    "#### Example #9: $\\mathbf{X}^\\left({b=10,m=10}\\right)$"
   ]
  },
  {
   "cell_type": "markdown",
   "metadata": {},
   "source": [
    "\\begin{aligned}\n",
    "\\mathbf{X}_n = 10^n \\mod m\n",
    "\\end{aligned}\n",
    "with\n",
    "\\begin{aligned}\n",
    "b = 10\n",
    "\\end{aligned}\n",
    "\\begin{aligned}\n",
    "m = 10\n",
    "\\end{aligned}\n",
    "yeilding\n",
    "\\begin{aligned}\n",
    "\\mathbf{X}^{\\left(10,10\\right)} = \\{ , 2,4,8 \\cdots \\} = \\left[ \\mathbf{G}^{\\left(10,10\\right)} \\mathbf{H}^{\\left(10,10\\right)} \\mathbf{H}^{\\left(10,10\\right)} \\mathbf{H}^{\\left(10,10\\right)} \\cdots \\right] = \\left[ \\mathbf{G}^{\\left(10,10\\right)} \\left(\\mathbf{H}^{\\left(10,10\\right)}\\right)^{*} \\right]\n",
    "\\end{aligned}\n",
    "where\n",
    "\\begin{aligned}\n",
    "\\mathbf{G}^{\\left(10,10\\right)} = \\{  \\}\n",
    "\\end{aligned}\n",
    "\\begin{aligned}\n",
    "\\mathbf{H}^{\\left(10,10\\right)} = \\{ 2,4,8 \\}\n",
    "\\end{aligned}\n",
    "so we have\n",
    "\\begin{aligned}\n",
    "\\left|\\mathbf{G}^{\\left(10,10\\right)}\\right| = 0\n",
    "\\end{aligned}\n",
    "\\begin{aligned}\n",
    "\\left|\\mathbf{H}^{\\left(10,10\\right)}\\right| = 4\n",
    "\\end{aligned}"
   ]
  },
  {
   "cell_type": "code",
   "execution_count": 11,
   "metadata": {
    "collapsed": false
   },
   "outputs": [
    {
     "name": "stdout",
     "output_type": "stream",
     "text": [
      "[0, 0, 0, 0, 0, 0, 0, 0, 0, 0, 0, 0, 0, 0, 0, 0, 0, 0, 0, 0, 0, 0, 0, 0, 0, 0, 0, 0, 0]\n"
     ]
    }
   ],
   "source": [
    "example(b=10, m=10) ##   X[n] = 10^n mod 10"
   ]
  },
  {
   "cell_type": "markdown",
   "metadata": {},
   "source": [
    "#### Example #10: $\\mathbf{X}^\\left({b=11,m=10}\\right)$"
   ]
  },
  {
   "cell_type": "markdown",
   "metadata": {},
   "source": [
    "\\begin{aligned}\n",
    "\\mathbf{X}_n = 11^n \\mod m\n",
    "\\end{aligned}\n",
    "with\n",
    "\\begin{aligned}\n",
    "b = 11\n",
    "\\end{aligned}\n",
    "\\begin{aligned}\n",
    "m = 10\n",
    "\\end{aligned}\n",
    "yeilding\n",
    "\\begin{aligned}\n",
    "\\mathbf{X}^{\\left(11,10\\right)} = \\{ , 2,4,8 \\cdots \\} = \\left[ \\mathbf{G}^{\\left(11,10\\right)} \\mathbf{H}^{\\left(11,10\\right)} \\mathbf{H}^{\\left(11,10\\right)} \\mathbf{H}^{\\left(11,10\\right)} \\cdots \\right] = \\left[ \\mathbf{G}^{\\left(11,10\\right)} \\left(\\mathbf{H}^{\\left(11,10\\right)}\\right)^{*} \\right]\n",
    "\\end{aligned}\n",
    "where\n",
    "\\begin{aligned}\n",
    "\\mathbf{G}^{\\left(11,10\\right)} = \\{  \\}\n",
    "\\end{aligned}\n",
    "\\begin{aligned}\n",
    "\\mathbf{H}^{\\left(11,10\\right)} = \\{ 2,4,8 \\}\n",
    "\\end{aligned}\n",
    "so we have\n",
    "\\begin{aligned}\n",
    "\\left|\\mathbf{G}^{\\left(11,10\\right)}\\right| = 0\n",
    "\\end{aligned}\n",
    "\\begin{aligned}\n",
    "\\left|\\mathbf{H}^{\\left(11,10\\right)}\\right| = 4\n",
    "\\end{aligned}"
   ]
  },
  {
   "cell_type": "code",
   "execution_count": 12,
   "metadata": {
    "collapsed": false
   },
   "outputs": [
    {
     "name": "stdout",
     "output_type": "stream",
     "text": [
      "[1, 1, 1, 1, 1, 1, 1, 1, 1, 1, 1, 1, 1, 1, 1, 1, 1, 1, 1, 1, 1, 1, 1, 1, 1, 1, 1, 1, 1]\n"
     ]
    }
   ],
   "source": [
    "example(b=11, m=10) ##   X[n] = 11^n mod 10"
   ]
  },
  {
   "cell_type": "markdown",
   "metadata": {},
   "source": [
    "#### Example #11: $\\mathbf{X}^\\left({b=12,m=10}\\right)$"
   ]
  },
  {
   "cell_type": "markdown",
   "metadata": {},
   "source": [
    "\\begin{aligned}\n",
    "\\mathbf{X}_n = 12^n \\mod m\n",
    "\\end{aligned}\n",
    "with\n",
    "\\begin{aligned}\n",
    "b = 12\n",
    "\\end{aligned}\n",
    "\\begin{aligned}\n",
    "m = 10\n",
    "\\end{aligned}\n",
    "yeilding\n",
    "\\begin{aligned}\n",
    "\\mathbf{X}^{\\left(12,10\\right)} = \\{ , 2,4,8 \\cdots \\} = \\left[ \\mathbf{G}^{\\left(12,10\\right)} \\mathbf{H}^{\\left(12,10\\right)} \\mathbf{H}^{\\left(12,10\\right)} \\mathbf{H}^{\\left(12,10\\right)} \\cdots \\right] = \\left[ \\mathbf{G}^{\\left(12,10\\right)} \\left(\\mathbf{H}^{\\left(12,10\\right)}\\right)^{*} \\right]\n",
    "\\end{aligned}\n",
    "where\n",
    "\\begin{aligned}\n",
    "\\mathbf{G}^{\\left(12,10\\right)} = \\{  \\}\n",
    "\\end{aligned}\n",
    "\\begin{aligned}\n",
    "\\mathbf{H}^{\\left(12,10\\right)} = \\{ 2,4,8 \\}\n",
    "\\end{aligned}\n",
    "so we have\n",
    "\\begin{aligned}\n",
    "\\left|\\mathbf{G}^{\\left(12,10\\right)}\\right| = 0\n",
    "\\end{aligned}\n",
    "\\begin{aligned}\n",
    "\\left|\\mathbf{H}^{\\left(12,10\\right)}\\right| = 4\n",
    "\\end{aligned}"
   ]
  },
  {
   "cell_type": "code",
   "execution_count": 13,
   "metadata": {
    "collapsed": false
   },
   "outputs": [
    {
     "name": "stdout",
     "output_type": "stream",
     "text": [
      "[2, 4, 8, 6, 2, 4, 8, 6, 2, 4, 8, 6, 2, 4, 8, 6, 2, 4, 8, 6, 2, 4, 8, 6, 2, 4, 8, 6, 2]\n"
     ]
    }
   ],
   "source": [
    "example(b=12, m=10) ##   X[n] = 12^n mod 10"
   ]
  },
  {
   "cell_type": "markdown",
   "metadata": {},
   "source": [
    "#### Example #12: $\\mathbf{X}^\\left({b=13,m=10}\\right)$"
   ]
  },
  {
   "cell_type": "markdown",
   "metadata": {},
   "source": [
    "\\begin{aligned}\n",
    "\\mathbf{X}_n = 13^n \\mod m\n",
    "\\end{aligned}\n",
    "with\n",
    "\\begin{aligned}\n",
    "b = 13\n",
    "\\end{aligned}\n",
    "\\begin{aligned}\n",
    "m = 10\n",
    "\\end{aligned}\n",
    "yeilding\n",
    "\\begin{aligned}\n",
    "\\mathbf{X}^{\\left(13,10\\right)} = \\{ , 2,4,8 \\cdots \\} = \\left[ \\mathbf{G}^{\\left(13,10\\right)} \\mathbf{H}^{\\left(13,10\\right)} \\mathbf{H}^{\\left(13,10\\right)} \\mathbf{H}^{\\left(13,10\\right)} \\cdots \\right] = \\left[ \\mathbf{G}^{\\left(13,10\\right)} \\left(\\mathbf{H}^{\\left(13,10\\right)}\\right)^{*} \\right]\n",
    "\\end{aligned}\n",
    "where\n",
    "\\begin{aligned}\n",
    "\\mathbf{G}^{\\left(13,10\\right)} = \\{  \\}\n",
    "\\end{aligned}\n",
    "\\begin{aligned}\n",
    "\\mathbf{H}^{\\left(13,10\\right)} = \\{ 2,4,8 \\}\n",
    "\\end{aligned}\n",
    "so we have\n",
    "\\begin{aligned}\n",
    "\\left|\\mathbf{G}^{\\left(13,10\\right)}\\right| = 0\n",
    "\\end{aligned}\n",
    "\\begin{aligned}\n",
    "\\left|\\mathbf{H}^{\\left(13,10\\right)}\\right| = 4\n",
    "\\end{aligned}"
   ]
  },
  {
   "cell_type": "code",
   "execution_count": 14,
   "metadata": {
    "collapsed": false
   },
   "outputs": [
    {
     "name": "stdout",
     "output_type": "stream",
     "text": [
      "[3, 9, 7, 1, 3, 9, 7, 1, 3, 9, 7, 1, 3, 9, 7, 1, 3, 9, 7, 1, 3, 9, 7, 1, 3, 9, 7, 1, 3]\n"
     ]
    }
   ],
   "source": [
    "example(b=13, m=10) ##   X[n] = 13^n mod 10"
   ]
  },
  {
   "cell_type": "markdown",
   "metadata": {},
   "source": [
    "#### Example #13: $\\mathbf{X}^\\left({b=14,m=10}\\right)$"
   ]
  },
  {
   "cell_type": "markdown",
   "metadata": {},
   "source": [
    "\\begin{aligned}\n",
    "\\mathbf{X}_n = 14^n \\mod m\n",
    "\\end{aligned}\n",
    "with\n",
    "\\begin{aligned}\n",
    "b = 14\n",
    "\\end{aligned}\n",
    "\\begin{aligned}\n",
    "m = 10\n",
    "\\end{aligned}\n",
    "yeilding\n",
    "\\begin{aligned}\n",
    "\\mathbf{X}^{\\left(14,10\\right)} = \\{ , 2,4,8 \\cdots \\} = \\left[ \\mathbf{G}^{\\left(14,10\\right)} \\mathbf{H}^{\\left(14,10\\right)} \\mathbf{H}^{\\left(14,10\\right)} \\mathbf{H}^{\\left(14,10\\right)} \\cdots \\right] = \\left[ \\mathbf{G}^{\\left(14,10\\right)} \\left(\\mathbf{H}^{\\left(14,10\\right)}\\right)^{*} \\right]\n",
    "\\end{aligned}\n",
    "where\n",
    "\\begin{aligned}\n",
    "\\mathbf{G}^{\\left(14,10\\right)} = \\{  \\}\n",
    "\\end{aligned}\n",
    "\\begin{aligned}\n",
    "\\mathbf{H}^{\\left(14,10\\right)} = \\{ 2,4,8 \\}\n",
    "\\end{aligned}\n",
    "so we have\n",
    "\\begin{aligned}\n",
    "\\left|\\mathbf{G}^{\\left(14,10\\right)}\\right| = 0\n",
    "\\end{aligned}\n",
    "\\begin{aligned}\n",
    "\\left|\\mathbf{H}^{\\left(14,10\\right)}\\right| = 4\n",
    "\\end{aligned}"
   ]
  },
  {
   "cell_type": "code",
   "execution_count": 15,
   "metadata": {
    "collapsed": false
   },
   "outputs": [
    {
     "name": "stdout",
     "output_type": "stream",
     "text": [
      "[4, 6, 4, 6, 4, 6, 4, 6, 4, 6, 4, 6, 4, 6, 4, 6, 4, 6, 4, 6, 4, 6, 4, 6, 4, 6, 4, 6, 4]\n"
     ]
    }
   ],
   "source": [
    "example(b=14, m=10) ##   X[n] = 14^n mod 10"
   ]
  },
  {
   "cell_type": "markdown",
   "metadata": {},
   "source": [
    "#### Example #14: $\\mathbf{X}^\\left({b=15,m=10}\\right)$"
   ]
  },
  {
   "cell_type": "markdown",
   "metadata": {},
   "source": [
    "\\begin{aligned}\n",
    "\\mathbf{X}_n = 15^n \\mod m\n",
    "\\end{aligned}\n",
    "with\n",
    "\\begin{aligned}\n",
    "b = 15\n",
    "\\end{aligned}\n",
    "\\begin{aligned}\n",
    "m = 10\n",
    "\\end{aligned}\n",
    "yeilding\n",
    "\\begin{aligned}\n",
    "\\mathbf{X}^{\\left(15,10\\right)} = \\{ , 2,4,8 \\cdots \\} = \\left[ \\mathbf{G}^{\\left(15,10\\right)} \\mathbf{H}^{\\left(15,10\\right)} \\mathbf{H}^{\\left(15,10\\right)} \\mathbf{H}^{\\left(15,10\\right)} \\cdots \\right] = \\left[ \\mathbf{G}^{\\left(15,10\\right)} \\left(\\mathbf{H}^{\\left(15,10\\right)}\\right)^{*} \\right]\n",
    "\\end{aligned}\n",
    "where\n",
    "\\begin{aligned}\n",
    "\\mathbf{G}^{\\left(15,10\\right)} = \\{  \\}\n",
    "\\end{aligned}\n",
    "\\begin{aligned}\n",
    "\\mathbf{H}^{\\left(15,10\\right)} = \\{ 2,4,8 \\}\n",
    "\\end{aligned}\n",
    "so we have\n",
    "\\begin{aligned}\n",
    "\\left|\\mathbf{G}^{\\left(15,10\\right)}\\right| = 0\n",
    "\\end{aligned}\n",
    "\\begin{aligned}\n",
    "\\left|\\mathbf{H}^{\\left(15,10\\right)}\\right| = 4\n",
    "\\end{aligned}"
   ]
  },
  {
   "cell_type": "code",
   "execution_count": 16,
   "metadata": {
    "collapsed": false
   },
   "outputs": [
    {
     "name": "stdout",
     "output_type": "stream",
     "text": [
      "[5, 5, 5, 5, 5, 5, 5, 5, 5, 5, 5, 5, 5, 5, 5, 5, 5, 5, 5, 5, 5, 5, 5, 5, 5, 5, 5, 5, 5]\n"
     ]
    }
   ],
   "source": [
    "example(b=15, m=10) ##   X[n] = 15^n mod 10"
   ]
  },
  {
   "cell_type": "markdown",
   "metadata": {},
   "source": [
    "#### Example #15: $\\mathbf{X}^\\left({b=16,m=10}\\right)$"
   ]
  },
  {
   "cell_type": "markdown",
   "metadata": {},
   "source": [
    "\\begin{aligned}\n",
    "\\mathbf{X}_n = 16^n \\mod m\n",
    "\\end{aligned}\n",
    "with\n",
    "\\begin{aligned}\n",
    "b = 16\n",
    "\\end{aligned}\n",
    "\\begin{aligned}\n",
    "m = 10\n",
    "\\end{aligned}\n",
    "yeilding\n",
    "\\begin{aligned}\n",
    "\\mathbf{X}^{\\left(16,10\\right)} = \\{ , 2,4,8 \\cdots \\} = \\left[ \\mathbf{G}^{\\left(16,10\\right)} \\mathbf{H}^{\\left(16,10\\right)} \\mathbf{H}^{\\left(16,10\\right)} \\mathbf{H}^{\\left(16,10\\right)} \\cdots \\right] = \\left[ \\mathbf{G}^{\\left(16,10\\right)} \\left(\\mathbf{H}^{\\left(16,10\\right)}\\right)^{*} \\right]\n",
    "\\end{aligned}\n",
    "where\n",
    "\\begin{aligned}\n",
    "\\mathbf{G}^{\\left(16,10\\right)} = \\{  \\}\n",
    "\\end{aligned}\n",
    "\\begin{aligned}\n",
    "\\mathbf{H}^{\\left(16,10\\right)} = \\{ 2,4,8 \\}\n",
    "\\end{aligned}\n",
    "so we have\n",
    "\\begin{aligned}\n",
    "\\left|\\mathbf{G}^{\\left(16,10\\right)}\\right| = 0\n",
    "\\end{aligned}\n",
    "\\begin{aligned}\n",
    "\\left|\\mathbf{H}^{\\left(16,10\\right)}\\right| = 4\n",
    "\\end{aligned}"
   ]
  },
  {
   "cell_type": "code",
   "execution_count": 17,
   "metadata": {
    "collapsed": false
   },
   "outputs": [
    {
     "name": "stdout",
     "output_type": "stream",
     "text": [
      "[6, 6, 6, 6, 6, 6, 6, 6, 6, 6, 6, 6, 6, 6, 6, 6, 6, 6, 6, 6, 6, 6, 6, 6, 6, 6, 6, 6, 6]\n"
     ]
    }
   ],
   "source": [
    "example(b=16, m=10) ##   X[n] = 16^n mod 10"
   ]
  },
  {
   "cell_type": "markdown",
   "metadata": {},
   "source": [
    "#### Example #16: $\\mathbf{X}^\\left({b=17,m=10}\\right)$"
   ]
  },
  {
   "cell_type": "markdown",
   "metadata": {},
   "source": [
    "\\begin{aligned}\n",
    "\\mathbf{X}_n = 17^n \\mod m\n",
    "\\end{aligned}\n",
    "with\n",
    "\\begin{aligned}\n",
    "b = 17\n",
    "\\end{aligned}\n",
    "\\begin{aligned}\n",
    "m = 10\n",
    "\\end{aligned}\n",
    "yeilding\n",
    "\\begin{aligned}\n",
    "\\mathbf{X}^{\\left(17,10\\right)} = \\{ , 2,4,8 \\cdots \\} = \\left[ \\mathbf{G}^{\\left(17,10\\right)} \\mathbf{H}^{\\left(17,10\\right)} \\mathbf{H}^{\\left(17,10\\right)} \\mathbf{H}^{\\left(17,10\\right)} \\cdots \\right] = \\left[ \\mathbf{G}^{\\left(17,10\\right)} \\left(\\mathbf{H}^{\\left(17,10\\right)}\\right)^{*} \\right]\n",
    "\\end{aligned}\n",
    "where\n",
    "\\begin{aligned}\n",
    "\\mathbf{G}^{\\left(17,10\\right)} = \\{  \\}\n",
    "\\end{aligned}\n",
    "\\begin{aligned}\n",
    "\\mathbf{H}^{\\left(17,10\\right)} = \\{ 2,4,8 \\}\n",
    "\\end{aligned}\n",
    "so we have\n",
    "\\begin{aligned}\n",
    "\\left|\\mathbf{G}^{\\left(17,10\\right)}\\right| = 0\n",
    "\\end{aligned}\n",
    "\\begin{aligned}\n",
    "\\left|\\mathbf{H}^{\\left(17,10\\right)}\\right| = 4\n",
    "\\end{aligned}"
   ]
  },
  {
   "cell_type": "code",
   "execution_count": 18,
   "metadata": {
    "collapsed": false
   },
   "outputs": [
    {
     "name": "stdout",
     "output_type": "stream",
     "text": [
      "[7, 9, 3, 1, 7, 9, 3, 1, 7, 9, 3, 1, 7, 9, 3, 1, 7, 9, 3, 1, 7, 9, 3, 1, 7, 9, 3, 1, 7]\n"
     ]
    }
   ],
   "source": [
    "example(b=17, m=10) ##   X[n] = 17^n mod 10"
   ]
  },
  {
   "cell_type": "markdown",
   "metadata": {},
   "source": [
    "#### Example #17: $\\mathbf{X}^\\left({b=18,m=10}\\right)$"
   ]
  },
  {
   "cell_type": "markdown",
   "metadata": {},
   "source": [
    "\\begin{aligned}\n",
    "\\mathbf{X}_n = 18^n \\mod m\n",
    "\\end{aligned}\n",
    "with\n",
    "\\begin{aligned}\n",
    "b = 18\n",
    "\\end{aligned}\n",
    "\\begin{aligned}\n",
    "m = 10\n",
    "\\end{aligned}\n",
    "yeilding\n",
    "\\begin{aligned}\n",
    "\\mathbf{X}^{\\left(18,10\\right)} = \\{ , 2,4,8 \\cdots \\} = \\left[ \\mathbf{G}^{\\left(18,10\\right)} \\mathbf{H}^{\\left(18,10\\right)} \\mathbf{H}^{\\left(18,10\\right)} \\mathbf{H}^{\\left(18,10\\right)} \\cdots \\right] = \\left[ \\mathbf{G}^{\\left(18,10\\right)} \\left(\\mathbf{H}^{\\left(18,10\\right)}\\right)^{*} \\right]\n",
    "\\end{aligned}\n",
    "where\n",
    "\\begin{aligned}\n",
    "\\mathbf{G}^{\\left(18,10\\right)} = \\{  \\}\n",
    "\\end{aligned}\n",
    "\\begin{aligned}\n",
    "\\mathbf{H}^{\\left(18,10\\right)} = \\{ 2,4,8 \\}\n",
    "\\end{aligned}\n",
    "so we have\n",
    "\\begin{aligned}\n",
    "\\left|\\mathbf{G}^{\\left(18,10\\right)}\\right| = 0\n",
    "\\end{aligned}\n",
    "\\begin{aligned}\n",
    "\\left|\\mathbf{H}^{\\left(18,10\\right)}\\right| = 4\n",
    "\\end{aligned}"
   ]
  },
  {
   "cell_type": "code",
   "execution_count": 19,
   "metadata": {
    "collapsed": false
   },
   "outputs": [
    {
     "name": "stdout",
     "output_type": "stream",
     "text": [
      "[8, 4, 2, 6, 8, 4, 2, 6, 8, 4, 2, 6, 8, 4, 2, 6, 8, 4, 2, 6, 8, 4, 2, 6, 8, 4, 2, 6, 8]\n"
     ]
    }
   ],
   "source": [
    "example(b=18, m=10) ##   X[n] = 18^n mod 10"
   ]
  },
  {
   "cell_type": "markdown",
   "metadata": {},
   "source": [
    "#### Example #18: $\\mathbf{X}^\\left({b=19,m=10}\\right)$"
   ]
  },
  {
   "cell_type": "markdown",
   "metadata": {},
   "source": [
    "\\begin{aligned}\n",
    "\\mathbf{X}_n = 19^n \\mod m\n",
    "\\end{aligned}\n",
    "with\n",
    "\\begin{aligned}\n",
    "b = 19\n",
    "\\end{aligned}\n",
    "\\begin{aligned}\n",
    "m = 10\n",
    "\\end{aligned}\n",
    "yeilding\n",
    "\\begin{aligned}\n",
    "\\mathbf{X}^{\\left(19,10\\right)} = \\{ , 2,4,8 \\cdots \\} = \\left[ \\mathbf{G}^{\\left(19,10\\right)} \\mathbf{H}^{\\left(19,10\\right)} \\mathbf{H}^{\\left(19,10\\right)} \\mathbf{H}^{\\left(19,10\\right)} \\cdots \\right] = \\left[ \\mathbf{G}^{\\left(19,10\\right)} \\left(\\mathbf{H}^{\\left(19,10\\right)}\\right)^{*} \\right]\n",
    "\\end{aligned}\n",
    "where\n",
    "\\begin{aligned}\n",
    "\\mathbf{G}^{\\left(19,10\\right)} = \\{  \\}\n",
    "\\end{aligned}\n",
    "\\begin{aligned}\n",
    "\\mathbf{H}^{\\left(19,10\\right)} = \\{ 2,4,8 \\}\n",
    "\\end{aligned}\n",
    "so we have\n",
    "\\begin{aligned}\n",
    "\\left|\\mathbf{G}^{\\left(19,10\\right)}\\right| = 0\n",
    "\\end{aligned}\n",
    "\\begin{aligned}\n",
    "\\left|\\mathbf{H}^{\\left(19,10\\right)}\\right| = 4\n",
    "\\end{aligned}"
   ]
  },
  {
   "cell_type": "code",
   "execution_count": 20,
   "metadata": {
    "collapsed": false
   },
   "outputs": [
    {
     "name": "stdout",
     "output_type": "stream",
     "text": [
      "[9, 1, 9, 1, 9, 1, 9, 1, 9, 1, 9, 1, 9, 1, 9, 1, 9, 1, 9, 1, 9, 1, 9, 1, 9, 1, 9, 1, 9]\n"
     ]
    }
   ],
   "source": [
    "example(b=19, m=10) ##   X[n] = 19^n mod 10"
   ]
  },
  {
   "cell_type": "markdown",
   "metadata": {},
   "source": [
    "#### Example #19: $\\mathbf{X}^\\left({b=20,m=10}\\right)$"
   ]
  },
  {
   "cell_type": "markdown",
   "metadata": {},
   "source": [
    "\\begin{aligned}\n",
    "\\mathbf{X}_n = 20^n \\mod m\n",
    "\\end{aligned}\n",
    "with\n",
    "\\begin{aligned}\n",
    "b = 20\n",
    "\\end{aligned}\n",
    "\\begin{aligned}\n",
    "m = 10\n",
    "\\end{aligned}\n",
    "yeilding\n",
    "\\begin{aligned}\n",
    "\\mathbf{X}^{\\left(20,10\\right)} = \\{ , 2,4,8 \\cdots \\} = \\left[ \\mathbf{G}^{\\left(20,10\\right)} \\mathbf{H}^{\\left(20,10\\right)} \\mathbf{H}^{\\left(20,10\\right)} \\mathbf{H}^{\\left(20,10\\right)} \\cdots \\right] = \\left[ \\mathbf{G}^{\\left(20,10\\right)} \\left(\\mathbf{H}^{\\left(20,10\\right)}\\right)^{*} \\right]\n",
    "\\end{aligned}\n",
    "where\n",
    "\\begin{aligned}\n",
    "\\mathbf{G}^{\\left(20,10\\right)} = \\{  \\}\n",
    "\\end{aligned}\n",
    "\\begin{aligned}\n",
    "\\mathbf{H}^{\\left(20,10\\right)} = \\{ 2,4,8 \\}\n",
    "\\end{aligned}\n",
    "so we have\n",
    "\\begin{aligned}\n",
    "\\left|\\mathbf{G}^{\\left(20,10\\right)}\\right| = 0\n",
    "\\end{aligned}\n",
    "\\begin{aligned}\n",
    "\\left|\\mathbf{H}^{\\left(20,10\\right)}\\right| = 4\n",
    "\\end{aligned}"
   ]
  },
  {
   "cell_type": "code",
   "execution_count": 21,
   "metadata": {
    "collapsed": false
   },
   "outputs": [
    {
     "name": "stdout",
     "output_type": "stream",
     "text": [
      "[0, 0, 0, 0, 0, 0, 0, 0, 0, 0, 0, 0, 0, 0, 0, 0, 0, 0, 0, 0, 0, 0, 0, 0, 0, 0, 0, 0, 0]\n"
     ]
    }
   ],
   "source": [
    "example(b=20, m=10) ##   X[n] = 20^n mod 10"
   ]
  },
  {
   "cell_type": "markdown",
   "metadata": {},
   "source": [
    "#### Example #20: $\\mathbf{X}^\\left({b=21,m=10}\\right)$"
   ]
  },
  {
   "cell_type": "markdown",
   "metadata": {},
   "source": [
    "\\begin{aligned}\n",
    "\\mathbf{X}_n = 21^n \\mod m\n",
    "\\end{aligned}\n",
    "with\n",
    "\\begin{aligned}\n",
    "b = 21\n",
    "\\end{aligned}\n",
    "\\begin{aligned}\n",
    "m = 10\n",
    "\\end{aligned}\n",
    "yeilding\n",
    "\\begin{aligned}\n",
    "\\mathbf{X}^{\\left(21,10\\right)} = \\{ , 2,4,8 \\cdots \\} = \\left[ \\mathbf{G}^{\\left(21,10\\right)} \\mathbf{H}^{\\left(21,10\\right)} \\mathbf{H}^{\\left(21,10\\right)} \\mathbf{H}^{\\left(21,10\\right)} \\cdots \\right] = \\left[ \\mathbf{G}^{\\left(21,10\\right)} \\left(\\mathbf{H}^{\\left(21,10\\right)}\\right)^{*} \\right]\n",
    "\\end{aligned}\n",
    "where\n",
    "\\begin{aligned}\n",
    "\\mathbf{G}^{\\left(21,10\\right)} = \\{  \\}\n",
    "\\end{aligned}\n",
    "\\begin{aligned}\n",
    "\\mathbf{H}^{\\left(21,10\\right)} = \\{ 2,4,8 \\}\n",
    "\\end{aligned}\n",
    "so we have\n",
    "\\begin{aligned}\n",
    "\\left|\\mathbf{G}^{\\left(21,10\\right)}\\right| = 0\n",
    "\\end{aligned}\n",
    "\\begin{aligned}\n",
    "\\left|\\mathbf{H}^{\\left(21,10\\right)}\\right| = 4\n",
    "\\end{aligned}"
   ]
  },
  {
   "cell_type": "code",
   "execution_count": 22,
   "metadata": {
    "collapsed": false
   },
   "outputs": [
    {
     "name": "stdout",
     "output_type": "stream",
     "text": [
      "[1, 1, 1, 1, 1, 1, 1, 1, 1, 1, 1, 1, 1, 1, 1, 1, 1, 1, 1, 1, 1, 1, 1, 1, 1, 1, 1, 1, 1]\n"
     ]
    }
   ],
   "source": [
    "example(b=21, m=10) ##   X[n] = 21^n mod 10"
   ]
  },
  {
   "cell_type": "markdown",
   "metadata": {},
   "source": [
    "#### Example #21: $\\mathbf{X}^\\left({b=22,m=10}\\right)$"
   ]
  },
  {
   "cell_type": "markdown",
   "metadata": {},
   "source": [
    "\\begin{aligned}\n",
    "\\mathbf{X}_n = 22^n \\mod m\n",
    "\\end{aligned}\n",
    "with\n",
    "\\begin{aligned}\n",
    "b = 22\n",
    "\\end{aligned}\n",
    "\\begin{aligned}\n",
    "m = 10\n",
    "\\end{aligned}\n",
    "yeilding\n",
    "\\begin{aligned}\n",
    "\\mathbf{X}^{\\left(22,10\\right)} = \\{ , 2,4,8 \\cdots \\} = \\left[ \\mathbf{G}^{\\left(22,10\\right)} \\mathbf{H}^{\\left(22,10\\right)} \\mathbf{H}^{\\left(22,10\\right)} \\mathbf{H}^{\\left(22,10\\right)} \\cdots \\right] = \\left[ \\mathbf{G}^{\\left(22,10\\right)} \\left(\\mathbf{H}^{\\left(22,10\\right)}\\right)^{*} \\right]\n",
    "\\end{aligned}\n",
    "where\n",
    "\\begin{aligned}\n",
    "\\mathbf{G}^{\\left(22,10\\right)} = \\{  \\}\n",
    "\\end{aligned}\n",
    "\\begin{aligned}\n",
    "\\mathbf{H}^{\\left(22,10\\right)} = \\{ 2,4,8 \\}\n",
    "\\end{aligned}\n",
    "so we have\n",
    "\\begin{aligned}\n",
    "\\left|\\mathbf{G}^{\\left(22,10\\right)}\\right| = 0\n",
    "\\end{aligned}\n",
    "\\begin{aligned}\n",
    "\\left|\\mathbf{H}^{\\left(22,10\\right)}\\right| = 4\n",
    "\\end{aligned}"
   ]
  },
  {
   "cell_type": "code",
   "execution_count": 23,
   "metadata": {
    "collapsed": false
   },
   "outputs": [
    {
     "name": "stdout",
     "output_type": "stream",
     "text": [
      "[2, 4, 8, 6, 2, 4, 8, 6, 2, 4, 8, 6, 2, 4, 8, 6, 2, 4, 8, 6, 2, 4, 8, 6, 2, 4, 8, 6, 2]\n"
     ]
    }
   ],
   "source": [
    "example(b=22, m=10) ##   X[n] = 22^n mod 10"
   ]
  },
  {
   "cell_type": "markdown",
   "metadata": {},
   "source": [
    "#### Example #22: $\\mathbf{X}^\\left({b=23,m=10}\\right)$"
   ]
  },
  {
   "cell_type": "markdown",
   "metadata": {},
   "source": [
    "\\begin{aligned}\n",
    "\\mathbf{X}_n = 23^n \\mod m\n",
    "\\end{aligned}\n",
    "with\n",
    "\\begin{aligned}\n",
    "b = 23\n",
    "\\end{aligned}\n",
    "\\begin{aligned}\n",
    "m = 10\n",
    "\\end{aligned}\n",
    "yeilding\n",
    "\\begin{aligned}\n",
    "\\mathbf{X}^{\\left(23,10\\right)} = \\{ , 2,4,8 \\cdots \\} = \\left[ \\mathbf{G}^{\\left(23,10\\right)} \\mathbf{H}^{\\left(23,10\\right)} \\mathbf{H}^{\\left(23,10\\right)} \\mathbf{H}^{\\left(23,10\\right)} \\cdots \\right] = \\left[ \\mathbf{G}^{\\left(23,10\\right)} \\left(\\mathbf{H}^{\\left(23,10\\right)}\\right)^{*} \\right]\n",
    "\\end{aligned}\n",
    "where\n",
    "\\begin{aligned}\n",
    "\\mathbf{G}^{\\left(23,10\\right)} = \\{  \\}\n",
    "\\end{aligned}\n",
    "\\begin{aligned}\n",
    "\\mathbf{H}^{\\left(23,10\\right)} = \\{ 2,4,8 \\}\n",
    "\\end{aligned}\n",
    "so we have\n",
    "\\begin{aligned}\n",
    "\\left|\\mathbf{G}^{\\left(23,10\\right)}\\right| = 0\n",
    "\\end{aligned}\n",
    "\\begin{aligned}\n",
    "\\left|\\mathbf{H}^{\\left(23,10\\right)}\\right| = 4\n",
    "\\end{aligned}"
   ]
  },
  {
   "cell_type": "code",
   "execution_count": 24,
   "metadata": {
    "collapsed": false
   },
   "outputs": [
    {
     "name": "stdout",
     "output_type": "stream",
     "text": [
      "[3, 9, 7, 1, 3, 9, 7, 1, 3, 9, 7, 1, 3, 9, 7, 1, 3, 9, 7, 1, 3, 9, 7, 1, 3, 9, 7, 1, 3]\n"
     ]
    }
   ],
   "source": [
    "example(b=23, m=10) ##   X[n] = 23^n mod 10"
   ]
  },
  {
   "cell_type": "markdown",
   "metadata": {},
   "source": [
    "#### Example #23: $\\mathbf{X}^\\left({b=24,m=10}\\right)$"
   ]
  },
  {
   "cell_type": "markdown",
   "metadata": {},
   "source": [
    "\\begin{aligned}\n",
    "\\mathbf{X}_n = 24^n \\mod m\n",
    "\\end{aligned}\n",
    "with\n",
    "\\begin{aligned}\n",
    "b = 24\n",
    "\\end{aligned}\n",
    "\\begin{aligned}\n",
    "m = 10\n",
    "\\end{aligned}\n",
    "yeilding\n",
    "\\begin{aligned}\n",
    "\\mathbf{X}^{\\left(24,10\\right)} = \\{ , 2,4,8 \\cdots \\} = \\left[ \\mathbf{G}^{\\left(24,10\\right)} \\mathbf{H}^{\\left(24,10\\right)} \\mathbf{H}^{\\left(24,10\\right)} \\mathbf{H}^{\\left(24,10\\right)} \\cdots \\right] = \\left[ \\mathbf{G}^{\\left(24,10\\right)} \\left(\\mathbf{H}^{\\left(24,10\\right)}\\right)^{*} \\right]\n",
    "\\end{aligned}\n",
    "where\n",
    "\\begin{aligned}\n",
    "\\mathbf{G}^{\\left(24,10\\right)} = \\{  \\}\n",
    "\\end{aligned}\n",
    "\\begin{aligned}\n",
    "\\mathbf{H}^{\\left(24,10\\right)} = \\{ 2,4,8 \\}\n",
    "\\end{aligned}\n",
    "so we have\n",
    "\\begin{aligned}\n",
    "\\left|\\mathbf{G}^{\\left(24,10\\right)}\\right| = 0\n",
    "\\end{aligned}\n",
    "\\begin{aligned}\n",
    "\\left|\\mathbf{H}^{\\left(24,10\\right)}\\right| = 4\n",
    "\\end{aligned}"
   ]
  },
  {
   "cell_type": "code",
   "execution_count": 25,
   "metadata": {
    "collapsed": false
   },
   "outputs": [
    {
     "name": "stdout",
     "output_type": "stream",
     "text": [
      "[4, 6, 4, 6, 4, 6, 4, 6, 4, 6, 4, 6, 4, 6, 4, 6, 4, 6, 4, 6, 4, 6, 4, 6, 4, 6, 4, 6, 4]\n"
     ]
    }
   ],
   "source": [
    "example(b=24, m=10) ##   X[n] = 24^n mod 10"
   ]
  },
  {
   "cell_type": "markdown",
   "metadata": {},
   "source": [
    "#### Example #24: $\\mathbf{X}^\\left({b=25,m=10}\\right)$"
   ]
  },
  {
   "cell_type": "markdown",
   "metadata": {},
   "source": [
    "\\begin{aligned}\n",
    "\\mathbf{X}_n = 25^n \\mod m\n",
    "\\end{aligned}\n",
    "with\n",
    "\\begin{aligned}\n",
    "b = 25\n",
    "\\end{aligned}\n",
    "\\begin{aligned}\n",
    "m = 10\n",
    "\\end{aligned}\n",
    "yeilding\n",
    "\\begin{aligned}\n",
    "\\mathbf{X}^{\\left(25,10\\right)} = \\{ , 2,4,8 \\cdots \\} = \\left[ \\mathbf{G}^{\\left(25,10\\right)} \\mathbf{H}^{\\left(25,10\\right)} \\mathbf{H}^{\\left(25,10\\right)} \\mathbf{H}^{\\left(25,10\\right)} \\cdots \\right] = \\left[ \\mathbf{G}^{\\left(25,10\\right)} \\left(\\mathbf{H}^{\\left(25,10\\right)}\\right)^{*} \\right]\n",
    "\\end{aligned}\n",
    "where\n",
    "\\begin{aligned}\n",
    "\\mathbf{G}^{\\left(25,10\\right)} = \\{  \\}\n",
    "\\end{aligned}\n",
    "\\begin{aligned}\n",
    "\\mathbf{H}^{\\left(25,10\\right)} = \\{ 2,4,8 \\}\n",
    "\\end{aligned}\n",
    "so we have\n",
    "\\begin{aligned}\n",
    "\\left|\\mathbf{G}^{\\left(25,10\\right)}\\right| = 0\n",
    "\\end{aligned}\n",
    "\\begin{aligned}\n",
    "\\left|\\mathbf{H}^{\\left(25,10\\right)}\\right| = 4\n",
    "\\end{aligned}"
   ]
  },
  {
   "cell_type": "code",
   "execution_count": 26,
   "metadata": {
    "collapsed": false
   },
   "outputs": [
    {
     "name": "stdout",
     "output_type": "stream",
     "text": [
      "[5, 5, 5, 5, 5, 5, 5, 5, 5, 5, 5, 5, 5, 5, 5, 5, 5, 5, 5, 5, 5, 5, 5, 5, 5, 5, 5, 5, 5]\n"
     ]
    }
   ],
   "source": [
    "example(b=25, m=10) ##   X[n] = 25^n mod 10"
   ]
  },
  {
   "cell_type": "markdown",
   "metadata": {},
   "source": [
    "#### Example #25: $\\mathbf{X}^\\left({b=26,m=10}\\right)$"
   ]
  },
  {
   "cell_type": "markdown",
   "metadata": {},
   "source": [
    "\\begin{aligned}\n",
    "\\mathbf{X}_n = 26^n \\mod m\n",
    "\\end{aligned}\n",
    "with\n",
    "\\begin{aligned}\n",
    "b = 26\n",
    "\\end{aligned}\n",
    "\\begin{aligned}\n",
    "m = 10\n",
    "\\end{aligned}\n",
    "yeilding\n",
    "\\begin{aligned}\n",
    "\\mathbf{X}^{\\left(26,10\\right)} = \\{ , 2,4,8 \\cdots \\} = \\left[ \\mathbf{G}^{\\left(26,10\\right)} \\mathbf{H}^{\\left(26,10\\right)} \\mathbf{H}^{\\left(26,10\\right)} \\mathbf{H}^{\\left(26,10\\right)} \\cdots \\right] = \\left[ \\mathbf{G}^{\\left(26,10\\right)} \\left(\\mathbf{H}^{\\left(26,10\\right)}\\right)^{*} \\right]\n",
    "\\end{aligned}\n",
    "where\n",
    "\\begin{aligned}\n",
    "\\mathbf{G}^{\\left(26,10\\right)} = \\{  \\}\n",
    "\\end{aligned}\n",
    "\\begin{aligned}\n",
    "\\mathbf{H}^{\\left(26,10\\right)} = \\{ 2,4,8 \\}\n",
    "\\end{aligned}\n",
    "so we have\n",
    "\\begin{aligned}\n",
    "\\left|\\mathbf{G}^{\\left(26,10\\right)}\\right| = 0\n",
    "\\end{aligned}\n",
    "\\begin{aligned}\n",
    "\\left|\\mathbf{H}^{\\left(26,10\\right)}\\right| = 4\n",
    "\\end{aligned}"
   ]
  },
  {
   "cell_type": "code",
   "execution_count": 27,
   "metadata": {
    "collapsed": false
   },
   "outputs": [
    {
     "name": "stdout",
     "output_type": "stream",
     "text": [
      "[6, 6, 6, 6, 6, 6, 6, 6, 6, 6, 6, 6, 6, 6, 6, 6, 6, 6, 6, 6, 6, 6, 6, 6, 6, 6, 6, 6, 6]\n"
     ]
    }
   ],
   "source": [
    "example(b=26, m=10) ##   X[n] = 26^n mod 10"
   ]
  },
  {
   "cell_type": "markdown",
   "metadata": {},
   "source": [
    "#### Example #26: $\\mathbf{X}^\\left({b=27,m=10}\\right)$"
   ]
  },
  {
   "cell_type": "markdown",
   "metadata": {},
   "source": [
    "\\begin{aligned}\n",
    "\\mathbf{X}_n = 27^n \\mod m\n",
    "\\end{aligned}\n",
    "with\n",
    "\\begin{aligned}\n",
    "b = 27\n",
    "\\end{aligned}\n",
    "\\begin{aligned}\n",
    "m = 10\n",
    "\\end{aligned}\n",
    "yeilding\n",
    "\\begin{aligned}\n",
    "\\mathbf{X}^{\\left(27,10\\right)} = \\{ , 2,4,8 \\cdots \\} = \\left[ \\mathbf{G}^{\\left(27,10\\right)} \\mathbf{H}^{\\left(27,10\\right)} \\mathbf{H}^{\\left(27,10\\right)} \\mathbf{H}^{\\left(27,10\\right)} \\cdots \\right] = \\left[ \\mathbf{G}^{\\left(27,10\\right)} \\left(\\mathbf{H}^{\\left(27,10\\right)}\\right)^{*} \\right]\n",
    "\\end{aligned}\n",
    "where\n",
    "\\begin{aligned}\n",
    "\\mathbf{G}^{\\left(27,10\\right)} = \\{  \\}\n",
    "\\end{aligned}\n",
    "\\begin{aligned}\n",
    "\\mathbf{H}^{\\left(27,10\\right)} = \\{ 2,4,8 \\}\n",
    "\\end{aligned}\n",
    "so we have\n",
    "\\begin{aligned}\n",
    "\\left|\\mathbf{G}^{\\left(27,10\\right)}\\right| = 0\n",
    "\\end{aligned}\n",
    "\\begin{aligned}\n",
    "\\left|\\mathbf{H}^{\\left(27,10\\right)}\\right| = 4\n",
    "\\end{aligned}"
   ]
  },
  {
   "cell_type": "code",
   "execution_count": 28,
   "metadata": {
    "collapsed": false
   },
   "outputs": [
    {
     "name": "stdout",
     "output_type": "stream",
     "text": [
      "[7, 9, 3, 1, 7, 9, 3, 1, 7, 9, 3, 1, 7, 9, 3, 1, 7, 9, 3, 1, 7, 9, 3, 1, 7, 9, 3, 1, 7]\n"
     ]
    }
   ],
   "source": [
    "example(b=27, m=10) ##   X[n] = 27^n mod 10"
   ]
  },
  {
   "cell_type": "markdown",
   "metadata": {},
   "source": [
    "#### Example #27: $\\mathbf{X}^\\left({b=28,m=10}\\right)$"
   ]
  },
  {
   "cell_type": "markdown",
   "metadata": {},
   "source": [
    "\\begin{aligned}\n",
    "\\mathbf{X}_n = 28^n \\mod m\n",
    "\\end{aligned}\n",
    "with\n",
    "\\begin{aligned}\n",
    "b = 28\n",
    "\\end{aligned}\n",
    "\\begin{aligned}\n",
    "m = 10\n",
    "\\end{aligned}\n",
    "yeilding\n",
    "\\begin{aligned}\n",
    "\\mathbf{X}^{\\left(28,10\\right)} = \\{ , 2,4,8 \\cdots \\} = \\left[ \\mathbf{G}^{\\left(28,10\\right)} \\mathbf{H}^{\\left(28,10\\right)} \\mathbf{H}^{\\left(28,10\\right)} \\mathbf{H}^{\\left(28,10\\right)} \\cdots \\right] = \\left[ \\mathbf{G}^{\\left(28,10\\right)} \\left(\\mathbf{H}^{\\left(28,10\\right)}\\right)^{*} \\right]\n",
    "\\end{aligned}\n",
    "where\n",
    "\\begin{aligned}\n",
    "\\mathbf{G}^{\\left(28,10\\right)} = \\{  \\}\n",
    "\\end{aligned}\n",
    "\\begin{aligned}\n",
    "\\mathbf{H}^{\\left(28,10\\right)} = \\{ 2,4,8 \\}\n",
    "\\end{aligned}\n",
    "so we have\n",
    "\\begin{aligned}\n",
    "\\left|\\mathbf{G}^{\\left(28,10\\right)}\\right| = 0\n",
    "\\end{aligned}\n",
    "\\begin{aligned}\n",
    "\\left|\\mathbf{H}^{\\left(28,10\\right)}\\right| = 4\n",
    "\\end{aligned}"
   ]
  },
  {
   "cell_type": "code",
   "execution_count": 29,
   "metadata": {
    "collapsed": false
   },
   "outputs": [
    {
     "name": "stdout",
     "output_type": "stream",
     "text": [
      "[8, 4, 2, 6, 8, 4, 2, 6, 8, 4, 2, 6, 8, 4, 2, 6, 8, 4, 2, 6, 8, 4, 2, 6, 8, 4, 2, 6, 8]\n"
     ]
    }
   ],
   "source": [
    "example(b=28, m=10) ##   X[n] = 28^n mod 10"
   ]
  },
  {
   "cell_type": "markdown",
   "metadata": {},
   "source": [
    "#### Example #28: $\\mathbf{X}^\\left({b=29,m=10}\\right)$"
   ]
  },
  {
   "cell_type": "markdown",
   "metadata": {},
   "source": [
    "\\begin{aligned}\n",
    "\\mathbf{X}_n = 29^n \\mod m\n",
    "\\end{aligned}\n",
    "with\n",
    "\\begin{aligned}\n",
    "b = 29\n",
    "\\end{aligned}\n",
    "\\begin{aligned}\n",
    "m = 10\n",
    "\\end{aligned}\n",
    "yeilding\n",
    "\\begin{aligned}\n",
    "\\mathbf{X}^{\\left(29,10\\right)} = \\{ , 2,4,8 \\cdots \\} = \\left[ \\mathbf{G}^{\\left(29,10\\right)} \\mathbf{H}^{\\left(29,10\\right)} \\mathbf{H}^{\\left(29,10\\right)} \\mathbf{H}^{\\left(29,10\\right)} \\cdots \\right] = \\left[ \\mathbf{G}^{\\left(29,10\\right)} \\left(\\mathbf{H}^{\\left(29,10\\right)}\\right)^{*} \\right]\n",
    "\\end{aligned}\n",
    "where\n",
    "\\begin{aligned}\n",
    "\\mathbf{G}^{\\left(29,10\\right)} = \\{  \\}\n",
    "\\end{aligned}\n",
    "\\begin{aligned}\n",
    "\\mathbf{H}^{\\left(29,10\\right)} = \\{ 2,4,8 \\}\n",
    "\\end{aligned}\n",
    "so we have\n",
    "\\begin{aligned}\n",
    "\\left|\\mathbf{G}^{\\left(29,10\\right)}\\right| = 0\n",
    "\\end{aligned}\n",
    "\\begin{aligned}\n",
    "\\left|\\mathbf{H}^{\\left(29,10\\right)}\\right| = 4\n",
    "\\end{aligned}"
   ]
  },
  {
   "cell_type": "code",
   "execution_count": 30,
   "metadata": {
    "collapsed": false
   },
   "outputs": [
    {
     "name": "stdout",
     "output_type": "stream",
     "text": [
      "[9, 1, 9, 1, 9, 1, 9, 1, 9, 1, 9, 1, 9, 1, 9, 1, 9, 1, 9, 1, 9, 1, 9, 1, 9, 1, 9, 1, 9]\n"
     ]
    }
   ],
   "source": [
    "example(b=29, m=10) ##   X[n] = 29^n mod 10"
   ]
  },
  {
   "cell_type": "markdown",
   "metadata": {},
   "source": [
    "#### Example #29: $\\mathbf{X}^\\left({b=30,m=10}\\right)$"
   ]
  },
  {
   "cell_type": "markdown",
   "metadata": {},
   "source": [
    "\\begin{aligned}\n",
    "\\mathbf{X}_n = 30^n \\mod m\n",
    "\\end{aligned}\n",
    "with\n",
    "\\begin{aligned}\n",
    "b = 30\n",
    "\\end{aligned}\n",
    "\\begin{aligned}\n",
    "m = 10\n",
    "\\end{aligned}\n",
    "yeilding\n",
    "\\begin{aligned}\n",
    "\\mathbf{X}^{\\left(30,10\\right)} = \\{ , 2,4,8 \\cdots \\} = \\left[ \\mathbf{G}^{\\left(30,10\\right)} \\mathbf{H}^{\\left(30,10\\right)} \\mathbf{H}^{\\left(30,10\\right)} \\mathbf{H}^{\\left(30,10\\right)} \\cdots \\right] = \\left[ \\mathbf{G}^{\\left(30,10\\right)} \\left(\\mathbf{H}^{\\left(30,10\\right)}\\right)^{*} \\right]\n",
    "\\end{aligned}\n",
    "where\n",
    "\\begin{aligned}\n",
    "\\mathbf{G}^{\\left(30,10\\right)} = \\{  \\}\n",
    "\\end{aligned}\n",
    "\\begin{aligned}\n",
    "\\mathbf{H}^{\\left(30,10\\right)} = \\{ 2,4,8 \\}\n",
    "\\end{aligned}\n",
    "so we have\n",
    "\\begin{aligned}\n",
    "\\left|\\mathbf{G}^{\\left(30,10\\right)}\\right| = 0\n",
    "\\end{aligned}\n",
    "\\begin{aligned}\n",
    "\\left|\\mathbf{H}^{\\left(30,10\\right)}\\right| = 4\n",
    "\\end{aligned}"
   ]
  },
  {
   "cell_type": "code",
   "execution_count": 31,
   "metadata": {
    "collapsed": false
   },
   "outputs": [
    {
     "name": "stdout",
     "output_type": "stream",
     "text": [
      "[0, 0, 0, 0, 0, 0, 0, 0, 0, 0, 0, 0, 0, 0, 0, 0, 0, 0, 0, 0, 0, 0, 0, 0, 0, 0, 0, 0, 0]\n"
     ]
    }
   ],
   "source": [
    "example(b=30, m=10) ##   X[n] = 30^n mod 10"
   ]
  }
 ],
 "metadata": {},
 "nbformat": 4,
 "nbformat_minor": 2
}
