{
 "cells": [
  {
   "cell_type": "code",
   "execution_count": 1,
   "metadata": {
    "collapsed": false
   },
   "outputs": [],
   "source": [
    "#!/usr/bin/python3\n",
    "### modulus_29.py\n",
    "### Copyright 2017 Mac Radigan\n",
    "### SPDX-License-Identifier: GFDL-1.3"
   ]
  },
  {
   "cell_type": "markdown",
   "metadata": {},
   "source": [
    "# modulus 29"
   ]
  },
  {
   "cell_type": "markdown",
   "metadata": {},
   "source": [
    "## Copying"
   ]
  },
  {
   "cell_type": "raw",
   "metadata": {},
   "source": [
    "Copyright 2017 Mac Radigan\n",
    "# Permission is granted to copy, distribute and/or modify this document under the terms of the GNU Free Documentation License, Version 1.3 or any later version published by the Free Software Foundation; with no Invariant Sections and with no restrictions on the Front-Cover and back the Front-Cover Texts. A copy of the license is included in the section entitled \"GNU Free Documentation License\".  "
   ]
  },
  {
   "cell_type": "markdown",
   "metadata": {},
   "source": [
    "### $b^n \\mod m$ for $n = 1, 2, \\cdots 30$"
   ]
  },
  {
   "cell_type": "code",
   "execution_count": 2,
   "metadata": {
    "collapsed": false
   },
   "outputs": [],
   "source": [
    "def example(b,m):\n",
    "  \"\"\"Prints the sequence X_n = b^n mod m for n = 1, 2, ... N\"\"\"\n",
    "  N  = 30\n",
    "  ns = range(1, N)\n",
    "  f  = lambda n: b**n % m\n",
    "  xs = map(f, ns)\n",
    "  print(list(xs))"
   ]
  },
  {
   "cell_type": "markdown",
   "metadata": {},
   "source": [
    "#### Example #1: $\\mathbf{X}^\\left({b=2,m=29}\\right)$"
   ]
  },
  {
   "cell_type": "markdown",
   "metadata": {},
   "source": [
    "\\begin{aligned}\n",
    "\\mathbf{X}_n = 2^n \\mod m\n",
    "\\end{aligned}\n",
    "with\n",
    "\\begin{aligned}\n",
    "b = 2\n",
    "\\end{aligned}\n",
    "\\begin{aligned}\n",
    "m = 29\n",
    "\\end{aligned}\n",
    "yeilding\n",
    "\\begin{aligned}\n",
    "\\mathbf{X}^{\\left(2,29\\right)} = \\{ ,  2, 4, 8,16, 3, 6,12,24,19, 9,18, 7,14,28,27,25,21,13,26,23,17, 5,10,20,\n",
    " 11,22,15, \\cdots \\} = \\left[ \\mathbf{G}^{\\left(2,29\\right)} \\mathbf{H}^{\\left(2,29\\right)} \\mathbf{H}^{\\left(2,29\\right)} \\mathbf{H}^{\\left(2,29\\right)} \\cdots \\right] = \\left[ \\mathbf{G}^{\\left(2,29\\right)} \\left(\\mathbf{H}^{\\left(2,29\\right)}\\right)^{*} \\right]\n",
    "\\end{aligned}\n",
    "where\n",
    "\\begin{aligned}\n",
    "\\mathbf{G}^{\\left(2,29\\right)} = \\{  \\}\n",
    "\\end{aligned}\n",
    "\\begin{aligned}\n",
    "\\mathbf{H}^{\\left(2,29\\right)} = \\{  2, 4, 8,16, 3, 6,12,24,19, 9,18, 7,14,28,27,25,21,13,26,23,17, 5,10,20,\n",
    " 11,22,15, \\}\n",
    "\\end{aligned}\n",
    "so we have\n",
    "\\begin{aligned}\n",
    "\\left|\\mathbf{G}^{\\left(2,29\\right)}\\right| = 0\n",
    "\\end{aligned}\n",
    "\\begin{aligned}\n",
    "\\left|\\mathbf{H}^{\\left(2,29\\right)}\\right| = 28\n",
    "\\end{aligned}"
   ]
  },
  {
   "cell_type": "code",
   "execution_count": 3,
   "metadata": {
    "collapsed": false
   },
   "outputs": [
    {
     "name": "stdout",
     "output_type": "stream",
     "text": [
      "[2, 4, 8, 16, 3, 6, 12, 24, 19, 9, 18, 7, 14, 28, 27, 25, 21, 13, 26, 23, 17, 5, 10, 20, 11, 22, 15, 1, 2]\n"
     ]
    }
   ],
   "source": [
    "example(b=2, m=29) ##   X[n] = 2^n mod 29"
   ]
  },
  {
   "cell_type": "markdown",
   "metadata": {},
   "source": [
    "#### Example #2: $\\mathbf{X}^\\left({b=3,m=29}\\right)$"
   ]
  },
  {
   "cell_type": "markdown",
   "metadata": {},
   "source": [
    "\\begin{aligned}\n",
    "\\mathbf{X}_n = 3^n \\mod m\n",
    "\\end{aligned}\n",
    "with\n",
    "\\begin{aligned}\n",
    "b = 3\n",
    "\\end{aligned}\n",
    "\\begin{aligned}\n",
    "m = 29\n",
    "\\end{aligned}\n",
    "yeilding\n",
    "\\begin{aligned}\n",
    "\\mathbf{X}^{\\left(3,29\\right)} = \\{ ,  3, 9,27,23,11, 4,12, 7,21, 5,15,16,19,28,26,20, 2, 6,18,25,17,22, 8,24,\n",
    " 14,13,10, \\cdots \\} = \\left[ \\mathbf{G}^{\\left(3,29\\right)} \\mathbf{H}^{\\left(3,29\\right)} \\mathbf{H}^{\\left(3,29\\right)} \\mathbf{H}^{\\left(3,29\\right)} \\cdots \\right] = \\left[ \\mathbf{G}^{\\left(3,29\\right)} \\left(\\mathbf{H}^{\\left(3,29\\right)}\\right)^{*} \\right]\n",
    "\\end{aligned}\n",
    "where\n",
    "\\begin{aligned}\n",
    "\\mathbf{G}^{\\left(3,29\\right)} = \\{  \\}\n",
    "\\end{aligned}\n",
    "\\begin{aligned}\n",
    "\\mathbf{H}^{\\left(3,29\\right)} = \\{  3, 9,27,23,11, 4,12, 7,21, 5,15,16,19,28,26,20, 2, 6,18,25,17,22, 8,24,\n",
    " 14,13,10, \\}\n",
    "\\end{aligned}\n",
    "so we have\n",
    "\\begin{aligned}\n",
    "\\left|\\mathbf{G}^{\\left(3,29\\right)}\\right| = 0\n",
    "\\end{aligned}\n",
    "\\begin{aligned}\n",
    "\\left|\\mathbf{H}^{\\left(3,29\\right)}\\right| = 28\n",
    "\\end{aligned}"
   ]
  },
  {
   "cell_type": "code",
   "execution_count": 4,
   "metadata": {
    "collapsed": false
   },
   "outputs": [
    {
     "name": "stdout",
     "output_type": "stream",
     "text": [
      "[3, 9, 27, 23, 11, 4, 12, 7, 21, 5, 15, 16, 19, 28, 26, 20, 2, 6, 18, 25, 17, 22, 8, 24, 14, 13, 10, 1, 3]\n"
     ]
    }
   ],
   "source": [
    "example(b=3, m=29) ##   X[n] = 3^n mod 29"
   ]
  },
  {
   "cell_type": "markdown",
   "metadata": {},
   "source": [
    "#### Example #3: $\\mathbf{X}^\\left({b=4,m=29}\\right)$"
   ]
  },
  {
   "cell_type": "markdown",
   "metadata": {},
   "source": [
    "\\begin{aligned}\n",
    "\\mathbf{X}_n = 4^n \\mod m\n",
    "\\end{aligned}\n",
    "with\n",
    "\\begin{aligned}\n",
    "b = 4\n",
    "\\end{aligned}\n",
    "\\begin{aligned}\n",
    "m = 29\n",
    "\\end{aligned}\n",
    "yeilding\n",
    "\\begin{aligned}\n",
    "\\mathbf{X}^{\\left(4,29\\right)} = \\{ ,  4,16, 6,24, 9, 7,28,25,13,23, 5,20,22, \\cdots \\} = \\left[ \\mathbf{G}^{\\left(4,29\\right)} \\mathbf{H}^{\\left(4,29\\right)} \\mathbf{H}^{\\left(4,29\\right)} \\mathbf{H}^{\\left(4,29\\right)} \\cdots \\right] = \\left[ \\mathbf{G}^{\\left(4,29\\right)} \\left(\\mathbf{H}^{\\left(4,29\\right)}\\right)^{*} \\right]\n",
    "\\end{aligned}\n",
    "where\n",
    "\\begin{aligned}\n",
    "\\mathbf{G}^{\\left(4,29\\right)} = \\{  \\}\n",
    "\\end{aligned}\n",
    "\\begin{aligned}\n",
    "\\mathbf{H}^{\\left(4,29\\right)} = \\{  4,16, 6,24, 9, 7,28,25,13,23, 5,20,22, \\}\n",
    "\\end{aligned}\n",
    "so we have\n",
    "\\begin{aligned}\n",
    "\\left|\\mathbf{G}^{\\left(4,29\\right)}\\right| = 0\n",
    "\\end{aligned}\n",
    "\\begin{aligned}\n",
    "\\left|\\mathbf{H}^{\\left(4,29\\right)}\\right| = 14\n",
    "\\end{aligned}"
   ]
  },
  {
   "cell_type": "code",
   "execution_count": 5,
   "metadata": {
    "collapsed": false
   },
   "outputs": [
    {
     "name": "stdout",
     "output_type": "stream",
     "text": [
      "[4, 16, 6, 24, 9, 7, 28, 25, 13, 23, 5, 20, 22, 1, 4, 16, 6, 24, 9, 7, 28, 25, 13, 23, 5, 20, 22, 1, 4]\n"
     ]
    }
   ],
   "source": [
    "example(b=4, m=29) ##   X[n] = 4^n mod 29"
   ]
  },
  {
   "cell_type": "markdown",
   "metadata": {},
   "source": [
    "#### Example #4: $\\mathbf{X}^\\left({b=5,m=29}\\right)$"
   ]
  },
  {
   "cell_type": "markdown",
   "metadata": {},
   "source": [
    "\\begin{aligned}\n",
    "\\mathbf{X}_n = 5^n \\mod m\n",
    "\\end{aligned}\n",
    "with\n",
    "\\begin{aligned}\n",
    "b = 5\n",
    "\\end{aligned}\n",
    "\\begin{aligned}\n",
    "m = 29\n",
    "\\end{aligned}\n",
    "yeilding\n",
    "\\begin{aligned}\n",
    "\\mathbf{X}^{\\left(5,29\\right)} = \\{ ,  5,25, 9,16,22,23,28,24, 4,20,13, 7, 6, \\cdots \\} = \\left[ \\mathbf{G}^{\\left(5,29\\right)} \\mathbf{H}^{\\left(5,29\\right)} \\mathbf{H}^{\\left(5,29\\right)} \\mathbf{H}^{\\left(5,29\\right)} \\cdots \\right] = \\left[ \\mathbf{G}^{\\left(5,29\\right)} \\left(\\mathbf{H}^{\\left(5,29\\right)}\\right)^{*} \\right]\n",
    "\\end{aligned}\n",
    "where\n",
    "\\begin{aligned}\n",
    "\\mathbf{G}^{\\left(5,29\\right)} = \\{  \\}\n",
    "\\end{aligned}\n",
    "\\begin{aligned}\n",
    "\\mathbf{H}^{\\left(5,29\\right)} = \\{  5,25, 9,16,22,23,28,24, 4,20,13, 7, 6, \\}\n",
    "\\end{aligned}\n",
    "so we have\n",
    "\\begin{aligned}\n",
    "\\left|\\mathbf{G}^{\\left(5,29\\right)}\\right| = 0\n",
    "\\end{aligned}\n",
    "\\begin{aligned}\n",
    "\\left|\\mathbf{H}^{\\left(5,29\\right)}\\right| = 14\n",
    "\\end{aligned}"
   ]
  },
  {
   "cell_type": "code",
   "execution_count": 6,
   "metadata": {
    "collapsed": false
   },
   "outputs": [
    {
     "name": "stdout",
     "output_type": "stream",
     "text": [
      "[5, 25, 9, 16, 22, 23, 28, 24, 4, 20, 13, 7, 6, 1, 5, 25, 9, 16, 22, 23, 28, 24, 4, 20, 13, 7, 6, 1, 5]\n"
     ]
    }
   ],
   "source": [
    "example(b=5, m=29) ##   X[n] = 5^n mod 29"
   ]
  },
  {
   "cell_type": "markdown",
   "metadata": {},
   "source": [
    "#### Example #5: $\\mathbf{X}^\\left({b=6,m=29}\\right)$"
   ]
  },
  {
   "cell_type": "markdown",
   "metadata": {},
   "source": [
    "\\begin{aligned}\n",
    "\\mathbf{X}_n = 6^n \\mod m\n",
    "\\end{aligned}\n",
    "with\n",
    "\\begin{aligned}\n",
    "b = 6\n",
    "\\end{aligned}\n",
    "\\begin{aligned}\n",
    "m = 29\n",
    "\\end{aligned}\n",
    "yeilding\n",
    "\\begin{aligned}\n",
    "\\mathbf{X}^{\\left(6,29\\right)} = \\{ ,  6, 7,13,20, 4,24,28,23,22,16, 9,25, 5, \\cdots \\} = \\left[ \\mathbf{G}^{\\left(6,29\\right)} \\mathbf{H}^{\\left(6,29\\right)} \\mathbf{H}^{\\left(6,29\\right)} \\mathbf{H}^{\\left(6,29\\right)} \\cdots \\right] = \\left[ \\mathbf{G}^{\\left(6,29\\right)} \\left(\\mathbf{H}^{\\left(6,29\\right)}\\right)^{*} \\right]\n",
    "\\end{aligned}\n",
    "where\n",
    "\\begin{aligned}\n",
    "\\mathbf{G}^{\\left(6,29\\right)} = \\{  \\}\n",
    "\\end{aligned}\n",
    "\\begin{aligned}\n",
    "\\mathbf{H}^{\\left(6,29\\right)} = \\{  6, 7,13,20, 4,24,28,23,22,16, 9,25, 5, \\}\n",
    "\\end{aligned}\n",
    "so we have\n",
    "\\begin{aligned}\n",
    "\\left|\\mathbf{G}^{\\left(6,29\\right)}\\right| = 0\n",
    "\\end{aligned}\n",
    "\\begin{aligned}\n",
    "\\left|\\mathbf{H}^{\\left(6,29\\right)}\\right| = 14\n",
    "\\end{aligned}"
   ]
  },
  {
   "cell_type": "code",
   "execution_count": 7,
   "metadata": {
    "collapsed": false
   },
   "outputs": [
    {
     "name": "stdout",
     "output_type": "stream",
     "text": [
      "[6, 7, 13, 20, 4, 24, 28, 23, 22, 16, 9, 25, 5, 1, 6, 7, 13, 20, 4, 24, 28, 23, 22, 16, 9, 25, 5, 1, 6]\n"
     ]
    }
   ],
   "source": [
    "example(b=6, m=29) ##   X[n] = 6^n mod 29"
   ]
  },
  {
   "cell_type": "markdown",
   "metadata": {},
   "source": [
    "#### Example #6: $\\mathbf{X}^\\left({b=7,m=29}\\right)$"
   ]
  },
  {
   "cell_type": "markdown",
   "metadata": {},
   "source": [
    "\\begin{aligned}\n",
    "\\mathbf{X}_n = 7^n \\mod m\n",
    "\\end{aligned}\n",
    "with\n",
    "\\begin{aligned}\n",
    "b = 7\n",
    "\\end{aligned}\n",
    "\\begin{aligned}\n",
    "m = 29\n",
    "\\end{aligned}\n",
    "yeilding\n",
    "\\begin{aligned}\n",
    "\\mathbf{X}^{\\left(7,29\\right)} = \\{ ,  7,20,24,23,16,25, \\cdots \\} = \\left[ \\mathbf{G}^{\\left(7,29\\right)} \\mathbf{H}^{\\left(7,29\\right)} \\mathbf{H}^{\\left(7,29\\right)} \\mathbf{H}^{\\left(7,29\\right)} \\cdots \\right] = \\left[ \\mathbf{G}^{\\left(7,29\\right)} \\left(\\mathbf{H}^{\\left(7,29\\right)}\\right)^{*} \\right]\n",
    "\\end{aligned}\n",
    "where\n",
    "\\begin{aligned}\n",
    "\\mathbf{G}^{\\left(7,29\\right)} = \\{  \\}\n",
    "\\end{aligned}\n",
    "\\begin{aligned}\n",
    "\\mathbf{H}^{\\left(7,29\\right)} = \\{  7,20,24,23,16,25, \\}\n",
    "\\end{aligned}\n",
    "so we have\n",
    "\\begin{aligned}\n",
    "\\left|\\mathbf{G}^{\\left(7,29\\right)}\\right| = 0\n",
    "\\end{aligned}\n",
    "\\begin{aligned}\n",
    "\\left|\\mathbf{H}^{\\left(7,29\\right)}\\right| = 7\n",
    "\\end{aligned}"
   ]
  },
  {
   "cell_type": "code",
   "execution_count": 8,
   "metadata": {
    "collapsed": false
   },
   "outputs": [
    {
     "name": "stdout",
     "output_type": "stream",
     "text": [
      "[7, 20, 24, 23, 16, 25, 1, 7, 20, 24, 23, 16, 25, 1, 7, 20, 24, 23, 16, 25, 1, 7, 20, 24, 23, 16, 25, 1, 7]\n"
     ]
    }
   ],
   "source": [
    "example(b=7, m=29) ##   X[n] = 7^n mod 29"
   ]
  },
  {
   "cell_type": "markdown",
   "metadata": {},
   "source": [
    "#### Example #7: $\\mathbf{X}^\\left({b=8,m=29}\\right)$"
   ]
  },
  {
   "cell_type": "markdown",
   "metadata": {},
   "source": [
    "\\begin{aligned}\n",
    "\\mathbf{X}_n = 8^n \\mod m\n",
    "\\end{aligned}\n",
    "with\n",
    "\\begin{aligned}\n",
    "b = 8\n",
    "\\end{aligned}\n",
    "\\begin{aligned}\n",
    "m = 29\n",
    "\\end{aligned}\n",
    "yeilding\n",
    "\\begin{aligned}\n",
    "\\mathbf{X}^{\\left(8,29\\right)} = \\{ ,  8, 6,19, 7,27,13,17,20,15, 4, 3,24,18,28,21,23,10,22, 2,16,12, 9,14,25,\n",
    " 26, 5,11, \\cdots \\} = \\left[ \\mathbf{G}^{\\left(8,29\\right)} \\mathbf{H}^{\\left(8,29\\right)} \\mathbf{H}^{\\left(8,29\\right)} \\mathbf{H}^{\\left(8,29\\right)} \\cdots \\right] = \\left[ \\mathbf{G}^{\\left(8,29\\right)} \\left(\\mathbf{H}^{\\left(8,29\\right)}\\right)^{*} \\right]\n",
    "\\end{aligned}\n",
    "where\n",
    "\\begin{aligned}\n",
    "\\mathbf{G}^{\\left(8,29\\right)} = \\{  \\}\n",
    "\\end{aligned}\n",
    "\\begin{aligned}\n",
    "\\mathbf{H}^{\\left(8,29\\right)} = \\{  8, 6,19, 7,27,13,17,20,15, 4, 3,24,18,28,21,23,10,22, 2,16,12, 9,14,25,\n",
    " 26, 5,11, \\}\n",
    "\\end{aligned}\n",
    "so we have\n",
    "\\begin{aligned}\n",
    "\\left|\\mathbf{G}^{\\left(8,29\\right)}\\right| = 0\n",
    "\\end{aligned}\n",
    "\\begin{aligned}\n",
    "\\left|\\mathbf{H}^{\\left(8,29\\right)}\\right| = 28\n",
    "\\end{aligned}"
   ]
  },
  {
   "cell_type": "code",
   "execution_count": 9,
   "metadata": {
    "collapsed": false
   },
   "outputs": [
    {
     "name": "stdout",
     "output_type": "stream",
     "text": [
      "[8, 6, 19, 7, 27, 13, 17, 20, 15, 4, 3, 24, 18, 28, 21, 23, 10, 22, 2, 16, 12, 9, 14, 25, 26, 5, 11, 1, 8]\n"
     ]
    }
   ],
   "source": [
    "example(b=8, m=29) ##   X[n] = 8^n mod 29"
   ]
  },
  {
   "cell_type": "markdown",
   "metadata": {},
   "source": [
    "#### Example #8: $\\mathbf{X}^\\left({b=9,m=29}\\right)$"
   ]
  },
  {
   "cell_type": "markdown",
   "metadata": {},
   "source": [
    "\\begin{aligned}\n",
    "\\mathbf{X}_n = 9^n \\mod m\n",
    "\\end{aligned}\n",
    "with\n",
    "\\begin{aligned}\n",
    "b = 9\n",
    "\\end{aligned}\n",
    "\\begin{aligned}\n",
    "m = 29\n",
    "\\end{aligned}\n",
    "yeilding\n",
    "\\begin{aligned}\n",
    "\\mathbf{X}^{\\left(9,29\\right)} = \\{ ,  9,23, 4, 7, 5,16,28,20, 6,25,22,24,13, \\cdots \\} = \\left[ \\mathbf{G}^{\\left(9,29\\right)} \\mathbf{H}^{\\left(9,29\\right)} \\mathbf{H}^{\\left(9,29\\right)} \\mathbf{H}^{\\left(9,29\\right)} \\cdots \\right] = \\left[ \\mathbf{G}^{\\left(9,29\\right)} \\left(\\mathbf{H}^{\\left(9,29\\right)}\\right)^{*} \\right]\n",
    "\\end{aligned}\n",
    "where\n",
    "\\begin{aligned}\n",
    "\\mathbf{G}^{\\left(9,29\\right)} = \\{  \\}\n",
    "\\end{aligned}\n",
    "\\begin{aligned}\n",
    "\\mathbf{H}^{\\left(9,29\\right)} = \\{  9,23, 4, 7, 5,16,28,20, 6,25,22,24,13, \\}\n",
    "\\end{aligned}\n",
    "so we have\n",
    "\\begin{aligned}\n",
    "\\left|\\mathbf{G}^{\\left(9,29\\right)}\\right| = 0\n",
    "\\end{aligned}\n",
    "\\begin{aligned}\n",
    "\\left|\\mathbf{H}^{\\left(9,29\\right)}\\right| = 14\n",
    "\\end{aligned}"
   ]
  },
  {
   "cell_type": "code",
   "execution_count": 10,
   "metadata": {
    "collapsed": false
   },
   "outputs": [
    {
     "name": "stdout",
     "output_type": "stream",
     "text": [
      "[9, 23, 4, 7, 5, 16, 28, 20, 6, 25, 22, 24, 13, 1, 9, 23, 4, 7, 5, 16, 28, 20, 6, 25, 22, 24, 13, 1, 9]\n"
     ]
    }
   ],
   "source": [
    "example(b=9, m=29) ##   X[n] = 9^n mod 29"
   ]
  },
  {
   "cell_type": "markdown",
   "metadata": {},
   "source": [
    "#### Example #9: $\\mathbf{X}^\\left({b=10,m=29}\\right)$"
   ]
  },
  {
   "cell_type": "markdown",
   "metadata": {},
   "source": [
    "\\begin{aligned}\n",
    "\\mathbf{X}_n = 10^n \\mod m\n",
    "\\end{aligned}\n",
    "with\n",
    "\\begin{aligned}\n",
    "b = 10\n",
    "\\end{aligned}\n",
    "\\begin{aligned}\n",
    "m = 29\n",
    "\\end{aligned}\n",
    "yeilding\n",
    "\\begin{aligned}\n",
    "\\mathbf{X}^{\\left(10,29\\right)} = \\{ , 10,13,14,24, 8,22,17,25,18, 6, 2,20,26,28,19,16,15, 5,21, 7,12, 4,11,23,\n",
    " 27, 9, 3, \\cdots \\} = \\left[ \\mathbf{G}^{\\left(10,29\\right)} \\mathbf{H}^{\\left(10,29\\right)} \\mathbf{H}^{\\left(10,29\\right)} \\mathbf{H}^{\\left(10,29\\right)} \\cdots \\right] = \\left[ \\mathbf{G}^{\\left(10,29\\right)} \\left(\\mathbf{H}^{\\left(10,29\\right)}\\right)^{*} \\right]\n",
    "\\end{aligned}\n",
    "where\n",
    "\\begin{aligned}\n",
    "\\mathbf{G}^{\\left(10,29\\right)} = \\{  \\}\n",
    "\\end{aligned}\n",
    "\\begin{aligned}\n",
    "\\mathbf{H}^{\\left(10,29\\right)} = \\{ 10,13,14,24, 8,22,17,25,18, 6, 2,20,26,28,19,16,15, 5,21, 7,12, 4,11,23,\n",
    " 27, 9, 3, \\}\n",
    "\\end{aligned}\n",
    "so we have\n",
    "\\begin{aligned}\n",
    "\\left|\\mathbf{G}^{\\left(10,29\\right)}\\right| = 0\n",
    "\\end{aligned}\n",
    "\\begin{aligned}\n",
    "\\left|\\mathbf{H}^{\\left(10,29\\right)}\\right| = 28\n",
    "\\end{aligned}"
   ]
  },
  {
   "cell_type": "code",
   "execution_count": 11,
   "metadata": {
    "collapsed": false
   },
   "outputs": [
    {
     "name": "stdout",
     "output_type": "stream",
     "text": [
      "[10, 13, 14, 24, 8, 22, 17, 25, 18, 6, 2, 20, 26, 28, 19, 16, 15, 5, 21, 7, 12, 4, 11, 23, 27, 9, 3, 1, 10]\n"
     ]
    }
   ],
   "source": [
    "example(b=10, m=29) ##   X[n] = 10^n mod 29"
   ]
  },
  {
   "cell_type": "markdown",
   "metadata": {},
   "source": [
    "#### Example #10: $\\mathbf{X}^\\left({b=11,m=29}\\right)$"
   ]
  },
  {
   "cell_type": "markdown",
   "metadata": {},
   "source": [
    "\\begin{aligned}\n",
    "\\mathbf{X}_n = 11^n \\mod m\n",
    "\\end{aligned}\n",
    "with\n",
    "\\begin{aligned}\n",
    "b = 11\n",
    "\\end{aligned}\n",
    "\\begin{aligned}\n",
    "m = 29\n",
    "\\end{aligned}\n",
    "yeilding\n",
    "\\begin{aligned}\n",
    "\\mathbf{X}^{\\left(11,29\\right)} = \\{ , 11, 5,26,25,14, 9,12,16, 2,22,10,23,21,28,18,24, 3, 4,15,20,17,13,27, 7,\n",
    " 19, 6, 8, \\cdots \\} = \\left[ \\mathbf{G}^{\\left(11,29\\right)} \\mathbf{H}^{\\left(11,29\\right)} \\mathbf{H}^{\\left(11,29\\right)} \\mathbf{H}^{\\left(11,29\\right)} \\cdots \\right] = \\left[ \\mathbf{G}^{\\left(11,29\\right)} \\left(\\mathbf{H}^{\\left(11,29\\right)}\\right)^{*} \\right]\n",
    "\\end{aligned}\n",
    "where\n",
    "\\begin{aligned}\n",
    "\\mathbf{G}^{\\left(11,29\\right)} = \\{  \\}\n",
    "\\end{aligned}\n",
    "\\begin{aligned}\n",
    "\\mathbf{H}^{\\left(11,29\\right)} = \\{ 11, 5,26,25,14, 9,12,16, 2,22,10,23,21,28,18,24, 3, 4,15,20,17,13,27, 7,\n",
    " 19, 6, 8, \\}\n",
    "\\end{aligned}\n",
    "so we have\n",
    "\\begin{aligned}\n",
    "\\left|\\mathbf{G}^{\\left(11,29\\right)}\\right| = 0\n",
    "\\end{aligned}\n",
    "\\begin{aligned}\n",
    "\\left|\\mathbf{H}^{\\left(11,29\\right)}\\right| = 28\n",
    "\\end{aligned}"
   ]
  },
  {
   "cell_type": "code",
   "execution_count": 12,
   "metadata": {
    "collapsed": false
   },
   "outputs": [
    {
     "name": "stdout",
     "output_type": "stream",
     "text": [
      "[11, 5, 26, 25, 14, 9, 12, 16, 2, 22, 10, 23, 21, 28, 18, 24, 3, 4, 15, 20, 17, 13, 27, 7, 19, 6, 8, 1, 11]\n"
     ]
    }
   ],
   "source": [
    "example(b=11, m=29) ##   X[n] = 11^n mod 29"
   ]
  },
  {
   "cell_type": "markdown",
   "metadata": {},
   "source": [
    "#### Example #11: $\\mathbf{X}^\\left({b=12,m=29}\\right)$"
   ]
  },
  {
   "cell_type": "markdown",
   "metadata": {},
   "source": [
    "\\begin{aligned}\n",
    "\\mathbf{X}_n = 12^n \\mod m\n",
    "\\end{aligned}\n",
    "with\n",
    "\\begin{aligned}\n",
    "b = 12\n",
    "\\end{aligned}\n",
    "\\begin{aligned}\n",
    "m = 29\n",
    "\\end{aligned}\n",
    "yeilding\n",
    "\\begin{aligned}\n",
    "\\mathbf{X}^{\\left(12,29\\right)} = \\{ , 12,28,17, \\cdots \\} = \\left[ \\mathbf{G}^{\\left(12,29\\right)} \\mathbf{H}^{\\left(12,29\\right)} \\mathbf{H}^{\\left(12,29\\right)} \\mathbf{H}^{\\left(12,29\\right)} \\cdots \\right] = \\left[ \\mathbf{G}^{\\left(12,29\\right)} \\left(\\mathbf{H}^{\\left(12,29\\right)}\\right)^{*} \\right]\n",
    "\\end{aligned}\n",
    "where\n",
    "\\begin{aligned}\n",
    "\\mathbf{G}^{\\left(12,29\\right)} = \\{  \\}\n",
    "\\end{aligned}\n",
    "\\begin{aligned}\n",
    "\\mathbf{H}^{\\left(12,29\\right)} = \\{ 12,28,17, \\}\n",
    "\\end{aligned}\n",
    "so we have\n",
    "\\begin{aligned}\n",
    "\\left|\\mathbf{G}^{\\left(12,29\\right)}\\right| = 0\n",
    "\\end{aligned}\n",
    "\\begin{aligned}\n",
    "\\left|\\mathbf{H}^{\\left(12,29\\right)}\\right| = 4\n",
    "\\end{aligned}"
   ]
  },
  {
   "cell_type": "code",
   "execution_count": 13,
   "metadata": {
    "collapsed": false
   },
   "outputs": [
    {
     "name": "stdout",
     "output_type": "stream",
     "text": [
      "[12, 28, 17, 1, 12, 28, 17, 1, 12, 28, 17, 1, 12, 28, 17, 1, 12, 28, 17, 1, 12, 28, 17, 1, 12, 28, 17, 1, 12]\n"
     ]
    }
   ],
   "source": [
    "example(b=12, m=29) ##   X[n] = 12^n mod 29"
   ]
  },
  {
   "cell_type": "markdown",
   "metadata": {},
   "source": [
    "#### Example #12: $\\mathbf{X}^\\left({b=13,m=29}\\right)$"
   ]
  },
  {
   "cell_type": "markdown",
   "metadata": {},
   "source": [
    "\\begin{aligned}\n",
    "\\mathbf{X}_n = 13^n \\mod m\n",
    "\\end{aligned}\n",
    "with\n",
    "\\begin{aligned}\n",
    "b = 13\n",
    "\\end{aligned}\n",
    "\\begin{aligned}\n",
    "m = 29\n",
    "\\end{aligned}\n",
    "yeilding\n",
    "\\begin{aligned}\n",
    "\\mathbf{X}^{\\left(13,29\\right)} = \\{ , 13,24,22,25, 6,20,28,16, 5, 7, 4,23, 9, \\cdots \\} = \\left[ \\mathbf{G}^{\\left(13,29\\right)} \\mathbf{H}^{\\left(13,29\\right)} \\mathbf{H}^{\\left(13,29\\right)} \\mathbf{H}^{\\left(13,29\\right)} \\cdots \\right] = \\left[ \\mathbf{G}^{\\left(13,29\\right)} \\left(\\mathbf{H}^{\\left(13,29\\right)}\\right)^{*} \\right]\n",
    "\\end{aligned}\n",
    "where\n",
    "\\begin{aligned}\n",
    "\\mathbf{G}^{\\left(13,29\\right)} = \\{  \\}\n",
    "\\end{aligned}\n",
    "\\begin{aligned}\n",
    "\\mathbf{H}^{\\left(13,29\\right)} = \\{ 13,24,22,25, 6,20,28,16, 5, 7, 4,23, 9, \\}\n",
    "\\end{aligned}\n",
    "so we have\n",
    "\\begin{aligned}\n",
    "\\left|\\mathbf{G}^{\\left(13,29\\right)}\\right| = 0\n",
    "\\end{aligned}\n",
    "\\begin{aligned}\n",
    "\\left|\\mathbf{H}^{\\left(13,29\\right)}\\right| = 14\n",
    "\\end{aligned}"
   ]
  },
  {
   "cell_type": "code",
   "execution_count": 14,
   "metadata": {
    "collapsed": false
   },
   "outputs": [
    {
     "name": "stdout",
     "output_type": "stream",
     "text": [
      "[13, 24, 22, 25, 6, 20, 28, 16, 5, 7, 4, 23, 9, 1, 13, 24, 22, 25, 6, 20, 28, 16, 5, 7, 4, 23, 9, 1, 13]\n"
     ]
    }
   ],
   "source": [
    "example(b=13, m=29) ##   X[n] = 13^n mod 29"
   ]
  },
  {
   "cell_type": "markdown",
   "metadata": {},
   "source": [
    "#### Example #13: $\\mathbf{X}^\\left({b=14,m=29}\\right)$"
   ]
  },
  {
   "cell_type": "markdown",
   "metadata": {},
   "source": [
    "\\begin{aligned}\n",
    "\\mathbf{X}_n = 14^n \\mod m\n",
    "\\end{aligned}\n",
    "with\n",
    "\\begin{aligned}\n",
    "b = 14\n",
    "\\end{aligned}\n",
    "\\begin{aligned}\n",
    "m = 29\n",
    "\\end{aligned}\n",
    "yeilding\n",
    "\\begin{aligned}\n",
    "\\mathbf{X}^{\\left(14,29\\right)} = \\{ , 14,22,18,20,19, 5,12,23, 3,13, 8,25, 2,28,15, 7,11, 9,10,24,17, 6,26,16,\n",
    " 21, 4,27, \\cdots \\} = \\left[ \\mathbf{G}^{\\left(14,29\\right)} \\mathbf{H}^{\\left(14,29\\right)} \\mathbf{H}^{\\left(14,29\\right)} \\mathbf{H}^{\\left(14,29\\right)} \\cdots \\right] = \\left[ \\mathbf{G}^{\\left(14,29\\right)} \\left(\\mathbf{H}^{\\left(14,29\\right)}\\right)^{*} \\right]\n",
    "\\end{aligned}\n",
    "where\n",
    "\\begin{aligned}\n",
    "\\mathbf{G}^{\\left(14,29\\right)} = \\{  \\}\n",
    "\\end{aligned}\n",
    "\\begin{aligned}\n",
    "\\mathbf{H}^{\\left(14,29\\right)} = \\{ 14,22,18,20,19, 5,12,23, 3,13, 8,25, 2,28,15, 7,11, 9,10,24,17, 6,26,16,\n",
    " 21, 4,27, \\}\n",
    "\\end{aligned}\n",
    "so we have\n",
    "\\begin{aligned}\n",
    "\\left|\\mathbf{G}^{\\left(14,29\\right)}\\right| = 0\n",
    "\\end{aligned}\n",
    "\\begin{aligned}\n",
    "\\left|\\mathbf{H}^{\\left(14,29\\right)}\\right| = 28\n",
    "\\end{aligned}"
   ]
  },
  {
   "cell_type": "code",
   "execution_count": 15,
   "metadata": {
    "collapsed": false
   },
   "outputs": [
    {
     "name": "stdout",
     "output_type": "stream",
     "text": [
      "[14, 22, 18, 20, 19, 5, 12, 23, 3, 13, 8, 25, 2, 28, 15, 7, 11, 9, 10, 24, 17, 6, 26, 16, 21, 4, 27, 1, 14]\n"
     ]
    }
   ],
   "source": [
    "example(b=14, m=29) ##   X[n] = 14^n mod 29"
   ]
  },
  {
   "cell_type": "markdown",
   "metadata": {},
   "source": [
    "#### Example #14: $\\mathbf{X}^\\left({b=15,m=29}\\right)$"
   ]
  },
  {
   "cell_type": "markdown",
   "metadata": {},
   "source": [
    "\\begin{aligned}\n",
    "\\mathbf{X}_n = 15^n \\mod m\n",
    "\\end{aligned}\n",
    "with\n",
    "\\begin{aligned}\n",
    "b = 15\n",
    "\\end{aligned}\n",
    "\\begin{aligned}\n",
    "m = 29\n",
    "\\end{aligned}\n",
    "yeilding\n",
    "\\begin{aligned}\n",
    "\\mathbf{X}^{\\left(15,29\\right)} = \\{ , 15,22,11,20,10, 5,17,23,26,13,21,25,27,28,14, 7,18, 9,19,24,12, 6, 3,16,\n",
    "  8, 4, 2, \\cdots \\} = \\left[ \\mathbf{G}^{\\left(15,29\\right)} \\mathbf{H}^{\\left(15,29\\right)} \\mathbf{H}^{\\left(15,29\\right)} \\mathbf{H}^{\\left(15,29\\right)} \\cdots \\right] = \\left[ \\mathbf{G}^{\\left(15,29\\right)} \\left(\\mathbf{H}^{\\left(15,29\\right)}\\right)^{*} \\right]\n",
    "\\end{aligned}\n",
    "where\n",
    "\\begin{aligned}\n",
    "\\mathbf{G}^{\\left(15,29\\right)} = \\{  \\}\n",
    "\\end{aligned}\n",
    "\\begin{aligned}\n",
    "\\mathbf{H}^{\\left(15,29\\right)} = \\{ 15,22,11,20,10, 5,17,23,26,13,21,25,27,28,14, 7,18, 9,19,24,12, 6, 3,16,\n",
    "  8, 4, 2, \\}\n",
    "\\end{aligned}\n",
    "so we have\n",
    "\\begin{aligned}\n",
    "\\left|\\mathbf{G}^{\\left(15,29\\right)}\\right| = 0\n",
    "\\end{aligned}\n",
    "\\begin{aligned}\n",
    "\\left|\\mathbf{H}^{\\left(15,29\\right)}\\right| = 28\n",
    "\\end{aligned}"
   ]
  },
  {
   "cell_type": "code",
   "execution_count": 16,
   "metadata": {
    "collapsed": false
   },
   "outputs": [
    {
     "name": "stdout",
     "output_type": "stream",
     "text": [
      "[15, 22, 11, 20, 10, 5, 17, 23, 26, 13, 21, 25, 27, 28, 14, 7, 18, 9, 19, 24, 12, 6, 3, 16, 8, 4, 2, 1, 15]\n"
     ]
    }
   ],
   "source": [
    "example(b=15, m=29) ##   X[n] = 15^n mod 29"
   ]
  },
  {
   "cell_type": "markdown",
   "metadata": {},
   "source": [
    "#### Example #15: $\\mathbf{X}^\\left({b=16,m=29}\\right)$"
   ]
  },
  {
   "cell_type": "markdown",
   "metadata": {},
   "source": [
    "\\begin{aligned}\n",
    "\\mathbf{X}_n = 16^n \\mod m\n",
    "\\end{aligned}\n",
    "with\n",
    "\\begin{aligned}\n",
    "b = 16\n",
    "\\end{aligned}\n",
    "\\begin{aligned}\n",
    "m = 29\n",
    "\\end{aligned}\n",
    "yeilding\n",
    "\\begin{aligned}\n",
    "\\mathbf{X}^{\\left(16,29\\right)} = \\{ , 16,24, 7,25,23,20, \\cdots \\} = \\left[ \\mathbf{G}^{\\left(16,29\\right)} \\mathbf{H}^{\\left(16,29\\right)} \\mathbf{H}^{\\left(16,29\\right)} \\mathbf{H}^{\\left(16,29\\right)} \\cdots \\right] = \\left[ \\mathbf{G}^{\\left(16,29\\right)} \\left(\\mathbf{H}^{\\left(16,29\\right)}\\right)^{*} \\right]\n",
    "\\end{aligned}\n",
    "where\n",
    "\\begin{aligned}\n",
    "\\mathbf{G}^{\\left(16,29\\right)} = \\{  \\}\n",
    "\\end{aligned}\n",
    "\\begin{aligned}\n",
    "\\mathbf{H}^{\\left(16,29\\right)} = \\{ 16,24, 7,25,23,20, \\}\n",
    "\\end{aligned}\n",
    "so we have\n",
    "\\begin{aligned}\n",
    "\\left|\\mathbf{G}^{\\left(16,29\\right)}\\right| = 0\n",
    "\\end{aligned}\n",
    "\\begin{aligned}\n",
    "\\left|\\mathbf{H}^{\\left(16,29\\right)}\\right| = 7\n",
    "\\end{aligned}"
   ]
  },
  {
   "cell_type": "code",
   "execution_count": 17,
   "metadata": {
    "collapsed": false
   },
   "outputs": [
    {
     "name": "stdout",
     "output_type": "stream",
     "text": [
      "[16, 24, 7, 25, 23, 20, 1, 16, 24, 7, 25, 23, 20, 1, 16, 24, 7, 25, 23, 20, 1, 16, 24, 7, 25, 23, 20, 1, 16]\n"
     ]
    }
   ],
   "source": [
    "example(b=16, m=29) ##   X[n] = 16^n mod 29"
   ]
  },
  {
   "cell_type": "markdown",
   "metadata": {},
   "source": [
    "#### Example #16: $\\mathbf{X}^\\left({b=17,m=29}\\right)$"
   ]
  },
  {
   "cell_type": "markdown",
   "metadata": {},
   "source": [
    "\\begin{aligned}\n",
    "\\mathbf{X}_n = 17^n \\mod m\n",
    "\\end{aligned}\n",
    "with\n",
    "\\begin{aligned}\n",
    "b = 17\n",
    "\\end{aligned}\n",
    "\\begin{aligned}\n",
    "m = 29\n",
    "\\end{aligned}\n",
    "yeilding\n",
    "\\begin{aligned}\n",
    "\\mathbf{X}^{\\left(17,29\\right)} = \\{ , 17,28,12, \\cdots \\} = \\left[ \\mathbf{G}^{\\left(17,29\\right)} \\mathbf{H}^{\\left(17,29\\right)} \\mathbf{H}^{\\left(17,29\\right)} \\mathbf{H}^{\\left(17,29\\right)} \\cdots \\right] = \\left[ \\mathbf{G}^{\\left(17,29\\right)} \\left(\\mathbf{H}^{\\left(17,29\\right)}\\right)^{*} \\right]\n",
    "\\end{aligned}\n",
    "where\n",
    "\\begin{aligned}\n",
    "\\mathbf{G}^{\\left(17,29\\right)} = \\{  \\}\n",
    "\\end{aligned}\n",
    "\\begin{aligned}\n",
    "\\mathbf{H}^{\\left(17,29\\right)} = \\{ 17,28,12, \\}\n",
    "\\end{aligned}\n",
    "so we have\n",
    "\\begin{aligned}\n",
    "\\left|\\mathbf{G}^{\\left(17,29\\right)}\\right| = 0\n",
    "\\end{aligned}\n",
    "\\begin{aligned}\n",
    "\\left|\\mathbf{H}^{\\left(17,29\\right)}\\right| = 4\n",
    "\\end{aligned}"
   ]
  },
  {
   "cell_type": "code",
   "execution_count": 18,
   "metadata": {
    "collapsed": false
   },
   "outputs": [
    {
     "name": "stdout",
     "output_type": "stream",
     "text": [
      "[17, 28, 12, 1, 17, 28, 12, 1, 17, 28, 12, 1, 17, 28, 12, 1, 17, 28, 12, 1, 17, 28, 12, 1, 17, 28, 12, 1, 17]\n"
     ]
    }
   ],
   "source": [
    "example(b=17, m=29) ##   X[n] = 17^n mod 29"
   ]
  },
  {
   "cell_type": "markdown",
   "metadata": {},
   "source": [
    "#### Example #17: $\\mathbf{X}^\\left({b=18,m=29}\\right)$"
   ]
  },
  {
   "cell_type": "markdown",
   "metadata": {},
   "source": [
    "\\begin{aligned}\n",
    "\\mathbf{X}_n = 18^n \\mod m\n",
    "\\end{aligned}\n",
    "with\n",
    "\\begin{aligned}\n",
    "b = 18\n",
    "\\end{aligned}\n",
    "\\begin{aligned}\n",
    "m = 29\n",
    "\\end{aligned}\n",
    "yeilding\n",
    "\\begin{aligned}\n",
    "\\mathbf{X}^{\\left(18,29\\right)} = \\{ , 18, 5, 3,25,15, 9,17,16,27,22,19,23, 8,28,11,24,26, 4,14,20,12,13, 2, 7,\n",
    " 10, 6,21, \\cdots \\} = \\left[ \\mathbf{G}^{\\left(18,29\\right)} \\mathbf{H}^{\\left(18,29\\right)} \\mathbf{H}^{\\left(18,29\\right)} \\mathbf{H}^{\\left(18,29\\right)} \\cdots \\right] = \\left[ \\mathbf{G}^{\\left(18,29\\right)} \\left(\\mathbf{H}^{\\left(18,29\\right)}\\right)^{*} \\right]\n",
    "\\end{aligned}\n",
    "where\n",
    "\\begin{aligned}\n",
    "\\mathbf{G}^{\\left(18,29\\right)} = \\{  \\}\n",
    "\\end{aligned}\n",
    "\\begin{aligned}\n",
    "\\mathbf{H}^{\\left(18,29\\right)} = \\{ 18, 5, 3,25,15, 9,17,16,27,22,19,23, 8,28,11,24,26, 4,14,20,12,13, 2, 7,\n",
    " 10, 6,21, \\}\n",
    "\\end{aligned}\n",
    "so we have\n",
    "\\begin{aligned}\n",
    "\\left|\\mathbf{G}^{\\left(18,29\\right)}\\right| = 0\n",
    "\\end{aligned}\n",
    "\\begin{aligned}\n",
    "\\left|\\mathbf{H}^{\\left(18,29\\right)}\\right| = 28\n",
    "\\end{aligned}"
   ]
  },
  {
   "cell_type": "code",
   "execution_count": 19,
   "metadata": {
    "collapsed": false
   },
   "outputs": [
    {
     "name": "stdout",
     "output_type": "stream",
     "text": [
      "[18, 5, 3, 25, 15, 9, 17, 16, 27, 22, 19, 23, 8, 28, 11, 24, 26, 4, 14, 20, 12, 13, 2, 7, 10, 6, 21, 1, 18]\n"
     ]
    }
   ],
   "source": [
    "example(b=18, m=29) ##   X[n] = 18^n mod 29"
   ]
  },
  {
   "cell_type": "markdown",
   "metadata": {},
   "source": [
    "#### Example #18: $\\mathbf{X}^\\left({b=19,m=29}\\right)$"
   ]
  },
  {
   "cell_type": "markdown",
   "metadata": {},
   "source": [
    "\\begin{aligned}\n",
    "\\mathbf{X}_n = 19^n \\mod m\n",
    "\\end{aligned}\n",
    "with\n",
    "\\begin{aligned}\n",
    "b = 19\n",
    "\\end{aligned}\n",
    "\\begin{aligned}\n",
    "m = 29\n",
    "\\end{aligned}\n",
    "yeilding\n",
    "\\begin{aligned}\n",
    "\\mathbf{X}^{\\left(19,29\\right)} = \\{ , 19,13,15,24,21,22,12,25,11, 6,27,20, 3,28,10,16,14, 5, 8, 7,17, 4,18,23,\n",
    "  2, 9,26, \\cdots \\} = \\left[ \\mathbf{G}^{\\left(19,29\\right)} \\mathbf{H}^{\\left(19,29\\right)} \\mathbf{H}^{\\left(19,29\\right)} \\mathbf{H}^{\\left(19,29\\right)} \\cdots \\right] = \\left[ \\mathbf{G}^{\\left(19,29\\right)} \\left(\\mathbf{H}^{\\left(19,29\\right)}\\right)^{*} \\right]\n",
    "\\end{aligned}\n",
    "where\n",
    "\\begin{aligned}\n",
    "\\mathbf{G}^{\\left(19,29\\right)} = \\{  \\}\n",
    "\\end{aligned}\n",
    "\\begin{aligned}\n",
    "\\mathbf{H}^{\\left(19,29\\right)} = \\{ 19,13,15,24,21,22,12,25,11, 6,27,20, 3,28,10,16,14, 5, 8, 7,17, 4,18,23,\n",
    "  2, 9,26, \\}\n",
    "\\end{aligned}\n",
    "so we have\n",
    "\\begin{aligned}\n",
    "\\left|\\mathbf{G}^{\\left(19,29\\right)}\\right| = 0\n",
    "\\end{aligned}\n",
    "\\begin{aligned}\n",
    "\\left|\\mathbf{H}^{\\left(19,29\\right)}\\right| = 28\n",
    "\\end{aligned}"
   ]
  },
  {
   "cell_type": "code",
   "execution_count": 20,
   "metadata": {
    "collapsed": false
   },
   "outputs": [
    {
     "name": "stdout",
     "output_type": "stream",
     "text": [
      "[19, 13, 15, 24, 21, 22, 12, 25, 11, 6, 27, 20, 3, 28, 10, 16, 14, 5, 8, 7, 17, 4, 18, 23, 2, 9, 26, 1, 19]\n"
     ]
    }
   ],
   "source": [
    "example(b=19, m=29) ##   X[n] = 19^n mod 29"
   ]
  },
  {
   "cell_type": "markdown",
   "metadata": {},
   "source": [
    "#### Example #19: $\\mathbf{X}^\\left({b=20,m=29}\\right)$"
   ]
  },
  {
   "cell_type": "markdown",
   "metadata": {},
   "source": [
    "\\begin{aligned}\n",
    "\\mathbf{X}_n = 20^n \\mod m\n",
    "\\end{aligned}\n",
    "with\n",
    "\\begin{aligned}\n",
    "b = 20\n",
    "\\end{aligned}\n",
    "\\begin{aligned}\n",
    "m = 29\n",
    "\\end{aligned}\n",
    "yeilding\n",
    "\\begin{aligned}\n",
    "\\mathbf{X}^{\\left(20,29\\right)} = \\{ , 20,23,25, 7,24,16, \\cdots \\} = \\left[ \\mathbf{G}^{\\left(20,29\\right)} \\mathbf{H}^{\\left(20,29\\right)} \\mathbf{H}^{\\left(20,29\\right)} \\mathbf{H}^{\\left(20,29\\right)} \\cdots \\right] = \\left[ \\mathbf{G}^{\\left(20,29\\right)} \\left(\\mathbf{H}^{\\left(20,29\\right)}\\right)^{*} \\right]\n",
    "\\end{aligned}\n",
    "where\n",
    "\\begin{aligned}\n",
    "\\mathbf{G}^{\\left(20,29\\right)} = \\{  \\}\n",
    "\\end{aligned}\n",
    "\\begin{aligned}\n",
    "\\mathbf{H}^{\\left(20,29\\right)} = \\{ 20,23,25, 7,24,16, \\}\n",
    "\\end{aligned}\n",
    "so we have\n",
    "\\begin{aligned}\n",
    "\\left|\\mathbf{G}^{\\left(20,29\\right)}\\right| = 0\n",
    "\\end{aligned}\n",
    "\\begin{aligned}\n",
    "\\left|\\mathbf{H}^{\\left(20,29\\right)}\\right| = 7\n",
    "\\end{aligned}"
   ]
  },
  {
   "cell_type": "code",
   "execution_count": 21,
   "metadata": {
    "collapsed": false
   },
   "outputs": [
    {
     "name": "stdout",
     "output_type": "stream",
     "text": [
      "[20, 23, 25, 7, 24, 16, 1, 20, 23, 25, 7, 24, 16, 1, 20, 23, 25, 7, 24, 16, 1, 20, 23, 25, 7, 24, 16, 1, 20]\n"
     ]
    }
   ],
   "source": [
    "example(b=20, m=29) ##   X[n] = 20^n mod 29"
   ]
  },
  {
   "cell_type": "markdown",
   "metadata": {},
   "source": [
    "#### Example #20: $\\mathbf{X}^\\left({b=21,m=29}\\right)$"
   ]
  },
  {
   "cell_type": "markdown",
   "metadata": {},
   "source": [
    "\\begin{aligned}\n",
    "\\mathbf{X}_n = 21^n \\mod m\n",
    "\\end{aligned}\n",
    "with\n",
    "\\begin{aligned}\n",
    "b = 21\n",
    "\\end{aligned}\n",
    "\\begin{aligned}\n",
    "m = 29\n",
    "\\end{aligned}\n",
    "yeilding\n",
    "\\begin{aligned}\n",
    "\\mathbf{X}^{\\left(21,29\\right)} = \\{ , 21, 6,10, 7, 2,13,12,20,14, 4,26,24,11,28, 8,23,19,22,27,16,17, 9,15,25,\n",
    "  3, 5,18, \\cdots \\} = \\left[ \\mathbf{G}^{\\left(21,29\\right)} \\mathbf{H}^{\\left(21,29\\right)} \\mathbf{H}^{\\left(21,29\\right)} \\mathbf{H}^{\\left(21,29\\right)} \\cdots \\right] = \\left[ \\mathbf{G}^{\\left(21,29\\right)} \\left(\\mathbf{H}^{\\left(21,29\\right)}\\right)^{*} \\right]\n",
    "\\end{aligned}\n",
    "where\n",
    "\\begin{aligned}\n",
    "\\mathbf{G}^{\\left(21,29\\right)} = \\{  \\}\n",
    "\\end{aligned}\n",
    "\\begin{aligned}\n",
    "\\mathbf{H}^{\\left(21,29\\right)} = \\{ 21, 6,10, 7, 2,13,12,20,14, 4,26,24,11,28, 8,23,19,22,27,16,17, 9,15,25,\n",
    "  3, 5,18, \\}\n",
    "\\end{aligned}\n",
    "so we have\n",
    "\\begin{aligned}\n",
    "\\left|\\mathbf{G}^{\\left(21,29\\right)}\\right| = 0\n",
    "\\end{aligned}\n",
    "\\begin{aligned}\n",
    "\\left|\\mathbf{H}^{\\left(21,29\\right)}\\right| = 28\n",
    "\\end{aligned}"
   ]
  },
  {
   "cell_type": "code",
   "execution_count": 22,
   "metadata": {
    "collapsed": false
   },
   "outputs": [
    {
     "name": "stdout",
     "output_type": "stream",
     "text": [
      "[21, 6, 10, 7, 2, 13, 12, 20, 14, 4, 26, 24, 11, 28, 8, 23, 19, 22, 27, 16, 17, 9, 15, 25, 3, 5, 18, 1, 21]\n"
     ]
    }
   ],
   "source": [
    "example(b=21, m=29) ##   X[n] = 21^n mod 29"
   ]
  },
  {
   "cell_type": "markdown",
   "metadata": {},
   "source": [
    "#### Example #21: $\\mathbf{X}^\\left({b=22,m=29}\\right)$"
   ]
  },
  {
   "cell_type": "markdown",
   "metadata": {},
   "source": [
    "\\begin{aligned}\n",
    "\\mathbf{X}_n = 22^n \\mod m\n",
    "\\end{aligned}\n",
    "with\n",
    "\\begin{aligned}\n",
    "b = 22\n",
    "\\end{aligned}\n",
    "\\begin{aligned}\n",
    "m = 29\n",
    "\\end{aligned}\n",
    "yeilding\n",
    "\\begin{aligned}\n",
    "\\mathbf{X}^{\\left(22,29\\right)} = \\{ , 22,20, 5,23,13,25,28, 7, 9,24, 6,16, 4, \\cdots \\} = \\left[ \\mathbf{G}^{\\left(22,29\\right)} \\mathbf{H}^{\\left(22,29\\right)} \\mathbf{H}^{\\left(22,29\\right)} \\mathbf{H}^{\\left(22,29\\right)} \\cdots \\right] = \\left[ \\mathbf{G}^{\\left(22,29\\right)} \\left(\\mathbf{H}^{\\left(22,29\\right)}\\right)^{*} \\right]\n",
    "\\end{aligned}\n",
    "where\n",
    "\\begin{aligned}\n",
    "\\mathbf{G}^{\\left(22,29\\right)} = \\{  \\}\n",
    "\\end{aligned}\n",
    "\\begin{aligned}\n",
    "\\mathbf{H}^{\\left(22,29\\right)} = \\{ 22,20, 5,23,13,25,28, 7, 9,24, 6,16, 4, \\}\n",
    "\\end{aligned}\n",
    "so we have\n",
    "\\begin{aligned}\n",
    "\\left|\\mathbf{G}^{\\left(22,29\\right)}\\right| = 0\n",
    "\\end{aligned}\n",
    "\\begin{aligned}\n",
    "\\left|\\mathbf{H}^{\\left(22,29\\right)}\\right| = 14\n",
    "\\end{aligned}"
   ]
  },
  {
   "cell_type": "code",
   "execution_count": 23,
   "metadata": {
    "collapsed": false
   },
   "outputs": [
    {
     "name": "stdout",
     "output_type": "stream",
     "text": [
      "[22, 20, 5, 23, 13, 25, 28, 7, 9, 24, 6, 16, 4, 1, 22, 20, 5, 23, 13, 25, 28, 7, 9, 24, 6, 16, 4, 1, 22]\n"
     ]
    }
   ],
   "source": [
    "example(b=22, m=29) ##   X[n] = 22^n mod 29"
   ]
  },
  {
   "cell_type": "markdown",
   "metadata": {},
   "source": [
    "#### Example #22: $\\mathbf{X}^\\left({b=23,m=29}\\right)$"
   ]
  },
  {
   "cell_type": "markdown",
   "metadata": {},
   "source": [
    "\\begin{aligned}\n",
    "\\mathbf{X}_n = 23^n \\mod m\n",
    "\\end{aligned}\n",
    "with\n",
    "\\begin{aligned}\n",
    "b = 23\n",
    "\\end{aligned}\n",
    "\\begin{aligned}\n",
    "m = 29\n",
    "\\end{aligned}\n",
    "yeilding\n",
    "\\begin{aligned}\n",
    "\\mathbf{X}^{\\left(23,29\\right)} = \\{ , 23, 7,16,20,25,24, \\cdots \\} = \\left[ \\mathbf{G}^{\\left(23,29\\right)} \\mathbf{H}^{\\left(23,29\\right)} \\mathbf{H}^{\\left(23,29\\right)} \\mathbf{H}^{\\left(23,29\\right)} \\cdots \\right] = \\left[ \\mathbf{G}^{\\left(23,29\\right)} \\left(\\mathbf{H}^{\\left(23,29\\right)}\\right)^{*} \\right]\n",
    "\\end{aligned}\n",
    "where\n",
    "\\begin{aligned}\n",
    "\\mathbf{G}^{\\left(23,29\\right)} = \\{  \\}\n",
    "\\end{aligned}\n",
    "\\begin{aligned}\n",
    "\\mathbf{H}^{\\left(23,29\\right)} = \\{ 23, 7,16,20,25,24, \\}\n",
    "\\end{aligned}\n",
    "so we have\n",
    "\\begin{aligned}\n",
    "\\left|\\mathbf{G}^{\\left(23,29\\right)}\\right| = 0\n",
    "\\end{aligned}\n",
    "\\begin{aligned}\n",
    "\\left|\\mathbf{H}^{\\left(23,29\\right)}\\right| = 7\n",
    "\\end{aligned}"
   ]
  },
  {
   "cell_type": "code",
   "execution_count": 24,
   "metadata": {
    "collapsed": false
   },
   "outputs": [
    {
     "name": "stdout",
     "output_type": "stream",
     "text": [
      "[23, 7, 16, 20, 25, 24, 1, 23, 7, 16, 20, 25, 24, 1, 23, 7, 16, 20, 25, 24, 1, 23, 7, 16, 20, 25, 24, 1, 23]\n"
     ]
    }
   ],
   "source": [
    "example(b=23, m=29) ##   X[n] = 23^n mod 29"
   ]
  },
  {
   "cell_type": "markdown",
   "metadata": {},
   "source": [
    "#### Example #23: $\\mathbf{X}^\\left({b=24,m=29}\\right)$"
   ]
  },
  {
   "cell_type": "markdown",
   "metadata": {},
   "source": [
    "\\begin{aligned}\n",
    "\\mathbf{X}_n = 24^n \\mod m\n",
    "\\end{aligned}\n",
    "with\n",
    "\\begin{aligned}\n",
    "b = 24\n",
    "\\end{aligned}\n",
    "\\begin{aligned}\n",
    "m = 29\n",
    "\\end{aligned}\n",
    "yeilding\n",
    "\\begin{aligned}\n",
    "\\mathbf{X}^{\\left(24,29\\right)} = \\{ , 24,25,20,16, 7,23, \\cdots \\} = \\left[ \\mathbf{G}^{\\left(24,29\\right)} \\mathbf{H}^{\\left(24,29\\right)} \\mathbf{H}^{\\left(24,29\\right)} \\mathbf{H}^{\\left(24,29\\right)} \\cdots \\right] = \\left[ \\mathbf{G}^{\\left(24,29\\right)} \\left(\\mathbf{H}^{\\left(24,29\\right)}\\right)^{*} \\right]\n",
    "\\end{aligned}\n",
    "where\n",
    "\\begin{aligned}\n",
    "\\mathbf{G}^{\\left(24,29\\right)} = \\{  \\}\n",
    "\\end{aligned}\n",
    "\\begin{aligned}\n",
    "\\mathbf{H}^{\\left(24,29\\right)} = \\{ 24,25,20,16, 7,23, \\}\n",
    "\\end{aligned}\n",
    "so we have\n",
    "\\begin{aligned}\n",
    "\\left|\\mathbf{G}^{\\left(24,29\\right)}\\right| = 0\n",
    "\\end{aligned}\n",
    "\\begin{aligned}\n",
    "\\left|\\mathbf{H}^{\\left(24,29\\right)}\\right| = 7\n",
    "\\end{aligned}"
   ]
  },
  {
   "cell_type": "code",
   "execution_count": 25,
   "metadata": {
    "collapsed": false
   },
   "outputs": [
    {
     "name": "stdout",
     "output_type": "stream",
     "text": [
      "[24, 25, 20, 16, 7, 23, 1, 24, 25, 20, 16, 7, 23, 1, 24, 25, 20, 16, 7, 23, 1, 24, 25, 20, 16, 7, 23, 1, 24]\n"
     ]
    }
   ],
   "source": [
    "example(b=24, m=29) ##   X[n] = 24^n mod 29"
   ]
  },
  {
   "cell_type": "markdown",
   "metadata": {},
   "source": [
    "#### Example #24: $\\mathbf{X}^\\left({b=25,m=29}\\right)$"
   ]
  },
  {
   "cell_type": "markdown",
   "metadata": {},
   "source": [
    "\\begin{aligned}\n",
    "\\mathbf{X}_n = 25^n \\mod m\n",
    "\\end{aligned}\n",
    "with\n",
    "\\begin{aligned}\n",
    "b = 25\n",
    "\\end{aligned}\n",
    "\\begin{aligned}\n",
    "m = 29\n",
    "\\end{aligned}\n",
    "yeilding\n",
    "\\begin{aligned}\n",
    "\\mathbf{X}^{\\left(25,29\\right)} = \\{ , 25,16,23,24,20, 7, \\cdots \\} = \\left[ \\mathbf{G}^{\\left(25,29\\right)} \\mathbf{H}^{\\left(25,29\\right)} \\mathbf{H}^{\\left(25,29\\right)} \\mathbf{H}^{\\left(25,29\\right)} \\cdots \\right] = \\left[ \\mathbf{G}^{\\left(25,29\\right)} \\left(\\mathbf{H}^{\\left(25,29\\right)}\\right)^{*} \\right]\n",
    "\\end{aligned}\n",
    "where\n",
    "\\begin{aligned}\n",
    "\\mathbf{G}^{\\left(25,29\\right)} = \\{  \\}\n",
    "\\end{aligned}\n",
    "\\begin{aligned}\n",
    "\\mathbf{H}^{\\left(25,29\\right)} = \\{ 25,16,23,24,20, 7, \\}\n",
    "\\end{aligned}\n",
    "so we have\n",
    "\\begin{aligned}\n",
    "\\left|\\mathbf{G}^{\\left(25,29\\right)}\\right| = 0\n",
    "\\end{aligned}\n",
    "\\begin{aligned}\n",
    "\\left|\\mathbf{H}^{\\left(25,29\\right)}\\right| = 7\n",
    "\\end{aligned}"
   ]
  },
  {
   "cell_type": "code",
   "execution_count": 26,
   "metadata": {
    "collapsed": false
   },
   "outputs": [
    {
     "name": "stdout",
     "output_type": "stream",
     "text": [
      "[25, 16, 23, 24, 20, 7, 1, 25, 16, 23, 24, 20, 7, 1, 25, 16, 23, 24, 20, 7, 1, 25, 16, 23, 24, 20, 7, 1, 25]\n"
     ]
    }
   ],
   "source": [
    "example(b=25, m=29) ##   X[n] = 25^n mod 29"
   ]
  },
  {
   "cell_type": "markdown",
   "metadata": {},
   "source": [
    "#### Example #25: $\\mathbf{X}^\\left({b=26,m=29}\\right)$"
   ]
  },
  {
   "cell_type": "markdown",
   "metadata": {},
   "source": [
    "\\begin{aligned}\n",
    "\\mathbf{X}_n = 26^n \\mod m\n",
    "\\end{aligned}\n",
    "with\n",
    "\\begin{aligned}\n",
    "b = 26\n",
    "\\end{aligned}\n",
    "\\begin{aligned}\n",
    "m = 29\n",
    "\\end{aligned}\n",
    "yeilding\n",
    "\\begin{aligned}\n",
    "\\mathbf{X}^{\\left(26,29\\right)} = \\{ , 26, 9, 2,23,18, 4,17, 7, 8, 5,14,16,10,28, 3,20,27, 6,11,25,12,22,21,24,\n",
    " 15,13,19, \\cdots \\} = \\left[ \\mathbf{G}^{\\left(26,29\\right)} \\mathbf{H}^{\\left(26,29\\right)} \\mathbf{H}^{\\left(26,29\\right)} \\mathbf{H}^{\\left(26,29\\right)} \\cdots \\right] = \\left[ \\mathbf{G}^{\\left(26,29\\right)} \\left(\\mathbf{H}^{\\left(26,29\\right)}\\right)^{*} \\right]\n",
    "\\end{aligned}\n",
    "where\n",
    "\\begin{aligned}\n",
    "\\mathbf{G}^{\\left(26,29\\right)} = \\{  \\}\n",
    "\\end{aligned}\n",
    "\\begin{aligned}\n",
    "\\mathbf{H}^{\\left(26,29\\right)} = \\{ 26, 9, 2,23,18, 4,17, 7, 8, 5,14,16,10,28, 3,20,27, 6,11,25,12,22,21,24,\n",
    " 15,13,19, \\}\n",
    "\\end{aligned}\n",
    "so we have\n",
    "\\begin{aligned}\n",
    "\\left|\\mathbf{G}^{\\left(26,29\\right)}\\right| = 0\n",
    "\\end{aligned}\n",
    "\\begin{aligned}\n",
    "\\left|\\mathbf{H}^{\\left(26,29\\right)}\\right| = 28\n",
    "\\end{aligned}"
   ]
  },
  {
   "cell_type": "code",
   "execution_count": 27,
   "metadata": {
    "collapsed": false
   },
   "outputs": [
    {
     "name": "stdout",
     "output_type": "stream",
     "text": [
      "[26, 9, 2, 23, 18, 4, 17, 7, 8, 5, 14, 16, 10, 28, 3, 20, 27, 6, 11, 25, 12, 22, 21, 24, 15, 13, 19, 1, 26]\n"
     ]
    }
   ],
   "source": [
    "example(b=26, m=29) ##   X[n] = 26^n mod 29"
   ]
  },
  {
   "cell_type": "markdown",
   "metadata": {},
   "source": [
    "#### Example #26: $\\mathbf{X}^\\left({b=27,m=29}\\right)$"
   ]
  },
  {
   "cell_type": "markdown",
   "metadata": {},
   "source": [
    "\\begin{aligned}\n",
    "\\mathbf{X}_n = 27^n \\mod m\n",
    "\\end{aligned}\n",
    "with\n",
    "\\begin{aligned}\n",
    "b = 27\n",
    "\\end{aligned}\n",
    "\\begin{aligned}\n",
    "m = 29\n",
    "\\end{aligned}\n",
    "yeilding\n",
    "\\begin{aligned}\n",
    "\\mathbf{X}^{\\left(27,29\\right)} = \\{ , 27, 4,21,16,26, 6,17,24,10, 9,11, 7,15,28, 2,25, 8,13, 3,23,12, 5,19,20,\n",
    " 18,22,14, \\cdots \\} = \\left[ \\mathbf{G}^{\\left(27,29\\right)} \\mathbf{H}^{\\left(27,29\\right)} \\mathbf{H}^{\\left(27,29\\right)} \\mathbf{H}^{\\left(27,29\\right)} \\cdots \\right] = \\left[ \\mathbf{G}^{\\left(27,29\\right)} \\left(\\mathbf{H}^{\\left(27,29\\right)}\\right)^{*} \\right]\n",
    "\\end{aligned}\n",
    "where\n",
    "\\begin{aligned}\n",
    "\\mathbf{G}^{\\left(27,29\\right)} = \\{  \\}\n",
    "\\end{aligned}\n",
    "\\begin{aligned}\n",
    "\\mathbf{H}^{\\left(27,29\\right)} = \\{ 27, 4,21,16,26, 6,17,24,10, 9,11, 7,15,28, 2,25, 8,13, 3,23,12, 5,19,20,\n",
    " 18,22,14, \\}\n",
    "\\end{aligned}\n",
    "so we have\n",
    "\\begin{aligned}\n",
    "\\left|\\mathbf{G}^{\\left(27,29\\right)}\\right| = 0\n",
    "\\end{aligned}\n",
    "\\begin{aligned}\n",
    "\\left|\\mathbf{H}^{\\left(27,29\\right)}\\right| = 28\n",
    "\\end{aligned}"
   ]
  },
  {
   "cell_type": "code",
   "execution_count": 28,
   "metadata": {
    "collapsed": false
   },
   "outputs": [
    {
     "name": "stdout",
     "output_type": "stream",
     "text": [
      "[27, 4, 21, 16, 26, 6, 17, 24, 10, 9, 11, 7, 15, 28, 2, 25, 8, 13, 3, 23, 12, 5, 19, 20, 18, 22, 14, 1, 27]\n"
     ]
    }
   ],
   "source": [
    "example(b=27, m=29) ##   X[n] = 27^n mod 29"
   ]
  },
  {
   "cell_type": "markdown",
   "metadata": {},
   "source": [
    "#### Example #27: $\\mathbf{X}^\\left({b=28,m=29}\\right)$"
   ]
  },
  {
   "cell_type": "markdown",
   "metadata": {},
   "source": [
    "\\begin{aligned}\n",
    "\\mathbf{X}_n = 28^n \\mod m\n",
    "\\end{aligned}\n",
    "with\n",
    "\\begin{aligned}\n",
    "b = 28\n",
    "\\end{aligned}\n",
    "\\begin{aligned}\n",
    "m = 29\n",
    "\\end{aligned}\n",
    "yeilding\n",
    "\\begin{aligned}\n",
    "\\mathbf{X}^{\\left(28,29\\right)} = \\{ , 28, \\cdots \\} = \\left[ \\mathbf{G}^{\\left(28,29\\right)} \\mathbf{H}^{\\left(28,29\\right)} \\mathbf{H}^{\\left(28,29\\right)} \\mathbf{H}^{\\left(28,29\\right)} \\cdots \\right] = \\left[ \\mathbf{G}^{\\left(28,29\\right)} \\left(\\mathbf{H}^{\\left(28,29\\right)}\\right)^{*} \\right]\n",
    "\\end{aligned}\n",
    "where\n",
    "\\begin{aligned}\n",
    "\\mathbf{G}^{\\left(28,29\\right)} = \\{  \\}\n",
    "\\end{aligned}\n",
    "\\begin{aligned}\n",
    "\\mathbf{H}^{\\left(28,29\\right)} = \\{ 28, \\}\n",
    "\\end{aligned}\n",
    "so we have\n",
    "\\begin{aligned}\n",
    "\\left|\\mathbf{G}^{\\left(28,29\\right)}\\right| = 0\n",
    "\\end{aligned}\n",
    "\\begin{aligned}\n",
    "\\left|\\mathbf{H}^{\\left(28,29\\right)}\\right| = 2\n",
    "\\end{aligned}"
   ]
  },
  {
   "cell_type": "code",
   "execution_count": 29,
   "metadata": {
    "collapsed": false
   },
   "outputs": [
    {
     "name": "stdout",
     "output_type": "stream",
     "text": [
      "[28, 1, 28, 1, 28, 1, 28, 1, 28, 1, 28, 1, 28, 1, 28, 1, 28, 1, 28, 1, 28, 1, 28, 1, 28, 1, 28, 1, 28]\n"
     ]
    }
   ],
   "source": [
    "example(b=28, m=29) ##   X[n] = 28^n mod 29"
   ]
  },
  {
   "cell_type": "markdown",
   "metadata": {},
   "source": [
    "#### Example #28: $\\mathbf{X}^\\left({b=29,m=29}\\right)$"
   ]
  },
  {
   "cell_type": "markdown",
   "metadata": {},
   "source": [
    "\\begin{aligned}\n",
    "\\mathbf{X}_n = 29^n \\mod m\n",
    "\\end{aligned}\n",
    "with\n",
    "\\begin{aligned}\n",
    "b = 29\n",
    "\\end{aligned}\n",
    "\\begin{aligned}\n",
    "m = 29\n",
    "\\end{aligned}\n",
    "yeilding\n",
    "\\begin{aligned}\n",
    "\\mathbf{X}^{\\left(29,29\\right)} = \\{ ,  \\cdots \\} = \\left[ \\mathbf{G}^{\\left(29,29\\right)} \\mathbf{H}^{\\left(29,29\\right)} \\mathbf{H}^{\\left(29,29\\right)} \\mathbf{H}^{\\left(29,29\\right)} \\cdots \\right] = \\left[ \\mathbf{G}^{\\left(29,29\\right)} \\left(\\mathbf{H}^{\\left(29,29\\right)}\\right)^{*} \\right]\n",
    "\\end{aligned}\n",
    "where\n",
    "\\begin{aligned}\n",
    "\\mathbf{G}^{\\left(29,29\\right)} = \\{  \\}\n",
    "\\end{aligned}\n",
    "\\begin{aligned}\n",
    "\\mathbf{H}^{\\left(29,29\\right)} = \\{  \\}\n",
    "\\end{aligned}\n",
    "so we have\n",
    "\\begin{aligned}\n",
    "\\left|\\mathbf{G}^{\\left(29,29\\right)}\\right| = 0\n",
    "\\end{aligned}\n",
    "\\begin{aligned}\n",
    "\\left|\\mathbf{H}^{\\left(29,29\\right)}\\right| = 1\n",
    "\\end{aligned}"
   ]
  },
  {
   "cell_type": "code",
   "execution_count": 30,
   "metadata": {
    "collapsed": false
   },
   "outputs": [
    {
     "name": "stdout",
     "output_type": "stream",
     "text": [
      "[0, 0, 0, 0, 0, 0, 0, 0, 0, 0, 0, 0, 0, 0, 0, 0, 0, 0, 0, 0, 0, 0, 0, 0, 0, 0, 0, 0, 0]\n"
     ]
    }
   ],
   "source": [
    "example(b=29, m=29) ##   X[n] = 29^n mod 29"
   ]
  },
  {
   "cell_type": "markdown",
   "metadata": {},
   "source": [
    "#### Example #29: $\\mathbf{X}^\\left({b=30,m=29}\\right)$"
   ]
  },
  {
   "cell_type": "markdown",
   "metadata": {},
   "source": [
    "\\begin{aligned}\n",
    "\\mathbf{X}_n = 30^n \\mod m\n",
    "\\end{aligned}\n",
    "with\n",
    "\\begin{aligned}\n",
    "b = 30\n",
    "\\end{aligned}\n",
    "\\begin{aligned}\n",
    "m = 29\n",
    "\\end{aligned}\n",
    "yeilding\n",
    "\\begin{aligned}\n",
    "\\mathbf{X}^{\\left(30,29\\right)} = \\{ ,  \\cdots \\} = \\left[ \\mathbf{G}^{\\left(30,29\\right)} \\mathbf{H}^{\\left(30,29\\right)} \\mathbf{H}^{\\left(30,29\\right)} \\mathbf{H}^{\\left(30,29\\right)} \\cdots \\right] = \\left[ \\mathbf{G}^{\\left(30,29\\right)} \\left(\\mathbf{H}^{\\left(30,29\\right)}\\right)^{*} \\right]\n",
    "\\end{aligned}\n",
    "where\n",
    "\\begin{aligned}\n",
    "\\mathbf{G}^{\\left(30,29\\right)} = \\{  \\}\n",
    "\\end{aligned}\n",
    "\\begin{aligned}\n",
    "\\mathbf{H}^{\\left(30,29\\right)} = \\{  \\}\n",
    "\\end{aligned}\n",
    "so we have\n",
    "\\begin{aligned}\n",
    "\\left|\\mathbf{G}^{\\left(30,29\\right)}\\right| = 0\n",
    "\\end{aligned}\n",
    "\\begin{aligned}\n",
    "\\left|\\mathbf{H}^{\\left(30,29\\right)}\\right| = 1\n",
    "\\end{aligned}"
   ]
  },
  {
   "cell_type": "code",
   "execution_count": 31,
   "metadata": {
    "collapsed": false
   },
   "outputs": [
    {
     "name": "stdout",
     "output_type": "stream",
     "text": [
      "[1, 1, 1, 1, 1, 1, 1, 1, 1, 1, 1, 1, 1, 1, 1, 1, 1, 1, 1, 1, 1, 1, 1, 1, 1, 1, 1, 1, 1]\n"
     ]
    }
   ],
   "source": [
    "example(b=30, m=29) ##   X[n] = 30^n mod 29"
   ]
  }
 ],
 "metadata": {},
 "nbformat": 4,
 "nbformat_minor": 2
}
