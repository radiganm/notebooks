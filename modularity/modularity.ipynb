{
 "cells": [
  {
   "cell_type": "code",
   "execution_count": 1,
   "metadata": {
    "collapsed": false
   },
   "outputs": [],
   "source": [
    "#!/usr/bin/python3\n",
    "### modularity.py\n",
    "### Copyright 2017 Mac Radigan\n",
    "### SPDX-License-Identifier: GFDL-1.3"
   ]
  },
  {
   "cell_type": "markdown",
   "metadata": {},
   "source": [
    "# modularity"
   ]
  },
  {
   "cell_type": "markdown",
   "metadata": {},
   "source": [
    "## Copying"
   ]
  },
  {
   "cell_type": "raw",
   "metadata": {},
   "source": [
    "Copyright (C)  2017  Mac Radigan. \n",
    "Permission is granted to copy, distribute and/or modify this document under the terms of the GNU Free Documentation License, Version 1.3 or any later version published by the Free Software Foundation; with no Invariant Sections and with no restrictions on the Front-Cover and back the Front-Cover Texts. A copy of the license is included in the section entitled \"GNU Free Documentation License\"."
   ]
  },
  {
   "cell_type": "markdown",
   "metadata": {},
   "source": [
    "## Introduction"
   ]
  },
  {
   "cell_type": "markdown",
   "metadata": {},
   "source": [
    "For an integer seqence $n = 1, 2, \\cdots \\infty$, and choice of integers $b$, $m$ $\\in$ $\\mathbb{Z}^{+}$, what is the behavior of the sequence $\\mathbf{X}_n = b^n \\mod m$?"
   ]
  },
  {
   "cell_type": "markdown",
   "metadata": {},
   "source": [
    "## Dicussion"
   ]
  },
  {
   "cell_type": "markdown",
   "metadata": {},
   "source": [
    "It is helpful to note that we can write $\\mathbf{X} = \\left[ \\mathbf{G} \\mathbf{H}^{*} \\right]$, where $\\mathbf{G}$ is a non-cylcic sequence of length $\\left|\\mathbf{G}\\right|$, and $\\mathbf{H}$ is a cylcic sequence of order $\\left|\\mathbf{H}\\right|$.  We are first and primarily interested in what generalizations can be made about the lengths $\\left|\\mathbf{G}\\right|$ and $\\left|\\mathbf{H}\\right|$ for interesting constrained classes of $b$ and $m$."
   ]
  },
  {
   "cell_type": "markdown",
   "metadata": {},
   "source": [
    "## Notation"
   ]
  },
  {
   "cell_type": "markdown",
   "metadata": {},
   "source": [
    "Writing $\\mathbf{X}^{\\left(b,m\\right)} = \\left[ \\mathbf{G}^{\\left(b,m\\right)} \\left(\\mathbf{H}^{\\left(b,m\\right)}\\right)^{*} \\right]$ $= b^n \\mod m$ for $n = 1, 2, \\cdots \\infty$ annotations the generated sequence with the generator parameters, so that properties sequences can be compared with this context conveniently accessible."
   ]
  },
  {
   "cell_type": "markdown",
   "metadata": {},
   "source": [
    "## Normalization"
   ]
  },
  {
   "cell_type": "markdown",
   "metadata": {},
   "source": [
    "It may be insightful to explore a normalized form having modulus $2 \\pi$, giving the form $H_n = e^{i \\phi_n + 2 \\pi k}$ where $\\phi_n = \\left( 2 \\pi \\frac{b}{m} \\right)^n$."
   ]
  },
  {
   "cell_type": "markdown",
   "metadata": {},
   "source": [
    "### $b^n \\mod m$ for $n = 1, 2, \\cdots 30$"
   ]
  },
  {
   "cell_type": "code",
   "execution_count": 2,
   "metadata": {
    "collapsed": false
   },
   "outputs": [],
   "source": [
    "def example(b,m):\n",
    "  \"\"\"Prints the sequence X_n = b^n mod m for n = 1, 2, ... N\"\"\"\n",
    "  N  = 30\n",
    "  ns = range(1, N)\n",
    "  f  = lambda n: b**n % m\n",
    "  xs = map(f, ns)\n",
    "  print(list(xs))"
   ]
  },
  {
   "cell_type": "markdown",
   "metadata": {},
   "source": [
    "### $\\mathbf{X} = \\left[ \\mathbf{G} \\mathbf{H}^{*} \\right]$"
   ]
  },
  {
   "cell_type": "code",
   "execution_count": 3,
   "metadata": {
    "collapsed": false
   },
   "outputs": [],
   "source": [
    "def hist(xs):\n",
    "  \"\"\"Builds a histogram h from values in xs\"\"\"\n",
    "  h = defaultdict(int)\n",
    "  for x in xs:\n",
    "    h[x] += 1\n",
    "  return h\n",
    "\n",
    "def decompose(xs):\n",
    "  \"\"\"Decomposes a sequence xs in to a non-cyclic prefix, G, and repeated cyclic subsequence H\"\"\"\n",
    "  x_hist = hist(xs)\n",
    "  k1 = [ k for k,x in enumerate(xs) if x_hist[x] > 1 ][0]\n",
    "  k2 = [ k+k1+1 for k,x in enumerate(xs[k1+1:]) if xs[k1] == x ][0]\n",
    "  G  = xs[:k1]\n",
    "  H  = xs[k1:k2]\n",
    "  return G,H"
   ]
  },
  {
   "cell_type": "markdown",
   "metadata": {},
   "source": [
    "### A. Cases of historical interest"
   ]
  },
  {
   "cell_type": "markdown",
   "metadata": {},
   "source": [
    "Fermat's Little Theorem states that if $m$ is prime, then for any integer $b$, it holds that $b^m - b$ is an integer multiple of $m$.\n",
    "\n",
    "This may be written as\n",
    "\n",
    "$b^m \\equiv b \\left( \\mod m \\right)$\n",
    "\n",
    "Also, if $m \\nmid b$\n",
    "\n",
    "$b^{m-1} \\equiv 1 \\left( \\mod m \\right)$"
   ]
  },
  {
   "cell_type": "markdown",
   "metadata": {},
   "source": [
    "#### Example A.1: $\\mathbf{X}^\\left({b=2,m=5}\\right)$"
   ]
  },
  {
   "cell_type": "markdown",
   "metadata": {},
   "source": [
    "We can check:"
   ]
  },
  {
   "cell_type": "markdown",
   "metadata": {},
   "source": [
    "$b^m \\equiv b \\left( \\mod m \\right)$"
   ]
  },
  {
   "cell_type": "code",
   "execution_count": 4,
   "metadata": {
    "collapsed": false
   },
   "outputs": [
    {
     "name": "stdout",
     "output_type": "stream",
     "text": [
      "check:  2 == 2\n"
     ]
    }
   ],
   "source": [
    "b = 2\n",
    "m = 5\n",
    "print(\"check:  %d == %d\" % (b**m % m, b))"
   ]
  },
  {
   "cell_type": "markdown",
   "metadata": {},
   "source": [
    "$b^{m-1} \\equiv 1 \\left( \\mod m \\right)$"
   ]
  },
  {
   "cell_type": "code",
   "execution_count": 5,
   "metadata": {
    "collapsed": false
   },
   "outputs": [
    {
     "name": "stdout",
     "output_type": "stream",
     "text": [
      "check:  1 == 1\n"
     ]
    }
   ],
   "source": [
    "b = 2\n",
    "m = 5\n",
    "print(\"check:  %d == %d\" % (b**(m-1) % m, 1))"
   ]
  },
  {
   "cell_type": "markdown",
   "metadata": {},
   "source": [
    "so in this case\n",
    "\\begin{aligned}\n",
    "\\mathbf{X}_n = b^n \\mod m\n",
    "\\end{aligned}\n",
    "with\n",
    "\\begin{aligned}\n",
    "b = 2\n",
    "\\end{aligned}\n",
    "\\begin{aligned}\n",
    "m = 5\n",
    "\\end{aligned}\n",
    "yeilding\n",
    "\\begin{aligned}\n",
    "\\mathbf{X}^{\\left(2,5\\right)} = \\{ 2, 4, 3, 1, \\cdots \\} = \\left[ \\mathbf{G}^{\\left(2,5\\right)} \\mathbf{H}^{\\left(2,5\\right)} \\mathbf{H}^{\\left(2,5\\right)} \\mathbf{H}^{\\left(2,5\\right)} \\cdots \\right] = \\left[ \\mathbf{G}^{\\left(2,5\\right)} \\left(\\mathbf{H}^{\\left(2,5\\right)}\\right)^{*} \\right]\n",
    "\\end{aligned}\n",
    "where\n",
    "\\begin{aligned}\n",
    "\\mathbf{G}^{\\left(2,5\\right)} = \\varnothing\n",
    "\\end{aligned}\n",
    "\\begin{aligned}\n",
    "\\mathbf{H}^{\\left(2,5\\right)} = \\{ 2, 4, 3, 1 \\}\n",
    "\\end{aligned}\n",
    "so we have\n",
    "\\begin{aligned}\n",
    "\\left|\\mathbf{G}^{\\left(2,5\\right)}\\right| = 0\n",
    "\\end{aligned}\n",
    "\\begin{aligned}\n",
    "\\left|\\mathbf{H}^{\\left(2,5\\right)}\\right| = 4\n",
    "\\end{aligned}"
   ]
  },
  {
   "cell_type": "code",
   "execution_count": 6,
   "metadata": {
    "collapsed": false
   },
   "outputs": [
    {
     "name": "stdout",
     "output_type": "stream",
     "text": [
      "[2, 4, 3, 1, 2, 4, 3, 1, 2, 4, 3, 1, 2, 4, 3, 1, 2, 4, 3, 1, 2, 4, 3, 1, 2, 4, 3, 1, 2]\n"
     ]
    }
   ],
   "source": [
    "example(b=2, m=5) ##   X[n] = 2^n mod 5"
   ]
  },
  {
   "cell_type": "markdown",
   "metadata": {},
   "source": [
    "#### Example A.2: $\\mathbf{X}^\\left({b=2,m=7}\\right)$"
   ]
  },
  {
   "cell_type": "markdown",
   "metadata": {},
   "source": [
    "We can check:"
   ]
  },
  {
   "cell_type": "markdown",
   "metadata": {},
   "source": [
    "$b^m \\equiv b \\left( \\mod m \\right)$"
   ]
  },
  {
   "cell_type": "code",
   "execution_count": 7,
   "metadata": {
    "collapsed": false
   },
   "outputs": [
    {
     "name": "stdout",
     "output_type": "stream",
     "text": [
      "check:  2 == 2\n"
     ]
    }
   ],
   "source": [
    "b = 2\n",
    "m = 7\n",
    "print(\"check:  %d == %d\" % (b**m % m, b))"
   ]
  },
  {
   "cell_type": "markdown",
   "metadata": {},
   "source": [
    "$b^{m-1} \\equiv 1 \\left( \\mod m \\right)$"
   ]
  },
  {
   "cell_type": "code",
   "execution_count": 8,
   "metadata": {
    "collapsed": false
   },
   "outputs": [
    {
     "name": "stdout",
     "output_type": "stream",
     "text": [
      "check:  1 == 1\n"
     ]
    }
   ],
   "source": [
    "b = 2\n",
    "m = 7\n",
    "print(\"check:  %d == %d\" % (b**(m-1) % m, 1))"
   ]
  },
  {
   "cell_type": "markdown",
   "metadata": {},
   "source": [
    "so in this case\n",
    "\\begin{aligned}\n",
    "\\mathbf{X}_n = b^n \\mod m\n",
    "\\end{aligned}\n",
    "with\n",
    "\\begin{aligned}\n",
    "b = 2\n",
    "\\end{aligned}\n",
    "\\begin{aligned}\n",
    "m = 7\n",
    "\\end{aligned}\n",
    "yeilding\n",
    "\\begin{aligned}\n",
    "\\mathbf{X}^{\\left(2,7\\right)} = \\{ 2, 4, 1, 2, 4, 1, \\cdots \\} = \\left[ \\mathbf{G}^{\\left(2,7\\right)} \\mathbf{H}^{\\left(2,7\\right)} \\mathbf{H}^{\\left(2,7\\right)} \\mathbf{H}^{\\left(2,7\\right)} \\cdots \\right] = \\left[ \\mathbf{G}^{\\left(2,7\\right)} \\left(\\mathbf{H}^{\\left(2,7\\right)}\\right)^{*} \\right]\n",
    "\\end{aligned}\n",
    "where\n",
    "\\begin{aligned}\n",
    "\\mathbf{G}^{\\left(2,7\\right)} = \\varnothing\n",
    "\\end{aligned}\n",
    "\\begin{aligned}\n",
    "\\mathbf{H}^{\\left(2,7\\right)} = \\{ 2, 4, 1 \\}\n",
    "\\end{aligned}\n",
    "so we have\n",
    "\\begin{aligned}\n",
    "\\left|\\mathbf{G}^{\\left(2,7\\right)}\\right| = 0\n",
    "\\end{aligned}\n",
    "\\begin{aligned}\n",
    "\\left|\\mathbf{H}^{\\left(2,7\\right)}\\right| = 3\n",
    "\\end{aligned}"
   ]
  },
  {
   "cell_type": "code",
   "execution_count": 9,
   "metadata": {
    "collapsed": false
   },
   "outputs": [
    {
     "name": "stdout",
     "output_type": "stream",
     "text": [
      "[2, 4, 1, 2, 4, 1, 2, 4, 1, 2, 4, 1, 2, 4, 1, 2, 4, 1, 2, 4, 1, 2, 4, 1, 2, 4, 1, 2, 4]\n"
     ]
    }
   ],
   "source": [
    "example(b=2, m=7) ##   X[n] = 2^n mod 7"
   ]
  },
  {
   "cell_type": "markdown",
   "metadata": {},
   "source": [
    "#### Example A.3: $\\mathbf{X}^\\left({b=3,m=7}\\right)$"
   ]
  },
  {
   "cell_type": "markdown",
   "metadata": {},
   "source": [
    "We can check:"
   ]
  },
  {
   "cell_type": "markdown",
   "metadata": {},
   "source": [
    "$b^m \\equiv b \\left( \\mod m \\right)$"
   ]
  },
  {
   "cell_type": "code",
   "execution_count": 10,
   "metadata": {
    "collapsed": false
   },
   "outputs": [
    {
     "name": "stdout",
     "output_type": "stream",
     "text": [
      "check:  3 == 3\n"
     ]
    }
   ],
   "source": [
    "b = 3\n",
    "m = 7\n",
    "print(\"check:  %d == %d\" % (b**m % m, b))"
   ]
  },
  {
   "cell_type": "markdown",
   "metadata": {},
   "source": [
    "$b^{m-1} \\equiv 1 \\left( \\mod m \\right)$"
   ]
  },
  {
   "cell_type": "code",
   "execution_count": 11,
   "metadata": {
    "collapsed": false
   },
   "outputs": [
    {
     "name": "stdout",
     "output_type": "stream",
     "text": [
      "check:  1 == 1\n"
     ]
    }
   ],
   "source": [
    "b = 3\n",
    "m = 7\n",
    "print(\"check:  %d == %d\" % (b**(m-1) % m, 1))"
   ]
  },
  {
   "cell_type": "markdown",
   "metadata": {},
   "source": [
    "so in this case\n",
    "\\begin{aligned}\n",
    "\\mathbf{X}_n = b^n \\mod m\n",
    "\\end{aligned}\n",
    "with\n",
    "\\begin{aligned}\n",
    "b = 3\n",
    "\\end{aligned}\n",
    "\\begin{aligned}\n",
    "m = 7\n",
    "\\end{aligned}\n",
    "yeilding\n",
    "\\begin{aligned}\n",
    "\\mathbf{X}^{\\left(3,7\\right)} = \\{ 3, 2, 6, 4, 5, 1, 3, 2, 6, 4, 5, 1, \\cdots \\} = \\left[ \\mathbf{G}^{\\left(3,7\\right)} \\mathbf{H}^{\\left(3,7\\right)} \\mathbf{H}^{\\left(3,7\\right)} \\mathbf{H}^{\\left(3,7\\right)} \\cdots \\right] = \\left[ \\mathbf{G}^{\\left(3,7\\right)} \\left(\\mathbf{H}^{\\left(3,7\\right)}\\right)^{*} \\right]\n",
    "\\end{aligned}\n",
    "where\n",
    "\\begin{aligned}\n",
    "\\mathbf{G}^{\\left(3,7\\right)} = \\varnothing\n",
    "\\end{aligned}\n",
    "\\begin{aligned}\n",
    "\\mathbf{H}^{\\left(3,7\\right)} = \\{ 3, 2, 6, 4, 5, 1 \\}\n",
    "\\end{aligned}\n",
    "so we have\n",
    "\\begin{aligned}\n",
    "\\left|\\mathbf{G}^{\\left(3,7\\right)}\\right| = 0\n",
    "\\end{aligned}\n",
    "\\begin{aligned}\n",
    "\\left|\\mathbf{H}^{\\left(3,7\\right)}\\right| = 6\n",
    "\\end{aligned}"
   ]
  },
  {
   "cell_type": "code",
   "execution_count": 12,
   "metadata": {
    "collapsed": false
   },
   "outputs": [
    {
     "name": "stdout",
     "output_type": "stream",
     "text": [
      "[3, 2, 6, 4, 5, 1, 3, 2, 6, 4, 5, 1, 3, 2, 6, 4, 5, 1, 3, 2, 6, 4, 5, 1, 3, 2, 6, 4, 5]\n"
     ]
    }
   ],
   "source": [
    "example(b=3, m=7) ##   X[n] = 3^n mod 7"
   ]
  },
  {
   "cell_type": "markdown",
   "metadata": {},
   "source": [
    "#### Example A.4: $\\mathbf{X}^\\left({b=5,m=7}\\right)$"
   ]
  },
  {
   "cell_type": "markdown",
   "metadata": {},
   "source": [
    "We can check:"
   ]
  },
  {
   "cell_type": "markdown",
   "metadata": {},
   "source": [
    "$b^m \\equiv b \\left( \\mod m \\right)$"
   ]
  },
  {
   "cell_type": "code",
   "execution_count": 13,
   "metadata": {
    "collapsed": false
   },
   "outputs": [
    {
     "name": "stdout",
     "output_type": "stream",
     "text": [
      "check:  5 == 5\n"
     ]
    }
   ],
   "source": [
    "b = 5\n",
    "m = 7\n",
    "print(\"check:  %d == %d\" % (b**m % m, b))"
   ]
  },
  {
   "cell_type": "markdown",
   "metadata": {},
   "source": [
    "$b^{m-1} \\equiv 1 \\left( \\mod m \\right)$"
   ]
  },
  {
   "cell_type": "code",
   "execution_count": 14,
   "metadata": {
    "collapsed": false
   },
   "outputs": [
    {
     "name": "stdout",
     "output_type": "stream",
     "text": [
      "check:  1 == 1\n"
     ]
    }
   ],
   "source": [
    "b = 5\n",
    "m = 7\n",
    "print(\"check:  %d == %d\" % (b**(m-1) % m, 1))"
   ]
  },
  {
   "cell_type": "markdown",
   "metadata": {},
   "source": [
    "so in this case\n",
    "\\begin{aligned}\n",
    "\\mathbf{X}_n = b^n \\mod m\n",
    "\\end{aligned}\n",
    "with\n",
    "\\begin{aligned}\n",
    "b = 5\n",
    "\\end{aligned}\n",
    "\\begin{aligned}\n",
    "m = 7\n",
    "\\end{aligned}\n",
    "yeilding\n",
    "\\begin{aligned}\n",
    "\\mathbf{X}^{\\left(5,7\\right)} = \\{ 5, 4, 6, 2, 3, 1, 5, 4, 6, 2, 3, 1, \\cdots \\} = \\left[ \\mathbf{G}^{\\left(5,7\\right)} \\mathbf{H}^{\\left(5,7\\right)} \\mathbf{H}^{\\left(5,7\\right)} \\mathbf{H}^{\\left(5,7\\right)} \\cdots \\right] = \\left[ \\mathbf{G}^{\\left(5,7\\right)} \\left(\\mathbf{H}^{\\left(5,7\\right)}\\right)^{*} \\right]\n",
    "\\end{aligned}\n",
    "where\n",
    "\\begin{aligned}\n",
    "\\mathbf{G}^{\\left(5,7\\right)} = \\varnothing\n",
    "\\end{aligned}\n",
    "\\begin{aligned}\n",
    "\\mathbf{H}^{\\left(5,7\\right)} = \\{ 5, 4, 6, 2, 3, 1 \\}\n",
    "\\end{aligned}\n",
    "so we have\n",
    "\\begin{aligned}\n",
    "\\left|\\mathbf{G}^{\\left(5,7\\right)}\\right| = 0\n",
    "\\end{aligned}\n",
    "\\begin{aligned}\n",
    "\\left|\\mathbf{H}^{\\left(5,7\\right)}\\right| = 6\n",
    "\\end{aligned}"
   ]
  },
  {
   "cell_type": "code",
   "execution_count": 15,
   "metadata": {
    "collapsed": false
   },
   "outputs": [
    {
     "name": "stdout",
     "output_type": "stream",
     "text": [
      "[5, 4, 6, 2, 3, 1, 5, 4, 6, 2, 3, 1, 5, 4, 6, 2, 3, 1, 5, 4, 6, 2, 3, 1, 5, 4, 6, 2, 3]\n"
     ]
    }
   ],
   "source": [
    "example(b=5, m=7) ##   X[n] = 5^n mod 7"
   ]
  },
  {
   "cell_type": "markdown",
   "metadata": {},
   "source": [
    "### B. Examples exploring powers of two bases ($b = 2^k $  $ \\exists k \\in \\mathbb{Z}^+$)"
   ]
  },
  {
   "cell_type": "markdown",
   "metadata": {},
   "source": [
    "#### Example B.1: $\\mathbf{X}^\\left({b=2,m=10}\\right)$"
   ]
  },
  {
   "cell_type": "markdown",
   "metadata": {},
   "source": [
    "\\begin{aligned}\n",
    "\\mathbf{X}_n = b^n \\mod m\n",
    "\\end{aligned}\n",
    "with\n",
    "\\begin{aligned}\n",
    "b = 2\n",
    "\\end{aligned}\n",
    "\\begin{aligned}\n",
    "m = 10\n",
    "\\end{aligned}\n",
    "yeilding\n",
    "\\begin{aligned}\n",
    "\\mathbf{X}^{\\left(2,10\\right)} = \\{ 2, 4, 8, 6, 2, 4, 8, 6, \\cdots \\} = \\left[ \\mathbf{G}^{\\left(2,10\\right)} \\mathbf{H}^{\\left(2,10\\right)} \\mathbf{H}^{\\left(2,10\\right)} \\mathbf{H}^{\\left(2,10\\right)} \\cdots \\right] = \\left[ \\mathbf{G}^{\\left(2,10\\right)} \\left(\\mathbf{H}^{\\left(2,10\\right)}\\right)^{*} \\right]\n",
    "\\end{aligned}\n",
    "where\n",
    "\\begin{aligned}\n",
    "\\mathbf{G}^{\\left(2,10\\right)} = \\varnothing\n",
    "\\end{aligned}\n",
    "\\begin{aligned}\n",
    "\\mathbf{H}^{\\left(2,10\\right)} = \\{ 2, 4, 8, 6 \\}\n",
    "\\end{aligned}\n",
    "so we have\n",
    "\\begin{aligned}\n",
    "\\left|\\mathbf{G}^{\\left(2,10\\right)}\\right| = 0\n",
    "\\end{aligned}\n",
    "\\begin{aligned}\n",
    "\\left|\\mathbf{H}^{\\left(2,10\\right)}\\right| = 4\n",
    "\\end{aligned}"
   ]
  },
  {
   "cell_type": "code",
   "execution_count": 16,
   "metadata": {
    "collapsed": false
   },
   "outputs": [
    {
     "name": "stdout",
     "output_type": "stream",
     "text": [
      "[2, 4, 8, 6, 2, 4, 8, 6, 2, 4, 8, 6, 2, 4, 8, 6, 2, 4, 8, 6, 2, 4, 8, 6, 2, 4, 8, 6, 2]\n"
     ]
    }
   ],
   "source": [
    "example(b=2, m=10) ##   X[n] = 2^n mod 10"
   ]
  },
  {
   "cell_type": "markdown",
   "metadata": {},
   "source": [
    "#### Example B.2: $\\mathbf{X}^\\left({b=4,m=10}\\right)$"
   ]
  },
  {
   "cell_type": "markdown",
   "metadata": {},
   "source": [
    "\\begin{aligned}\n",
    "\\mathbf{X}_n = b^n \\mod m\n",
    "\\end{aligned}\n",
    "with\n",
    "\\begin{aligned}\n",
    "b = 4\n",
    "\\end{aligned}\n",
    "\\begin{aligned}\n",
    "m = 10\n",
    "\\end{aligned}\n",
    "yeilding\n",
    "\\begin{aligned}\n",
    "\\mathbf{X}^{\\left(4,10\\right)} = \\{ 4, 6, 4, 6, \\cdots \\} = \\left[ \\mathbf{G}^{\\left(4,10\\right)} \\mathbf{H}^{\\left(4,10\\right)} \\mathbf{H}^{\\left(4,10\\right)} \\mathbf{H}^{\\left(4,10\\right)} \\cdots \\right] = \\left[ \\mathbf{G}^{\\left(4,10\\right)} \\left(\\mathbf{H}^{\\left(4,10\\right)}\\right)^{*} \\right]\n",
    "\\end{aligned}\n",
    "where\n",
    "\\begin{aligned}\n",
    "\\mathbf{G}^{\\left(4,10\\right)} = \\varnothing\n",
    "\\end{aligned}\n",
    "\\begin{aligned}\n",
    "\\mathbf{H}^{\\left(4,10\\right)} = \\{ 4, 6 \\}\n",
    "\\end{aligned}\n",
    "so we have\n",
    "\\begin{aligned}\n",
    "\\left|\\mathbf{G}^{\\left(4,10\\right)}\\right| = 0\n",
    "\\end{aligned}\n",
    "\\begin{aligned}\n",
    "\\left|\\mathbf{H}^{\\left(4,10\\right)}\\right| = 2\n",
    "\\end{aligned}"
   ]
  },
  {
   "cell_type": "code",
   "execution_count": 17,
   "metadata": {
    "collapsed": false
   },
   "outputs": [
    {
     "name": "stdout",
     "output_type": "stream",
     "text": [
      "[4, 6, 4, 6, 4, 6, 4, 6, 4, 6, 4, 6, 4, 6, 4, 6, 4, 6, 4, 6, 4, 6, 4, 6, 4, 6, 4, 6, 4]\n"
     ]
    }
   ],
   "source": [
    "example(b=4, m=10) ##   X[n] = 4^n mod 10"
   ]
  },
  {
   "cell_type": "markdown",
   "metadata": {},
   "source": [
    "#### Example B.3: $\\mathbf{X}^\\left({b=8,m=10}\\right)$"
   ]
  },
  {
   "cell_type": "markdown",
   "metadata": {},
   "source": [
    "\\begin{aligned}\n",
    "\\mathbf{X}_n = b^n \\mod m\n",
    "\\end{aligned}\n",
    "with\n",
    "\\begin{aligned}\n",
    "b = 8\n",
    "\\end{aligned}\n",
    "\\begin{aligned}\n",
    "m = 10\n",
    "\\end{aligned}\n",
    "yeilding\n",
    "\\begin{aligned}\n",
    "\\mathbf{X}^{\\left(8,10\\right)} = \\{ 8, 6, 2, 4, 8, 6, 2, 4, \\cdots \\} = \\left[ \\mathbf{G}^{\\left(8,10\\right)} \\mathbf{H}^{\\left(8,10\\right)} \\mathbf{H}^{\\left(8,10\\right)} \\mathbf{H}^{\\left(8,10\\right)} \\cdots \\right] = \\left[ \\mathbf{G}^{\\left(8,10\\right)} \\left(\\mathbf{H}^{\\left(8,10\\right)}\\right)^{*} \\right]\n",
    "\\end{aligned}\n",
    "where\n",
    "\\begin{aligned}\n",
    "\\mathbf{G}^{\\left(8,10\\right)} = \\varnothing\n",
    "\\end{aligned}\n",
    "\\begin{aligned}\n",
    "\\mathbf{H}^{\\left(8,10\\right)} = \\{ 8, 6, 2, 4 \\}\n",
    "\\end{aligned}\n",
    "so we have\n",
    "\\begin{aligned}\n",
    "\\left|\\mathbf{G}^{\\left(8,10\\right)}\\right| = 0\n",
    "\\end{aligned}\n",
    "\\begin{aligned}\n",
    "\\left|\\mathbf{H}^{\\left(8,10\\right)}\\right| = 4\n",
    "\\end{aligned}"
   ]
  },
  {
   "cell_type": "code",
   "execution_count": 18,
   "metadata": {
    "collapsed": false
   },
   "outputs": [
    {
     "name": "stdout",
     "output_type": "stream",
     "text": [
      "[8, 4, 2, 6, 8, 4, 2, 6, 8, 4, 2, 6, 8, 4, 2, 6, 8, 4, 2, 6, 8, 4, 2, 6, 8, 4, 2, 6, 8]\n"
     ]
    }
   ],
   "source": [
    "example(b=8, m=10) ##   X[n] = 8^n mod 10"
   ]
  },
  {
   "cell_type": "markdown",
   "metadata": {},
   "source": [
    "### C. Interesting cases that give $\\left|\\mathbf{G}\\right| \\neq 0$"
   ]
  },
  {
   "cell_type": "markdown",
   "metadata": {},
   "source": [
    "#### Example C.1: $\\mathbf{X}^\\left({b=12,m=40}\\right)$"
   ]
  },
  {
   "cell_type": "markdown",
   "metadata": {},
   "source": [
    "\\begin{aligned}\n",
    "\\mathbf{X}_n = b^n \\mod m\n",
    "\\end{aligned}\n",
    "with\n",
    "\\begin{aligned}\n",
    "b = 12\n",
    "\\end{aligned}\n",
    "\\begin{aligned}\n",
    "m = 40\n",
    "\\end{aligned}\n",
    "yeilding\n",
    "\\begin{aligned}\n",
    "\\mathbf{X}^{\\left(12,40\\right)} = \\{ 12, 24, 8, 16, 32, 24, 8, 16, 32, \\cdots \\} = \\left[ \\mathbf{G}^{\\left(12,40\\right)} \\mathbf{H}^{\\left(12,40\\right)} \\mathbf{H}^{\\left(12,40\\right)} \\mathbf{H}^{\\left(12,40\\right)} \\cdots \\right] = \\left[ \\mathbf{G}^{\\left(12,40\\right)} \\left(\\mathbf{H}^{\\left(12,40\\right)}\\right)^{*} \\right]\n",
    "\\end{aligned}\n",
    "where\n",
    "\\begin{aligned}\n",
    "\\mathbf{G}^{\\left(12,40\\right)} = \\{ 12 \\}\n",
    "\\end{aligned}\n",
    "\\begin{aligned}\n",
    "\\mathbf{H}^{\\left(12,40\\right)} = \\{ 24, 8, 16, 32 \\}\n",
    "\\end{aligned}\n",
    "so we have\n",
    "\\begin{aligned}\n",
    "\\left|\\mathbf{G}^{\\left(12,40\\right)}\\right| = 1\n",
    "\\end{aligned}\n",
    "\\begin{aligned}\n",
    "\\left|\\mathbf{H}^{\\left(12,40\\right)}\\right| = 4\n",
    "\\end{aligned}"
   ]
  },
  {
   "cell_type": "code",
   "execution_count": 19,
   "metadata": {
    "collapsed": false
   },
   "outputs": [
    {
     "name": "stdout",
     "output_type": "stream",
     "text": [
      "[12, 24, 8, 16, 32, 24, 8, 16, 32, 24, 8, 16, 32, 24, 8, 16, 32, 24, 8, 16, 32, 24, 8, 16, 32, 24, 8, 16, 32]\n"
     ]
    }
   ],
   "source": [
    "example(b=12, m=40) ##   X[n] = 12^n mod 40"
   ]
  },
  {
   "cell_type": "markdown",
   "metadata": {},
   "source": [
    "#### Example C.2: $\\mathbf{X}^\\left({b=45,m=175}\\right)$"
   ]
  },
  {
   "cell_type": "markdown",
   "metadata": {},
   "source": [
    "\\begin{aligned}\n",
    "\\mathbf{X}_n = b^n \\mod m\n",
    "\\end{aligned}\n",
    "with\n",
    "\\begin{aligned}\n",
    "b = 45\n",
    "\\end{aligned}\n",
    "\\begin{aligned}\n",
    "m = 175\n",
    "\\end{aligned}\n",
    "yeilding\n",
    "\\begin{aligned}\n",
    "\\mathbf{X}^{\\left(45,175\\right)} = \\{ 45, 100, 125, 25, 75, 50, 150, 100, 125, 25, 75, 50, 150, \\cdots \\} = \\left[ \\mathbf{G}^{\\left(45,175\\right)} \\mathbf{H}^{\\left(45,175\\right)} \\mathbf{H}^{\\left(45,175\\right)} \\mathbf{H}^{\\left(45,175\\right)} \\cdots \\right] = \\left[ \\mathbf{G}^{\\left(45,175\\right)} \\left(\\mathbf{H}^{\\left(45,175\\right)}\\right)^{*} \\right]\n",
    "\\end{aligned}\n",
    "where\n",
    "\\begin{aligned}\n",
    "\\mathbf{G}^{\\left(45,175\\right)} = \\{ 45 \\}\n",
    "\\end{aligned}\n",
    "\\begin{aligned}\n",
    "\\mathbf{H}^{\\left(45,175\\right)} = \\{ 45, 100, 125, 25, 75, 50, 150 \\}\n",
    "\\end{aligned}\n",
    "so we have\n",
    "\\begin{aligned}\n",
    "\\left|\\mathbf{G}^{\\left(45,175\\right)}\\right| = 1\n",
    "\\end{aligned}\n",
    "\\begin{aligned}\n",
    "\\left|\\mathbf{H}^{\\left(45,175\\right)}\\right| = 6\n",
    "\\end{aligned}"
   ]
  },
  {
   "cell_type": "code",
   "execution_count": 20,
   "metadata": {
    "collapsed": false
   },
   "outputs": [
    {
     "name": "stdout",
     "output_type": "stream",
     "text": [
      "[45, 100, 125, 25, 75, 50, 150, 100, 125, 25, 75, 50, 150, 100, 125, 25, 75, 50, 150, 100, 125, 25, 75, 50, 150, 100, 125, 25, 75]\n"
     ]
    }
   ],
   "source": [
    "example(b=45, m=175) ##   X[n] = 45^n mod 175"
   ]
  },
  {
   "cell_type": "markdown",
   "metadata": {},
   "source": [
    "#### Example C.3: $\\mathbf{X}^\\left({b=45,m=189}\\right)$"
   ]
  },
  {
   "cell_type": "markdown",
   "metadata": {},
   "source": [
    "\\begin{aligned}\n",
    "\\mathbf{X}_n = b^n \\mod m\n",
    "\\end{aligned}\n",
    "with\n",
    "\\begin{aligned}\n",
    "b = 45\n",
    "\\end{aligned}\n",
    "\\begin{aligned}\n",
    "m = 189\n",
    "\\end{aligned}\n",
    "yeilding\n",
    "\\begin{aligned}\n",
    "\\mathbf{X}^{\\left(45,189\\right)} = \\{ 135, 27, 81, 54, 108, 135, 27, 81, 54, 108, \\cdots \\} = \\left[ \\mathbf{G}^{\\left(45,189\\right)} \\mathbf{H}^{\\left(45,189\\right)} \\mathbf{H}^{\\left(45,189\\right)} \\mathbf{H}^{\\left(45,189\\right)} \\cdots \\right] = \\left[ \\mathbf{G}^{\\left(45,189\\right)} \\left(\\mathbf{H}^{\\left(45,189\\right)}\\right)^{*} \\right]\n",
    "\\end{aligned}\n",
    "where\n",
    "\\begin{aligned}\n",
    "\\mathbf{G}^{\\left(45,189\\right)} = \\{ 45 \\}\n",
    "\\end{aligned}\n",
    "\\begin{aligned}\n",
    "\\mathbf{H}^{\\left(45,189\\right)} = \\{ 135, 27, 81, 54, 108 \\}\n",
    "\\end{aligned}\n",
    "so we have\n",
    "\\begin{aligned}\n",
    "\\left|\\mathbf{G}^{\\left(45,189\\right)}\\right| = 1\n",
    "\\end{aligned}\n",
    "\\begin{aligned}\n",
    "\\left|\\mathbf{H}^{\\left(45,189\\right)}\\right| = 5\n",
    "\\end{aligned}"
   ]
  },
  {
   "cell_type": "code",
   "execution_count": 21,
   "metadata": {
    "collapsed": false
   },
   "outputs": [
    {
     "name": "stdout",
     "output_type": "stream",
     "text": [
      "[45, 135, 27, 81, 54, 162, 108, 135, 27, 81, 54, 162, 108, 135, 27, 81, 54, 162, 108, 135, 27, 81, 54, 162, 108, 135, 27, 81, 54]\n"
     ]
    }
   ],
   "source": [
    "example(b=45, m=189) ##   X[n] = 45^n mod 189"
   ]
  }
 ],
 "metadata": {},
 "nbformat": 4,
 "nbformat_minor": 2
}
