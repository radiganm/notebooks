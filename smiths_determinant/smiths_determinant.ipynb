{
 "cells": [
  {
   "cell_type": "code",
   "execution_count": 1,
   "metadata": {
    "collapsed": false
   },
   "outputs": [],
   "source": [
    "### smiths_determinant\n",
    "### Copyright 2017 Mac Radigan\n",
    "### SPDX-License-Identifier: GFDL-1.3"
   ]
  },
  {
   "cell_type": "markdown",
   "metadata": {},
   "source": [
    "## Copying"
   ]
  },
  {
   "cell_type": "raw",
   "metadata": {},
   "source": [
    "Copyright (C)  2017  Mac Radigan. \n",
    "Permission is granted to copy, distribute and/or modify this document under the terms of the GNU Free Documentation License, Version 1.3 or any later version published by the Free Software Foundation; with no Invariant Sections and with no restrictions on the Front-Cover and back the Front-Cover Texts. A copy of the license is included in the section entitled \"GNU Free Documentation License\"."
   ]
  },
  {
   "cell_type": "markdown",
   "metadata": {},
   "source": [
    "# Smith's Determinant"
   ]
  },
  {
   "cell_type": "markdown",
   "metadata": {},
   "source": [
    "$$\\begin{vmatrix} \n",
    "\\gcd\\left(1,1\\right) & \\gcd\\left(1,2\\right) & \\gcd\\left(1,3\\right) & \\cdots & \\gcd\\left(1,N\\right) \\\\\n",
    "\\gcd\\left(2,1\\right) & \\gcd\\left(2,2\\right) & \\gcd\\left(2,3\\right) & \\cdots & \\gcd\\left(2,N\\right) \\\\\n",
    "\\vdots               & \\vdots               & \\vdots               & \\ddots & \\vdots               \\\\\n",
    "\\gcd\\left(N,1\\right) & \\gcd\\left(N,2\\right) & \\gcd\\left(N,3\\right) & \\cdots & \\gcd\\left(N,N\\right) \\notag\n",
    "\\end{vmatrix}\n",
    "=\n",
    "\\displaystyle{\\prod_{n=1}^{N}\\varphi\\left(n\\right)}\n",
    "$$\n",
    "\n",
    "where\n",
    "\n",
    "$$\n",
    "\\varphi\\left(n\\right)\n",
    "=\n",
    "n \\displaystyle{\\prod_{p_k \\mid n}\\varphi\\left(1 - \\frac{1}{p_k}\\right)}\n",
    "$$\n",
    "\n",
    "and $p_k$ are distinct prime numbers with $p_k < n$"
   ]
  }
 ],
 "metadata": {},
 "nbformat": 4,
 "nbformat_minor": 2
}
