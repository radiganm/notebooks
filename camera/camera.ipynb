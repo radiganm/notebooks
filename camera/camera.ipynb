{
 "metadata": {
  "name": "",
  "signature": "sha256:303a5448b5ad2c7f9b3d3db21c692e42da4bac40f3612d6c8b1cfa678225faad"
 },
 "nbformat": 3,
 "nbformat_minor": 0,
 "worksheets": [
  {
   "cells": [
    {
     "cell_type": "code",
     "collapsed": false,
     "input": [
      "from sympy import *"
     ],
     "language": "python",
     "metadata": {},
     "outputs": [],
     "prompt_number": 6
    },
    {
     "cell_type": "code",
     "collapsed": false,
     "input": [
      "f = Symbol('f')\n",
      "C = Matrix([[1,0,0,0], [0,1,0,0],[0,0,1/f,0]])"
     ],
     "language": "python",
     "metadata": {},
     "outputs": [],
     "prompt_number": 10
    },
    {
     "cell_type": "code",
     "collapsed": false,
     "input": [
      "C"
     ],
     "language": "python",
     "metadata": {},
     "outputs": [
      {
       "metadata": {},
       "output_type": "pyout",
       "prompt_number": 11,
       "text": [
        "Matrix([\n",
        "[1, 0,   0, 0],\n",
        "[0, 1,   0, 0],\n",
        "[0, 0, 1/f, 0]])"
       ]
      }
     ],
     "prompt_number": 11
    },
    {
     "cell_type": "code",
     "collapsed": false,
     "input": [],
     "language": "python",
     "metadata": {},
     "outputs": []
    }
   ],
   "metadata": {}
  }
 ]
}